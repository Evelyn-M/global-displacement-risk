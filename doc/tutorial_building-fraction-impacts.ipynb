{
 "cells": [
  {
   "cell_type": "markdown",
   "id": "ded80017",
   "metadata": {},
   "source": [
    "# Tutorial for building fraction impacts as baseline for displacement post-processing\n",
    "\n",
    "In this code, we apply the concept of displacement following a particular level of building damage post impact calculation. Meaning, we first calculate building fraction damages for each event and store the resulting impact matrices together with the exposure dataframe. On this basis, we can postprocess the results and convert thresholds of buildling-fraction damage to displaced population.\n",
    "\n",
    "This approach stands in contrast to applying the building threshold prior to the impact calculation on the level of the impact functions.\n",
    "\n",
    "Here, we explore this approach for the coastal flood hazard in 2 countries (PHL, SOM). We use two vulnerability function sources (CIMA/Capra and IVM). Additionally, we test the feasiblity of applying the same approach to event-based hazards (TC)."
   ]
  },
  {
   "cell_type": "code",
   "execution_count": 1,
   "id": "9679346a",
   "metadata": {},
   "outputs": [],
   "source": [
    "# Load country BEM as prep\n",
    "from climada.util.constants import SYSTEM_DIR\n",
    "from climada.hazard import TropCyclone, Hazard\n",
    "from climada.entity.exposures import Exposures\n",
    "from climada.engine import ImpactCalc\n",
    "import numpy as np\n",
    "import os\n",
    "import copy\n",
    "from pathlib import Path\n",
    "\n",
    "os.chdir('/cluster/project/climate/meilers/scripts/displacement/global-displacement-risk') \n",
    "import exposure\n",
    "import vulnerability\n",
    "import coastal_flood_hazard\n",
    "\n",
    "# select country here\n",
    "cntry = 'Somalia'"
   ]
  },
  {
   "cell_type": "code",
   "execution_count": 2,
   "id": "4802e976",
   "metadata": {},
   "outputs": [],
   "source": [
    "gdf_bem_subcomps = exposure.gdf_from_bem_subcomps(cntry, opt='full')\n",
    "gdf_bem_subcomps = gdf_bem_subcomps[gdf_bem_subcomps.valhum>0.1] # filter out rows with basically no population\n",
    "\n",
    "exp = Exposures(gdf_bem_subcomps.copy())\n",
    "exp.value_unit = 'Pop. count'\n",
    "exp.gdf['longitude'] = exp.gdf.geometry.x\n",
    "exp.gdf['latitude'] = exp.gdf.geometry.y\n",
    "exp.gdf['value'] = 1 # each building type gets value 1"
   ]
  },
  {
   "cell_type": "markdown",
   "id": "61c18adb",
   "metadata": {},
   "source": [
    "## FL impact functions"
   ]
  },
  {
   "cell_type": "markdown",
   "id": "56844457",
   "metadata": {},
   "source": [
    "### Base Scenario"
   ]
  },
  {
   "cell_type": "code",
   "execution_count": 3,
   "id": "694389ef",
   "metadata": {},
   "outputs": [],
   "source": [
    "exp.gdf['impf_FL_cima'] = exp.gdf['se_seismo'].map(vulnerability.DICT_PAGER_FLIMPF_CIMA)"
   ]
  },
  {
   "cell_type": "code",
   "execution_count": 4,
   "id": "5dfeb2ed-dc05-449c-9f3e-cdb6d0183052",
   "metadata": {},
   "outputs": [],
   "source": [
    "exp.gdf['impf_FL_ivm'] = exp.gdf['se_seismo'].map(vulnerability.DICT_PAGER_FLIMPF_IVM)"
   ]
  },
  {
   "cell_type": "code",
   "execution_count": 5,
   "id": "8045243c-8fb1-4708-92db-7a26dd7bbe5d",
   "metadata": {},
   "outputs": [
    {
     "data": {
      "text/html": [
       "<div>\n",
       "<style scoped>\n",
       "    .dataframe tbody tr th:only-of-type {\n",
       "        vertical-align: middle;\n",
       "    }\n",
       "\n",
       "    .dataframe tbody tr th {\n",
       "        vertical-align: top;\n",
       "    }\n",
       "\n",
       "    .dataframe thead th {\n",
       "        text-align: right;\n",
       "    }\n",
       "</style>\n",
       "<table border=\"1\" class=\"dataframe\">\n",
       "  <thead>\n",
       "    <tr style=\"text-align: right;\">\n",
       "      <th></th>\n",
       "      <th>id_1x</th>\n",
       "      <th>iso3</th>\n",
       "      <th>cpx</th>\n",
       "      <th>sector</th>\n",
       "      <th>se_seismo</th>\n",
       "      <th>valhum</th>\n",
       "      <th>valfis</th>\n",
       "      <th>bd_1_floor</th>\n",
       "      <th>bd_2_floor</th>\n",
       "      <th>bd_3_floor</th>\n",
       "      <th>geometry</th>\n",
       "      <th>longitude</th>\n",
       "      <th>latitude</th>\n",
       "      <th>value</th>\n",
       "      <th>impf_FL_cima</th>\n",
       "      <th>impf_FL_ivm</th>\n",
       "    </tr>\n",
       "  </thead>\n",
       "  <tbody>\n",
       "    <tr>\n",
       "      <th>18</th>\n",
       "      <td>194457751</td>\n",
       "      <td>SOM</td>\n",
       "      <td>3</td>\n",
       "      <td>edu_priv</td>\n",
       "      <td>W2</td>\n",
       "      <td>0.281569</td>\n",
       "      <td>0.000852</td>\n",
       "      <td>0.0</td>\n",
       "      <td>0.0</td>\n",
       "      <td>0.0</td>\n",
       "      <td>POINT (43.40417 0.66250)</td>\n",
       "      <td>43.404167</td>\n",
       "      <td>0.6625</td>\n",
       "      <td>1</td>\n",
       "      <td>15</td>\n",
       "      <td>2</td>\n",
       "    </tr>\n",
       "    <tr>\n",
       "      <th>19</th>\n",
       "      <td>194457751</td>\n",
       "      <td>SOM</td>\n",
       "      <td>3</td>\n",
       "      <td>edu_priv</td>\n",
       "      <td>W1</td>\n",
       "      <td>0.120395</td>\n",
       "      <td>0.000365</td>\n",
       "      <td>0.0</td>\n",
       "      <td>0.0</td>\n",
       "      <td>0.0</td>\n",
       "      <td>POINT (43.40417 0.66250)</td>\n",
       "      <td>43.404167</td>\n",
       "      <td>0.6625</td>\n",
       "      <td>1</td>\n",
       "      <td>14</td>\n",
       "      <td>2</td>\n",
       "    </tr>\n",
       "    <tr>\n",
       "      <th>24</th>\n",
       "      <td>194457751</td>\n",
       "      <td>SOM</td>\n",
       "      <td>3</td>\n",
       "      <td>edu_pub</td>\n",
       "      <td>W2</td>\n",
       "      <td>3.642231</td>\n",
       "      <td>0.011027</td>\n",
       "      <td>0.0</td>\n",
       "      <td>0.0</td>\n",
       "      <td>0.0</td>\n",
       "      <td>POINT (43.40417 0.66250)</td>\n",
       "      <td>43.404167</td>\n",
       "      <td>0.6625</td>\n",
       "      <td>1</td>\n",
       "      <td>15</td>\n",
       "      <td>2</td>\n",
       "    </tr>\n",
       "    <tr>\n",
       "      <th>25</th>\n",
       "      <td>194457751</td>\n",
       "      <td>SOM</td>\n",
       "      <td>3</td>\n",
       "      <td>edu_pub</td>\n",
       "      <td>W1</td>\n",
       "      <td>1.557365</td>\n",
       "      <td>0.004715</td>\n",
       "      <td>0.0</td>\n",
       "      <td>0.0</td>\n",
       "      <td>0.0</td>\n",
       "      <td>POINT (43.40417 0.66250)</td>\n",
       "      <td>43.404167</td>\n",
       "      <td>0.6625</td>\n",
       "      <td>1</td>\n",
       "      <td>14</td>\n",
       "      <td>2</td>\n",
       "    </tr>\n",
       "    <tr>\n",
       "      <th>27</th>\n",
       "      <td>194457751</td>\n",
       "      <td>SOM</td>\n",
       "      <td>3</td>\n",
       "      <td>edu_pub</td>\n",
       "      <td>RS2</td>\n",
       "      <td>0.401901</td>\n",
       "      <td>0.001217</td>\n",
       "      <td>0.0</td>\n",
       "      <td>0.0</td>\n",
       "      <td>0.0</td>\n",
       "      <td>POINT (43.40417 0.66250)</td>\n",
       "      <td>43.404167</td>\n",
       "      <td>0.6625</td>\n",
       "      <td>1</td>\n",
       "      <td>6</td>\n",
       "      <td>3</td>\n",
       "    </tr>\n",
       "  </tbody>\n",
       "</table>\n",
       "</div>"
      ],
      "text/plain": [
       "        id_1x iso3  cpx    sector se_seismo    valhum    valfis  bd_1_floor  \\\n",
       "18  194457751  SOM    3  edu_priv        W2  0.281569  0.000852         0.0   \n",
       "19  194457751  SOM    3  edu_priv        W1  0.120395  0.000365         0.0   \n",
       "24  194457751  SOM    3   edu_pub        W2  3.642231  0.011027         0.0   \n",
       "25  194457751  SOM    3   edu_pub        W1  1.557365  0.004715         0.0   \n",
       "27  194457751  SOM    3   edu_pub       RS2  0.401901  0.001217         0.0   \n",
       "\n",
       "    bd_2_floor  bd_3_floor                  geometry  longitude  latitude  \\\n",
       "18         0.0         0.0  POINT (43.40417 0.66250)  43.404167    0.6625   \n",
       "19         0.0         0.0  POINT (43.40417 0.66250)  43.404167    0.6625   \n",
       "24         0.0         0.0  POINT (43.40417 0.66250)  43.404167    0.6625   \n",
       "25         0.0         0.0  POINT (43.40417 0.66250)  43.404167    0.6625   \n",
       "27         0.0         0.0  POINT (43.40417 0.66250)  43.404167    0.6625   \n",
       "\n",
       "    value  impf_FL_cima  impf_FL_ivm  \n",
       "18      1            15            2  \n",
       "19      1            14            2  \n",
       "24      1            15            2  \n",
       "25      1            14            2  \n",
       "27      1             6            3  "
      ]
     },
     "execution_count": 5,
     "metadata": {},
     "output_type": "execute_result"
    }
   ],
   "source": [
    "exp.gdf.head()"
   ]
  },
  {
   "cell_type": "markdown",
   "id": "aaea074f",
   "metadata": {},
   "source": [
    "### Perform impact calcs and compare"
   ]
  },
  {
   "cell_type": "markdown",
   "id": "bb61edc2-b450-4c60-905a-98d2963ebd22",
   "metadata": {},
   "source": [
    "#### Flood CIMA"
   ]
  },
  {
   "cell_type": "code",
   "execution_count": 6,
   "id": "f396a4d0-fb9e-44c9-8608-f1f9ac742365",
   "metadata": {},
   "outputs": [],
   "source": [
    "HAZ_FOLDER = Path(f'/cluster/work/climate/evelynm/IDMC_UNU/hazard/flood_HM_CIMA/{cntry}/HISTORICAL/')\n",
    "HAZ_TYPE = 'FL'\n",
    "\n",
    "haz_files = np.sort([str(file) for file in HAZ_FOLDER.glob('*.tif')])\n",
    "rp = np.sort(np.array([int(Path(file).stem[-4:]) for file in haz_files]))"
   ]
  },
  {
   "cell_type": "code",
   "execution_count": 7,
   "id": "4f2b2e84-465d-4a56-8c53-2d8eeab8988c",
   "metadata": {},
   "outputs": [],
   "source": [
    "# Create the Hazard object\n",
    "haz = Hazard.from_raster(\n",
    "    haz_type=HAZ_TYPE,\n",
    "    files_intensity=list(haz_files),\n",
    "    src_crs='WGS84',\n",
    "    attrs={\n",
    "        'unit': 'm',\n",
    "        'event_id': np.arange(len(haz_files)),\n",
    "        'frequency': 1 / rp\n",
    "    }\n",
    ")\n",
    "haz.intensity = haz.intensity/100"
   ]
  },
  {
   "cell_type": "code",
   "execution_count": 8,
   "id": "1481b8c4-9c3d-4f53-b8e6-89680b97db0a",
   "metadata": {},
   "outputs": [],
   "source": [
    "#haz.plot_intensity(event=0)"
   ]
  },
  {
   "cell_type": "code",
   "execution_count": 9,
   "id": "195a3a2c",
   "metadata": {},
   "outputs": [],
   "source": [
    "exp.gdf.rename({'impf_FL_cima' : 'impf_FL'}, axis=1, inplace=True)\n",
    "\n",
    "imp_cima = ImpactCalc(exp, vulnerability.IMPF_SET_FL_CIMA, haz).impact(save_mat=True)"
   ]
  },
  {
   "cell_type": "code",
   "execution_count": 10,
   "id": "8185842e-41f4-4b23-8843-b12ff83e0b41",
   "metadata": {},
   "outputs": [
    {
     "data": {
      "text/plain": [
       "<9x1439740 sparse matrix of type '<class 'numpy.float64'>'\n",
       "\twith 943524 stored elements in Compressed Sparse Row format>"
      ]
     },
     "execution_count": 10,
     "metadata": {},
     "output_type": "execute_result"
    }
   ],
   "source": [
    "imp_cima.imp_mat"
   ]
  },
  {
   "cell_type": "markdown",
   "id": "37650e60-9f73-45ae-a5dd-5856ae63ff6d",
   "metadata": {},
   "source": [
    "#### Coastal flood"
   ]
  },
  {
   "cell_type": "code",
   "execution_count": 11,
   "id": "ebff468c",
   "metadata": {},
   "outputs": [],
   "source": [
    "haz_CF_dir = Path('/cluster/work/climate/evelynm/IDMC_UNU/hazard/coastal_flood/venDEM_scaled_1km')"
   ]
  },
  {
   "cell_type": "code",
   "execution_count": 12,
   "id": "db84d682",
   "metadata": {},
   "outputs": [],
   "source": [
    "# get tiles covering the exposure extent\n",
    "tiles = coastal_flood_hazard.find_tiles(\n",
    "    exp.gdf['latitude'].min(), exp.gdf['latitude'].max(), exp.gdf['longitude'].min(), exp.gdf['longitude'].max())"
   ]
  },
  {
   "cell_type": "code",
   "execution_count": 13,
   "id": "53f7024f",
   "metadata": {},
   "outputs": [
    {
     "ename": "AttributeError",
     "evalue": "'Centroids' object has no attribute 'to_default_crs'",
     "output_type": "error",
     "traceback": [
      "\u001b[0;31m---------------------------------------------------------------------------\u001b[0m",
      "\u001b[0;31mAttributeError\u001b[0m                            Traceback (most recent call last)",
      "Input \u001b[0;32mIn [13]\u001b[0m, in \u001b[0;36m<cell line: 2>\u001b[0;34m()\u001b[0m\n\u001b[1;32m      1\u001b[0m \u001b[38;5;66;03m# load CF hazard phl\u001b[39;00m\n\u001b[0;32m----> 2\u001b[0m CF \u001b[38;5;241m=\u001b[39m \u001b[43mcoastal_flood_hazard\u001b[49m\u001b[38;5;241;43m.\u001b[39;49m\u001b[43mgenerate_hazard_object\u001b[49m\u001b[43m(\u001b[49m\u001b[43mtiles\u001b[49m\u001b[43m,\u001b[49m\u001b[43m \u001b[49m\u001b[43mhaz_CF_dir\u001b[49m\u001b[43m,\u001b[49m\u001b[43m \u001b[49m\u001b[38;5;124;43m'\u001b[39;49m\u001b[38;5;124;43mRCP45\u001b[39;49m\u001b[38;5;124;43m'\u001b[39;49m\u001b[43m,\u001b[49m\u001b[43m \u001b[49m\u001b[38;5;124;43m'\u001b[39;49m\u001b[38;5;124;43m2020\u001b[39;49m\u001b[38;5;124;43m'\u001b[39;49m\u001b[43m,\u001b[49m\u001b[43m \u001b[49m\u001b[38;5;124;43m'\u001b[39;49m\u001b[38;5;124;43mFL\u001b[39;49m\u001b[38;5;124;43m'\u001b[39;49m\u001b[43m)\u001b[49m\n",
      "File \u001b[0;32m/cluster/project/climate/meilers/scripts/displacement/global-displacement-risk/coastal_flood_hazard.py:92\u001b[0m, in \u001b[0;36mgenerate_hazard_object\u001b[0;34m(tiles, root_dir, selected_rcp, selected_year, HAZ_TYPE)\u001b[0m\n\u001b[1;32m     81\u001b[0m     \u001b[38;5;66;03m# Create Hazard object for the current tile\u001b[39;00m\n\u001b[1;32m     82\u001b[0m     haz \u001b[38;5;241m=\u001b[39m Hazard\u001b[38;5;241m.\u001b[39mfrom_raster(\n\u001b[1;32m     83\u001b[0m         haz_type\u001b[38;5;241m=\u001b[39mHAZ_TYPE, \n\u001b[1;32m     84\u001b[0m         files_intensity\u001b[38;5;241m=\u001b[39m\u001b[38;5;28mlist\u001b[39m(haz_files_sorted), \n\u001b[0;32m   (...)\u001b[0m\n\u001b[1;32m     90\u001b[0m         }\n\u001b[1;32m     91\u001b[0m     )\n\u001b[0;32m---> 92\u001b[0m     \u001b[43mhaz\u001b[49m\u001b[38;5;241;43m.\u001b[39;49m\u001b[43mcentroids\u001b[49m\u001b[38;5;241;43m.\u001b[39;49m\u001b[43mto_default_crs\u001b[49m()\n\u001b[1;32m     93\u001b[0m     hazards\u001b[38;5;241m.\u001b[39mappend(haz)\n\u001b[1;32m     94\u001b[0m \u001b[38;5;28;01melse\u001b[39;00m:\n",
      "\u001b[0;31mAttributeError\u001b[0m: 'Centroids' object has no attribute 'to_default_crs'"
     ]
    }
   ],
   "source": [
    "# load CF hazard phl\n",
    "CF = coastal_flood_hazard.generate_hazard_object(tiles, haz_CF_dir, 'RCP45', '2020', 'FL')"
   ]
  },
  {
   "cell_type": "code",
   "execution_count": 18,
   "id": "d1acb4b3-b153-4753-925f-dfb2c7ff5306",
   "metadata": {},
   "outputs": [
    {
     "data": {
      "text/plain": [
       "array([1.   , 0.1  , 0.04 , 0.02 , 0.01 , 0.004, 0.001, 1.   , 0.1  ,\n",
       "       0.04 , 0.02 , 0.01 , 0.004, 0.001, 1.   , 0.1  , 0.04 , 0.02 ,\n",
       "       0.01 , 0.004, 0.001, 1.   , 0.1  , 0.04 , 0.02 , 0.01 , 0.004,\n",
       "       0.001, 1.   , 0.1  , 0.04 , 0.02 , 0.01 , 0.004, 0.001, 1.   ,\n",
       "       0.1  , 0.04 , 0.02 , 0.01 , 0.004, 0.001, 1.   , 0.1  , 0.04 ,\n",
       "       0.02 , 0.01 , 0.004, 0.001, 1.   , 0.1  , 0.04 , 0.02 , 0.01 ,\n",
       "       0.004, 0.001, 1.   , 0.1  , 0.04 , 0.02 , 0.01 , 0.004, 0.001,\n",
       "       1.   , 0.1  , 0.04 , 0.02 , 0.01 , 0.004, 0.001, 1.   , 0.1  ,\n",
       "       0.04 , 0.02 , 0.01 , 0.004, 0.001, 1.   , 0.1  , 0.04 , 0.02 ,\n",
       "       0.01 , 0.004, 0.001, 1.   , 0.1  , 0.04 , 0.02 , 0.01 , 0.004,\n",
       "       0.001, 1.   , 0.1  , 0.04 , 0.02 , 0.01 , 0.004, 0.001, 1.   ,\n",
       "       0.1  , 0.04 , 0.02 , 0.01 , 0.004, 0.001, 1.   , 0.1  , 0.04 ,\n",
       "       0.02 , 0.01 , 0.004, 0.001, 1.   , 0.1  , 0.04 , 0.02 , 0.01 ,\n",
       "       0.004, 0.001, 1.   , 0.1  , 0.04 , 0.02 , 0.01 , 0.004, 0.001,\n",
       "       1.   , 0.1  , 0.04 , 0.02 , 0.01 , 0.004, 0.001, 1.   , 0.1  ,\n",
       "       0.04 , 0.02 , 0.01 , 0.004, 0.001, 1.   , 0.1  , 0.04 , 0.02 ,\n",
       "       0.01 , 0.004, 0.001, 1.   , 0.1  , 0.04 , 0.02 , 0.01 , 0.004,\n",
       "       0.001, 1.   , 0.1  , 0.04 , 0.02 , 0.01 , 0.004, 0.001, 1.   ,\n",
       "       0.1  , 0.04 , 0.02 , 0.01 , 0.004, 0.001, 1.   , 0.1  , 0.04 ,\n",
       "       0.02 , 0.01 , 0.004, 0.001, 1.   , 0.1  , 0.04 , 0.02 , 0.01 ,\n",
       "       0.004, 0.001, 1.   , 0.1  , 0.04 , 0.02 , 0.01 , 0.004, 0.001,\n",
       "       1.   , 0.1  , 0.04 , 0.02 , 0.01 , 0.004, 0.001, 1.   , 0.1  ,\n",
       "       0.04 , 0.02 , 0.01 , 0.004, 0.001, 1.   , 0.1  , 0.04 , 0.02 ,\n",
       "       0.01 , 0.004, 0.001, 1.   , 0.1  , 0.04 , 0.02 , 0.01 , 0.004,\n",
       "       0.001, 1.   , 0.1  , 0.04 , 0.02 , 0.01 , 0.004, 0.001, 1.   ,\n",
       "       0.1  , 0.04 , 0.02 , 0.01 , 0.004, 0.001, 1.   , 0.1  , 0.04 ,\n",
       "       0.02 , 0.01 , 0.004, 0.001, 1.   , 0.1  , 0.04 , 0.02 , 0.01 ,\n",
       "       0.004, 0.001, 1.   , 0.1  , 0.04 , 0.02 , 0.01 , 0.004, 0.001,\n",
       "       1.   , 0.1  , 0.04 , 0.02 , 0.01 , 0.004, 0.001, 1.   , 0.1  ,\n",
       "       0.04 , 0.02 , 0.01 , 0.004, 0.001, 1.   , 0.1  , 0.04 , 0.02 ,\n",
       "       0.01 , 0.004, 0.001, 1.   , 0.1  , 0.04 , 0.02 , 0.01 , 0.004,\n",
       "       0.001, 1.   , 0.1  , 0.04 , 0.02 , 0.01 , 0.004, 0.001, 1.   ,\n",
       "       0.1  , 0.04 , 0.02 , 0.01 , 0.004, 0.001, 1.   , 0.1  , 0.04 ,\n",
       "       0.02 , 0.01 , 0.004, 0.001, 1.   , 0.1  , 0.04 , 0.02 , 0.01 ,\n",
       "       0.004, 0.001, 1.   , 0.1  , 0.04 , 0.02 , 0.01 , 0.004, 0.001,\n",
       "       1.   , 0.1  , 0.04 , 0.02 , 0.01 , 0.004, 0.001, 1.   , 0.1  ,\n",
       "       0.04 , 0.02 , 0.01 , 0.004, 0.001, 1.   , 0.1  , 0.04 , 0.02 ,\n",
       "       0.01 , 0.004, 0.001, 1.   , 0.1  , 0.04 , 0.02 , 0.01 , 0.004,\n",
       "       0.001, 1.   , 0.1  , 0.04 , 0.02 , 0.01 , 0.004, 0.001, 1.   ,\n",
       "       0.1  , 0.04 , 0.02 , 0.01 , 0.004, 0.001, 1.   , 0.1  , 0.04 ,\n",
       "       0.02 , 0.01 , 0.004, 0.001, 1.   , 0.1  , 0.04 , 0.02 , 0.01 ,\n",
       "       0.004, 0.001, 1.   , 0.1  , 0.04 , 0.02 , 0.01 , 0.004, 0.001,\n",
       "       1.   , 0.1  , 0.04 , 0.02 , 0.01 , 0.004, 0.001, 1.   , 0.1  ,\n",
       "       0.04 , 0.02 , 0.01 , 0.004, 0.001, 1.   , 0.1  , 0.04 , 0.02 ,\n",
       "       0.01 , 0.004, 0.001, 1.   , 0.1  , 0.04 , 0.02 , 0.01 , 0.004,\n",
       "       0.001, 1.   , 0.1  , 0.04 , 0.02 , 0.01 , 0.004, 0.001, 1.   ,\n",
       "       0.1  , 0.04 , 0.02 , 0.01 , 0.004, 0.001, 1.   , 0.1  , 0.04 ,\n",
       "       0.02 , 0.01 , 0.004, 0.001, 1.   , 0.1  , 0.04 , 0.02 , 0.01 ,\n",
       "       0.004, 0.001, 1.   , 0.1  , 0.04 , 0.02 , 0.01 , 0.004, 0.001,\n",
       "       1.   , 0.1  , 0.04 , 0.02 , 0.01 , 0.004, 0.001, 1.   , 0.1  ,\n",
       "       0.04 , 0.02 , 0.01 , 0.004, 0.001, 1.   , 0.1  , 0.04 , 0.02 ,\n",
       "       0.01 , 0.004, 0.001, 1.   , 0.1  , 0.04 , 0.02 , 0.01 , 0.004,\n",
       "       0.001, 1.   , 0.1  , 0.04 , 0.02 , 0.01 , 0.004, 0.001, 1.   ,\n",
       "       0.1  , 0.04 , 0.02 , 0.01 , 0.004, 0.001, 1.   , 0.1  , 0.04 ,\n",
       "       0.02 , 0.01 , 0.004, 0.001, 1.   , 0.1  , 0.04 , 0.02 , 0.01 ,\n",
       "       0.004, 0.001, 1.   , 0.1  , 0.04 , 0.02 , 0.01 , 0.004, 0.001,\n",
       "       1.   , 0.1  , 0.04 , 0.02 , 0.01 , 0.004, 0.001, 1.   , 0.1  ,\n",
       "       0.04 , 0.02 , 0.01 , 0.004, 0.001, 1.   , 0.1  , 0.04 , 0.02 ,\n",
       "       0.01 , 0.004, 0.001, 1.   , 0.1  , 0.04 , 0.02 , 0.01 , 0.004,\n",
       "       0.001, 1.   , 0.1  , 0.04 , 0.02 , 0.01 , 0.004, 0.001, 1.   ,\n",
       "       0.1  , 0.04 , 0.02 , 0.01 , 0.004, 0.001, 1.   , 0.1  , 0.04 ,\n",
       "       0.02 , 0.01 , 0.004, 0.001])"
      ]
     },
     "execution_count": 18,
     "metadata": {},
     "output_type": "execute_result"
    }
   ],
   "source": [
    "CF.frequency"
   ]
  },
  {
   "cell_type": "code",
   "execution_count": 17,
   "id": "460e2c97-8d6f-42e9-a338-af98e4416a1f",
   "metadata": {},
   "outputs": [
    {
     "data": {
      "text/plain": [
       "<GeoAxesSubplot:title={'center':'FL max intensity at each point'}>"
      ]
     },
     "execution_count": 17,
     "metadata": {},
     "output_type": "execute_result"
    },
    {
     "data": {
      "image/png": "[encoded data removed]",
      "text/plain": [
       "<Figure size 648x936 with 2 Axes>"
      ]
     },
     "metadata": {
      "needs_background": "light"
     },
     "output_type": "display_data"
    }
   ],
   "source": [
    "CF.plot_intensity(event=0)"
   ]
  },
  {
   "cell_type": "code",
   "execution_count": 10,
   "id": "f3762273-6244-450d-8803-b053180051bd",
   "metadata": {},
   "outputs": [
    {
     "data": {
      "text/plain": [
       "array([  1,   2,   3,   4,   5,   6,   7,   8,   9,  10,  11,  12,  13,\n",
       "        14,  15,  16,  17,  18,  19,  20,  21,  22,  23,  24,  25,  26,\n",
       "        27,  28,  29,  30,  31,  32,  33,  34,  35,  36,  37,  38,  39,\n",
       "        40,  41,  42,  43,  44,  45,  46,  47,  48,  49,  50,  51,  52,\n",
       "        53,  54,  55,  56,  57,  58,  59,  60,  61,  62,  63,  64,  65,\n",
       "        66,  67,  68,  69,  70,  71,  72,  73,  74,  75,  76,  77,  78,\n",
       "        79,  80,  81,  82,  83,  84,  85,  86,  87,  88,  89,  90,  91,\n",
       "        92,  93,  94,  95,  96,  97,  98,  99, 100, 101, 102, 103, 104,\n",
       "       105, 106, 107, 108, 109, 110, 111, 112, 113, 114, 115, 116, 117,\n",
       "       118, 119, 120, 121, 122, 123, 124, 125, 126, 127, 128, 129, 130,\n",
       "       131, 132, 133, 134, 135, 136, 137, 138, 139, 140, 141, 142, 143,\n",
       "       144, 145, 146, 147, 148, 149, 150, 151, 152, 153, 154, 155, 156,\n",
       "       157, 158, 159, 160, 161, 162, 163, 164, 165, 166, 167, 168, 169,\n",
       "       170, 171, 172, 173, 174, 175, 176, 177, 178, 179, 180, 181, 182,\n",
       "       183, 184, 185, 186, 187, 188, 189, 190, 191, 192, 193, 194, 195,\n",
       "       196, 197, 198, 199, 200, 201, 202, 203, 204, 205, 206, 207, 208,\n",
       "       209, 210, 211, 212, 213, 214, 215, 216, 217, 218, 219, 220, 221,\n",
       "       222, 223, 224, 225, 226, 227, 228, 229, 230, 231, 232, 233, 234,\n",
       "       235, 236, 237, 238, 239, 240, 241, 242, 243, 244, 245, 246, 247,\n",
       "       248, 249, 250, 251, 252, 253, 254, 255, 256, 257, 258, 259, 260,\n",
       "       261, 262, 263, 264, 265, 266, 267, 268, 269, 270, 271, 272, 273,\n",
       "       274, 275, 276, 277, 278, 279, 280, 281, 282, 283, 284, 285, 286,\n",
       "       287, 288, 289, 290, 291, 292, 293, 294, 295, 296, 297, 298, 299,\n",
       "       300, 301, 302, 303, 304, 305, 306, 307, 308, 309, 310, 311, 312,\n",
       "       313, 314, 315, 316, 317, 318, 319, 320, 321, 322, 323, 324, 325,\n",
       "       326, 327, 328, 329, 330, 331, 332, 333, 334, 335, 336, 337, 338,\n",
       "       339, 340, 341, 342, 343, 344, 345, 346, 347, 348, 349, 350, 351,\n",
       "       352, 353, 354, 355, 356, 357, 358, 359, 360, 361, 362, 363, 364,\n",
       "       365, 366, 367, 368, 369, 370, 371, 372, 373, 374, 375, 376, 377,\n",
       "       378, 379, 380, 381, 382, 383, 384, 385, 386, 387, 388, 389, 390,\n",
       "       391, 392, 393, 394, 395, 396, 397, 398, 399, 400, 401, 402, 403,\n",
       "       404, 405, 406, 407, 408, 409, 410, 411, 412, 413, 414, 415, 416,\n",
       "       417, 418, 419, 420, 421, 422, 423, 424, 425, 426, 427, 428, 429,\n",
       "       430, 431, 432, 433, 434, 435, 436, 437, 438, 439, 440, 441, 442,\n",
       "       443, 444, 445, 446, 447, 448, 449, 450, 451, 452, 453, 454, 455,\n",
       "       456, 457, 458, 459, 460, 461, 462, 463, 464, 465, 466, 467, 468,\n",
       "       469, 470, 471, 472, 473, 474, 475, 476, 477, 478, 479, 480, 481,\n",
       "       482, 483, 484, 485, 486, 487, 488, 489, 490, 491, 492, 493, 494,\n",
       "       495, 496, 497, 498, 499, 500, 501, 502, 503, 504, 505, 506, 507,\n",
       "       508, 509, 510, 511, 512, 513, 514, 515, 516, 517, 518, 519, 520,\n",
       "       521, 522, 523, 524, 525, 526, 527, 528, 529, 530, 531, 532, 533,\n",
       "       534, 535, 536, 537, 538, 539, 540, 541, 542, 543, 544, 545, 546,\n",
       "       547, 548, 549, 550, 551, 552, 553])"
      ]
     },
     "execution_count": 10,
     "metadata": {},
     "output_type": "execute_result"
    }
   ],
   "source": [
    "CF.event_id"
   ]
  },
  {
   "cell_type": "markdown",
   "id": "6249cd35",
   "metadata": {},
   "source": [
    "## TC impact functions"
   ]
  },
  {
   "cell_type": "markdown",
   "id": "2c6cdb14",
   "metadata": {},
   "source": [
    "### Base scenario"
   ]
  },
  {
   "cell_type": "code",
   "execution_count": null,
   "id": "1c567f47",
   "metadata": {},
   "outputs": [],
   "source": [
    "exp.gdf['impf_TC_base'] = exp.gdf['se_seismo'].map(vulnerability.DICT_PAGER_TCIMPF_HAZUS)"
   ]
  },
  {
   "cell_type": "markdown",
   "id": "0f09cf00",
   "metadata": {},
   "source": [
    "### Min, med, max scenarios"
   ]
  },
  {
   "cell_type": "code",
   "execution_count": null,
   "id": "742dc1aa",
   "metadata": {},
   "outputs": [],
   "source": [
    "# we modify the dictionary to point to the \"_min\", \"_med\" and \"_max\" vulnerability functions everywhere \n",
    "DICT_TCIMPF_MIN = {key: vulnerability.DICT_HAZUS_IMPF_TC_HAZUS[value[:-3]+'min']\n",
    "                           for key, value in vulnerability.DICT_PAGER2HAZUS.items()}\n",
    "DICT_TCIMPF_MED = {key: vulnerability.DICT_HAZUS_IMPF_TC_HAZUS[value[:-3]+'med']\n",
    "                           for key, value in vulnerability.DICT_PAGER2HAZUS.items()}\n",
    "DICT_TCIMPF_MAX = {key: vulnerability.DICT_HAZUS_IMPF_TC_HAZUS[value[:-3]+'max']\n",
    "                           for key, value in vulnerability.DICT_PAGER2HAZUS.items()}"
   ]
  },
  {
   "cell_type": "code",
   "execution_count": null,
   "id": "718495bc",
   "metadata": {},
   "outputs": [],
   "source": [
    "exp.gdf['impf_TC_min'] = exp.gdf['se_seismo'].map(DICT_TCIMPF_MIN) "
   ]
  },
  {
   "cell_type": "code",
   "execution_count": null,
   "id": "68cde11c",
   "metadata": {},
   "outputs": [],
   "source": [
    "exp.gdf['impf_TC_med'] = exp.gdf['se_seismo'].map(DICT_TCIMPF_MED) "
   ]
  },
  {
   "cell_type": "code",
   "execution_count": null,
   "id": "a81898da",
   "metadata": {},
   "outputs": [],
   "source": [
    "exp.gdf['impf_TC_max'] = exp.gdf['se_seismo'].map(DICT_TCIMPF_MAX) "
   ]
  },
  {
   "cell_type": "markdown",
   "id": "417cbcc0",
   "metadata": {},
   "source": [
    "### Perform impact calcs and compare"
   ]
  },
  {
   "cell_type": "code",
   "execution_count": null,
   "id": "abf8ad81",
   "metadata": {},
   "outputs": [],
   "source": [
    "# load TC hazard phl\n",
    "if cntry == 'Somalia':\n",
    "    reg = 'IO'\n",
    "elif cntry == 'Philippines':\n",
    "    reg = 'WP'\n",
    "else:\n",
    "    reg = print('no country-basin assingment found')\n",
    "\n",
    "haz_TC_dir = Path('/cluster/work/climate/meilers/climada/data/hazard/present')\n",
    "haz_TC = TropCyclone.from_hdf5(haz_TC_dir.joinpath(f'TC_{reg}_0150as_MIT_H08.hdf5'))"
   ]
  },
  {
   "cell_type": "code",
   "execution_count": null,
   "id": "f7e903bd",
   "metadata": {},
   "outputs": [],
   "source": [
    "TC = haz_TC.select(extent=(\n",
    "    exp.gdf['longitude'].min(), exp.gdf['longitude'].max(), exp.gdf['latitude'].min(), exp.gdf['latitude'].max()))"
   ]
  },
  {
   "cell_type": "code",
   "execution_count": null,
   "id": "dde077e3",
   "metadata": {},
   "outputs": [],
   "source": [
    "exp.gdf.rename({'impf_TC_base' : 'impf_TC'}, axis=1, inplace=True)\n",
    "\n",
    "imp_base = ImpactCalc(exp, vulnerability.IMPF_SET_TC_HAZUS, TC).impact()"
   ]
  },
  {
   "cell_type": "code",
   "execution_count": null,
   "id": "4dab2551",
   "metadata": {},
   "outputs": [],
   "source": [
    "exp.gdf.rename({'impf_TC' : 'impf_TC_base'}, axis=1, inplace=True) # change column name back\n",
    "exp.gdf.rename({'impf_TC_min' : 'impf_TC'}, axis=1, inplace=True)\n",
    "\n",
    "imp_min = ImpactCalc(exp, vulnerability.IMPF_SET_TC_HAZUS, TC).impact()"
   ]
  },
  {
   "cell_type": "code",
   "execution_count": null,
   "id": "829a2a09",
   "metadata": {},
   "outputs": [],
   "source": [
    "exp.gdf.rename({'impf_TC' : 'impf_TC_min'}, axis=1, inplace=True) # change column name back\n",
    "exp.gdf.rename({'impf_TC_med' : 'impf_TC'}, axis=1, inplace=True)\n",
    "\n",
    "imp_med = ImpactCalc(exp, vulnerability.IMPF_SET_TC_HAZUS, TC).impact()"
   ]
  },
  {
   "cell_type": "code",
   "execution_count": null,
   "id": "e7e29ea3",
   "metadata": {},
   "outputs": [],
   "source": [
    "exp.gdf.rename({'impf_TC' : 'impf_TC_med'}, axis=1, inplace=True) # change column name back\n",
    "exp.gdf.rename({'impf_TC_max' : 'impf_TC'}, axis=1, inplace=True)\n",
    "\n",
    "imp_max = ImpactCalc(exp, vulnerability.IMPF_SET_TC_HAZUS, TC).impact()"
   ]
  },
  {
   "cell_type": "code",
   "execution_count": null,
   "id": "a2725420",
   "metadata": {},
   "outputs": [],
   "source": [
    "print(imp_base.aai_agg, imp_min.aai_agg, imp_med.aai_agg, imp_max.aai_agg)"
   ]
  },
  {
   "cell_type": "code",
   "execution_count": null,
   "id": "dfecd223-5dde-43a3-8ca3-bfcaaf330629",
   "metadata": {},
   "outputs": [],
   "source": []
  }
 ],
 "metadata": {
  "kernelspec": {
   "display_name": "Python 3 (ipykernel)",
   "language": "python",
   "name": "python3"
  },
  "language_info": {
   "codemirror_mode": {
    "name": "ipython",
    "version": 3
   },
   "file_extension": ".py",
   "mimetype": "text/x-python",
   "name": "python",
   "nbconvert_exporter": "python",
   "pygments_lexer": "ipython3",
   "version": "3.10.4"
  }
 },
 "nbformat": 4,
 "nbformat_minor": 5
}
