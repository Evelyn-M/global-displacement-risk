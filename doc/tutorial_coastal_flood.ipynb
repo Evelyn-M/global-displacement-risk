{
 "cells": [
  {
   "cell_type": "markdown",
   "id": "0c35b94f",
   "metadata": {},
   "source": [
    "# Coastal flood hazard for displacement risk modelling"
   ]
  },
  {
   "cell_type": "markdown",
   "id": "0eea6e8a",
   "metadata": {},
   "source": [
    "This tutorial shows how to use the coastal flood hazard return periods maps.\n",
    "\n",
    "Technical specifications for the flood maps.\n",
    "\n",
    "**Flood map:**  \n",
    "Resolution: 1000m x 1000m (approximately)  \n",
    "Horizontal coordinate System: EPSG:4326 - WGS84.  \n",
    "Nodata value: None.  \n",
    "\n",
    "The data is single-banded, where each pixel value denotes the depth of the water in meters.  \n",
    "*** NOTE: Best way to visualize is to clip the raster values from 0.01m to 100m. This will remove 0 values.\n",
    "\n",
    "**Representative concentration pathways (RCP) considered for sea level rise:** RCP2.6, RCP4.5, RCP8.5  \n",
    "**Future years considered for sea level rise:** 2020, 2050, 2100.  \n",
    "**Return periods considered for flood maps:** 1,10,25,50,100,250,1000.   \n",
    "\n",
    "The superfolder specifies the name of our DEM, namely venDEM. venDEM_scaled_1km implies that flood computation was done on finer (30m resolution), after which maps were rescaled to 1km (approximately).  \n",
    "The set of flood maps are partitioned into unit latitude-longitude square tiles inside the superfolder.  \n",
    "For example, S02E040 represents the latitude-longitude tile with bottom left corner at latitude -2 (2S) and longitude 40 (40E).\n",
    "\n",
    "In each folder, there is then a combination of RCP and year, and within each RCP_year folder, there is one tif file per return period for the latitude-longitude tile."
   ]
  },
  {
   "cell_type": "code",
   "execution_count": 1,
   "id": "044df897",
   "metadata": {},
   "outputs": [],
   "source": [
    "import os\n",
    "import pandas as pd\n",
    "import numpy as np\n",
    "\n",
    "#os.chdir('/Users/simonameiler/Documents/WCR/Displacement/global-displacement-risk')\n",
    "os.chdir('/cluster/project/climate/evelynm/global-displacement-risk') # change back to root folder, not \"~/doc\"\n",
    "import coastal_flood_hazard, exposure, vulnerability"
   ]
  },
  {
   "cell_type": "markdown",
   "id": "b5457d15",
   "metadata": {},
   "source": [
    "Select latitude-longitude tiles for country of interest only.\n",
    "\n",
    "First, load exposure and get lat/lon max/mins from it.  \n",
    "Then load the respective flood tiles."
   ]
  },
  {
   "cell_type": "markdown",
   "id": "c79be7a1",
   "metadata": {},
   "source": [
    "## Load exposure from BEM"
   ]
  },
  {
   "cell_type": "code",
   "execution_count": 3,
   "id": "7a7b76a3",
   "metadata": {},
   "outputs": [],
   "source": [
    "from climada.entity.exposures import Exposures"
   ]
  },
  {
   "cell_type": "code",
   "execution_count": 130,
   "id": "1196c720",
   "metadata": {},
   "outputs": [
    {
     "data": {
      "text/html": [
       "<div>\n",
       "<style scoped>\n",
       "    .dataframe tbody tr th:only-of-type {\n",
       "        vertical-align: middle;\n",
       "    }\n",
       "\n",
       "    .dataframe tbody tr th {\n",
       "        vertical-align: top;\n",
       "    }\n",
       "\n",
       "    .dataframe thead th {\n",
       "        text-align: right;\n",
       "    }\n",
       "</style>\n",
       "<table border=\"1\" class=\"dataframe\">\n",
       "  <thead>\n",
       "    <tr style=\"text-align: right;\">\n",
       "      <th></th>\n",
       "      <th>id_1x</th>\n",
       "      <th>iso3</th>\n",
       "      <th>cpx</th>\n",
       "      <th>sector</th>\n",
       "      <th>se_seismo</th>\n",
       "      <th>valhum</th>\n",
       "      <th>valfis</th>\n",
       "      <th>bd_1_floor</th>\n",
       "      <th>bd_2_floor</th>\n",
       "      <th>bd_3_floor</th>\n",
       "      <th>geometry</th>\n",
       "    </tr>\n",
       "  </thead>\n",
       "  <tbody>\n",
       "    <tr>\n",
       "      <th>0</th>\n",
       "      <td>153009269</td>\n",
       "      <td>NPL</td>\n",
       "      <td>3</td>\n",
       "      <td>beds_priv</td>\n",
       "      <td>W1</td>\n",
       "      <td>0.000255</td>\n",
       "      <td>4.889260e-07</td>\n",
       "      <td>0.0</td>\n",
       "      <td>0.0</td>\n",
       "      <td>0.0</td>\n",
       "      <td>POINT (87.55417 27.76250)</td>\n",
       "    </tr>\n",
       "    <tr>\n",
       "      <th>1</th>\n",
       "      <td>153009269</td>\n",
       "      <td>NPL</td>\n",
       "      <td>3</td>\n",
       "      <td>beds_priv</td>\n",
       "      <td>UFB3</td>\n",
       "      <td>0.000037</td>\n",
       "      <td>6.990995e-08</td>\n",
       "      <td>0.0</td>\n",
       "      <td>0.0</td>\n",
       "      <td>0.0</td>\n",
       "      <td>POINT (87.55417 27.76250)</td>\n",
       "    </tr>\n",
       "    <tr>\n",
       "      <th>2</th>\n",
       "      <td>153009269</td>\n",
       "      <td>NPL</td>\n",
       "      <td>3</td>\n",
       "      <td>beds_priv</td>\n",
       "      <td>UFB2</td>\n",
       "      <td>0.000061</td>\n",
       "      <td>1.164063e-07</td>\n",
       "      <td>0.0</td>\n",
       "      <td>0.0</td>\n",
       "      <td>0.0</td>\n",
       "      <td>POINT (87.55417 27.76250)</td>\n",
       "    </tr>\n",
       "    <tr>\n",
       "      <th>3</th>\n",
       "      <td>153009269</td>\n",
       "      <td>NPL</td>\n",
       "      <td>3</td>\n",
       "      <td>beds_priv</td>\n",
       "      <td>INF</td>\n",
       "      <td>0.000009</td>\n",
       "      <td>1.774041e-08</td>\n",
       "      <td>0.0</td>\n",
       "      <td>0.0</td>\n",
       "      <td>0.0</td>\n",
       "      <td>POINT (87.55417 27.76250)</td>\n",
       "    </tr>\n",
       "    <tr>\n",
       "      <th>4</th>\n",
       "      <td>153009269</td>\n",
       "      <td>NPL</td>\n",
       "      <td>3</td>\n",
       "      <td>beds_priv</td>\n",
       "      <td>DS3</td>\n",
       "      <td>0.000022</td>\n",
       "      <td>4.259307e-08</td>\n",
       "      <td>0.0</td>\n",
       "      <td>0.0</td>\n",
       "      <td>0.0</td>\n",
       "      <td>POINT (87.55417 27.76250)</td>\n",
       "    </tr>\n",
       "  </tbody>\n",
       "</table>\n",
       "</div>"
      ],
      "text/plain": [
       "       id_1x iso3  cpx     sector se_seismo    valhum        valfis  \\\n",
       "0  153009269  NPL    3  beds_priv        W1  0.000255  4.889260e-07   \n",
       "1  153009269  NPL    3  beds_priv      UFB3  0.000037  6.990995e-08   \n",
       "2  153009269  NPL    3  beds_priv      UFB2  0.000061  1.164063e-07   \n",
       "3  153009269  NPL    3  beds_priv       INF  0.000009  1.774041e-08   \n",
       "4  153009269  NPL    3  beds_priv       DS3  0.000022  4.259307e-08   \n",
       "\n",
       "   bd_1_floor  bd_2_floor  bd_3_floor                   geometry  \n",
       "0         0.0         0.0         0.0  POINT (87.55417 27.76250)  \n",
       "1         0.0         0.0         0.0  POINT (87.55417 27.76250)  \n",
       "2         0.0         0.0         0.0  POINT (87.55417 27.76250)  \n",
       "3         0.0         0.0         0.0  POINT (87.55417 27.76250)  \n",
       "4         0.0         0.0         0.0  POINT (87.55417 27.76250)  "
      ]
     },
     "execution_count": 130,
     "metadata": {},
     "output_type": "execute_result"
    }
   ],
   "source": [
    "# Load the full dataframe, without further re-aggregation / processing other than adding centroids\n",
    "gdf_bem_subcomps = exposure.gdf_from_bem_subcomps(cntry_name, opt='full')\n",
    "gdf_bem_subcomps.head()"
   ]
  },
  {
   "cell_type": "code",
   "execution_count": 131,
   "id": "f2361b82",
   "metadata": {},
   "outputs": [],
   "source": [
    "# filter and apply impf id\n",
    "gdf_bem_subcomps = gdf_bem_subcomps[gdf_bem_subcomps['valhum']>1] # filter out rows with basically no population\n",
    "gdf_bem_subcomps['impf_FL'] = gdf_bem_subcomps.se_seismo.map(vulnerability.DICT_PAGER_FLIMPF_CIMA)"
   ]
  },
  {
   "cell_type": "code",
   "execution_count": null,
   "id": "063f2c0b",
   "metadata": {},
   "outputs": [],
   "source": [
    "# replace impf 3 --> 5 for 2-storeys and more\n",
    "gdf_bem_subcomps.loc[((gdf_bem_subcomps.bd_3_floor+gdf_bem_subcomps.bd_2_floor)>0.5)\n",
    "                     &(gdf_bem_subcomps.impf_FL==3), \"impf_FL\"] = 5"
   ]
  },
  {
   "cell_type": "code",
   "execution_count": 7,
   "id": "35eed1ae",
   "metadata": {},
   "outputs": [],
   "source": [
    "# replace impf 4 --> 6 for 2-storeys and more\n",
    "gdf_bem_subcomps.loc[((gdf_bem_subcomps.bd_3_floor+gdf_bem_subcomps.bd_2_floor)>0.5)\n",
    "                     &(gdf_bem_subcomps.impf_FL==4), \"impf_FL\"] = 6"
   ]
  },
  {
   "cell_type": "code",
   "execution_count": 48,
   "id": "aaf636e5",
   "metadata": {},
   "outputs": [],
   "source": [
    "# remove for now unnecessary cols and prepare gdf for CLIMADA Exposure\n",
    "gdf_bem_subcomps.rename({'valhum' : 'value'}, axis=1)\n",
    "for col in ['iso3', 'sector', 'valfis', 'se_seismo']:\n",
    "    gdf_bem_subcomps.pop(col)"
   ]
  },
  {
   "cell_type": "code",
   "execution_count": 132,
   "id": "495caefc",
   "metadata": {},
   "outputs": [
    {
     "data": {
      "text/plain": [
       "41350197.53250839"
      ]
     },
     "execution_count": 132,
     "metadata": {},
     "output_type": "execute_result"
    }
   ],
   "source": [
    "gdf_bem_subcomps.valhum.sum()"
   ]
  },
  {
   "cell_type": "code",
   "execution_count": 133,
   "id": "11ce8158",
   "metadata": {},
   "outputs": [
    {
     "data": {
      "text/html": [
       "<div>\n",
       "<style scoped>\n",
       "    .dataframe tbody tr th:only-of-type {\n",
       "        vertical-align: middle;\n",
       "    }\n",
       "\n",
       "    .dataframe tbody tr th {\n",
       "        vertical-align: top;\n",
       "    }\n",
       "\n",
       "    .dataframe thead th {\n",
       "        text-align: right;\n",
       "    }\n",
       "</style>\n",
       "<table border=\"1\" class=\"dataframe\">\n",
       "  <thead>\n",
       "    <tr style=\"text-align: right;\">\n",
       "      <th></th>\n",
       "      <th>id_1x</th>\n",
       "      <th>iso3</th>\n",
       "      <th>cpx</th>\n",
       "      <th>sector</th>\n",
       "      <th>se_seismo</th>\n",
       "      <th>value</th>\n",
       "      <th>valfis</th>\n",
       "      <th>bd_1_floor</th>\n",
       "      <th>bd_2_floor</th>\n",
       "      <th>bd_3_floor</th>\n",
       "      <th>geometry</th>\n",
       "      <th>impf_FL</th>\n",
       "      <th>longitude</th>\n",
       "      <th>latitude</th>\n",
       "    </tr>\n",
       "  </thead>\n",
       "  <tbody>\n",
       "    <tr>\n",
       "      <th>32</th>\n",
       "      <td>148916083</td>\n",
       "      <td>NPL</td>\n",
       "      <td>3</td>\n",
       "      <td>edu_pub</td>\n",
       "      <td>W1</td>\n",
       "      <td>1.920413</td>\n",
       "      <td>0.003678</td>\n",
       "      <td>0.0</td>\n",
       "      <td>0.0</td>\n",
       "      <td>100.0</td>\n",
       "      <td>POINT (80.95417 29.17083)</td>\n",
       "      <td>14</td>\n",
       "      <td>80.954167</td>\n",
       "      <td>29.170833</td>\n",
       "    </tr>\n",
       "    <tr>\n",
       "      <th>34</th>\n",
       "      <td>148916083</td>\n",
       "      <td>NPL</td>\n",
       "      <td>3</td>\n",
       "      <td>edu_pub</td>\n",
       "      <td>UFB2</td>\n",
       "      <td>1.169213</td>\n",
       "      <td>0.002239</td>\n",
       "      <td>0.0</td>\n",
       "      <td>0.0</td>\n",
       "      <td>100.0</td>\n",
       "      <td>POINT (80.95417 29.17083)</td>\n",
       "      <td>6</td>\n",
       "      <td>80.954167</td>\n",
       "      <td>29.170833</td>\n",
       "    </tr>\n",
       "    <tr>\n",
       "      <th>37</th>\n",
       "      <td>148916083</td>\n",
       "      <td>NPL</td>\n",
       "      <td>3</td>\n",
       "      <td>edu_pub</td>\n",
       "      <td>DS1</td>\n",
       "      <td>3.960069</td>\n",
       "      <td>0.007584</td>\n",
       "      <td>0.0</td>\n",
       "      <td>0.0</td>\n",
       "      <td>100.0</td>\n",
       "      <td>POINT (80.95417 29.17083)</td>\n",
       "      <td>6</td>\n",
       "      <td>80.954167</td>\n",
       "      <td>29.170833</td>\n",
       "    </tr>\n",
       "    <tr>\n",
       "      <th>39</th>\n",
       "      <td>148916083</td>\n",
       "      <td>NPL</td>\n",
       "      <td>3</td>\n",
       "      <td>edu_pub</td>\n",
       "      <td>A</td>\n",
       "      <td>3.961855</td>\n",
       "      <td>0.007587</td>\n",
       "      <td>0.0</td>\n",
       "      <td>0.0</td>\n",
       "      <td>100.0</td>\n",
       "      <td>POINT (80.95417 29.17083)</td>\n",
       "      <td>12</td>\n",
       "      <td>80.954167</td>\n",
       "      <td>29.170833</td>\n",
       "    </tr>\n",
       "    <tr>\n",
       "      <th>40</th>\n",
       "      <td>148916083</td>\n",
       "      <td>NPL</td>\n",
       "      <td>3</td>\n",
       "      <td>emp_ind</td>\n",
       "      <td>W1</td>\n",
       "      <td>1.181405</td>\n",
       "      <td>0.012255</td>\n",
       "      <td>0.0</td>\n",
       "      <td>0.0</td>\n",
       "      <td>100.0</td>\n",
       "      <td>POINT (80.95417 29.17083)</td>\n",
       "      <td>14</td>\n",
       "      <td>80.954167</td>\n",
       "      <td>29.170833</td>\n",
       "    </tr>\n",
       "  </tbody>\n",
       "</table>\n",
       "</div>"
      ],
      "text/plain": [
       "        id_1x iso3  cpx   sector se_seismo     value    valfis  bd_1_floor  \\\n",
       "32  148916083  NPL    3  edu_pub        W1  1.920413  0.003678         0.0   \n",
       "34  148916083  NPL    3  edu_pub      UFB2  1.169213  0.002239         0.0   \n",
       "37  148916083  NPL    3  edu_pub       DS1  3.960069  0.007584         0.0   \n",
       "39  148916083  NPL    3  edu_pub         A  3.961855  0.007587         0.0   \n",
       "40  148916083  NPL    3  emp_ind        W1  1.181405  0.012255         0.0   \n",
       "\n",
       "    bd_2_floor  bd_3_floor                   geometry  impf_FL  longitude  \\\n",
       "32         0.0       100.0  POINT (80.95417 29.17083)       14  80.954167   \n",
       "34         0.0       100.0  POINT (80.95417 29.17083)        6  80.954167   \n",
       "37         0.0       100.0  POINT (80.95417 29.17083)        6  80.954167   \n",
       "39         0.0       100.0  POINT (80.95417 29.17083)       12  80.954167   \n",
       "40         0.0       100.0  POINT (80.95417 29.17083)       14  80.954167   \n",
       "\n",
       "     latitude  \n",
       "32  29.170833  \n",
       "34  29.170833  \n",
       "37  29.170833  \n",
       "39  29.170833  \n",
       "40  29.170833  "
      ]
     },
     "execution_count": 133,
     "metadata": {},
     "output_type": "execute_result"
    }
   ],
   "source": [
    "exp = Exposures(gdf_bem_subcomps)\n",
    "exp.gdf.rename({'valhum': 'value'}, axis=1, inplace=True)\n",
    "exp.value_unit = 'Pop. count'\n",
    "exp.gdf['longitude'] = exp.gdf.geometry.x\n",
    "exp.gdf['latitude'] = exp.gdf.geometry.y\n",
    "exp.gdf = exp.gdf[~np.isnan(exp.gdf.latitude)]  # drop nan centroids\n",
    "exp.gdf.head()"
   ]
  },
  {
   "cell_type": "markdown",
   "id": "085028a8",
   "metadata": {},
   "source": [
    "#### Get lat/lon min/max from exposure"
   ]
  },
  {
   "cell_type": "code",
   "execution_count": 134,
   "id": "fd3b9a93",
   "metadata": {},
   "outputs": [],
   "source": [
    "lat_min, lat_max, lon_min, lon_max = exp.gdf['latitude'].min(), exp.gdf['latitude'].max(), exp.gdf['longitude'].min(), exp.gdf['longitude'].max()"
   ]
  },
  {
   "cell_type": "code",
   "execution_count": 135,
   "id": "81e94d0f",
   "metadata": {},
   "outputs": [
    {
     "data": {
      "text/plain": [
       "(26.354166672426548, 30.254166672426326, 80.06249999999898, 88.16250000000542)"
      ]
     },
     "execution_count": 135,
     "metadata": {},
     "output_type": "execute_result"
    }
   ],
   "source": [
    "lat_min, lat_max, lon_min, lon_max"
   ]
  },
  {
   "cell_type": "markdown",
   "id": "3563c3de",
   "metadata": {},
   "source": [
    "## Load hazard maps for all tiles covering the lat/lon extent of exposure"
   ]
  },
  {
   "cell_type": "code",
   "execution_count": 136,
   "id": "55d5125f",
   "metadata": {},
   "outputs": [],
   "source": [
    "from climada.util.constants import SYSTEM_DIR\n",
    "hazard_dir = SYSTEM_DIR/\"hazard\"/\"coastal_flood\"/\"venDEM_scaled_1km\""
   ]
  },
  {
   "cell_type": "code",
   "execution_count": 137,
   "id": "2131afd0",
   "metadata": {},
   "outputs": [],
   "source": [
    "# get tiles covering the exposure extent\n",
    "tiles = coastal_flood_hazard.find_tiles(lat_min, lat_max, lon_min, lon_max)"
   ]
  },
  {
   "cell_type": "code",
   "execution_count": 138,
   "id": "f3972a28",
   "metadata": {},
   "outputs": [
    {
     "data": {
      "text/plain": [
       "['N26E080',\n",
       " 'N26E081',\n",
       " 'N26E082',\n",
       " 'N26E083',\n",
       " 'N26E084',\n",
       " 'N26E085',\n",
       " 'N26E086',\n",
       " 'N26E087',\n",
       " 'N26E088',\n",
       " 'N27E080',\n",
       " 'N27E081',\n",
       " 'N27E082',\n",
       " 'N27E083',\n",
       " 'N27E084',\n",
       " 'N27E085',\n",
       " 'N27E086',\n",
       " 'N27E087',\n",
       " 'N27E088',\n",
       " 'N28E080',\n",
       " 'N28E081',\n",
       " 'N28E082',\n",
       " 'N28E083',\n",
       " 'N28E084',\n",
       " 'N28E085',\n",
       " 'N28E086',\n",
       " 'N28E087',\n",
       " 'N28E088',\n",
       " 'N29E080',\n",
       " 'N29E081',\n",
       " 'N29E082',\n",
       " 'N29E083',\n",
       " 'N29E084',\n",
       " 'N29E085',\n",
       " 'N29E086',\n",
       " 'N29E087',\n",
       " 'N29E088',\n",
       " 'N30E080',\n",
       " 'N30E081',\n",
       " 'N30E082',\n",
       " 'N30E083',\n",
       " 'N30E084',\n",
       " 'N30E085',\n",
       " 'N30E086',\n",
       " 'N30E087',\n",
       " 'N30E088']"
      ]
     },
     "execution_count": 138,
     "metadata": {},
     "output_type": "execute_result"
    }
   ],
   "source": [
    "tiles"
   ]
  },
  {
   "cell_type": "code",
   "execution_count": 139,
   "id": "aa08a406",
   "metadata": {},
   "outputs": [
    {
     "name": "stdout",
     "output_type": "stream",
     "text": [
      "Tile directory /cluster/work/climate/evelynm/climada/data/hazard/coastal_flood/venDEM_scaled_1km/N26E080/RCP45_2020 not found, skipping...\n",
      "Tile directory /cluster/work/climate/evelynm/climada/data/hazard/coastal_flood/venDEM_scaled_1km/N26E081/RCP45_2020 not found, skipping...\n",
      "Tile directory /cluster/work/climate/evelynm/climada/data/hazard/coastal_flood/venDEM_scaled_1km/N26E082/RCP45_2020 not found, skipping...\n",
      "Tile directory /cluster/work/climate/evelynm/climada/data/hazard/coastal_flood/venDEM_scaled_1km/N26E083/RCP45_2020 not found, skipping...\n",
      "Tile directory /cluster/work/climate/evelynm/climada/data/hazard/coastal_flood/venDEM_scaled_1km/N26E084/RCP45_2020 not found, skipping...\n",
      "Tile directory /cluster/work/climate/evelynm/climada/data/hazard/coastal_flood/venDEM_scaled_1km/N26E085/RCP45_2020 not found, skipping...\n",
      "Tile directory /cluster/work/climate/evelynm/climada/data/hazard/coastal_flood/venDEM_scaled_1km/N26E086/RCP45_2020 not found, skipping...\n",
      "Tile directory /cluster/work/climate/evelynm/climada/data/hazard/coastal_flood/venDEM_scaled_1km/N26E087/RCP45_2020 not found, skipping...\n",
      "Tile directory /cluster/work/climate/evelynm/climada/data/hazard/coastal_flood/venDEM_scaled_1km/N26E088/RCP45_2020 not found, skipping...\n",
      "Tile directory /cluster/work/climate/evelynm/climada/data/hazard/coastal_flood/venDEM_scaled_1km/N27E080/RCP45_2020 not found, skipping...\n",
      "Tile directory /cluster/work/climate/evelynm/climada/data/hazard/coastal_flood/venDEM_scaled_1km/N27E081/RCP45_2020 not found, skipping...\n",
      "Tile directory /cluster/work/climate/evelynm/climada/data/hazard/coastal_flood/venDEM_scaled_1km/N27E082/RCP45_2020 not found, skipping...\n",
      "Tile directory /cluster/work/climate/evelynm/climada/data/hazard/coastal_flood/venDEM_scaled_1km/N27E083/RCP45_2020 not found, skipping...\n",
      "Tile directory /cluster/work/climate/evelynm/climada/data/hazard/coastal_flood/venDEM_scaled_1km/N27E084/RCP45_2020 not found, skipping...\n",
      "Tile directory /cluster/work/climate/evelynm/climada/data/hazard/coastal_flood/venDEM_scaled_1km/N27E085/RCP45_2020 not found, skipping...\n",
      "Tile directory /cluster/work/climate/evelynm/climada/data/hazard/coastal_flood/venDEM_scaled_1km/N27E086/RCP45_2020 not found, skipping...\n",
      "Tile directory /cluster/work/climate/evelynm/climada/data/hazard/coastal_flood/venDEM_scaled_1km/N27E087/RCP45_2020 not found, skipping...\n",
      "Tile directory /cluster/work/climate/evelynm/climada/data/hazard/coastal_flood/venDEM_scaled_1km/N27E088/RCP45_2020 not found, skipping...\n",
      "Tile directory /cluster/work/climate/evelynm/climada/data/hazard/coastal_flood/venDEM_scaled_1km/N28E080/RCP45_2020 not found, skipping...\n",
      "Tile directory /cluster/work/climate/evelynm/climada/data/hazard/coastal_flood/venDEM_scaled_1km/N28E081/RCP45_2020 not found, skipping...\n",
      "Tile directory /cluster/work/climate/evelynm/climada/data/hazard/coastal_flood/venDEM_scaled_1km/N28E082/RCP45_2020 not found, skipping...\n",
      "Tile directory /cluster/work/climate/evelynm/climada/data/hazard/coastal_flood/venDEM_scaled_1km/N28E083/RCP45_2020 not found, skipping...\n",
      "Tile directory /cluster/work/climate/evelynm/climada/data/hazard/coastal_flood/venDEM_scaled_1km/N28E084/RCP45_2020 not found, skipping...\n",
      "Tile directory /cluster/work/climate/evelynm/climada/data/hazard/coastal_flood/venDEM_scaled_1km/N28E085/RCP45_2020 not found, skipping...\n",
      "Tile directory /cluster/work/climate/evelynm/climada/data/hazard/coastal_flood/venDEM_scaled_1km/N28E086/RCP45_2020 not found, skipping...\n",
      "Tile directory /cluster/work/climate/evelynm/climada/data/hazard/coastal_flood/venDEM_scaled_1km/N28E087/RCP45_2020 not found, skipping...\n",
      "Tile directory /cluster/work/climate/evelynm/climada/data/hazard/coastal_flood/venDEM_scaled_1km/N28E088/RCP45_2020 not found, skipping...\n",
      "Tile directory /cluster/work/climate/evelynm/climada/data/hazard/coastal_flood/venDEM_scaled_1km/N29E080/RCP45_2020 not found, skipping...\n",
      "Tile directory /cluster/work/climate/evelynm/climada/data/hazard/coastal_flood/venDEM_scaled_1km/N29E081/RCP45_2020 not found, skipping...\n",
      "Tile directory /cluster/work/climate/evelynm/climada/data/hazard/coastal_flood/venDEM_scaled_1km/N29E082/RCP45_2020 not found, skipping...\n",
      "Tile directory /cluster/work/climate/evelynm/climada/data/hazard/coastal_flood/venDEM_scaled_1km/N29E083/RCP45_2020 not found, skipping...\n",
      "Tile directory /cluster/work/climate/evelynm/climada/data/hazard/coastal_flood/venDEM_scaled_1km/N29E084/RCP45_2020 not found, skipping...\n",
      "Tile directory /cluster/work/climate/evelynm/climada/data/hazard/coastal_flood/venDEM_scaled_1km/N29E085/RCP45_2020 not found, skipping...\n",
      "Tile directory /cluster/work/climate/evelynm/climada/data/hazard/coastal_flood/venDEM_scaled_1km/N29E086/RCP45_2020 not found, skipping...\n",
      "Tile directory /cluster/work/climate/evelynm/climada/data/hazard/coastal_flood/venDEM_scaled_1km/N29E087/RCP45_2020 not found, skipping...\n",
      "Tile directory /cluster/work/climate/evelynm/climada/data/hazard/coastal_flood/venDEM_scaled_1km/N29E088/RCP45_2020 not found, skipping...\n",
      "Tile directory /cluster/work/climate/evelynm/climada/data/hazard/coastal_flood/venDEM_scaled_1km/N30E080/RCP45_2020 not found, skipping...\n",
      "Tile directory /cluster/work/climate/evelynm/climada/data/hazard/coastal_flood/venDEM_scaled_1km/N30E081/RCP45_2020 not found, skipping...\n",
      "Tile directory /cluster/work/climate/evelynm/climada/data/hazard/coastal_flood/venDEM_scaled_1km/N30E082/RCP45_2020 not found, skipping...\n",
      "Tile directory /cluster/work/climate/evelynm/climada/data/hazard/coastal_flood/venDEM_scaled_1km/N30E083/RCP45_2020 not found, skipping...\n",
      "Tile directory /cluster/work/climate/evelynm/climada/data/hazard/coastal_flood/venDEM_scaled_1km/N30E084/RCP45_2020 not found, skipping...\n",
      "Tile directory /cluster/work/climate/evelynm/climada/data/hazard/coastal_flood/venDEM_scaled_1km/N30E085/RCP45_2020 not found, skipping...\n",
      "Tile directory /cluster/work/climate/evelynm/climada/data/hazard/coastal_flood/venDEM_scaled_1km/N30E086/RCP45_2020 not found, skipping...\n",
      "Tile directory /cluster/work/climate/evelynm/climada/data/hazard/coastal_flood/venDEM_scaled_1km/N30E087/RCP45_2020 not found, skipping...\n",
      "Tile directory /cluster/work/climate/evelynm/climada/data/hazard/coastal_flood/venDEM_scaled_1km/N30E088/RCP45_2020 not found, skipping...\n",
      "No hazard files found for the specified tiles and RCP/year combination.\n"
     ]
    }
   ],
   "source": [
    "CF_haz_2020 = coastal_flood_hazard.generate_hazard_object(tiles, hazard_dir, 'RCP45', '2020', 'FL')"
   ]
  },
  {
   "cell_type": "code",
   "execution_count": null,
   "id": "cf7b37c2",
   "metadata": {},
   "outputs": [],
   "source": [
    "CF_haz_2020.intensity"
   ]
  },
  {
   "cell_type": "code",
   "execution_count": null,
   "id": "c4cb386b",
   "metadata": {},
   "outputs": [],
   "source": [
    "CF_haz_2020.centroids.plot()"
   ]
  },
  {
   "cell_type": "code",
   "execution_count": null,
   "id": "5002740d",
   "metadata": {},
   "outputs": [],
   "source": [
    "CF_haz_2020.plot_intensity(event=0)"
   ]
  },
  {
   "cell_type": "code",
   "execution_count": null,
   "id": "8e6dacb0",
   "metadata": {},
   "outputs": [],
   "source": [
    "import matplotlib.pyplot as plt\n",
    "import cartopy.crs as ccrs\n",
    "\n",
    "fig, ax = plt.subplots(figsize=(8, 6), subplot_kw={'projection': ccrs.PlateCarree()})\n",
    "CF_haz_2020.plot_intensity(event=0, axis=ax)\n",
    "\n",
    "plt.show()\n"
   ]
  },
  {
   "cell_type": "code",
   "execution_count": null,
   "id": "64f5d433",
   "metadata": {},
   "outputs": [],
   "source": [
    "CF_haz_2020.intensity.max(axis=1).data"
   ]
  },
  {
   "cell_type": "code",
   "execution_count": null,
   "id": "ce977741",
   "metadata": {},
   "outputs": [],
   "source": [
    "CF_haz_2050 = coastal_flood_hazard.generate_hazard_object(tiles, hazard_dir, 'RCP45', '2050', 'FL')"
   ]
  },
  {
   "cell_type": "code",
   "execution_count": null,
   "id": "c8fb1356",
   "metadata": {
    "scrolled": false
   },
   "outputs": [],
   "source": [
    "CF_haz_2050.plot_intensity(event=0)"
   ]
  },
  {
   "cell_type": "code",
   "execution_count": null,
   "id": "b30d3cc6",
   "metadata": {},
   "outputs": [],
   "source": [
    "CF_haz_2100 = coastal_flood_hazard.generate_hazard_object(tiles, hazard_dir, 'RCP45', '2100', 'FL')"
   ]
  },
  {
   "cell_type": "code",
   "execution_count": null,
   "id": "b225bf87",
   "metadata": {},
   "outputs": [],
   "source": [
    "CF_haz_2100.plot_intensity(event=0)"
   ]
  },
  {
   "cell_type": "code",
   "execution_count": null,
   "id": "856bb8bc",
   "metadata": {},
   "outputs": [],
   "source": [
    "CF_haz_2050.intensity"
   ]
  },
  {
   "cell_type": "code",
   "execution_count": null,
   "id": "05ecfc18",
   "metadata": {},
   "outputs": [],
   "source": [
    "CF_haz_2020.frequency.size"
   ]
  },
  {
   "cell_type": "code",
   "execution_count": null,
   "id": "ce66e545",
   "metadata": {},
   "outputs": [],
   "source": [
    "CF_haz_2020.event_id"
   ]
  },
  {
   "cell_type": "markdown",
   "id": "5fea35c7",
   "metadata": {},
   "source": [
    "### Question:\n",
    "Is it a problem that event_id and event_name are \"sanitized\" and that intensity crs matrices are stacked vertically during the concat/append routine when calling `generate_hazard_object`?"
   ]
  },
  {
   "cell_type": "markdown",
   "id": "f006ab31",
   "metadata": {},
   "source": [
    "## Impact functions"
   ]
  },
  {
   "cell_type": "markdown",
   "id": "4b6c0021",
   "metadata": {},
   "source": [
    "### Option 1 - merging damage threshold into impact function"
   ]
  },
  {
   "cell_type": "code",
   "execution_count": null,
   "id": "700654f7",
   "metadata": {},
   "outputs": [],
   "source": [
    "impf_set_fl = vulnerability.IMPF_SET_FL_IVM"
   ]
  },
  {
   "cell_type": "code",
   "execution_count": null,
   "id": "b7681be9",
   "metadata": {},
   "outputs": [],
   "source": [
    "from climada.entity import ImpactFunc, ImpactFuncSet\n",
    "impf_set_ivm_step = ImpactFuncSet()"
   ]
  },
  {
   "cell_type": "code",
   "execution_count": null,
   "id": "1845f771",
   "metadata": {},
   "outputs": [],
   "source": [
    "# The threshold of building damage after which all people are displaced. Below, no-one is displaced.\n",
    "building_thes = 0.55 # 55% iDMC v1; CIMA: 30% for Somalia to 60% for other countries. \n",
    "\n",
    "for imp_id in impf_set_fl.get_ids(haz_type='FL'):\n",
    "    impf_set_fl.get_func(fun_id=imp_id)\n",
    "    y = impf_set_fl.get_func(fun_id=imp_id)[0].intensity\n",
    "    x = impf_set_fl.get_func(fun_id=imp_id)[0].mdd\n",
    "    flood_thres = np.interp(building_thes, x, y)\n",
    "    print('ID: '+str(imp_id)+' - threshold stepfunction: '+str(flood_thres))\n",
    "    impf_set_ivm_step.append(\n",
    "                ImpactFunc.from_step_impf(\n",
    "                    intensity=(0,  flood_thres, flood_thres *10),\n",
    "                    haz_type='FL',\n",
    "                    impf_id=imp_id,\n",
    "                    intensity_unit = 'm'\n",
    "                )\n",
    "    )"
   ]
  },
  {
   "cell_type": "markdown",
   "id": "86c56493",
   "metadata": {},
   "source": [
    "### Impacts"
   ]
  },
  {
   "cell_type": "code",
   "execution_count": null,
   "id": "b54b57ce",
   "metadata": {},
   "outputs": [],
   "source": [
    "from climada.engine import ImpactCalc\n",
    "\n",
    "impcalc = ImpactCalc(exp, impf_set_ivm_step, CF_haz_2020)\n",
    "impact = impcalc.impact()"
   ]
  },
  {
   "cell_type": "code",
   "execution_count": null,
   "id": "98a2fa4c",
   "metadata": {},
   "outputs": [],
   "source": [
    "print('Annual average displacement: ' + \"{:,.0f}\".format(impact.aai_agg))"
   ]
  },
  {
   "cell_type": "code",
   "execution_count": null,
   "id": "e68881d8",
   "metadata": {},
   "outputs": [],
   "source": [
    "freqd_curve = impact.calc_freq_curve()"
   ]
  },
  {
   "cell_type": "code",
   "execution_count": null,
   "id": "def1cba0",
   "metadata": {},
   "outputs": [],
   "source": [
    "freqd_curve.plot()"
   ]
  },
  {
   "cell_type": "code",
   "execution_count": null,
   "id": "fccfb223",
   "metadata": {},
   "outputs": [],
   "source": [
    "impact.plot_hexbin_eai_exposure(pop_name=False, ignore_zero=True)"
   ]
  },
  {
   "cell_type": "markdown",
   "id": "0525cd5b",
   "metadata": {},
   "source": [
    "### Option 2 - postprocessing results by damage threshold"
   ]
  },
  {
   "cell_type": "code",
   "execution_count": null,
   "id": "7cce51ab",
   "metadata": {},
   "outputs": [],
   "source": [
    "from climada.engine import ImpactCalc\n",
    "\n",
    "exp.gdf.rename({'value' : 'valhum'}, axis=1, inplace=True)\n",
    "exp.gdf['value'] = 1\n",
    "exp.gdf['impf_FL'] = exp.gdf['se_seismo'].map(vulnerability.DICT_PAGER_FLIMPF_CIMA) "
   ]
  },
  {
   "cell_type": "code",
   "execution_count": null,
   "id": "e25269a9",
   "metadata": {},
   "outputs": [],
   "source": [
    "# compute damage fractions on buildings; keep \"events\", i.e. in case of flood RPs individually\n",
    "impact_bldg = ImpactCalc(exp, vulnerability.IMPF_SET_FL_CIMA, CF_haz_2100).impact(save_mat=True)"
   ]
  },
  {
   "cell_type": "code",
   "execution_count": null,
   "id": "7b348418",
   "metadata": {},
   "outputs": [],
   "source": [
    "# set displacement-damage threshold(s)\n",
    "dmg_thresh_low = 0.3\n",
    "dmg_thresh_med = 0.45\n",
    "dmg_thresh_high = 0.6"
   ]
  },
  {
   "cell_type": "code",
   "execution_count": null,
   "id": "fb17b907",
   "metadata": {},
   "outputs": [],
   "source": [
    "# decide on whether threshold reached\n",
    "displ_low = int(impact_bldg.imp_mat > dmg_thresh_low)\n",
    "displ_med = int(impact_bldg.imp_mat > dmg_thresh_med)\n",
    "displ_high = int(impact_bldg.imp_mat > dmg_thresh_high)"
   ]
  },
  {
   "cell_type": "code",
   "execution_count": null,
   "id": "7e17e77f",
   "metadata": {},
   "outputs": [],
   "source": [
    "# compute displacement impacts (exemplified only for median threshold now); store with gdf. \n",
    "# Problem: this likely blows up memory as 0s are now explicit\n",
    "exp.gdf[['imp_rp1','imp_rp10','imp_rp25','imp_rp100','imp_rp250','imp_rp1000']] = exp.gdf.valhum*displ_med.data"
   ]
  },
  {
   "cell_type": "code",
   "execution_count": null,
   "id": "bb234b1b",
   "metadata": {},
   "outputs": [],
   "source": [
    "# explicitly compute AED agg. for median threshold scenario (others analogous)\n",
    "exp.gdf['aed_med'] = exp.gdf['imp_rp1'] *1 + exp.gdf['imp_rp10'] *1/10 + exp.gdf['imp_rp25']*1/25 + exp.gdf['imp_rp100']*1/100 + exp.gdf['imp_rp250'] *1/250 + exp.gdf['imp_rp1000'] *1/1000"
   ]
  },
  {
   "cell_type": "code",
   "execution_count": null,
   "id": "5663ab31",
   "metadata": {},
   "outputs": [],
   "source": [
    "# aggregate impacts by admin-1\n",
    "exp.gdf['admin1'] = exposure.assign_admin1_attr(exp.gdf.copy(), exposure.path_admin1_attrs, source='gadm')\n",
    "gdf_admin1_imps = exp.gdf.groupby('admin1')[['imp_rp1','imp_rp10','imp_rp25','imp_rp100','imp_rp250','imp_rp1000', 'aed_med']].sum()"
   ]
  },
  {
   "cell_type": "code",
   "execution_count": null,
   "id": "bd946fe6",
   "metadata": {},
   "outputs": [],
   "source": [
    "# aggregate over whole exposure"
   ]
  }
 ],
 "metadata": {
  "kernelspec": {
   "display_name": "Python3.9 (climada_venv)",
   "language": "python",
   "name": "climada_venv"
  },
  "language_info": {
   "codemirror_mode": {
    "name": "ipython",
    "version": 3
   },
   "file_extension": ".py",
   "mimetype": "text/x-python",
   "name": "python",
   "nbconvert_exporter": "python",
   "pygments_lexer": "ipython3",
   "version": "3.9.9"
  }
 },
 "nbformat": 4,
 "nbformat_minor": 5
}
