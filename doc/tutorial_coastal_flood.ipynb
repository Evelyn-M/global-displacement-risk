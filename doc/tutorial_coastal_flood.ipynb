{
 "cells": [
  {
   "cell_type": "markdown",
   "id": "0c35b94f",
   "metadata": {},
   "source": [
    "# Coastal flood hazard for displacement risk modelling"
   ]
  },
  {
   "cell_type": "markdown",
   "id": "0eea6e8a",
   "metadata": {},
   "source": [
    "This tutorial shows how to use the coastal flood hazard return periods maps.\n",
    "\n",
    "Technical specifications for the flood maps.\n",
    "\n",
    "**Flood map:**  \n",
    "Resolution: 1000m x 1000m (approximately)  \n",
    "Horizontal coordinate System: EPSG:4326 - WGS84.  \n",
    "Nodata value: None.  \n",
    "\n",
    "The data is single-banded, where each pixel value denotes the depth of the water in meters.  \n",
    "*** NOTE: Best way to visualize is to clip the raster values from 0.01m to 100m. This will remove 0 values.\n",
    "\n",
    "**Representative concentration pathways (RCP) considered for sea level rise:** RCP2.6, RCP4.5, RCP8.5  \n",
    "**Future years considered for sea level rise:** 2020, 2050, 2100.  \n",
    "**Return periods considered for flood maps:** 1,10,25,50,100,250,1000.   \n",
    "\n",
    "The superfolder specifies the name of our DEM, namely venDEM. venDEM_scaled_1km implies that flood computation was done on finer (30m resolution), after which maps were rescaled to 1km (approximately).  \n",
    "The set of flood maps are partitioned into unit latitude-longitude square tiles inside the superfolder.  \n",
    "For example, S02E040 represents the latitude-longitude tile with bottom left corner at latitude -2 (2S) and longitude 40 (40E).\n",
    "\n",
    "In each folder, there is then a combination of RCP and year, and within each RCP_year folder, there is one tif file per return period for the latitude-longitude tile."
   ]
  },
  {
   "cell_type": "code",
   "execution_count": 1,
   "id": "044df897",
   "metadata": {},
   "outputs": [],
   "source": [
    "import os\n",
    "import pandas as pd\n",
    "import numpy as np\n",
    "\n",
    "os.chdir('/Users/simonameiler/Documents/WCR/Displacement/global-displacement-risk')\n",
    "#os.chdir('/cluster/project/climate/evelynm/global-displacement-risk') # change back to root folder, not \"~/doc\"\n",
    "import coastal_flood_hazard, exposure, vulnerability"
   ]
  },
  {
   "cell_type": "markdown",
   "id": "b5457d15",
   "metadata": {},
   "source": [
    "Select latitude-longitude tiles for country of interest only.\n",
    "\n",
    "First, load exposure and get lat/lon max/mins from it.  \n",
    "Then load the respective flood tiles."
   ]
  },
  {
   "cell_type": "markdown",
   "id": "c79be7a1",
   "metadata": {},
   "source": [
    "## Load exposure from BEM"
   ]
  },
  {
   "cell_type": "code",
   "execution_count": 2,
   "id": "7a7b76a3",
   "metadata": {},
   "outputs": [],
   "source": [
    "from climada.entity.exposures import Exposures"
   ]
  },
  {
   "cell_type": "code",
   "execution_count": 3,
   "id": "fd7aed3f",
   "metadata": {},
   "outputs": [],
   "source": [
    "cntry_name = 'Taiwan'"
   ]
  },
  {
   "cell_type": "code",
   "execution_count": 4,
   "id": "1196c720",
   "metadata": {},
   "outputs": [
    {
     "data": {
      "text/html": [
       "<div>\n",
       "<style scoped>\n",
       "    .dataframe tbody tr th:only-of-type {\n",
       "        vertical-align: middle;\n",
       "    }\n",
       "\n",
       "    .dataframe tbody tr th {\n",
       "        vertical-align: top;\n",
       "    }\n",
       "\n",
       "    .dataframe thead th {\n",
       "        text-align: right;\n",
       "    }\n",
       "</style>\n",
       "<table border=\"1\" class=\"dataframe\">\n",
       "  <thead>\n",
       "    <tr style=\"text-align: right;\">\n",
       "      <th></th>\n",
       "      <th>id_1x</th>\n",
       "      <th>iso3</th>\n",
       "      <th>cpx</th>\n",
       "      <th>sector</th>\n",
       "      <th>se_seismo</th>\n",
       "      <th>valhum</th>\n",
       "      <th>valfis</th>\n",
       "      <th>bd_1_floor</th>\n",
       "      <th>bd_2_floor</th>\n",
       "      <th>bd_3_floor</th>\n",
       "      <th>geometry</th>\n",
       "    </tr>\n",
       "  </thead>\n",
       "  <tbody>\n",
       "    <tr>\n",
       "      <th>0</th>\n",
       "      <td>157348471</td>\n",
       "      <td>TWN</td>\n",
       "      <td>3</td>\n",
       "      <td>beds_priv</td>\n",
       "      <td>W</td>\n",
       "      <td>0.003311</td>\n",
       "      <td>0.000035</td>\n",
       "      <td>51.785</td>\n",
       "      <td>48.215</td>\n",
       "      <td>0.0</td>\n",
       "      <td>POINT (118.42083 24.47917)</td>\n",
       "    </tr>\n",
       "    <tr>\n",
       "      <th>1</th>\n",
       "      <td>157348471</td>\n",
       "      <td>TWN</td>\n",
       "      <td>3</td>\n",
       "      <td>beds_priv</td>\n",
       "      <td>UFB</td>\n",
       "      <td>0.006622</td>\n",
       "      <td>0.000070</td>\n",
       "      <td>51.785</td>\n",
       "      <td>48.215</td>\n",
       "      <td>0.0</td>\n",
       "      <td>POINT (118.42083 24.47917)</td>\n",
       "    </tr>\n",
       "    <tr>\n",
       "      <th>2</th>\n",
       "      <td>157348471</td>\n",
       "      <td>TWN</td>\n",
       "      <td>3</td>\n",
       "      <td>beds_priv</td>\n",
       "      <td>S4M</td>\n",
       "      <td>0.005519</td>\n",
       "      <td>0.000059</td>\n",
       "      <td>51.785</td>\n",
       "      <td>48.215</td>\n",
       "      <td>0.0</td>\n",
       "      <td>POINT (118.42083 24.47917)</td>\n",
       "    </tr>\n",
       "    <tr>\n",
       "      <th>3</th>\n",
       "      <td>157348471</td>\n",
       "      <td>TWN</td>\n",
       "      <td>3</td>\n",
       "      <td>beds_priv</td>\n",
       "      <td>S4L</td>\n",
       "      <td>0.001656</td>\n",
       "      <td>0.000018</td>\n",
       "      <td>51.785</td>\n",
       "      <td>48.215</td>\n",
       "      <td>0.0</td>\n",
       "      <td>POINT (118.42083 24.47917)</td>\n",
       "    </tr>\n",
       "    <tr>\n",
       "      <th>4</th>\n",
       "      <td>157348471</td>\n",
       "      <td>TWN</td>\n",
       "      <td>3</td>\n",
       "      <td>beds_priv</td>\n",
       "      <td>S4H</td>\n",
       "      <td>0.014900</td>\n",
       "      <td>0.000158</td>\n",
       "      <td>51.785</td>\n",
       "      <td>48.215</td>\n",
       "      <td>0.0</td>\n",
       "      <td>POINT (118.42083 24.47917)</td>\n",
       "    </tr>\n",
       "  </tbody>\n",
       "</table>\n",
       "</div>"
      ],
      "text/plain": [
       "       id_1x iso3  cpx     sector se_seismo    valhum    valfis  bd_1_floor  \\\n",
       "0  157348471  TWN    3  beds_priv         W  0.003311  0.000035      51.785   \n",
       "1  157348471  TWN    3  beds_priv       UFB  0.006622  0.000070      51.785   \n",
       "2  157348471  TWN    3  beds_priv       S4M  0.005519  0.000059      51.785   \n",
       "3  157348471  TWN    3  beds_priv       S4L  0.001656  0.000018      51.785   \n",
       "4  157348471  TWN    3  beds_priv       S4H  0.014900  0.000158      51.785   \n",
       "\n",
       "   bd_2_floor  bd_3_floor                    geometry  \n",
       "0      48.215         0.0  POINT (118.42083 24.47917)  \n",
       "1      48.215         0.0  POINT (118.42083 24.47917)  \n",
       "2      48.215         0.0  POINT (118.42083 24.47917)  \n",
       "3      48.215         0.0  POINT (118.42083 24.47917)  \n",
       "4      48.215         0.0  POINT (118.42083 24.47917)  "
      ]
     },
     "execution_count": 4,
     "metadata": {},
     "output_type": "execute_result"
    }
   ],
   "source": [
    "# Load the full dataframe, without further re-aggregation / processing other than adding centroids\n",
    "gdf_bem_subcomps = exposure.gdf_from_bem_subcomps(cntry_name, opt='full')\n",
    "gdf_bem_subcomps.head()"
   ]
  },
  {
   "cell_type": "code",
   "execution_count": 5,
   "id": "f2361b82",
   "metadata": {},
   "outputs": [],
   "source": [
    "# filter and apply impf id\n",
    "gdf_bem_subcomps = gdf_bem_subcomps[gdf_bem_subcomps['valhum']>1] # filter out rows with basically no population\n",
    "gdf_bem_subcomps['impf_FL'] = gdf_bem_subcomps.apply(lambda row: vulnerability.DICT_PAGER_FLIMPF_IVM[row.se_seismo], axis=1)"
   ]
  },
  {
   "cell_type": "code",
   "execution_count": 6,
   "id": "063f2c0b",
   "metadata": {},
   "outputs": [],
   "source": [
    "# replace impf 3 --> 5 for 2-storeys and more\n",
    "gdf_bem_subcomps.loc[((gdf_bem_subcomps.bd_3_floor+gdf_bem_subcomps.bd_2_floor)>0.5)\n",
    "                     &(gdf_bem_subcomps.impf_FL==3), \"impf_FL\"] = 5"
   ]
  },
  {
   "cell_type": "code",
   "execution_count": 7,
   "id": "35eed1ae",
   "metadata": {},
   "outputs": [],
   "source": [
    "# replace impf 4 --> 6 for 2-storeys and more\n",
    "gdf_bem_subcomps.loc[((gdf_bem_subcomps.bd_3_floor+gdf_bem_subcomps.bd_2_floor)>0.5)\n",
    "                     &(gdf_bem_subcomps.impf_FL==4), \"impf_FL\"] = 6"
   ]
  },
  {
   "cell_type": "code",
   "execution_count": 8,
   "id": "aaf636e5",
   "metadata": {},
   "outputs": [],
   "source": [
    "# remove for now unnecessary cols and prepare gdf for CLIMADA Exposure\n",
    "gdf_bem_subcomps.rename({'valhum' : 'value'}, axis=1)\n",
    "for col in ['iso3', 'sector', 'valfis', 'se_seismo']:\n",
    "    gdf_bem_subcomps.pop(col)"
   ]
  },
  {
   "cell_type": "code",
   "execution_count": 9,
   "id": "495caefc",
   "metadata": {},
   "outputs": [
    {
     "data": {
      "text/plain": [
       "39170907.24501941"
      ]
     },
     "execution_count": 9,
     "metadata": {},
     "output_type": "execute_result"
    }
   ],
   "source": [
    "gdf_bem_subcomps.valhum.sum()"
   ]
  },
  {
   "cell_type": "code",
   "execution_count": 10,
   "id": "11ce8158",
   "metadata": {},
   "outputs": [
    {
     "data": {
      "text/html": [
       "<div>\n",
       "<style scoped>\n",
       "    .dataframe tbody tr th:only-of-type {\n",
       "        vertical-align: middle;\n",
       "    }\n",
       "\n",
       "    .dataframe tbody tr th {\n",
       "        vertical-align: top;\n",
       "    }\n",
       "\n",
       "    .dataframe thead th {\n",
       "        text-align: right;\n",
       "    }\n",
       "</style>\n",
       "<table border=\"1\" class=\"dataframe\">\n",
       "  <thead>\n",
       "    <tr style=\"text-align: right;\">\n",
       "      <th></th>\n",
       "      <th>id_1x</th>\n",
       "      <th>cpx</th>\n",
       "      <th>value</th>\n",
       "      <th>bd_1_floor</th>\n",
       "      <th>bd_2_floor</th>\n",
       "      <th>bd_3_floor</th>\n",
       "      <th>geometry</th>\n",
       "      <th>impf_FL</th>\n",
       "      <th>longitude</th>\n",
       "      <th>latitude</th>\n",
       "    </tr>\n",
       "  </thead>\n",
       "  <tbody>\n",
       "    <tr>\n",
       "      <th>56</th>\n",
       "      <td>157350270</td>\n",
       "      <td>3</td>\n",
       "      <td>3.203340</td>\n",
       "      <td>66.665</td>\n",
       "      <td>33.335</td>\n",
       "      <td>0.0</td>\n",
       "      <td>POINT (118.45417 24.47083)</td>\n",
       "      <td>6</td>\n",
       "      <td>118.454167</td>\n",
       "      <td>24.470833</td>\n",
       "    </tr>\n",
       "    <tr>\n",
       "      <th>57</th>\n",
       "      <td>157350270</td>\n",
       "      <td>3</td>\n",
       "      <td>4.835457</td>\n",
       "      <td>66.665</td>\n",
       "      <td>33.335</td>\n",
       "      <td>0.0</td>\n",
       "      <td>POINT (118.45417 24.47083)</td>\n",
       "      <td>6</td>\n",
       "      <td>118.454167</td>\n",
       "      <td>24.470833</td>\n",
       "    </tr>\n",
       "    <tr>\n",
       "      <th>58</th>\n",
       "      <td>157350270</td>\n",
       "      <td>3</td>\n",
       "      <td>5.618275</td>\n",
       "      <td>66.665</td>\n",
       "      <td>33.335</td>\n",
       "      <td>0.0</td>\n",
       "      <td>POINT (118.45417 24.47083)</td>\n",
       "      <td>6</td>\n",
       "      <td>118.454167</td>\n",
       "      <td>24.470833</td>\n",
       "    </tr>\n",
       "    <tr>\n",
       "      <th>80</th>\n",
       "      <td>157350270</td>\n",
       "      <td>3</td>\n",
       "      <td>4.031061</td>\n",
       "      <td>66.665</td>\n",
       "      <td>33.335</td>\n",
       "      <td>0.0</td>\n",
       "      <td>POINT (118.45417 24.47083)</td>\n",
       "      <td>6</td>\n",
       "      <td>118.454167</td>\n",
       "      <td>24.470833</td>\n",
       "    </tr>\n",
       "    <tr>\n",
       "      <th>81</th>\n",
       "      <td>157350270</td>\n",
       "      <td>3</td>\n",
       "      <td>6.084906</td>\n",
       "      <td>66.665</td>\n",
       "      <td>33.335</td>\n",
       "      <td>0.0</td>\n",
       "      <td>POINT (118.45417 24.47083)</td>\n",
       "      <td>6</td>\n",
       "      <td>118.454167</td>\n",
       "      <td>24.470833</td>\n",
       "    </tr>\n",
       "  </tbody>\n",
       "</table>\n",
       "</div>"
      ],
      "text/plain": [
       "        id_1x  cpx     value  bd_1_floor  bd_2_floor  bd_3_floor  \\\n",
       "56  157350270    3  3.203340      66.665      33.335         0.0   \n",
       "57  157350270    3  4.835457      66.665      33.335         0.0   \n",
       "58  157350270    3  5.618275      66.665      33.335         0.0   \n",
       "80  157350270    3  4.031061      66.665      33.335         0.0   \n",
       "81  157350270    3  6.084906      66.665      33.335         0.0   \n",
       "\n",
       "                      geometry  impf_FL   longitude   latitude  \n",
       "56  POINT (118.45417 24.47083)        6  118.454167  24.470833  \n",
       "57  POINT (118.45417 24.47083)        6  118.454167  24.470833  \n",
       "58  POINT (118.45417 24.47083)        6  118.454167  24.470833  \n",
       "80  POINT (118.45417 24.47083)        6  118.454167  24.470833  \n",
       "81  POINT (118.45417 24.47083)        6  118.454167  24.470833  "
      ]
     },
     "execution_count": 10,
     "metadata": {},
     "output_type": "execute_result"
    }
   ],
   "source": [
    "exp = Exposures(gdf_bem_subcomps)\n",
    "exp.gdf.rename({'valhum': 'value'}, axis=1, inplace=True)\n",
    "exp.value_unit = 'Pop. count'\n",
    "exp.gdf['longitude'] = exp.gdf.geometry.x\n",
    "exp.gdf['latitude'] = exp.gdf.geometry.y\n",
    "exp.gdf = exp.gdf[~np.isnan(\n",
    "    exp.gdf.latitude)]  # drop nan centroids\n",
    "exp.gdf.head()"
   ]
  },
  {
   "cell_type": "markdown",
   "id": "085028a8",
   "metadata": {},
   "source": [
    "#### Get lat/lon min/max from exposure"
   ]
  },
  {
   "cell_type": "code",
   "execution_count": 11,
   "id": "fd3b9a93",
   "metadata": {},
   "outputs": [],
   "source": [
    "lat_min, lat_max, lon_min, lon_max = exp.gdf['latitude'].min(), exp.gdf['latitude'].max(), exp.gdf['longitude'].min(), exp.gdf['longitude'].max()"
   ]
  },
  {
   "cell_type": "code",
   "execution_count": 12,
   "id": "81e94d0f",
   "metadata": {},
   "outputs": [
    {
     "data": {
      "text/plain": [
       "(21.912500005759863, 25.27916667242634, 118.28749999999884, 122.00416666666847)"
      ]
     },
     "execution_count": 12,
     "metadata": {},
     "output_type": "execute_result"
    }
   ],
   "source": [
    "lat_min, lat_max, lon_min, lon_max"
   ]
  },
  {
   "cell_type": "markdown",
   "id": "3563c3de",
   "metadata": {},
   "source": [
    "## Load hazard maps for all tiles covering the lat/lon extent of exposure"
   ]
  },
  {
   "cell_type": "code",
   "execution_count": 13,
   "id": "55d5125f",
   "metadata": {},
   "outputs": [],
   "source": [
    "from climada.util.constants import SYSTEM_DIR\n",
    "hazard_dir = SYSTEM_DIR/\"hazard\"/\"coastal_flood\"/\"venDEM_scaled_1km\""
   ]
  },
  {
   "cell_type": "code",
   "execution_count": 14,
   "id": "2131afd0",
   "metadata": {},
   "outputs": [],
   "source": [
    "# get tiles covering the exposure extent\n",
    "tiles = coastal_flood_hazard.find_tiles(lat_min, lat_max, lon_min, lon_max)"
   ]
  },
  {
   "cell_type": "code",
   "execution_count": 15,
   "id": "f3972a28",
   "metadata": {},
   "outputs": [
    {
     "data": {
      "text/plain": [
       "['N21E118',\n",
       " 'N21E119',\n",
       " 'N21E120',\n",
       " 'N21E121',\n",
       " 'N21E122',\n",
       " 'N22E118',\n",
       " 'N22E119',\n",
       " 'N22E120',\n",
       " 'N22E121',\n",
       " 'N22E122',\n",
       " 'N23E118',\n",
       " 'N23E119',\n",
       " 'N23E120',\n",
       " 'N23E121',\n",
       " 'N23E122',\n",
       " 'N24E118',\n",
       " 'N24E119',\n",
       " 'N24E120',\n",
       " 'N24E121',\n",
       " 'N24E122',\n",
       " 'N25E118',\n",
       " 'N25E119',\n",
       " 'N25E120',\n",
       " 'N25E121',\n",
       " 'N25E122']"
      ]
     },
     "execution_count": 15,
     "metadata": {},
     "output_type": "execute_result"
    }
   ],
   "source": [
    "tiles"
   ]
  },
  {
   "cell_type": "code",
   "execution_count": 16,
   "id": "aa08a406",
   "metadata": {},
   "outputs": [
    {
     "name": "stdout",
     "output_type": "stream",
     "text": [
      "Tile directory /Users/simonameiler/climada/data/hazard/coastal_flood/venDEM_scaled_1km/N21E118/RCP45_2020 not found, skipping...\n",
      "Tile directory /Users/simonameiler/climada/data/hazard/coastal_flood/venDEM_scaled_1km/N21E119/RCP45_2020 not found, skipping...\n",
      "Tile directory /Users/simonameiler/climada/data/hazard/coastal_flood/venDEM_scaled_1km/N22E118/RCP45_2020 not found, skipping...\n",
      "Tile directory /Users/simonameiler/climada/data/hazard/coastal_flood/venDEM_scaled_1km/N22E122/RCP45_2020 not found, skipping...\n"
     ]
    },
    {
     "ename": "ValueError",
     "evalue": "Cannot determine common CRS for concatenation inputs, got ['WGS 84', 'WGS 84']. Use `to_crs()` to transform geometries to the same CRS before merging.",
     "output_type": "error",
     "traceback": [
      "\u001b[0;31m---------------------------------------------------------------------------\u001b[0m",
      "\u001b[0;31mValueError\u001b[0m                                Traceback (most recent call last)",
      "Cell \u001b[0;32mIn[16], line 1\u001b[0m\n\u001b[0;32m----> 1\u001b[0m CF_haz_2020 \u001b[38;5;241m=\u001b[39m \u001b[43mcoastal_flood_hazard\u001b[49m\u001b[38;5;241;43m.\u001b[39;49m\u001b[43mgenerate_hazard_object\u001b[49m\u001b[43m(\u001b[49m\u001b[43mtiles\u001b[49m\u001b[43m,\u001b[49m\u001b[43m \u001b[49m\u001b[43mhazard_dir\u001b[49m\u001b[43m,\u001b[49m\u001b[43m \u001b[49m\u001b[38;5;124;43m'\u001b[39;49m\u001b[38;5;124;43mRCP45\u001b[39;49m\u001b[38;5;124;43m'\u001b[39;49m\u001b[43m,\u001b[49m\u001b[43m \u001b[49m\u001b[38;5;124;43m'\u001b[39;49m\u001b[38;5;124;43m2020\u001b[39;49m\u001b[38;5;124;43m'\u001b[39;49m\u001b[43m,\u001b[49m\u001b[43m \u001b[49m\u001b[38;5;124;43m'\u001b[39;49m\u001b[38;5;124;43mFL\u001b[39;49m\u001b[38;5;124;43m'\u001b[39;49m\u001b[43m)\u001b[49m\n",
      "File \u001b[0;32m~/Documents/WCR/Displacement/global-displacement-risk/coastal_flood_hazard.py:99\u001b[0m, in \u001b[0;36mgenerate_hazard_object\u001b[0;34m(tiles, root_dir, selected_rcp, selected_year, HAZ_TYPE)\u001b[0m\n\u001b[1;32m     97\u001b[0m \u001b[38;5;66;03m# Concatenate all Hazard objects into a single combined Hazard object, if any were created\u001b[39;00m\n\u001b[1;32m     98\u001b[0m \u001b[38;5;28;01mif\u001b[39;00m hazards:\n\u001b[0;32m---> 99\u001b[0m     combined_hazard \u001b[38;5;241m=\u001b[39m \u001b[43mHazard\u001b[49m\u001b[38;5;241;43m.\u001b[39;49m\u001b[43mconcat\u001b[49m\u001b[43m(\u001b[49m\u001b[43mhazards\u001b[49m\u001b[43m)\u001b[49m\n\u001b[1;32m    100\u001b[0m     \u001b[38;5;28;01mreturn\u001b[39;00m combined_hazard\n\u001b[1;32m    101\u001b[0m \u001b[38;5;28;01melse\u001b[39;00m:\n",
      "File \u001b[0;32m~/Documents/WCR/CLIMADA_develop/climada_python/climada/hazard/base.py:2216\u001b[0m, in \u001b[0;36mHazard.concat\u001b[0;34m(cls, haz_list)\u001b[0m\n\u001b[1;32m   2213\u001b[0m     \u001b[38;5;28;01mif\u001b[39;00m \u001b[38;5;129;01mnot\u001b[39;00m (\u001b[38;5;28misinstance\u001b[39m(attr_val, (\u001b[38;5;28mlist\u001b[39m, np\u001b[38;5;241m.\u001b[39mndarray, sparse\u001b[38;5;241m.\u001b[39mcsr_matrix))\n\u001b[1;32m   2214\u001b[0m             \u001b[38;5;129;01mor\u001b[39;00m attr_name \u001b[38;5;129;01min\u001b[39;00m [\u001b[38;5;124m\"\u001b[39m\u001b[38;5;124mcentroids\u001b[39m\u001b[38;5;124m\"\u001b[39m]):\n\u001b[1;32m   2215\u001b[0m         \u001b[38;5;28msetattr\u001b[39m(haz_concat, attr_name, copy\u001b[38;5;241m.\u001b[39mdeepcopy(attr_val))\n\u001b[0;32m-> 2216\u001b[0m \u001b[43mhaz_concat\u001b[49m\u001b[38;5;241;43m.\u001b[39;49m\u001b[43mappend\u001b[49m\u001b[43m(\u001b[49m\u001b[38;5;241;43m*\u001b[39;49m\u001b[43mhaz_list\u001b[49m\u001b[43m)\u001b[49m\n\u001b[1;32m   2217\u001b[0m \u001b[38;5;28;01mreturn\u001b[39;00m haz_concat\n",
      "File \u001b[0;32m~/Documents/WCR/CLIMADA_develop/climada_python/climada/hazard/base.py:2147\u001b[0m, in \u001b[0;36mHazard.append\u001b[0;34m(self, *others)\u001b[0m\n\u001b[1;32m   2143\u001b[0m         \u001b[38;5;28;01mraise\u001b[39;00m \u001b[38;5;167;01mValueError\u001b[39;00m(\u001b[38;5;124mf\u001b[39m\u001b[38;5;124m\"\u001b[39m\u001b[38;5;124mAttribute \u001b[39m\u001b[38;5;132;01m{\u001b[39;00mattr_name\u001b[38;5;132;01m}\u001b[39;00m\u001b[38;5;124m is not shared by all hazards. \u001b[39m\u001b[38;5;124m\"\u001b[39m\n\u001b[1;32m   2144\u001b[0m                          \u001b[38;5;124m\"\u001b[39m\u001b[38;5;124mThe hazards are incompatible and cannot be concatenated.\u001b[39m\u001b[38;5;124m\"\u001b[39m)\n\u001b[1;32m   2146\u001b[0m \u001b[38;5;66;03m# map individual centroids objects to union\u001b[39;00m\n\u001b[0;32m-> 2147\u001b[0m centroids \u001b[38;5;241m=\u001b[39m \u001b[43mCentroids\u001b[49m\u001b[38;5;241;43m.\u001b[39;49m\u001b[43munion\u001b[49m\u001b[43m(\u001b[49m\u001b[38;5;241;43m*\u001b[39;49m\u001b[43m[\u001b[49m\u001b[43mhaz\u001b[49m\u001b[38;5;241;43m.\u001b[39;49m\u001b[43mcentroids\u001b[49m\u001b[43m \u001b[49m\u001b[38;5;28;43;01mfor\u001b[39;49;00m\u001b[43m \u001b[49m\u001b[43mhaz\u001b[49m\u001b[43m \u001b[49m\u001b[38;5;129;43;01min\u001b[39;49;00m\u001b[43m \u001b[49m\u001b[43mhaz_list\u001b[49m\u001b[43m]\u001b[49m\u001b[43m)\u001b[49m\n\u001b[1;32m   2148\u001b[0m hazcent_in_cent_idx_list \u001b[38;5;241m=\u001b[39m [\n\u001b[1;32m   2149\u001b[0m     u_coord\u001b[38;5;241m.\u001b[39mmatch_coordinates(haz\u001b[38;5;241m.\u001b[39mcentroids\u001b[38;5;241m.\u001b[39mcoord, centroids\u001b[38;5;241m.\u001b[39mcoord, threshold\u001b[38;5;241m=\u001b[39m\u001b[38;5;241m0\u001b[39m)\n\u001b[1;32m   2150\u001b[0m     \u001b[38;5;28;01mfor\u001b[39;00m haz \u001b[38;5;129;01min\u001b[39;00m haz_list_nonempty\n\u001b[1;32m   2151\u001b[0m ]\n\u001b[1;32m   2153\u001b[0m \u001b[38;5;66;03m# concatenate array and list attributes of non-empty hazards\u001b[39;00m\n",
      "File \u001b[0;32m~/Documents/WCR/CLIMADA_develop/climada_python/climada/hazard/centroids/centr.py:391\u001b[0m, in \u001b[0;36mCentroids.union\u001b[0;34m(self, *others)\u001b[0m\n\u001b[1;32m    389\u001b[0m centroids \u001b[38;5;241m=\u001b[39m copy\u001b[38;5;241m.\u001b[39mdeepcopy(\u001b[38;5;28mself\u001b[39m)\n\u001b[1;32m    390\u001b[0m \u001b[38;5;28;01mfor\u001b[39;00m cent \u001b[38;5;129;01min\u001b[39;00m others:\n\u001b[0;32m--> 391\u001b[0m     \u001b[43mcentroids\u001b[49m\u001b[38;5;241;43m.\u001b[39;49m\u001b[43mappend\u001b[49m\u001b[43m(\u001b[49m\u001b[43mcent\u001b[49m\u001b[43m)\u001b[49m\n\u001b[1;32m    392\u001b[0m \u001b[38;5;28;01mreturn\u001b[39;00m centroids\u001b[38;5;241m.\u001b[39mremove_duplicate_points()\n",
      "File \u001b[0;32m~/Documents/WCR/CLIMADA_develop/climada_python/climada/hazard/centroids/centr.py:371\u001b[0m, in \u001b[0;36mCentroids.append\u001b[0;34m(self, centr)\u001b[0m\n\u001b[1;32m    367\u001b[0m \u001b[38;5;28;01mif\u001b[39;00m \u001b[38;5;129;01mnot\u001b[39;00m u_coord\u001b[38;5;241m.\u001b[39mequal_crs(\u001b[38;5;28mself\u001b[39m\u001b[38;5;241m.\u001b[39mcrs, centr\u001b[38;5;241m.\u001b[39mcrs):\n\u001b[1;32m    368\u001b[0m     \u001b[38;5;28;01mraise\u001b[39;00m \u001b[38;5;167;01mValueError\u001b[39;00m(\n\u001b[1;32m    369\u001b[0m         \u001b[38;5;124m\"\u001b[39m\u001b[38;5;124mThe centroids have different Coordinate-Reference-Systems (CRS)\u001b[39m\u001b[38;5;124m\"\u001b[39m\n\u001b[1;32m    370\u001b[0m     )\n\u001b[0;32m--> 371\u001b[0m \u001b[38;5;28mself\u001b[39m\u001b[38;5;241m.\u001b[39mgdf \u001b[38;5;241m=\u001b[39m \u001b[43mpd\u001b[49m\u001b[38;5;241;43m.\u001b[39;49m\u001b[43mconcat\u001b[49m\u001b[43m(\u001b[49m\u001b[43m[\u001b[49m\u001b[38;5;28;43mself\u001b[39;49m\u001b[38;5;241;43m.\u001b[39;49m\u001b[43mgdf\u001b[49m\u001b[43m,\u001b[49m\u001b[43m \u001b[49m\u001b[43mcentr\u001b[49m\u001b[38;5;241;43m.\u001b[39;49m\u001b[43mgdf\u001b[49m\u001b[43m]\u001b[49m\u001b[43m)\u001b[49m\n",
      "File \u001b[0;32m~/opt/anaconda3/envs/climada_env/lib/python3.9/site-packages/pandas/util/_decorators.py:331\u001b[0m, in \u001b[0;36mdeprecate_nonkeyword_arguments.<locals>.decorate.<locals>.wrapper\u001b[0;34m(*args, **kwargs)\u001b[0m\n\u001b[1;32m    325\u001b[0m \u001b[38;5;28;01mif\u001b[39;00m \u001b[38;5;28mlen\u001b[39m(args) \u001b[38;5;241m>\u001b[39m num_allow_args:\n\u001b[1;32m    326\u001b[0m     warnings\u001b[38;5;241m.\u001b[39mwarn(\n\u001b[1;32m    327\u001b[0m         msg\u001b[38;5;241m.\u001b[39mformat(arguments\u001b[38;5;241m=\u001b[39m_format_argument_list(allow_args)),\n\u001b[1;32m    328\u001b[0m         \u001b[38;5;167;01mFutureWarning\u001b[39;00m,\n\u001b[1;32m    329\u001b[0m         stacklevel\u001b[38;5;241m=\u001b[39mfind_stack_level(),\n\u001b[1;32m    330\u001b[0m     )\n\u001b[0;32m--> 331\u001b[0m \u001b[38;5;28;01mreturn\u001b[39;00m \u001b[43mfunc\u001b[49m\u001b[43m(\u001b[49m\u001b[38;5;241;43m*\u001b[39;49m\u001b[43margs\u001b[49m\u001b[43m,\u001b[49m\u001b[43m \u001b[49m\u001b[38;5;241;43m*\u001b[39;49m\u001b[38;5;241;43m*\u001b[39;49m\u001b[43mkwargs\u001b[49m\u001b[43m)\u001b[49m\n",
      "File \u001b[0;32m~/opt/anaconda3/envs/climada_env/lib/python3.9/site-packages/pandas/core/reshape/concat.py:381\u001b[0m, in \u001b[0;36mconcat\u001b[0;34m(objs, axis, join, ignore_index, keys, levels, names, verify_integrity, sort, copy)\u001b[0m\n\u001b[1;32m    159\u001b[0m \u001b[38;5;250m\u001b[39m\u001b[38;5;124;03m\"\"\"\u001b[39;00m\n\u001b[1;32m    160\u001b[0m \u001b[38;5;124;03mConcatenate pandas objects along a particular axis.\u001b[39;00m\n\u001b[1;32m    161\u001b[0m \n\u001b[0;32m   (...)\u001b[0m\n\u001b[1;32m    366\u001b[0m \u001b[38;5;124;03m1   3   4\u001b[39;00m\n\u001b[1;32m    367\u001b[0m \u001b[38;5;124;03m\"\"\"\u001b[39;00m\n\u001b[1;32m    368\u001b[0m op \u001b[38;5;241m=\u001b[39m _Concatenator(\n\u001b[1;32m    369\u001b[0m     objs,\n\u001b[1;32m    370\u001b[0m     axis\u001b[38;5;241m=\u001b[39maxis,\n\u001b[0;32m   (...)\u001b[0m\n\u001b[1;32m    378\u001b[0m     sort\u001b[38;5;241m=\u001b[39msort,\n\u001b[1;32m    379\u001b[0m )\n\u001b[0;32m--> 381\u001b[0m \u001b[38;5;28;01mreturn\u001b[39;00m \u001b[43mop\u001b[49m\u001b[38;5;241;43m.\u001b[39;49m\u001b[43mget_result\u001b[49m\u001b[43m(\u001b[49m\u001b[43m)\u001b[49m\n",
      "File \u001b[0;32m~/opt/anaconda3/envs/climada_env/lib/python3.9/site-packages/pandas/core/reshape/concat.py:616\u001b[0m, in \u001b[0;36m_Concatenator.get_result\u001b[0;34m(self)\u001b[0m\n\u001b[1;32m    612\u001b[0m             indexers[ax] \u001b[38;5;241m=\u001b[39m obj_labels\u001b[38;5;241m.\u001b[39mget_indexer(new_labels)\n\u001b[1;32m    614\u001b[0m     mgrs_indexers\u001b[38;5;241m.\u001b[39mappend((obj\u001b[38;5;241m.\u001b[39m_mgr, indexers))\n\u001b[0;32m--> 616\u001b[0m new_data \u001b[38;5;241m=\u001b[39m \u001b[43mconcatenate_managers\u001b[49m\u001b[43m(\u001b[49m\n\u001b[1;32m    617\u001b[0m \u001b[43m    \u001b[49m\u001b[43mmgrs_indexers\u001b[49m\u001b[43m,\u001b[49m\u001b[43m \u001b[49m\u001b[38;5;28;43mself\u001b[39;49m\u001b[38;5;241;43m.\u001b[39;49m\u001b[43mnew_axes\u001b[49m\u001b[43m,\u001b[49m\u001b[43m \u001b[49m\u001b[43mconcat_axis\u001b[49m\u001b[38;5;241;43m=\u001b[39;49m\u001b[38;5;28;43mself\u001b[39;49m\u001b[38;5;241;43m.\u001b[39;49m\u001b[43mbm_axis\u001b[49m\u001b[43m,\u001b[49m\u001b[43m \u001b[49m\u001b[43mcopy\u001b[49m\u001b[38;5;241;43m=\u001b[39;49m\u001b[38;5;28;43mself\u001b[39;49m\u001b[38;5;241;43m.\u001b[39;49m\u001b[43mcopy\u001b[49m\n\u001b[1;32m    618\u001b[0m \u001b[43m\u001b[49m\u001b[43m)\u001b[49m\n\u001b[1;32m    619\u001b[0m \u001b[38;5;28;01mif\u001b[39;00m \u001b[38;5;129;01mnot\u001b[39;00m \u001b[38;5;28mself\u001b[39m\u001b[38;5;241m.\u001b[39mcopy:\n\u001b[1;32m    620\u001b[0m     new_data\u001b[38;5;241m.\u001b[39m_consolidate_inplace()\n",
      "File \u001b[0;32m~/opt/anaconda3/envs/climada_env/lib/python3.9/site-packages/pandas/core/internals/concat.py:226\u001b[0m, in \u001b[0;36mconcatenate_managers\u001b[0;34m(mgrs_indexers, axes, concat_axis, copy)\u001b[0m\n\u001b[1;32m    223\u001b[0m     values \u001b[38;5;241m=\u001b[39m np\u001b[38;5;241m.\u001b[39mconcatenate(vals, axis\u001b[38;5;241m=\u001b[39m\u001b[38;5;241m1\u001b[39m)\n\u001b[1;32m    224\u001b[0m \u001b[38;5;28;01melse\u001b[39;00m:\n\u001b[1;32m    225\u001b[0m     \u001b[38;5;66;03m# TODO(EA2D): special-casing not needed with 2D EAs\u001b[39;00m\n\u001b[0;32m--> 226\u001b[0m     values \u001b[38;5;241m=\u001b[39m \u001b[43mconcat_compat\u001b[49m\u001b[43m(\u001b[49m\u001b[43mvals\u001b[49m\u001b[43m,\u001b[49m\u001b[43m \u001b[49m\u001b[43maxis\u001b[49m\u001b[38;5;241;43m=\u001b[39;49m\u001b[38;5;241;43m1\u001b[39;49m\u001b[43m)\u001b[49m\n\u001b[1;32m    227\u001b[0m     values \u001b[38;5;241m=\u001b[39m ensure_block_shape(values, ndim\u001b[38;5;241m=\u001b[39m\u001b[38;5;241m2\u001b[39m)\n\u001b[1;32m    229\u001b[0m values \u001b[38;5;241m=\u001b[39m ensure_wrapped_if_datetimelike(values)\n",
      "File \u001b[0;32m~/opt/anaconda3/envs/climada_env/lib/python3.9/site-packages/pandas/core/dtypes/concat.py:133\u001b[0m, in \u001b[0;36mconcat_compat\u001b[0;34m(to_concat, axis, ea_compat_axis)\u001b[0m\n\u001b[1;32m    130\u001b[0m \u001b[38;5;28;01mif\u001b[39;00m \u001b[38;5;28misinstance\u001b[39m(to_concat[\u001b[38;5;241m0\u001b[39m], ABCExtensionArray):\n\u001b[1;32m    131\u001b[0m     \u001b[38;5;66;03m# TODO: what about EA-backed Index?\u001b[39;00m\n\u001b[1;32m    132\u001b[0m     \u001b[38;5;28mcls\u001b[39m \u001b[38;5;241m=\u001b[39m \u001b[38;5;28mtype\u001b[39m(to_concat[\u001b[38;5;241m0\u001b[39m])\n\u001b[0;32m--> 133\u001b[0m     \u001b[38;5;28;01mreturn\u001b[39;00m \u001b[38;5;28;43mcls\u001b[39;49m\u001b[38;5;241;43m.\u001b[39;49m\u001b[43m_concat_same_type\u001b[49m\u001b[43m(\u001b[49m\u001b[43mto_concat\u001b[49m\u001b[43m)\u001b[49m\n\u001b[1;32m    134\u001b[0m \u001b[38;5;28;01melse\u001b[39;00m:\n\u001b[1;32m    135\u001b[0m     \u001b[38;5;28;01mreturn\u001b[39;00m np\u001b[38;5;241m.\u001b[39mconcatenate(to_concat)\n",
      "File \u001b[0;32m~/opt/anaconda3/envs/climada_env/lib/python3.9/site-packages/geopandas/array.py:1401\u001b[0m, in \u001b[0;36mGeometryArray._concat_same_type\u001b[0;34m(cls, to_concat)\u001b[0m\n\u001b[1;32m   1389\u001b[0m \u001b[38;5;250m\u001b[39m\u001b[38;5;124;03m\"\"\"\u001b[39;00m\n\u001b[1;32m   1390\u001b[0m \u001b[38;5;124;03mConcatenate multiple array\u001b[39;00m\n\u001b[1;32m   1391\u001b[0m \n\u001b[0;32m   (...)\u001b[0m\n\u001b[1;32m   1398\u001b[0m \u001b[38;5;124;03mExtensionArray\u001b[39;00m\n\u001b[1;32m   1399\u001b[0m \u001b[38;5;124;03m\"\"\"\u001b[39;00m\n\u001b[1;32m   1400\u001b[0m data \u001b[38;5;241m=\u001b[39m np\u001b[38;5;241m.\u001b[39mconcatenate([ga\u001b[38;5;241m.\u001b[39m_data \u001b[38;5;28;01mfor\u001b[39;00m ga \u001b[38;5;129;01min\u001b[39;00m to_concat])\n\u001b[0;32m-> 1401\u001b[0m \u001b[38;5;28;01mreturn\u001b[39;00m GeometryArray(data, crs\u001b[38;5;241m=\u001b[39m\u001b[43m_get_common_crs\u001b[49m\u001b[43m(\u001b[49m\u001b[43mto_concat\u001b[49m\u001b[43m)\u001b[49m)\n",
      "File \u001b[0;32m~/opt/anaconda3/envs/climada_env/lib/python3.9/site-packages/geopandas/array.py:1493\u001b[0m, in \u001b[0;36m_get_common_crs\u001b[0;34m(arr_seq)\u001b[0m\n\u001b[1;32m   1486\u001b[0m         warnings\u001b[38;5;241m.\u001b[39mwarn(\n\u001b[1;32m   1487\u001b[0m             \u001b[38;5;124m\"\u001b[39m\u001b[38;5;124mCRS not set for some of the concatenation inputs. \u001b[39m\u001b[38;5;124m\"\u001b[39m\n\u001b[1;32m   1488\u001b[0m             \u001b[38;5;124mf\u001b[39m\u001b[38;5;124m\"\u001b[39m\u001b[38;5;124mSetting output\u001b[39m\u001b[38;5;124m'\u001b[39m\u001b[38;5;124ms CRS as \u001b[39m\u001b[38;5;132;01m{\u001b[39;00mnames[\u001b[38;5;241m0\u001b[39m]\u001b[38;5;132;01m}\u001b[39;00m\u001b[38;5;124m \u001b[39m\u001b[38;5;124m\"\u001b[39m\n\u001b[1;32m   1489\u001b[0m             \u001b[38;5;124m\"\u001b[39m\u001b[38;5;124m(the single non-null crs provided).\u001b[39m\u001b[38;5;124m\"\u001b[39m\n\u001b[1;32m   1490\u001b[0m         )\n\u001b[1;32m   1491\u001b[0m     \u001b[38;5;28;01mreturn\u001b[39;00m crs_not_none[\u001b[38;5;241m0\u001b[39m]\n\u001b[0;32m-> 1493\u001b[0m \u001b[38;5;28;01mraise\u001b[39;00m \u001b[38;5;167;01mValueError\u001b[39;00m(\n\u001b[1;32m   1494\u001b[0m     \u001b[38;5;124mf\u001b[39m\u001b[38;5;124m\"\u001b[39m\u001b[38;5;124mCannot determine common CRS for concatenation inputs, got \u001b[39m\u001b[38;5;132;01m{\u001b[39;00mnames\u001b[38;5;132;01m}\u001b[39;00m\u001b[38;5;124m. \u001b[39m\u001b[38;5;124m\"\u001b[39m\n\u001b[1;32m   1495\u001b[0m     \u001b[38;5;124m\"\u001b[39m\u001b[38;5;124mUse `to_crs()` to transform geometries to the same CRS before merging.\u001b[39m\u001b[38;5;124m\"\u001b[39m\n\u001b[1;32m   1496\u001b[0m )\n",
      "\u001b[0;31mValueError\u001b[0m: Cannot determine common CRS for concatenation inputs, got ['WGS 84', 'WGS 84']. Use `to_crs()` to transform geometries to the same CRS before merging."
     ]
    }
   ],
   "source": [
    "CF_haz_2020 = coastal_flood_hazard.generate_hazard_object(tiles, hazard_dir, 'RCP45', '2020', 'FL')"
   ]
  },
  {
   "cell_type": "code",
   "execution_count": null,
   "id": "cf7b37c2",
   "metadata": {},
   "outputs": [],
   "source": [
    "CF_haz_2020.intensity"
   ]
  },
  {
   "cell_type": "code",
   "execution_count": null,
   "id": "c4cb386b",
   "metadata": {},
   "outputs": [],
   "source": [
    "CF_haz_2020.centroids.plot()"
   ]
  },
  {
   "cell_type": "code",
   "execution_count": null,
   "id": "5002740d",
   "metadata": {},
   "outputs": [],
   "source": [
    "CF_haz_2020.plot_intensity(event=0)"
   ]
  },
  {
   "cell_type": "code",
   "execution_count": null,
   "id": "8e6dacb0",
   "metadata": {},
   "outputs": [],
   "source": [
    "import matplotlib.pyplot as plt\n",
    "import cartopy.crs as ccrs\n",
    "\n",
    "fig, ax = plt.subplots(figsize=(8, 6), subplot_kw={'projection': ccrs.PlateCarree()})\n",
    "CF_haz_2020.plot_intensity(event=0, axis=ax)\n",
    "\n",
    "plt.show()\n"
   ]
  },
  {
   "cell_type": "code",
   "execution_count": null,
   "id": "64f5d433",
   "metadata": {},
   "outputs": [],
   "source": [
    "CF_haz_2020.intensity.max(axis=1).data"
   ]
  },
  {
   "cell_type": "code",
   "execution_count": null,
   "id": "ce977741",
   "metadata": {},
   "outputs": [],
   "source": [
    "CF_haz_2050 = coastal_flood_hazard.generate_hazard_object(tiles, hazard_dir, 'RCP45', '2050', 'FL')"
   ]
  },
  {
   "cell_type": "code",
   "execution_count": null,
   "id": "c8fb1356",
   "metadata": {
    "scrolled": false
   },
   "outputs": [],
   "source": [
    "CF_haz_2050.plot_intensity(event=0)"
   ]
  },
  {
   "cell_type": "code",
   "execution_count": null,
   "id": "b30d3cc6",
   "metadata": {},
   "outputs": [],
   "source": [
    "CF_haz_2100 = coastal_flood_hazard.generate_hazard_object(tiles, hazard_dir, 'RCP45', '2100', 'FL')"
   ]
  },
  {
   "cell_type": "code",
   "execution_count": null,
   "id": "b225bf87",
   "metadata": {},
   "outputs": [],
   "source": [
    "CF_haz_2100.plot_intensity(event=0)"
   ]
  },
  {
   "cell_type": "code",
   "execution_count": null,
   "id": "856bb8bc",
   "metadata": {},
   "outputs": [],
   "source": [
    "CF_haz_2050.intensity"
   ]
  },
  {
   "cell_type": "code",
   "execution_count": null,
   "id": "05ecfc18",
   "metadata": {},
   "outputs": [],
   "source": [
    "CF_haz_2020.frequency.size"
   ]
  },
  {
   "cell_type": "code",
   "execution_count": null,
   "id": "ce66e545",
   "metadata": {},
   "outputs": [],
   "source": [
    "CF_haz_2020.event_id"
   ]
  },
  {
   "cell_type": "markdown",
   "id": "5fea35c7",
   "metadata": {},
   "source": [
    "### Question:\n",
    "Is it a problem that event_id and event_name are \"sanitized\" and that intensity crs matrices are stacked vertically during the concat/append routine when calling `generate_hazard_object`?"
   ]
  },
  {
   "cell_type": "markdown",
   "id": "f006ab31",
   "metadata": {},
   "source": [
    "## Impact functions"
   ]
  },
  {
   "cell_type": "markdown",
   "id": "4b6c0021",
   "metadata": {},
   "source": [
    "### Option 1 - merging damage threshold into impact function"
   ]
  },
  {
   "cell_type": "code",
   "execution_count": null,
   "id": "700654f7",
   "metadata": {},
   "outputs": [],
   "source": [
    "impf_set_fl = vulnerability.IMPF_SET_FL_IVM"
   ]
  },
  {
   "cell_type": "code",
   "execution_count": null,
   "id": "b7681be9",
   "metadata": {},
   "outputs": [],
   "source": [
    "from climada.entity import ImpactFunc, ImpactFuncSet\n",
    "impf_set_ivm_step = ImpactFuncSet()"
   ]
  },
  {
   "cell_type": "code",
   "execution_count": null,
   "id": "1845f771",
   "metadata": {},
   "outputs": [],
   "source": [
    "# The threshold of building damage after which all people are displaced. Below, no-one is displaced.\n",
    "building_thes = 0.55 # 55% iDMC v1; CIMA: 30% for Somalia to 60% for other countries. \n",
    "\n",
    "for imp_id in impf_set_fl.get_ids(haz_type='FL'):\n",
    "    impf_set_fl.get_func(fun_id=imp_id)\n",
    "    y = impf_set_fl.get_func(fun_id=imp_id)[0].intensity\n",
    "    x = impf_set_fl.get_func(fun_id=imp_id)[0].mdd\n",
    "    flood_thres = np.interp(building_thes, x, y)\n",
    "    print('ID: '+str(imp_id)+' - threshold stepfunction: '+str(flood_thres))\n",
    "    impf_set_ivm_step.append(\n",
    "                ImpactFunc.from_step_impf(\n",
    "                    intensity=(0,  flood_thres, flood_thres *10),\n",
    "                    haz_type='FL',\n",
    "                    impf_id=imp_id,\n",
    "                    intensity_unit = 'm'\n",
    "                )\n",
    "    )"
   ]
  },
  {
   "cell_type": "markdown",
   "id": "86c56493",
   "metadata": {},
   "source": [
    "### Impacts"
   ]
  },
  {
   "cell_type": "code",
   "execution_count": null,
   "id": "b54b57ce",
   "metadata": {},
   "outputs": [],
   "source": [
    "from climada.engine import ImpactCalc\n",
    "\n",
    "impcalc = ImpactCalc(exp, impf_set_ivm_step, CF_haz_2020)\n",
    "impact = impcalc.impact()"
   ]
  },
  {
   "cell_type": "code",
   "execution_count": null,
   "id": "98a2fa4c",
   "metadata": {},
   "outputs": [],
   "source": [
    "print('Annual average displacement: ' + \"{:,.0f}\".format(impact.aai_agg))"
   ]
  },
  {
   "cell_type": "code",
   "execution_count": null,
   "id": "e68881d8",
   "metadata": {},
   "outputs": [],
   "source": [
    "freqd_curve = impact.calc_freq_curve()"
   ]
  },
  {
   "cell_type": "code",
   "execution_count": null,
   "id": "def1cba0",
   "metadata": {},
   "outputs": [],
   "source": [
    "freqd_curve.plot()"
   ]
  },
  {
   "cell_type": "code",
   "execution_count": null,
   "id": "fccfb223",
   "metadata": {},
   "outputs": [],
   "source": [
    "impact.plot_hexbin_eai_exposure(pop_name=False, ignore_zero=True)"
   ]
  },
  {
   "cell_type": "markdown",
   "id": "0525cd5b",
   "metadata": {},
   "source": [
    "### Option 2 - postprocessing results by damage threshold"
   ]
  },
  {
   "cell_type": "code",
   "execution_count": null,
   "id": "7cce51ab",
   "metadata": {},
   "outputs": [],
   "source": [
    "from climada.engine import ImpactCalc\n",
    "\n",
    "exp.gdf.rename({'value' : 'valhum'}, axis=1, inplace=True)\n",
    "exp.gdf['value'] = 1\n",
    "exp.gdf['impf_FL'] = exp.gdf['se_seismo'].map(vulnerability.DICT_PAGER_FLIMPF_CIMA) "
   ]
  },
  {
   "cell_type": "code",
   "execution_count": null,
   "id": "e25269a9",
   "metadata": {},
   "outputs": [],
   "source": [
    "# compute damage fractions on buildings; keep \"events\", i.e. in case of flood RPs individually\n",
    "impact_bldg = ImpactCalc(exp, vulnerability.IMPF_SET_FL_CIMA, CF_haz_2100).impact(save_mat=True)"
   ]
  },
  {
   "cell_type": "code",
   "execution_count": null,
   "id": "7b348418",
   "metadata": {},
   "outputs": [],
   "source": [
    "# set displacement-damage threshold(s)\n",
    "dmg_thresh_low = 0.3\n",
    "dmg_thresh_med = 0.45\n",
    "dmg_thresh_high = 0.6"
   ]
  },
  {
   "cell_type": "code",
   "execution_count": null,
   "id": "fb17b907",
   "metadata": {},
   "outputs": [],
   "source": [
    "# decide on whether threshold reached\n",
    "displ_low = int(impact_bldg.imp_mat > dmg_thresh_low)\n",
    "displ_med = int(impact_bldg.imp_mat > dmg_thresh_med)\n",
    "displ_high = int(impact_bldg.imp_mat > dmg_thresh_high)"
   ]
  },
  {
   "cell_type": "code",
   "execution_count": null,
   "id": "7e17e77f",
   "metadata": {},
   "outputs": [],
   "source": [
    "# compute displacement impacts (exemplified only for median threshold now); store with gdf. \n",
    "# Problem: this likely blows up memory as 0s are now explicit\n",
    "exp.gdf[['imp_rp1','imp_rp10','imp_rp25','imp_rp100','imp_rp250','imp_rp1000']] = exp.gdf.valhum*displ_med.data"
   ]
  },
  {
   "cell_type": "code",
   "execution_count": null,
   "id": "bb234b1b",
   "metadata": {},
   "outputs": [],
   "source": [
    "# explicitly compute AED agg. for median threshold scenario (others analogous)\n",
    "exp.gdf['aed_med'] = exp.gdf['imp_rp1'] *1 + exp.gdf['imp_rp10'] *1/10 + exp.gdf['imp_rp25']*1/25 + exp.gdf['imp_rp100']*1/100 + exp.gdf['imp_rp250'] *1/250 + exp.gdf['imp_rp1000'] *1/1000"
   ]
  },
  {
   "cell_type": "code",
   "execution_count": null,
   "id": "5663ab31",
   "metadata": {},
   "outputs": [],
   "source": [
    "# aggregate impacts by admin-1\n",
    "exp.gdf['admin1'] = exposure.assign_admin1_attr(exp.gdf.copy(), exposure.path_admin1_attrs, source='gadm')\n",
    "gdf_admin1_imps = exp.gdf.groupby('admin1')[['imp_rp1','imp_rp10','imp_rp25','imp_rp100','imp_rp250','imp_rp1000', 'aed_med']].sum()"
   ]
  },
  {
   "cell_type": "code",
   "execution_count": null,
   "id": "bd946fe6",
   "metadata": {},
   "outputs": [],
   "source": [
    "# aggregate over whole exposure"
   ]
  }
 ],
 "metadata": {
  "kernelspec": {
   "display_name": "Python 3 (ipykernel)",
   "language": "python",
   "name": "python3"
  },
  "language_info": {
   "codemirror_mode": {
    "name": "ipython",
    "version": 3
   },
   "file_extension": ".py",
   "mimetype": "text/x-python",
   "name": "python",
   "nbconvert_exporter": "python",
   "pygments_lexer": "ipython3",
   "version": "3.9.9"
  }
 },
 "nbformat": 4,
 "nbformat_minor": 5
}
