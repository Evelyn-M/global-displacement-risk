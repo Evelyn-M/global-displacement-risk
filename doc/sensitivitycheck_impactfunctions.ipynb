{
 "cells": [
  {
   "cell_type": "markdown",
   "id": "ded80017",
   "metadata": {},
   "source": [
    "# Sensitivity check for choice of impact functions\n",
    "\n",
    "In this code, we (qualitatively) examine how sensitive modelling outcomes are to the choice of impact functions. For this, we generate 4 scenarios and test these for both hazard types (CF, TC) on 2 countries (PHL, SOM):\n",
    "\n",
    "* base scenario: 'original' impact functions (about 15), distributed to types of buildings\n",
    "* min scenario: assigning 4-5 base classes to our building types, taking a high vulnerability scenario for each of them\n",
    "* med scenario: ditto, taking medium vuln. versions of impfs\n",
    "* max scenario: ditto, taking low vuln. versions of impfs\n",
    "* ivm scenario: 'original' ivm impact functions (only 4 classes), as comparison to the CIMA/Capra flood impact functions."
   ]
  },
  {
   "cell_type": "code",
   "execution_count": 33,
   "id": "9679346a",
   "metadata": {},
   "outputs": [],
   "source": [
    "# Load country BEM as prep\n",
    "from climada.util.constants import SYSTEM_DIR\n",
    "from climada.hazard import TropCyclone, Hazard\n",
    "from climada.entity.exposures import Exposures\n",
    "from climada.engine import ImpactCalc\n",
    "import numpy as np\n",
    "import os\n",
    "import copy\n",
    "from pathlib import Path\n",
    "\n",
    "os.chdir('/cluster/project/climate/meilers/scripts/displacement/global-displacement-risk') \n",
    "import exposure\n",
    "import vulnerability\n",
    "import coastal_flood_hazard\n",
    "\n",
    "# select country here\n",
    "cntry = 'Philippines'"
   ]
  },
  {
   "cell_type": "code",
   "execution_count": 34,
   "id": "4802e976",
   "metadata": {},
   "outputs": [],
   "source": [
    "gdf_bem_subcomps = exposure.gdf_from_bem_subcomps(cntry, opt='full')\n",
    "gdf_bem_subcomps = gdf_bem_subcomps[gdf_bem_subcomps.valhum>0.1] # filter out rows with basically no population\n",
    "\n",
    "exp = Exposures(gdf_bem_subcomps.copy())\n",
    "exp.value_unit = 'Pop. count'\n",
    "exp.gdf['longitude'] = exp.gdf.geometry.x\n",
    "exp.gdf['latitude'] = exp.gdf.geometry.y\n",
    "exp.gdf['value'] = 1 # each building type gets value 1"
   ]
  },
  {
   "cell_type": "markdown",
   "id": "6249cd35",
   "metadata": {},
   "source": [
    "## TC impact functions"
   ]
  },
  {
   "cell_type": "markdown",
   "id": "2c6cdb14",
   "metadata": {},
   "source": [
    "### Base scenario"
   ]
  },
  {
   "cell_type": "code",
   "execution_count": 3,
   "id": "1c567f47",
   "metadata": {},
   "outputs": [],
   "source": [
    "exp.gdf['impf_TC_base'] = exp.gdf['se_seismo'].map(vulnerability.DICT_PAGER_TCIMPF_HAZUS)"
   ]
  },
  {
   "cell_type": "markdown",
   "id": "0f09cf00",
   "metadata": {},
   "source": [
    "### Min, med, max scenarios"
   ]
  },
  {
   "cell_type": "code",
   "execution_count": 4,
   "id": "742dc1aa",
   "metadata": {},
   "outputs": [],
   "source": [
    "# we modify the dictionary to point to the \"_min\", \"_med\" and \"_max\" vulnerability functions everywhere \n",
    "DICT_TCIMPF_MIN = {key: vulnerability.DICT_HAZUS_IMPF_TC_HAZUS[value[:-3]+'min']\n",
    "                           for key, value in vulnerability.DICT_PAGER2HAZUS.items()}\n",
    "DICT_TCIMPF_MED = {key: vulnerability.DICT_HAZUS_IMPF_TC_HAZUS[value[:-3]+'med']\n",
    "                           for key, value in vulnerability.DICT_PAGER2HAZUS.items()}\n",
    "DICT_TCIMPF_MAX = {key: vulnerability.DICT_HAZUS_IMPF_TC_HAZUS[value[:-3]+'max']\n",
    "                           for key, value in vulnerability.DICT_PAGER2HAZUS.items()}"
   ]
  },
  {
   "cell_type": "code",
   "execution_count": 5,
   "id": "718495bc",
   "metadata": {},
   "outputs": [],
   "source": [
    "exp.gdf['impf_TC_min'] = exp.gdf['se_seismo'].map(DICT_TCIMPF_MIN) "
   ]
  },
  {
   "cell_type": "code",
   "execution_count": 6,
   "id": "68cde11c",
   "metadata": {},
   "outputs": [],
   "source": [
    "exp.gdf['impf_TC_med'] = exp.gdf['se_seismo'].map(DICT_TCIMPF_MED) "
   ]
  },
  {
   "cell_type": "code",
   "execution_count": 7,
   "id": "a81898da",
   "metadata": {},
   "outputs": [],
   "source": [
    "exp.gdf['impf_TC_max'] = exp.gdf['se_seismo'].map(DICT_TCIMPF_MAX) "
   ]
  },
  {
   "cell_type": "markdown",
   "id": "417cbcc0",
   "metadata": {},
   "source": [
    "### Perform impact calcs and compare"
   ]
  },
  {
   "cell_type": "code",
   "execution_count": 8,
   "id": "abf8ad81",
   "metadata": {},
   "outputs": [],
   "source": [
    "# load TC hazard phl\n",
    "if cntry == 'Somalia':\n",
    "    reg = 'IO'\n",
    "elif cntry == 'Philippines':\n",
    "    reg = 'WP'\n",
    "else:\n",
    "    reg = print('no country-basin assingment found')\n",
    "\n",
    "haz_TC_dir = Path('/cluster/work/climate/meilers/climada/data/hazard/present')\n",
    "haz_TC = TropCyclone.from_hdf5(haz_TC_dir.joinpath(f'TC_{reg}_0150as_MIT_H08.hdf5'))"
   ]
  },
  {
   "cell_type": "code",
   "execution_count": 9,
   "id": "f7e903bd",
   "metadata": {},
   "outputs": [],
   "source": [
    "TC = haz_TC.select(extent=(\n",
    "    exp.gdf['longitude'].min(), exp.gdf['longitude'].max(), exp.gdf['latitude'].min(), exp.gdf['latitude'].max()))"
   ]
  },
  {
   "cell_type": "code",
   "execution_count": 10,
   "id": "dde077e3",
   "metadata": {},
   "outputs": [],
   "source": [
    "exp.gdf.rename({'impf_TC_base' : 'impf_TC'}, axis=1, inplace=True)\n",
    "\n",
    "imp_base = ImpactCalc(exp, vulnerability.IMPF_SET_TC_HAZUS, TC).impact()"
   ]
  },
  {
   "cell_type": "code",
   "execution_count": 11,
   "id": "4dab2551",
   "metadata": {},
   "outputs": [],
   "source": [
    "exp.gdf.rename({'impf_TC' : 'impf_TC_base'}, axis=1, inplace=True) # change column name back\n",
    "exp.gdf.rename({'impf_TC_min' : 'impf_TC'}, axis=1, inplace=True)\n",
    "\n",
    "imp_min = ImpactCalc(exp, vulnerability.IMPF_SET_TC_HAZUS, TC).impact()"
   ]
  },
  {
   "cell_type": "code",
   "execution_count": 12,
   "id": "829a2a09",
   "metadata": {},
   "outputs": [],
   "source": [
    "exp.gdf.rename({'impf_TC' : 'impf_TC_min'}, axis=1, inplace=True) # change column name back\n",
    "exp.gdf.rename({'impf_TC_med' : 'impf_TC'}, axis=1, inplace=True)\n",
    "\n",
    "imp_med = ImpactCalc(exp, vulnerability.IMPF_SET_TC_HAZUS, TC).impact()"
   ]
  },
  {
   "cell_type": "code",
   "execution_count": 13,
   "id": "e7e29ea3",
   "metadata": {},
   "outputs": [],
   "source": [
    "exp.gdf.rename({'impf_TC' : 'impf_TC_med'}, axis=1, inplace=True) # change column name back\n",
    "exp.gdf.rename({'impf_TC_max' : 'impf_TC'}, axis=1, inplace=True)\n",
    "\n",
    "imp_max = ImpactCalc(exp, vulnerability.IMPF_SET_TC_HAZUS, TC).impact()"
   ]
  },
  {
   "cell_type": "code",
   "execution_count": 14,
   "id": "a2725420",
   "metadata": {},
   "outputs": [
    {
     "name": "stdout",
     "output_type": "stream",
     "text": [
      "164.37850605480506 214.77324813035347 17.934575204291917 1.4728661866011676\n"
     ]
    }
   ],
   "source": [
    "print(imp_base.aai_agg, imp_min.aai_agg, imp_med.aai_agg, imp_max.aai_agg)"
   ]
  },
  {
   "cell_type": "markdown",
   "id": "61c18adb",
   "metadata": {},
   "source": [
    "## FL impact functions"
   ]
  },
  {
   "cell_type": "markdown",
   "id": "56844457",
   "metadata": {},
   "source": [
    "### Base Scenario"
   ]
  },
  {
   "cell_type": "code",
   "execution_count": 35,
   "id": "694389ef",
   "metadata": {},
   "outputs": [],
   "source": [
    "exp.gdf['impf_FL_base'] = exp.gdf['se_seismo'].map(vulnerability.DICT_PAGER_FLIMPF_CIMA)"
   ]
  },
  {
   "cell_type": "code",
   "execution_count": 36,
   "id": "5dfeb2ed-dc05-449c-9f3e-cdb6d0183052",
   "metadata": {},
   "outputs": [],
   "source": [
    "exp.gdf['impf_FL_ivm'] = exp.gdf['se_seismo'].map(vulnerability.DICT_PAGER_FLIMPF_IVM)"
   ]
  },
  {
   "cell_type": "markdown",
   "id": "8a3235f5",
   "metadata": {},
   "source": [
    "### Min, med, max scenarios"
   ]
  },
  {
   "cell_type": "code",
   "execution_count": 37,
   "id": "d851500d",
   "metadata": {},
   "outputs": [],
   "source": [
    "# manual mapping from vulnerable impf-ids to less vulnerable impf-ids and vice versa (referring do CIMA funcs)\n",
    "DICT_FLIMPF_MIN = {1:1,2:1,3:1,4:1,5:1,6:6,7:6,8:8,9:8,10:8,11:11,12:12,13:12,14:14,15:15}\n",
    "DICT_FLIMPF_MED = {1:2, 2:2, 3:2,4:2,5:2,6:7,7:7, 8:7,9:7,10:7,11:11,12:13,13:13,14:15,15:15}\n",
    "DICT_FLIMPF_MAX = {1:4, 2:4, 3:4, 4:4, 5:5, 6:10, 7:10, 8:10, 9:10, 10:10, 11:11, 12:13,13:13,14:15,15:15}    "
   ]
  },
  {
   "cell_type": "code",
   "execution_count": 38,
   "id": "96f86031",
   "metadata": {},
   "outputs": [],
   "source": [
    "exp.gdf['impf_FL_min'] = exp.gdf['impf_FL_base'].map(DICT_FLIMPF_MIN) "
   ]
  },
  {
   "cell_type": "code",
   "execution_count": 39,
   "id": "4ba48dfa",
   "metadata": {},
   "outputs": [],
   "source": [
    "exp.gdf['impf_FL_med'] = exp.gdf['impf_FL_base'].map(DICT_FLIMPF_MED)"
   ]
  },
  {
   "cell_type": "code",
   "execution_count": 40,
   "id": "50197868",
   "metadata": {},
   "outputs": [],
   "source": [
    "exp.gdf['impf_FL_max'] = exp.gdf['impf_FL_base'].map(DICT_FLIMPF_MAX) "
   ]
  },
  {
   "cell_type": "markdown",
   "id": "aaea074f",
   "metadata": {},
   "source": [
    "### Perform impact calcs and compare"
   ]
  },
  {
   "cell_type": "code",
   "execution_count": 41,
   "id": "ebff468c",
   "metadata": {},
   "outputs": [],
   "source": [
    "haz_CF_dir = Path('/cluster/work/climate/evelynm/IDMC_UNU/hazard/coastal_flood/venDEM_scaled_1km')"
   ]
  },
  {
   "cell_type": "code",
   "execution_count": 42,
   "id": "db84d682",
   "metadata": {},
   "outputs": [],
   "source": [
    "# get tiles covering the exposure extent\n",
    "tiles = coastal_flood_hazard.find_tiles(\n",
    "    exp.gdf['latitude'].min(), exp.gdf['latitude'].max(), exp.gdf['longitude'].min(), exp.gdf['longitude'].max())"
   ]
  },
  {
   "cell_type": "code",
   "execution_count": 43,
   "id": "53f7024f",
   "metadata": {},
   "outputs": [
    {
     "name": "stdout",
     "output_type": "stream",
     "text": [
      "Tile directory /cluster/work/climate/evelynm/IDMC_UNU/hazard/coastal_flood/venDEM_scaled_1km/N04E122/RCP45_2020 not found, skipping...\n",
      "Tile directory /cluster/work/climate/evelynm/IDMC_UNU/hazard/coastal_flood/venDEM_scaled_1km/N04E123/RCP45_2020 not found, skipping...\n",
      "Tile directory /cluster/work/climate/evelynm/IDMC_UNU/hazard/coastal_flood/venDEM_scaled_1km/N11E116/RCP45_2020 not found, skipping...\n",
      "Tile directory /cluster/work/climate/evelynm/IDMC_UNU/hazard/coastal_flood/venDEM_scaled_1km/N11E117/RCP45_2020 not found, skipping...\n",
      "Tile directory /cluster/work/climate/evelynm/IDMC_UNU/hazard/coastal_flood/venDEM_scaled_1km/N12E116/RCP45_2020 not found, skipping...\n",
      "Tile directory /cluster/work/climate/evelynm/IDMC_UNU/hazard/coastal_flood/venDEM_scaled_1km/N12E117/RCP45_2020 not found, skipping...\n",
      "Tile directory /cluster/work/climate/evelynm/IDMC_UNU/hazard/coastal_flood/venDEM_scaled_1km/N12E118/RCP45_2020 not found, skipping...\n",
      "Tile directory /cluster/work/climate/evelynm/IDMC_UNU/hazard/coastal_flood/venDEM_scaled_1km/N12E126/RCP45_2020 not found, skipping...\n",
      "Tile directory /cluster/work/climate/evelynm/IDMC_UNU/hazard/coastal_flood/venDEM_scaled_1km/N13E116/RCP45_2020 not found, skipping...\n",
      "Tile directory /cluster/work/climate/evelynm/IDMC_UNU/hazard/coastal_flood/venDEM_scaled_1km/N13E117/RCP45_2020 not found, skipping...\n",
      "Tile directory /cluster/work/climate/evelynm/IDMC_UNU/hazard/coastal_flood/venDEM_scaled_1km/N13E118/RCP45_2020 not found, skipping...\n",
      "Tile directory /cluster/work/climate/evelynm/IDMC_UNU/hazard/coastal_flood/venDEM_scaled_1km/N13E126/RCP45_2020 not found, skipping...\n",
      "Tile directory /cluster/work/climate/evelynm/IDMC_UNU/hazard/coastal_flood/venDEM_scaled_1km/N14E116/RCP45_2020 not found, skipping...\n",
      "Tile directory /cluster/work/climate/evelynm/IDMC_UNU/hazard/coastal_flood/venDEM_scaled_1km/N14E117/RCP45_2020 not found, skipping...\n",
      "Tile directory /cluster/work/climate/evelynm/IDMC_UNU/hazard/coastal_flood/venDEM_scaled_1km/N14E118/RCP45_2020 not found, skipping...\n",
      "Tile directory /cluster/work/climate/evelynm/IDMC_UNU/hazard/coastal_flood/venDEM_scaled_1km/N14E125/RCP45_2020 not found, skipping...\n",
      "Tile directory /cluster/work/climate/evelynm/IDMC_UNU/hazard/coastal_flood/venDEM_scaled_1km/N14E126/RCP45_2020 not found, skipping...\n",
      "Tile directory /cluster/work/climate/evelynm/IDMC_UNU/hazard/coastal_flood/venDEM_scaled_1km/N15E116/RCP45_2020 not found, skipping...\n",
      "Tile directory /cluster/work/climate/evelynm/IDMC_UNU/hazard/coastal_flood/venDEM_scaled_1km/N15E117/RCP45_2020 not found, skipping...\n",
      "Tile directory /cluster/work/climate/evelynm/IDMC_UNU/hazard/coastal_flood/venDEM_scaled_1km/N15E118/RCP45_2020 not found, skipping...\n",
      "Tile directory /cluster/work/climate/evelynm/IDMC_UNU/hazard/coastal_flood/venDEM_scaled_1km/N15E124/RCP45_2020 not found, skipping...\n",
      "Tile directory /cluster/work/climate/evelynm/IDMC_UNU/hazard/coastal_flood/venDEM_scaled_1km/N15E125/RCP45_2020 not found, skipping...\n",
      "Tile directory /cluster/work/climate/evelynm/IDMC_UNU/hazard/coastal_flood/venDEM_scaled_1km/N15E126/RCP45_2020 not found, skipping...\n",
      "Tile directory /cluster/work/climate/evelynm/IDMC_UNU/hazard/coastal_flood/venDEM_scaled_1km/N16E116/RCP45_2020 not found, skipping...\n",
      "Tile directory /cluster/work/climate/evelynm/IDMC_UNU/hazard/coastal_flood/venDEM_scaled_1km/N16E117/RCP45_2020 not found, skipping...\n",
      "Tile directory /cluster/work/climate/evelynm/IDMC_UNU/hazard/coastal_flood/venDEM_scaled_1km/N16E118/RCP45_2020 not found, skipping...\n",
      "Tile directory /cluster/work/climate/evelynm/IDMC_UNU/hazard/coastal_flood/venDEM_scaled_1km/N16E123/RCP45_2020 not found, skipping...\n",
      "Tile directory /cluster/work/climate/evelynm/IDMC_UNU/hazard/coastal_flood/venDEM_scaled_1km/N16E124/RCP45_2020 not found, skipping...\n",
      "Tile directory /cluster/work/climate/evelynm/IDMC_UNU/hazard/coastal_flood/venDEM_scaled_1km/N16E125/RCP45_2020 not found, skipping...\n",
      "Tile directory /cluster/work/climate/evelynm/IDMC_UNU/hazard/coastal_flood/venDEM_scaled_1km/N16E126/RCP45_2020 not found, skipping...\n",
      "Tile directory /cluster/work/climate/evelynm/IDMC_UNU/hazard/coastal_flood/venDEM_scaled_1km/N17E116/RCP45_2020 not found, skipping...\n",
      "Tile directory /cluster/work/climate/evelynm/IDMC_UNU/hazard/coastal_flood/venDEM_scaled_1km/N17E117/RCP45_2020 not found, skipping...\n",
      "Tile directory /cluster/work/climate/evelynm/IDMC_UNU/hazard/coastal_flood/venDEM_scaled_1km/N17E118/RCP45_2020 not found, skipping...\n",
      "Tile directory /cluster/work/climate/evelynm/IDMC_UNU/hazard/coastal_flood/venDEM_scaled_1km/N17E123/RCP45_2020 not found, skipping...\n",
      "Tile directory /cluster/work/climate/evelynm/IDMC_UNU/hazard/coastal_flood/venDEM_scaled_1km/N17E124/RCP45_2020 not found, skipping...\n",
      "Tile directory /cluster/work/climate/evelynm/IDMC_UNU/hazard/coastal_flood/venDEM_scaled_1km/N17E125/RCP45_2020 not found, skipping...\n",
      "Tile directory /cluster/work/climate/evelynm/IDMC_UNU/hazard/coastal_flood/venDEM_scaled_1km/N17E126/RCP45_2020 not found, skipping...\n",
      "Tile directory /cluster/work/climate/evelynm/IDMC_UNU/hazard/coastal_flood/venDEM_scaled_1km/N18E116/RCP45_2020 not found, skipping...\n",
      "Tile directory /cluster/work/climate/evelynm/IDMC_UNU/hazard/coastal_flood/venDEM_scaled_1km/N18E117/RCP45_2020 not found, skipping...\n",
      "Tile directory /cluster/work/climate/evelynm/IDMC_UNU/hazard/coastal_flood/venDEM_scaled_1km/N18E118/RCP45_2020 not found, skipping...\n",
      "Tile directory /cluster/work/climate/evelynm/IDMC_UNU/hazard/coastal_flood/venDEM_scaled_1km/N18E119/RCP45_2020 not found, skipping...\n",
      "Tile directory /cluster/work/climate/evelynm/IDMC_UNU/hazard/coastal_flood/venDEM_scaled_1km/N18E123/RCP45_2020 not found, skipping...\n",
      "Tile directory /cluster/work/climate/evelynm/IDMC_UNU/hazard/coastal_flood/venDEM_scaled_1km/N18E124/RCP45_2020 not found, skipping...\n",
      "Tile directory /cluster/work/climate/evelynm/IDMC_UNU/hazard/coastal_flood/venDEM_scaled_1km/N18E125/RCP45_2020 not found, skipping...\n",
      "Tile directory /cluster/work/climate/evelynm/IDMC_UNU/hazard/coastal_flood/venDEM_scaled_1km/N18E126/RCP45_2020 not found, skipping...\n",
      "Tile directory /cluster/work/climate/evelynm/IDMC_UNU/hazard/coastal_flood/venDEM_scaled_1km/N19E116/RCP45_2020 not found, skipping...\n",
      "Tile directory /cluster/work/climate/evelynm/IDMC_UNU/hazard/coastal_flood/venDEM_scaled_1km/N19E117/RCP45_2020 not found, skipping...\n",
      "Tile directory /cluster/work/climate/evelynm/IDMC_UNU/hazard/coastal_flood/venDEM_scaled_1km/N19E118/RCP45_2020 not found, skipping...\n",
      "Tile directory /cluster/work/climate/evelynm/IDMC_UNU/hazard/coastal_flood/venDEM_scaled_1km/N19E119/RCP45_2020 not found, skipping...\n",
      "Tile directory /cluster/work/climate/evelynm/IDMC_UNU/hazard/coastal_flood/venDEM_scaled_1km/N19E123/RCP45_2020 not found, skipping...\n",
      "Tile directory /cluster/work/climate/evelynm/IDMC_UNU/hazard/coastal_flood/venDEM_scaled_1km/N19E124/RCP45_2020 not found, skipping...\n",
      "Tile directory /cluster/work/climate/evelynm/IDMC_UNU/hazard/coastal_flood/venDEM_scaled_1km/N19E125/RCP45_2020 not found, skipping...\n",
      "Tile directory /cluster/work/climate/evelynm/IDMC_UNU/hazard/coastal_flood/venDEM_scaled_1km/N19E126/RCP45_2020 not found, skipping...\n",
      "Tile directory /cluster/work/climate/evelynm/IDMC_UNU/hazard/coastal_flood/venDEM_scaled_1km/N20E117/RCP45_2020 not found, skipping...\n",
      "Tile directory /cluster/work/climate/evelynm/IDMC_UNU/hazard/coastal_flood/venDEM_scaled_1km/N20E118/RCP45_2020 not found, skipping...\n",
      "Tile directory /cluster/work/climate/evelynm/IDMC_UNU/hazard/coastal_flood/venDEM_scaled_1km/N20E119/RCP45_2020 not found, skipping...\n",
      "Tile directory /cluster/work/climate/evelynm/IDMC_UNU/hazard/coastal_flood/venDEM_scaled_1km/N20E123/RCP45_2020 not found, skipping...\n",
      "Tile directory /cluster/work/climate/evelynm/IDMC_UNU/hazard/coastal_flood/venDEM_scaled_1km/N20E124/RCP45_2020 not found, skipping...\n",
      "Tile directory /cluster/work/climate/evelynm/IDMC_UNU/hazard/coastal_flood/venDEM_scaled_1km/N20E125/RCP45_2020 not found, skipping...\n",
      "Tile directory /cluster/work/climate/evelynm/IDMC_UNU/hazard/coastal_flood/venDEM_scaled_1km/N20E126/RCP45_2020 not found, skipping...\n"
     ]
    }
   ],
   "source": [
    "# load CF hazard phl\n",
    "CF = coastal_flood_hazard.generate_hazard_object(tiles, haz_CF_dir, 'RCP45', '2020', 'FL')"
   ]
  },
  {
   "cell_type": "code",
   "execution_count": 44,
   "id": "195a3a2c",
   "metadata": {},
   "outputs": [
    {
     "name": "stdout",
     "output_type": "stream",
     "text": [
      "2024-05-06 13:24:13,389 - climada.util.coordinates - WARNING - Distance to closest centroid is greater than 100km for 750 coordinates.\n"
     ]
    }
   ],
   "source": [
    "exp.gdf.rename({'impf_FL_base' : 'impf_FL'}, axis=1, inplace=True)\n",
    "\n",
    "imp_base = ImpactCalc(exp, vulnerability.IMPF_SET_FL_CIMA, CF).impact()"
   ]
  },
  {
   "cell_type": "code",
   "execution_count": 46,
   "id": "f014f7d4",
   "metadata": {},
   "outputs": [
    {
     "name": "stdout",
     "output_type": "stream",
     "text": [
      "2024-05-06 13:25:44,386 - climada.util.coordinates - WARNING - Distance to closest centroid is greater than 100km for 750 coordinates.\n"
     ]
    }
   ],
   "source": [
    "exp.gdf.rename({'impf_FL' : 'impf_FL_base'}, axis=1, inplace=True) # change column name back\n",
    "exp.gdf.rename({'impf_FL_min' : 'impf_FL'}, axis=1, inplace=True)\n",
    "\n",
    "imp_min = ImpactCalc(exp, vulnerability.IMPF_SET_FL_CIMA, CF).impact()"
   ]
  },
  {
   "cell_type": "code",
   "execution_count": 47,
   "id": "75c5c649",
   "metadata": {},
   "outputs": [
    {
     "name": "stdout",
     "output_type": "stream",
     "text": [
      "2024-05-06 13:26:03,117 - climada.util.coordinates - WARNING - Distance to closest centroid is greater than 100km for 750 coordinates.\n"
     ]
    }
   ],
   "source": [
    "exp.gdf.rename({'impf_FL' : 'impf_FL_min'}, axis=1, inplace=True) # change column name back\n",
    "exp.gdf.rename({'impf_FL_med' : 'impf_FL'}, axis=1, inplace=True)\n",
    "\n",
    "imp_med = ImpactCalc(exp, vulnerability.IMPF_SET_FL_CIMA, CF).impact()"
   ]
  },
  {
   "cell_type": "code",
   "execution_count": 48,
   "id": "b6e22948",
   "metadata": {},
   "outputs": [
    {
     "name": "stdout",
     "output_type": "stream",
     "text": [
      "2024-05-06 13:26:24,467 - climada.util.coordinates - WARNING - Distance to closest centroid is greater than 100km for 750 coordinates.\n"
     ]
    }
   ],
   "source": [
    "exp.gdf.rename({'impf_FL' : 'impf_FL_med'}, axis=1, inplace=True) # change column name back\n",
    "exp.gdf.rename({'impf_FL_max' : 'impf_FL'}, axis=1, inplace=True)\n",
    "\n",
    "imp_max = ImpactCalc(exp, vulnerability.IMPF_SET_FL_CIMA, CF).impact()"
   ]
  },
  {
   "cell_type": "code",
   "execution_count": 49,
   "id": "25a1d7c2-33e4-4373-bbaf-142136ecd75e",
   "metadata": {},
   "outputs": [
    {
     "name": "stdout",
     "output_type": "stream",
     "text": [
      "2024-05-06 13:26:43,985 - climada.util.coordinates - WARNING - Distance to closest centroid is greater than 100km for 750 coordinates.\n"
     ]
    }
   ],
   "source": [
    "exp.gdf.rename({'impf_FL' : 'impf_FL_max'}, axis=1, inplace=True) # change column name back\n",
    "exp.gdf.rename({'impf_FL_ivm' : 'impf_FL'}, axis=1, inplace=True)\n",
    "\n",
    "imp_ivm = ImpactCalc(exp, vulnerability.IMPF_SET_FL_IVM, CF).impact()"
   ]
  },
  {
   "cell_type": "code",
   "execution_count": 50,
   "id": "c8854057",
   "metadata": {},
   "outputs": [
    {
     "name": "stdout",
     "output_type": "stream",
     "text": [
      "13161.625434792628 13161.625434792628 9427.611744061584 8588.458662299845 107824.38346358908\n"
     ]
    }
   ],
   "source": [
    "print(imp_base.aai_agg, imp_min.aai_agg, imp_med.aai_agg, imp_max.aai_agg, imp_ivm.aai_agg)"
   ]
  }
 ],
 "metadata": {
  "kernelspec": {
   "display_name": "Python 3 (ipykernel)",
   "language": "python",
   "name": "python3"
  },
  "language_info": {
   "codemirror_mode": {
    "name": "ipython",
    "version": 3
   },
   "file_extension": ".py",
   "mimetype": "text/x-python",
   "name": "python",
   "nbconvert_exporter": "python",
   "pygments_lexer": "ipython3",
   "version": "3.10.4"
  }
 },
 "nbformat": 4,
 "nbformat_minor": 5
}
