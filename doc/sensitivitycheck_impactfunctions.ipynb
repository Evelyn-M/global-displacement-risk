{
 "cells": [
  {
   "cell_type": "markdown",
   "id": "ded80017",
   "metadata": {},
   "source": [
    "# Sensitivity check for choice of impact functions\n",
    "\n",
    "In this code, we (qualitatively) examine how sensitive modelling outcomes are to the choice of impact functions. For this, we generate 4 scenarios and test these for both hazard types (CF, TC) on 2 countries (PHL, SOM):\n",
    "\n",
    "* base scenario: 'original' impact functions (about 15), distributed to types of buildings\n",
    "* min scenario: assigning 4-5 base classes to our building types, taking a high vulnerability scenario for each of them\n",
    "* med scenario: ditto, taking medium vuln. versions of impfs\n",
    "* max scenario: ditto, taking low vuln. versions of impfs"
   ]
  },
  {
   "cell_type": "code",
   "execution_count": 1,
   "id": "9679346a",
   "metadata": {},
   "outputs": [],
   "source": [
    "# Load country BEM as prep\n",
    "from climada.util.constants import SYSTEM_DIR\n",
    "from climada.hazard import TropCyclone, Hazard\n",
    "from climada.entity.exposures import Exposures\n",
    "from climada.engine import ImpactCalc\n",
    "import numpy as np\n",
    "import os\n",
    "import copy\n",
    "from pathlib import Path\n",
    "\n",
    "os.chdir('/cluster/project/climate/evelynm/global-displacement-risk') \n",
    "import exposure\n",
    "import vulnerability\n",
    "import coastal_flood_hazard\n",
    "\n",
    "cntry_som = 'Somalia'\n",
    "cntry_phl = 'Philippines'"
   ]
  },
  {
   "cell_type": "code",
   "execution_count": 2,
   "id": "f4448129",
   "metadata": {},
   "outputs": [],
   "source": [
    "gdf_bem_subcomps = exposure.gdf_from_bem_subcomps(cntry_som, opt='full')\n",
    "gdf_bem_subcomps = gdf_bem_subcomps[gdf_bem_subcomps.valhum>0.001] # filter out rows with basically no population\n",
    "\n",
    "exp_som = Exposures(gdf_bem_subcomps.copy())\n",
    "exp_som.value_unit = 'Pop. count'\n",
    "exp_som.gdf['longitude'] = exp_som.gdf.geometry.x\n",
    "exp_som.gdf['latitude'] = exp_som.gdf.geometry.y\n",
    "exp_som.gdf['value'] = 1 # each building type gets value 1"
   ]
  },
  {
   "cell_type": "code",
   "execution_count": 3,
   "id": "4802e976",
   "metadata": {},
   "outputs": [],
   "source": [
    "gdf_bem_subcomps = exposure.gdf_from_bem_subcomps(cntry_phl, opt='full')\n",
    "gdf_bem_subcomps = gdf_bem_subcomps[gdf_bem_subcomps.valhum>0.1] # filter out rows with basically no population\n",
    "\n",
    "exp_phl = Exposures(gdf_bem_subcomps.copy())\n",
    "exp_phl.value_unit = 'Pop. count'\n",
    "exp_phl.gdf['longitude'] = exp_phl.gdf.geometry.x\n",
    "exp_phl.gdf['latitude'] = exp_phl.gdf.geometry.y\n",
    "exp_phl.gdf['value'] = 1 # each building type gets value 1"
   ]
  },
  {
   "cell_type": "markdown",
   "id": "6249cd35",
   "metadata": {},
   "source": [
    "## TC impact functions"
   ]
  },
  {
   "cell_type": "markdown",
   "id": "2c6cdb14",
   "metadata": {},
   "source": [
    "### Base scenario"
   ]
  },
  {
   "cell_type": "code",
   "execution_count": 10,
   "id": "632795e4",
   "metadata": {},
   "outputs": [],
   "source": [
    "exp_som.gdf['impf_TC_base'] = exp_som.gdf['se_seismo'].map(vulnerability.DICT_PAGER_TCIMPF_HAZUS)"
   ]
  },
  {
   "cell_type": "code",
   "execution_count": 11,
   "id": "1c567f47",
   "metadata": {},
   "outputs": [],
   "source": [
    "exp_phl.gdf['impf_TC_base'] = exp_phl.gdf['se_seismo'].map(vulnerability.DICT_PAGER_TCIMPF_HAZUS)"
   ]
  },
  {
   "cell_type": "markdown",
   "id": "0f09cf00",
   "metadata": {},
   "source": [
    "### Min, med, max scenarios"
   ]
  },
  {
   "cell_type": "code",
   "execution_count": 22,
   "id": "742dc1aa",
   "metadata": {},
   "outputs": [],
   "source": [
    "# we modify the dictionary to point to the \"_min\", \"_med\" and \"_max\" vulnerability functions everywhere \n",
    "DICT_TCIMPF_MIN = {key: vulnerability.DICT_HAZUS_IMPF_TC_HAZUS[value[:-3]+'min']\n",
    "                           for key, value in vulnerability.DICT_PAGER2HAZUS.items()}\n",
    "DICT_TCIMPF_MED = {key: vulnerability.DICT_HAZUS_IMPF_TC_HAZUS[value[:-3]+'med']\n",
    "                           for key, value in vulnerability.DICT_PAGER2HAZUS.items()}\n",
    "DICT_TCIMPF_MAX = {key: vulnerability.DICT_HAZUS_IMPF_TC_HAZUS[value[:-3]+'max']\n",
    "                           for key, value in vulnerability.DICT_PAGER2HAZUS.items()}"
   ]
  },
  {
   "cell_type": "code",
   "execution_count": 25,
   "id": "718495bc",
   "metadata": {},
   "outputs": [],
   "source": [
    "exp_som.gdf['impf_TC_min'] = exp_som.gdf['se_seismo'].map(DICT_TCIMPF_MIN) \n",
    "exp_phl.gdf['impf_TC_min'] = exp_phl.gdf['se_seismo'].map(DICT_TCIMPF_MIN) "
   ]
  },
  {
   "cell_type": "code",
   "execution_count": 26,
   "id": "68cde11c",
   "metadata": {},
   "outputs": [],
   "source": [
    "exp_som.gdf['impf_TC_med'] = exp_som.gdf['se_seismo'].map(DICT_TCIMPF_MED) \n",
    "exp_phl.gdf['impf_TC_med'] = exp_phl.gdf['se_seismo'].map(DICT_TCIMPF_MED) "
   ]
  },
  {
   "cell_type": "code",
   "execution_count": 27,
   "id": "a81898da",
   "metadata": {},
   "outputs": [],
   "source": [
    "exp_som.gdf['impf_TC_max'] = exp_som.gdf['se_seismo'].map(DICT_TCIMPF_MAX) \n",
    "exp_phl.gdf['impf_TC_max'] = exp_phl.gdf['se_seismo'].map(DICT_TCIMPF_MAX) "
   ]
  },
  {
   "cell_type": "markdown",
   "id": "417cbcc0",
   "metadata": {},
   "source": [
    "### Perform impact calcs and compare"
   ]
  },
  {
   "cell_type": "code",
   "execution_count": 1,
   "id": "abf8ad81",
   "metadata": {},
   "outputs": [
    {
     "ename": "NameError",
     "evalue": "name 'TropCyclone' is not defined",
     "output_type": "error",
     "traceback": [
      "\u001b[0;31m---------------------------------------------------------------------------\u001b[0m",
      "\u001b[0;31mNameError\u001b[0m                                 Traceback (most recent call last)",
      "Cell \u001b[0;32mIn[1], line 3\u001b[0m\n\u001b[1;32m      1\u001b[0m \u001b[38;5;66;03m# load TC hazard phl\u001b[39;00m\n\u001b[1;32m      2\u001b[0m haz_TC_dir \u001b[38;5;241m=\u001b[39m \u001b[38;5;124m'\u001b[39m\u001b[38;5;124m/cluster/work/climate/meilers/hazard/present\u001b[39m\u001b[38;5;124m'\u001b[39m\n\u001b[0;32m----> 3\u001b[0m haz_TC_phl \u001b[38;5;241m=\u001b[39m \u001b[43mTropCyclone\u001b[49m\u001b[38;5;241m.\u001b[39mfrom_hdf5(haz_TC_dir\u001b[38;5;241m.\u001b[39mjoinpath(\u001b[38;5;124m'\u001b[39m\u001b[38;5;124mTC_WP_0150as_MIT_H08.hdf5\u001b[39m\u001b[38;5;124m'\u001b[39m))\n\u001b[1;32m      4\u001b[0m \u001b[38;5;66;03m# load TC hazard som\u001b[39;00m\n",
      "\u001b[0;31mNameError\u001b[0m: name 'TropCyclone' is not defined"
     ]
    }
   ],
   "source": [
    "# load TC hazard phl\n",
    "haz_TC_dir = Path('/cluster/work/climate/meilers/hazard/present')\n",
    "haz_TC_phl = TropCyclone.from_hdf5(haz_TC_dir.joinpath('TC_WP_0150as_MIT_H08.hdf5'))\n",
    "# load TC hazard som\n",
    "haz_TC_dir = Path('/cluster/work/climate/meilers/hazard/present')\n",
    "haz_TC_som = TropCyclone.from_hdf5(haz_TC_dir.joinpath('TC_IO_0150as_MIT_H08.hdf5'))"
   ]
  },
  {
   "cell_type": "code",
   "execution_count": null,
   "id": "f7e903bd",
   "metadata": {},
   "outputs": [],
   "source": [
    "TC_phl = haz_TC_phl.select(extent=(\n",
    "    exp_phl.gdf['longitude'].min(), exp_phl.gdf['longitude'].max(), exp_phl.gdf['latitude'].min(), exp_phl.gdf['latitude'].max())"
   ]
  },
  {
   "cell_type": "code",
   "execution_count": null,
   "id": "71b010fd",
   "metadata": {},
   "outputs": [],
   "source": [
    "TC_som = haz_TC_som.select(extent=(\n",
    "    exp_som.gdf['longitude'].min(), exp_som.gdf['longitude'].max(), exp_som.gdf['latitude'].min(), exp_som.gdf['latitude'].max())"
   ]
  },
  {
   "cell_type": "code",
   "execution_count": null,
   "id": "dde077e3",
   "metadata": {},
   "outputs": [],
   "source": [
    "exp_som.gdf.rename({'impf_TC_base' : 'impf_TC'}, axis=1, inplace=True)\n",
    "exp_phl.gdf.rename({'impf_TC_base' : 'impf_TC'}, axis=1, inplace=True)\n",
    "\n",
    "imp_som_base = ImpactCalc(exp_som, vulnerability.IMPF_SET_TC_HAZUS, TC_som).impact()\n",
    "imp_phl_base = ImpactCalc(exp_som, vulnerability.IMPF_SET_TC_HAZUS, TC_phl).impact()"
   ]
  },
  {
   "cell_type": "code",
   "execution_count": 32,
   "id": "4dab2551",
   "metadata": {},
   "outputs": [],
   "source": [
    "exp_som.gdf.rename({'impf_TC' : 'impf_TC_base'}, axis=1, inplace=True) # change column name back\n",
    "exp_phl.gdf.rename({'impf_TC' : 'impf_TC_base'}, axis=1, inplace=True) # change column name back\n",
    "exp_som.gdf.rename({'impf_TC_min' : 'impf_TC'}, axis=1, inplace=True)\n",
    "exp_phl.gdf.rename({'impf_TC_min' : 'impf_TC'}, axis=1, inplace=True)\n",
    "\n",
    "imp_som_min = ImpactCalc(exp_som, vulnerability.IMPF_SET_TC_HAZUS, TC_som).impact()\n",
    "imp_phl_min = ImpactCalc(exp_som, vulnerability.IMPF_SET_TC_HAZUS, TC_phl).impact()"
   ]
  },
  {
   "cell_type": "code",
   "execution_count": null,
   "id": "829a2a09",
   "metadata": {},
   "outputs": [],
   "source": [
    "exp_som.gdf.rename({'impf_TC' : 'impf_TC_min'}, axis=1, inplace=True) # change column name back\n",
    "exp_phl.gdf.rename({'impf_TC' : 'impf_TC_min'}, axis=1, inplace=True) # change column name back\n",
    "exp_som.gdf.rename({'impf_TC_med' : 'impf_TC'}, axis=1, inplace=True)\n",
    "exp_phl.gdf.rename({'impf_TC_med' : 'impf_TC'}, axis=1, inplace=True)\n",
    "\n",
    "imp_som_med = ImpactCalc(exp_som, vulnerability.IMPF_SET_TC_HAZUS, TC_som).impact()\n",
    "imp_phl_med = ImpactCalc(exp_som, vulnerability.IMPF_SET_TC_HAZUS, TC_phl).impact()"
   ]
  },
  {
   "cell_type": "code",
   "execution_count": null,
   "id": "e7e29ea3",
   "metadata": {},
   "outputs": [],
   "source": [
    "exp_som.gdf.rename({'impf_TC' : 'impf_TC_med'}, axis=1, inplace=True) # change column name back\n",
    "exp_phl.gdf.rename({'impf_TC' : 'impf_TC_med'}, axis=1, inplace=True) # change column name back\n",
    "exp_som.gdf.rename({'impf_TC_max' : 'impf_TC'}, axis=1, inplace=True)\n",
    "exp_phl.gdf.rename({'impf_TC_max' : 'impf_TC'}, axis=1, inplace=True)\n",
    "\n",
    "imp_som_max = ImpactCalc(exp_som, vulnerability.IMPF_SET_TC_HAZUS, TC_som).impact()\n",
    "imp_phl_max = ImpactCalc(exp_som, vulnerability.IMPF_SET_TC_HAZUS, TC_phl).impact()"
   ]
  },
  {
   "cell_type": "code",
   "execution_count": null,
   "id": "78751817",
   "metadata": {},
   "outputs": [],
   "source": [
    "print(imp_som_base.aai_agg, imp_som_min.aai_agg, imp_som_med.aai_agg, imp_som_max.aai_agg)"
   ]
  },
  {
   "cell_type": "code",
   "execution_count": null,
   "id": "a2725420",
   "metadata": {},
   "outputs": [],
   "source": [
    "print(imp_phl_base.aai_agg, imp_phl_min.aai_agg, imp_phl_med.aai_agg, imp_phl_max.aai_agg)"
   ]
  },
  {
   "cell_type": "markdown",
   "id": "61c18adb",
   "metadata": {},
   "source": [
    "## FL impact functions"
   ]
  },
  {
   "cell_type": "markdown",
   "id": "56844457",
   "metadata": {},
   "source": [
    "### Base Scenario"
   ]
  },
  {
   "cell_type": "code",
   "execution_count": 34,
   "id": "694389ef",
   "metadata": {},
   "outputs": [],
   "source": [
    "exp_som.gdf['impf_FL_base'] = exp_som.gdf['se_seismo'].map(vulnerability.DICT_PAGER_FLIMPF_CIMA)\n",
    "exp_phl.gdf['impf_FL_base'] = exp_phl.gdf['se_seismo'].map(vulnerability.DICT_PAGER_FLIMPF_CIMA)"
   ]
  },
  {
   "cell_type": "markdown",
   "id": "8a3235f5",
   "metadata": {},
   "source": [
    "### Min, med, max scenarios"
   ]
  },
  {
   "cell_type": "code",
   "execution_count": 38,
   "id": "d851500d",
   "metadata": {},
   "outputs": [],
   "source": [
    "# manual mapping from vulnerable impf-ids to less vulnerable impf-ids and vice versa (referring do CIMA funcs)\n",
    "DICT_FLIMPF_MIN = {1:1,2:1,3:1,4:1,5:1,6:6,7:6,8:8,9:8,10:8,11:11,12:12,13:12,14:14,15:15}\n",
    "DICT_FLIMPF_MED = {1:2, 2:2, 3:2,4:2,5:2,6:7,7:7, 8:7,9:7,10:7,11:11,12:13,13:13,14:15,15:15}\n",
    "DICT_FLIMPF_MAX = {1:4, 2:4, 3:4, 4:4, 5:5, 6:10, 7:10, 8:10, 9:10, 10:10, 11:11, 12:13,13:13,14:15,15:15}    "
   ]
  },
  {
   "cell_type": "code",
   "execution_count": 39,
   "id": "96f86031",
   "metadata": {},
   "outputs": [],
   "source": [
    "exp_som.gdf['impf_FL_min'] = exp_som.gdf['impf_FL_base'].map(DICT_FLIMPF_MIN) \n",
    "exp_phl.gdf['impf_FL_min'] = exp_phl.gdf['impf_FL_base'].map(DICT_FLIMPF_MIN) "
   ]
  },
  {
   "cell_type": "code",
   "execution_count": 40,
   "id": "4ba48dfa",
   "metadata": {},
   "outputs": [],
   "source": [
    "exp_som.gdf['impf_FL_med'] = exp_som.gdf['impf_FL_base'].map(DICT_FLIMPF_MED) \n",
    "exp_phl.gdf['impf_FL_med'] = exp_phl.gdf['impf_FL_base'].map(DICT_FLIMPF_MED)"
   ]
  },
  {
   "cell_type": "code",
   "execution_count": 41,
   "id": "50197868",
   "metadata": {},
   "outputs": [],
   "source": [
    "exp_som.gdf['impf_FL_max'] = exp_som.gdf['impf_FL_base'].map(DICT_FLIMPF_MAX) \n",
    "exp_phl.gdf['impf_FL_max'] = exp_phl.gdf['impf_FL_base'].map(DICT_FLIMPF_MAX) "
   ]
  },
  {
   "cell_type": "markdown",
   "id": "aaea074f",
   "metadata": {},
   "source": [
    "### Perform impact calcs and compare"
   ]
  },
  {
   "cell_type": "code",
   "execution_count": null,
   "id": "ebff468c",
   "metadata": {},
   "outputs": [],
   "source": [
    "haz_CF_dir = Path('/cluster/work/climate/evelynm/IDMC_UNU/hazard/coastal_flood/venDEM_scaled_1km')"
   ]
  },
  {
   "cell_type": "code",
   "execution_count": null,
   "id": "db84d682",
   "metadata": {},
   "outputs": [],
   "source": [
    "# get tiles covering the exposure extent\n",
    "tiles_phl = coastal_flood_hazard.find_tiles(\n",
    "    exp_phl.gdf['latitude'].min(), exp_phl.gdf['latitude'].max(), exp_phl.gdf['longitude'].min(), exp_phl.gdf['longitude'].max())\n",
    "tiles_som = coastal_flood_hazard.find_tiles(\n",
    "    exp_som.gdf['latitude'].min(), exp_som.gdf['latitude'].max(), exp_som.gdf['longitude'].min(), exp_som.gdf['longitude'].max())"
   ]
  },
  {
   "cell_type": "code",
   "execution_count": null,
   "id": "53f7024f",
   "metadata": {},
   "outputs": [],
   "source": [
    "# load CF hazard phl\n",
    "CF_phl = coastal_flood_hazard.generate_hazard_object(tiles_phl, haz_CF_dir, 'RCP45', '2020', 'FL')\n",
    "# load CF hazard som\n",
    "CF_som = coastal_flood_hazard.generate_hazard_object(tiles_som, haz_CF_dir, 'RCP45', '2020', 'FL')"
   ]
  },
  {
   "cell_type": "code",
   "execution_count": null,
   "id": "195a3a2c",
   "metadata": {},
   "outputs": [],
   "source": [
    "exp_som.gdf.rename({'impf_FL_base' : 'impf_FL'}, axis=1, inplace=True)\n",
    "exp_phl.gdf.rename({'impf_FL_base' : 'impf_FL'}, axis=1, inplace=True)\n",
    "\n",
    "imp_som_base = ImpactCalc(exp_som, vulnerability.IMPF_SET_FL_CIMA, CF_som).impact()\n",
    "imp_phl_base = ImpactCalc(exp_som, vulnerability.IMPF_SET_FL_CIMA, CF_phl).impact()"
   ]
  },
  {
   "cell_type": "code",
   "execution_count": 32,
   "id": "f014f7d4",
   "metadata": {},
   "outputs": [],
   "source": [
    "exp_som.gdf.rename({'impf_FL' : 'impf_FL_base'}, axis=1, inplace=True) # change column name back\n",
    "exp_phl.gdf.rename({'impf_FL' : 'impf_FL_base'}, axis=1, inplace=True) # change column name back\n",
    "exp_som.gdf.rename({'impf_TC_min' : 'impf_FL'}, axis=1, inplace=True)\n",
    "exp_phl.gdf.rename({'impf_TC_min' : 'impf_FL'}, axis=1, inplace=True)\n",
    "\n",
    "imp_som_min = ImpactCalc(exp_som, vulnerability.IMPF_SET_FL_CIMA, CF_som).impact()\n",
    "imp_phl_min = ImpactCalc(exp_som, vulnerability.IMPF_SET_FL_CIMA, CF_phl).impact()"
   ]
  },
  {
   "cell_type": "code",
   "execution_count": null,
   "id": "75c5c649",
   "metadata": {},
   "outputs": [],
   "source": [
    "exp_som.gdf.rename({'impf_FL' : 'impf_TC_min'}, axis=1, inplace=True) # change column name back\n",
    "exp_phl.gdf.rename({'impf_FL' : 'impf_TC_min'}, axis=1, inplace=True) # change column name back\n",
    "exp_som.gdf.rename({'impf_FL_med' : 'impf_FL'}, axis=1, inplace=True)\n",
    "exp_phl.gdf.rename({'impf_FL_med' : 'impf_FL'}, axis=1, inplace=True)\n",
    "\n",
    "imp_som_med = ImpactCalc(exp_som, vulnerability.IMPF_SET_FL_CIMA, CF_som).impact()\n",
    "imp_phl_med = ImpactCalc(exp_som, vulnerability.IMPF_SET_FL_CIMA, CF_phl).impact()"
   ]
  },
  {
   "cell_type": "code",
   "execution_count": null,
   "id": "b6e22948",
   "metadata": {},
   "outputs": [],
   "source": [
    "exp_som.gdf.rename({'impf_FL' : 'impf_FL_med'}, axis=1, inplace=True) # change column name back\n",
    "exp_phl.gdf.rename({'impf_FL' : 'impf_FL_med'}, axis=1, inplace=True) # change column name back\n",
    "exp_som.gdf.rename({'impf_FL_max' : 'impf_FL'}, axis=1, inplace=True)\n",
    "exp_phl.gdf.rename({'impf_FL_max' : 'impf_FL'}, axis=1, inplace=True)\n",
    "\n",
    "imp_som_max = ImpactCalc(exp_som, vulnerability.IMPF_SET_FL_CIMA, CF_som).impact()\n",
    "imp_phl_max = ImpactCalc(exp_som, vulnerability.IMPF_SET_FL_CIMA, CF_phl).impact()"
   ]
  },
  {
   "cell_type": "code",
   "execution_count": null,
   "id": "854969d9",
   "metadata": {},
   "outputs": [],
   "source": [
    "print(imp_som_base.aai_agg, imp_som_min.aai_agg, imp_som_med.aai_agg, imp_som_max.aai_agg)"
   ]
  },
  {
   "cell_type": "code",
   "execution_count": null,
   "id": "c8854057",
   "metadata": {},
   "outputs": [],
   "source": [
    "print(imp_phl_base.aai_agg, imp_phl_min.aai_agg, imp_phl_med.aai_agg, imp_phl_max.aai_agg)"
   ]
  }
 ],
 "metadata": {
  "kernelspec": {
   "display_name": "Python 3 (ipykernel)",
   "language": "python",
   "name": "python3"
  },
  "language_info": {
   "codemirror_mode": {
    "name": "ipython",
    "version": 3
   },
   "file_extension": ".py",
   "mimetype": "text/x-python",
   "name": "python",
   "nbconvert_exporter": "python",
   "pygments_lexer": "ipython3",
   "version": "3.9.16"
  }
 },
 "nbformat": 4,
 "nbformat_minor": 5
}
