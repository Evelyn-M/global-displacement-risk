{
 "cells": [
  {
   "cell_type": "markdown",
   "id": "47d4aad4-9855-4cf5-972c-b7d047475661",
   "metadata": {},
   "source": [
    "# Somalia displacement case study - CIMA vs BEM"
   ]
  },
  {
   "cell_type": "markdown",
   "id": "75e83041-4c38-4e7c-b0c3-8d81013ea33d",
   "metadata": {},
   "source": [
    "This notebook compares (flood) displacement risk in Somalia estimated with two different exposure and associated vulnerability models."
   ]
  },
  {
   "cell_type": "markdown",
   "id": "7bfd76c8-5307-4011-a32b-e1e23d29dd92",
   "metadata": {},
   "source": [
    "## Make/Load Hazard"
   ]
  },
  {
   "cell_type": "markdown",
   "id": "21c8400f-6c3e-40e6-8dea-66a32bfd1f8d",
   "metadata": {},
   "source": [
    "Load the return period flood maps."
   ]
  },
  {
   "cell_type": "code",
   "execution_count": 1,
   "id": "0951950a-2944-4ba8-afc2-ca587fd67851",
   "metadata": {
    "execution": {
     "iopub.execute_input": "2024-03-06T16:42:47.398617Z",
     "iopub.status.busy": "2024-03-06T16:42:47.397938Z",
     "iopub.status.idle": "2024-03-06T16:42:47.403761Z",
     "shell.execute_reply": "2024-03-06T16:42:47.402677Z",
     "shell.execute_reply.started": "2024-03-06T16:42:47.398580Z"
    }
   },
   "outputs": [],
   "source": [
    "from climada.hazard import Hazard"
   ]
  },
  {
   "cell_type": "code",
   "execution_count": 2,
   "id": "cb8f9ea1-08b5-4e71-91d8-eea2cee1fcf4",
   "metadata": {
    "execution": {
     "iopub.execute_input": "2024-03-08T11:14:06.692248Z",
     "iopub.status.busy": "2024-03-08T11:14:06.691044Z",
     "iopub.status.idle": "2024-03-08T11:14:06.782969Z",
     "shell.execute_reply": "2024-03-08T11:14:06.782519Z",
     "shell.execute_reply.started": "2024-03-08T11:14:06.692145Z"
    }
   },
   "outputs": [],
   "source": [
    "import numpy as np\n",
    "from pathlib import Path"
   ]
  },
  {
   "cell_type": "code",
   "execution_count": 3,
   "id": "4736089e",
   "metadata": {},
   "outputs": [],
   "source": [
    "HAZ_TYPE = 'FL'"
   ]
  },
  {
   "cell_type": "code",
   "execution_count": 4,
   "id": "b4cbf32b-6bfc-48f9-9c42-5ffb9b3361d2",
   "metadata": {
    "execution": {
     "iopub.execute_input": "2024-03-06T16:42:52.513805Z",
     "iopub.status.busy": "2024-03-06T16:42:52.513202Z",
     "iopub.status.idle": "2024-03-06T16:42:52.518911Z",
     "shell.execute_reply": "2024-03-06T16:42:52.517331Z",
     "shell.execute_reply.started": "2024-03-06T16:42:52.513766Z"
    }
   },
   "outputs": [],
   "source": [
    "HAZ_FOLDER = Path('/Users/simonameiler/Documents/WCR/Displacement/Somalia_CIMA_example/Hazard/HISTORICAL/')"
   ]
  },
  {
   "cell_type": "code",
   "execution_count": 5,
   "id": "07abc270-3a9c-4558-baef-e46f09be7e4f",
   "metadata": {
    "execution": {
     "iopub.execute_input": "2024-03-06T16:42:52.855518Z",
     "iopub.status.busy": "2024-03-06T16:42:52.854872Z",
     "iopub.status.idle": "2024-03-06T16:42:52.864915Z",
     "shell.execute_reply": "2024-03-06T16:42:52.863555Z",
     "shell.execute_reply.started": "2024-03-06T16:42:52.855478Z"
    }
   },
   "outputs": [],
   "source": [
    "haz_files = [str(file) for file in HAZ_FOLDER.glob('*.tif')]\n",
    "rp = np.array([int(Path(file).stem[-4:]) for file in haz_files])"
   ]
  },
  {
   "cell_type": "code",
   "execution_count": 6,
   "id": "dd1eed7b-b5dd-420a-bafb-c3c6052de2b9",
   "metadata": {
    "execution": {
     "iopub.execute_input": "2024-03-06T16:42:53.353644Z",
     "iopub.status.busy": "2024-03-06T16:42:53.352406Z",
     "iopub.status.idle": "2024-03-06T16:43:15.481671Z",
     "shell.execute_reply": "2024-03-06T16:43:15.481170Z",
     "shell.execute_reply.started": "2024-03-06T16:42:53.353531Z"
    }
   },
   "outputs": [],
   "source": [
    "haz = Hazard.from_raster(\n",
    "    haz_type=HAZ_TYPE, files_intensity=haz_files, src_crs='WGS84',\n",
    "    attrs={'unit': 'm', 'event_id': np.arange(len(haz_files)), 'frequency':1/rp}\n",
    ")"
   ]
  },
  {
   "cell_type": "code",
   "execution_count": 7,
   "id": "9d58fc22",
   "metadata": {},
   "outputs": [],
   "source": [
    "# convert intensity given in cm to m\n",
    "haz.intensity = haz.intensity/100"
   ]
  },
  {
   "cell_type": "code",
   "execution_count": 8,
   "id": "ba291b2b-202f-4c3b-b0fd-c23442fce7d0",
   "metadata": {
    "execution": {
     "iopub.execute_input": "2024-03-06T16:43:33.093423Z",
     "iopub.status.busy": "2024-03-06T16:43:33.092807Z",
     "iopub.status.idle": "2024-03-06T16:43:33.127574Z",
     "shell.execute_reply": "2024-03-06T16:43:33.127093Z",
     "shell.execute_reply.started": "2024-03-06T16:43:33.093379Z"
    }
   },
   "outputs": [
    {
     "data": {
      "text/plain": [
       "array([5.56     , 6.8173584, 6.03     , 7.39     , 7.1      , 6.4      ,\n",
       "       4.65     , 3.53     ])"
      ]
     },
     "execution_count": 8,
     "metadata": {},
     "output_type": "execute_result"
    }
   ],
   "source": [
    "haz.intensity.max(axis=1).data"
   ]
  },
  {
   "cell_type": "markdown",
   "id": "a78e4178",
   "metadata": {},
   "source": [
    "## BEM exposure model"
   ]
  },
  {
   "cell_type": "markdown",
   "id": "7783a47b-9c23-4f03-9343-8bc19eb176c5",
   "metadata": {},
   "source": [
    "### Load Exposures and Impact function set"
   ]
  },
  {
   "cell_type": "code",
   "execution_count": 9,
   "id": "085c0ef1-043e-4001-b630-3cd902b8549f",
   "metadata": {
    "execution": {
     "iopub.execute_input": "2024-03-08T11:14:07.393699Z",
     "iopub.status.busy": "2024-03-08T11:14:07.392971Z",
     "iopub.status.idle": "2024-03-08T11:14:07.399577Z",
     "shell.execute_reply": "2024-03-08T11:14:07.398341Z",
     "shell.execute_reply.started": "2024-03-08T11:14:07.393645Z"
    }
   },
   "outputs": [],
   "source": [
    "from climada.entity.exposures import Exposures\n",
    "import numpy as np\n",
    "import os\n",
    "\n",
    "os.chdir('/Users/simonameiler/Documents/WCR/Displacement/global-displacement-risk') # change back to root folder, not \"~/doc\"\n",
    "import exposure\n",
    "import vulnerability"
   ]
  },
  {
   "cell_type": "code",
   "execution_count": 10,
   "id": "913c0942",
   "metadata": {},
   "outputs": [],
   "source": [
    "cntry_name = 'Somalia'"
   ]
  },
  {
   "cell_type": "markdown",
   "id": "d0f54278",
   "metadata": {},
   "source": [
    "### BEM subcomponents"
   ]
  },
  {
   "cell_type": "markdown",
   "id": "b47dd2f0",
   "metadata": {},
   "source": [
    "These are derived from country-wise `.csv` files.\n",
    "The following functions load them into `GeoDataFrames`, adding coordinates from a separate file.\n",
    "\n",
    "To convert them into formats usable as `Exposures()`, a few processing options are available (work in progress)."
   ]
  },
  {
   "cell_type": "code",
   "execution_count": 11,
   "id": "211f7a77",
   "metadata": {},
   "outputs": [
    {
     "data": {
      "text/html": [
       "<div>\n",
       "<style scoped>\n",
       "    .dataframe tbody tr th:only-of-type {\n",
       "        vertical-align: middle;\n",
       "    }\n",
       "\n",
       "    .dataframe tbody tr th {\n",
       "        vertical-align: top;\n",
       "    }\n",
       "\n",
       "    .dataframe thead th {\n",
       "        text-align: right;\n",
       "    }\n",
       "</style>\n",
       "<table border=\"1\" class=\"dataframe\">\n",
       "  <thead>\n",
       "    <tr style=\"text-align: right;\">\n",
       "      <th></th>\n",
       "      <th>id_1x</th>\n",
       "      <th>iso3</th>\n",
       "      <th>cpx</th>\n",
       "      <th>sector</th>\n",
       "      <th>se_seismo</th>\n",
       "      <th>valhum</th>\n",
       "      <th>valfis</th>\n",
       "      <th>bd_1_floor</th>\n",
       "      <th>bd_2_floor</th>\n",
       "      <th>bd_3_floor</th>\n",
       "      <th>geometry</th>\n",
       "    </tr>\n",
       "  </thead>\n",
       "  <tbody>\n",
       "    <tr>\n",
       "      <th>0</th>\n",
       "      <td>174025676</td>\n",
       "      <td>SOM</td>\n",
       "      <td>3</td>\n",
       "      <td>beds_priv</td>\n",
       "      <td>W2</td>\n",
       "      <td>0.000342</td>\n",
       "      <td>5.179267e-07</td>\n",
       "      <td>100.0</td>\n",
       "      <td>0.0</td>\n",
       "      <td>0.0</td>\n",
       "      <td>POINT (50.54583 11.86250)</td>\n",
       "    </tr>\n",
       "    <tr>\n",
       "      <th>1</th>\n",
       "      <td>174025676</td>\n",
       "      <td>SOM</td>\n",
       "      <td>3</td>\n",
       "      <td>beds_priv</td>\n",
       "      <td>W1</td>\n",
       "      <td>0.000146</td>\n",
       "      <td>2.214579e-07</td>\n",
       "      <td>100.0</td>\n",
       "      <td>0.0</td>\n",
       "      <td>0.0</td>\n",
       "      <td>POINT (50.54583 11.86250)</td>\n",
       "    </tr>\n",
       "    <tr>\n",
       "      <th>2</th>\n",
       "      <td>174025676</td>\n",
       "      <td>SOM</td>\n",
       "      <td>3</td>\n",
       "      <td>beds_priv</td>\n",
       "      <td>UCB</td>\n",
       "      <td>0.000005</td>\n",
       "      <td>7.143810e-09</td>\n",
       "      <td>100.0</td>\n",
       "      <td>0.0</td>\n",
       "      <td>0.0</td>\n",
       "      <td>POINT (50.54583 11.86250)</td>\n",
       "    </tr>\n",
       "    <tr>\n",
       "      <th>3</th>\n",
       "      <td>174025676</td>\n",
       "      <td>SOM</td>\n",
       "      <td>3</td>\n",
       "      <td>beds_priv</td>\n",
       "      <td>RS2</td>\n",
       "      <td>0.000038</td>\n",
       "      <td>5.715046e-08</td>\n",
       "      <td>100.0</td>\n",
       "      <td>0.0</td>\n",
       "      <td>0.0</td>\n",
       "      <td>POINT (50.54583 11.86250)</td>\n",
       "    </tr>\n",
       "    <tr>\n",
       "      <th>4</th>\n",
       "      <td>174025676</td>\n",
       "      <td>SOM</td>\n",
       "      <td>3</td>\n",
       "      <td>beds_priv</td>\n",
       "      <td>INF</td>\n",
       "      <td>0.000014</td>\n",
       "      <td>2.143141e-08</td>\n",
       "      <td>100.0</td>\n",
       "      <td>0.0</td>\n",
       "      <td>0.0</td>\n",
       "      <td>POINT (50.54583 11.86250)</td>\n",
       "    </tr>\n",
       "  </tbody>\n",
       "</table>\n",
       "</div>"
      ],
      "text/plain": [
       "       id_1x iso3  cpx     sector se_seismo    valhum        valfis  \\\n",
       "0  174025676  SOM    3  beds_priv        W2  0.000342  5.179267e-07   \n",
       "1  174025676  SOM    3  beds_priv        W1  0.000146  2.214579e-07   \n",
       "2  174025676  SOM    3  beds_priv       UCB  0.000005  7.143810e-09   \n",
       "3  174025676  SOM    3  beds_priv       RS2  0.000038  5.715046e-08   \n",
       "4  174025676  SOM    3  beds_priv       INF  0.000014  2.143141e-08   \n",
       "\n",
       "   bd_1_floor  bd_2_floor  bd_3_floor                   geometry  \n",
       "0       100.0         0.0         0.0  POINT (50.54583 11.86250)  \n",
       "1       100.0         0.0         0.0  POINT (50.54583 11.86250)  \n",
       "2       100.0         0.0         0.0  POINT (50.54583 11.86250)  \n",
       "3       100.0         0.0         0.0  POINT (50.54583 11.86250)  \n",
       "4       100.0         0.0         0.0  POINT (50.54583 11.86250)  "
      ]
     },
     "execution_count": 11,
     "metadata": {},
     "output_type": "execute_result"
    }
   ],
   "source": [
    "# Load the full dataframe, without further re-aggregation / processing other than adding centroids\n",
    "gdf_bem_subcomps = exposure.gdf_from_bem_subcomps(cntry_name, opt='full')\n",
    "gdf_bem_subcomps.head()"
   ]
  },
  {
   "cell_type": "markdown",
   "id": "f1ad190c",
   "metadata": {},
   "source": [
    "Info on the meaning of the columns can be found in the UNEP-GRID technical documentation and further references. The centroids (id_1x / geometry) is multiply defined, each separate sector-se_seismo combo has its unique row."
   ]
  },
  {
   "cell_type": "markdown",
   "id": "d40ce734",
   "metadata": {},
   "source": [
    "While there are 8 different building types, we can simply define impact functions for all of these, and make a `CLIMADA` exposure from it (in which centroids are multiply defined)."
   ]
  },
  {
   "cell_type": "code",
   "execution_count": 12,
   "id": "1a240125",
   "metadata": {},
   "outputs": [],
   "source": [
    "# filter and apply impf id\n",
    "gdf_bem_subcomps = gdf_bem_subcomps[gdf_bem_subcomps.valhum>0.001] # filter out rows with basically no population\n",
    "gdf_bem_subcomps['impf_FL'] = gdf_bem_subcomps.apply(lambda row: vulnerability.DICT_PAGER_FLIMPF_IVM[row.se_seismo], axis=1)"
   ]
  },
  {
   "cell_type": "code",
   "execution_count": 13,
   "id": "940eed51",
   "metadata": {},
   "outputs": [],
   "source": [
    "# replace impf 3 --> 5 for 2-storeys and more\n",
    "gdf_bem_subcomps.loc[((gdf_bem_subcomps.bd_3_floor+gdf_bem_subcomps.bd_2_floor)>0.5)\n",
    "                     &(gdf_bem_subcomps.impf_FL==3), \"impf_FL\"] = 5"
   ]
  },
  {
   "cell_type": "code",
   "execution_count": 14,
   "id": "1b101c3b",
   "metadata": {},
   "outputs": [],
   "source": [
    "# replace impf 4 --> 6 for 2-storeys and more\n",
    "gdf_bem_subcomps.loc[((gdf_bem_subcomps.bd_3_floor+gdf_bem_subcomps.bd_2_floor)>0.5)\n",
    "                     &(gdf_bem_subcomps.impf_FL==4), \"impf_FL\"] = 6"
   ]
  },
  {
   "cell_type": "code",
   "execution_count": 15,
   "id": "3c46bc4f",
   "metadata": {},
   "outputs": [],
   "source": [
    "# remove for now unnecessary cols and prepare gdf for CLIMADA Exposure\n",
    "gdf_bem_subcomps.rename({'valhum' : 'value'}, axis=1)\n",
    "for col in ['iso3', 'sector', 'valfis', 'se_seismo']:\n",
    "    gdf_bem_subcomps.pop(col)"
   ]
  },
  {
   "cell_type": "markdown",
   "id": "352f04f4",
   "metadata": {},
   "source": [
    "Make CLIMADA Exposure with mutliply defined centroids"
   ]
  },
  {
   "cell_type": "code",
   "execution_count": 16,
   "id": "eff4c92b",
   "metadata": {},
   "outputs": [
    {
     "data": {
      "text/html": [
       "<div>\n",
       "<style scoped>\n",
       "    .dataframe tbody tr th:only-of-type {\n",
       "        vertical-align: middle;\n",
       "    }\n",
       "\n",
       "    .dataframe tbody tr th {\n",
       "        vertical-align: top;\n",
       "    }\n",
       "\n",
       "    .dataframe thead th {\n",
       "        text-align: right;\n",
       "    }\n",
       "</style>\n",
       "<table border=\"1\" class=\"dataframe\">\n",
       "  <thead>\n",
       "    <tr style=\"text-align: right;\">\n",
       "      <th></th>\n",
       "      <th>id_1x</th>\n",
       "      <th>cpx</th>\n",
       "      <th>value</th>\n",
       "      <th>bd_1_floor</th>\n",
       "      <th>bd_2_floor</th>\n",
       "      <th>bd_3_floor</th>\n",
       "      <th>geometry</th>\n",
       "      <th>impf_FL</th>\n",
       "      <th>longitude</th>\n",
       "      <th>latitude</th>\n",
       "    </tr>\n",
       "  </thead>\n",
       "  <tbody>\n",
       "    <tr>\n",
       "      <th>6</th>\n",
       "      <td>194457751</td>\n",
       "      <td>3</td>\n",
       "      <td>0.003283</td>\n",
       "      <td>0.0</td>\n",
       "      <td>0.0</td>\n",
       "      <td>0.0</td>\n",
       "      <td>POINT (43.40417 0.66250)</td>\n",
       "      <td>2</td>\n",
       "      <td>43.404167</td>\n",
       "      <td>0.6625</td>\n",
       "    </tr>\n",
       "    <tr>\n",
       "      <th>7</th>\n",
       "      <td>194457751</td>\n",
       "      <td>3</td>\n",
       "      <td>0.001404</td>\n",
       "      <td>0.0</td>\n",
       "      <td>0.0</td>\n",
       "      <td>0.0</td>\n",
       "      <td>POINT (43.40417 0.66250)</td>\n",
       "      <td>2</td>\n",
       "      <td>43.404167</td>\n",
       "      <td>0.6625</td>\n",
       "    </tr>\n",
       "    <tr>\n",
       "      <th>12</th>\n",
       "      <td>194457751</td>\n",
       "      <td>3</td>\n",
       "      <td>0.002711</td>\n",
       "      <td>0.0</td>\n",
       "      <td>0.0</td>\n",
       "      <td>0.0</td>\n",
       "      <td>POINT (43.40417 0.66250)</td>\n",
       "      <td>2</td>\n",
       "      <td>43.404167</td>\n",
       "      <td>0.6625</td>\n",
       "    </tr>\n",
       "    <tr>\n",
       "      <th>13</th>\n",
       "      <td>194457751</td>\n",
       "      <td>3</td>\n",
       "      <td>0.001159</td>\n",
       "      <td>0.0</td>\n",
       "      <td>0.0</td>\n",
       "      <td>0.0</td>\n",
       "      <td>POINT (43.40417 0.66250)</td>\n",
       "      <td>2</td>\n",
       "      <td>43.404167</td>\n",
       "      <td>0.6625</td>\n",
       "    </tr>\n",
       "    <tr>\n",
       "      <th>18</th>\n",
       "      <td>194457751</td>\n",
       "      <td>3</td>\n",
       "      <td>0.281569</td>\n",
       "      <td>0.0</td>\n",
       "      <td>0.0</td>\n",
       "      <td>0.0</td>\n",
       "      <td>POINT (43.40417 0.66250)</td>\n",
       "      <td>2</td>\n",
       "      <td>43.404167</td>\n",
       "      <td>0.6625</td>\n",
       "    </tr>\n",
       "  </tbody>\n",
       "</table>\n",
       "</div>"
      ],
      "text/plain": [
       "        id_1x  cpx     value  bd_1_floor  bd_2_floor  bd_3_floor  \\\n",
       "6   194457751    3  0.003283         0.0         0.0         0.0   \n",
       "7   194457751    3  0.001404         0.0         0.0         0.0   \n",
       "12  194457751    3  0.002711         0.0         0.0         0.0   \n",
       "13  194457751    3  0.001159         0.0         0.0         0.0   \n",
       "18  194457751    3  0.281569         0.0         0.0         0.0   \n",
       "\n",
       "                    geometry  impf_FL  longitude  latitude  \n",
       "6   POINT (43.40417 0.66250)        2  43.404167    0.6625  \n",
       "7   POINT (43.40417 0.66250)        2  43.404167    0.6625  \n",
       "12  POINT (43.40417 0.66250)        2  43.404167    0.6625  \n",
       "13  POINT (43.40417 0.66250)        2  43.404167    0.6625  \n",
       "18  POINT (43.40417 0.66250)        2  43.404167    0.6625  "
      ]
     },
     "execution_count": 16,
     "metadata": {},
     "output_type": "execute_result"
    }
   ],
   "source": [
    "exp_bem_ivm = Exposures(gdf_bem_subcomps)\n",
    "exp_bem_ivm.gdf.rename({'valhum': 'value'}, axis=1, inplace=True)\n",
    "exp_bem_ivm.value_unit = 'Pop. count'\n",
    "exp_bem_ivm.gdf['longitude'] = exp_bem_ivm.gdf.geometry.x\n",
    "exp_bem_ivm.gdf['latitude'] = exp_bem_ivm.gdf.geometry.y\n",
    "exp_bem_ivm.gdf = exp_bem_ivm.gdf[~np.isnan(\n",
    "    exp_bem_ivm.gdf.latitude)]  # drop nan centroids\n",
    "exp_bem_ivm.gdf.head()"
   ]
  },
  {
   "cell_type": "code",
   "execution_count": 17,
   "id": "e3672cfa",
   "metadata": {},
   "outputs": [
    {
     "data": {
      "text/plain": [
       "19054739.587962776"
      ]
     },
     "execution_count": 17,
     "metadata": {},
     "output_type": "execute_result"
    }
   ],
   "source": [
    "exp_bem_ivm.gdf.value.sum()"
   ]
  },
  {
   "cell_type": "code",
   "execution_count": 18,
   "id": "ab9c1dab",
   "metadata": {},
   "outputs": [],
   "source": [
    "impf_set_fl = vulnerability.IMPF_SET_FL_IVM"
   ]
  },
  {
   "cell_type": "code",
   "execution_count": 19,
   "id": "80a22ea4",
   "metadata": {},
   "outputs": [
    {
     "data": {
      "text/plain": [
       "array([[<Axes: title={'center': 'FL 1: Flood impact function class I'}, xlabel='Intensity (metres)', ylabel='Impact (%)'>,\n",
       "        <Axes: title={'center': 'FL 2: Flood impact function class II'}, xlabel='Intensity (metres)', ylabel='Impact (%)'>,\n",
       "        <Axes: title={'center': 'FL 3: Flood impact function class III - one storey'}, xlabel='Intensity (metres)', ylabel='Impact (%)'>],\n",
       "       [<Axes: title={'center': 'FL 5: Flood impact function class III - two storeys'}, xlabel='Intensity (metres)', ylabel='Impact (%)'>,\n",
       "        <Axes: title={'center': 'FL 4: Flood impact function class IV - one storey'}, xlabel='Intensity (metres)', ylabel='Impact (%)'>,\n",
       "        <Axes: title={'center': 'FL 6: Flood impact function class IV - two storeys'}, xlabel='Intensity (metres)', ylabel='Impact (%)'>]],\n",
       "      dtype=object)"
      ]
     },
     "execution_count": 19,
     "metadata": {},
     "output_type": "execute_result"
    },
    {
     "data": {
      "image/png": "[encoded data removed]",
      "text/plain": [
       "<Figure size 640x480 with 6 Axes>"
      ]
     },
     "metadata": {},
     "output_type": "display_data"
    }
   ],
   "source": [
    "impf_set_fl.plot()"
   ]
  },
  {
   "cell_type": "markdown",
   "id": "9359001c",
   "metadata": {},
   "source": [
    "Generate step function from PAGER building types"
   ]
  },
  {
   "cell_type": "code",
   "execution_count": 20,
   "id": "9b4676b0-9af2-4419-b1bd-47cccb5df631",
   "metadata": {
    "execution": {
     "iopub.execute_input": "2024-03-06T16:42:42.108135Z",
     "iopub.status.busy": "2024-03-06T16:42:42.106998Z",
     "iopub.status.idle": "2024-03-06T16:42:42.141409Z",
     "shell.execute_reply": "2024-03-06T16:42:42.140849Z",
     "shell.execute_reply.started": "2024-03-06T16:42:42.108042Z"
    }
   },
   "outputs": [
    {
     "name": "stdout",
     "output_type": "stream",
     "text": [
      "ID: 1 - threshold stepfunction: 0.5625\n",
      "ID: 2 - threshold stepfunction: 0.7000000000000002\n",
      "ID: 3 - threshold stepfunction: 1.0\n",
      "ID: 5 - threshold stepfunction: 1.8125000000000004\n",
      "ID: 4 - threshold stepfunction: 1.5\n",
      "ID: 6 - threshold stepfunction: 3.0\n"
     ]
    }
   ],
   "source": [
    "from climada.entity import ImpactFunc, ImpactFuncSet\n",
    "impf_set_ivm_step = ImpactFuncSet()\n",
    "\n",
    "# The threshold of building damage after which all people are displaced. Below, no-one is displaced.\n",
    "building_thes = 0.55 # 55% iDMC v1; CIMA: 30% for Somalia to 60% for other countries. \n",
    "\n",
    "for imp_id in impf_set_fl.get_ids(haz_type='FL'):\n",
    "    impf_set_fl.get_func(fun_id=imp_id)\n",
    "    y = impf_set_fl.get_func(fun_id=imp_id)[0].intensity\n",
    "    x = impf_set_fl.get_func(fun_id=imp_id)[0].mdd\n",
    "    flood_thres = np.interp(building_thes, x, y)\n",
    "    print('ID: '+str(imp_id)+' - threshold stepfunction: '+str(flood_thres))\n",
    "    impf_set_ivm_step.append(\n",
    "                ImpactFunc.from_step_impf(\n",
    "                    intensity=(0,  flood_thres, flood_thres *10),\n",
    "                    haz_type='FL',\n",
    "                    impf_id=imp_id,\n",
    "                    intensity_unit = 'm'\n",
    "                )\n",
    "    )"
   ]
  },
  {
   "cell_type": "code",
   "execution_count": 21,
   "id": "877a2a31-8144-4077-9390-262374ad0bb8",
   "metadata": {
    "execution": {
     "iopub.execute_input": "2024-03-06T16:42:42.763250Z",
     "iopub.status.busy": "2024-03-06T16:42:42.762794Z",
     "iopub.status.idle": "2024-03-06T16:42:43.327227Z",
     "shell.execute_reply": "2024-03-06T16:42:43.326937Z",
     "shell.execute_reply.started": "2024-03-06T16:42:42.763222Z"
    }
   },
   "outputs": [
    {
     "data": {
      "text/plain": [
       "array([[<Axes: title={'center': 'FL 1: '}, xlabel='Intensity (m)', ylabel='Impact (%)'>,\n",
       "        <Axes: title={'center': 'FL 2: '}, xlabel='Intensity (m)', ylabel='Impact (%)'>,\n",
       "        <Axes: title={'center': 'FL 3: '}, xlabel='Intensity (m)', ylabel='Impact (%)'>],\n",
       "       [<Axes: title={'center': 'FL 5: '}, xlabel='Intensity (m)', ylabel='Impact (%)'>,\n",
       "        <Axes: title={'center': 'FL 4: '}, xlabel='Intensity (m)', ylabel='Impact (%)'>,\n",
       "        <Axes: title={'center': 'FL 6: '}, xlabel='Intensity (m)', ylabel='Impact (%)'>]],\n",
       "      dtype=object)"
      ]
     },
     "execution_count": 21,
     "metadata": {},
     "output_type": "execute_result"
    },
    {
     "data": {
      "image/png": "[encoded data removed]",
      "text/plain": [
       "<Figure size 640x480 with 6 Axes>"
      ]
     },
     "metadata": {},
     "output_type": "display_data"
    }
   ],
   "source": [
    "impf_set_ivm_step.plot()"
   ]
  },
  {
   "cell_type": "markdown",
   "id": "f7cda0d6-b36d-4910-a7dc-776211abedef",
   "metadata": {},
   "source": [
    "### Impacts"
   ]
  },
  {
   "cell_type": "markdown",
   "id": "393e96b9-f8a5-402b-ab5f-1949cf90067d",
   "metadata": {},
   "source": [
    "#### Historical"
   ]
  },
  {
   "cell_type": "code",
   "execution_count": 22,
   "id": "3ed5ecee-68c4-4653-bee7-23fad77a2813",
   "metadata": {
    "execution": {
     "iopub.execute_input": "2024-03-06T16:43:40.959578Z",
     "iopub.status.busy": "2024-03-06T16:43:40.958177Z",
     "iopub.status.idle": "2024-03-06T16:43:40.983092Z",
     "shell.execute_reply": "2024-03-06T16:43:40.982629Z",
     "shell.execute_reply.started": "2024-03-06T16:43:40.959436Z"
    }
   },
   "outputs": [],
   "source": [
    "from climada.engine import ImpactCalc"
   ]
  },
  {
   "cell_type": "code",
   "execution_count": 23,
   "id": "34449358-249d-4b09-b422-4e1ba1a7c017",
   "metadata": {
    "execution": {
     "iopub.execute_input": "2024-03-06T16:43:59.510138Z",
     "iopub.status.busy": "2024-03-06T16:43:59.509593Z",
     "iopub.status.idle": "2024-03-06T16:44:18.820670Z",
     "shell.execute_reply": "2024-03-06T16:44:18.819790Z",
     "shell.execute_reply.started": "2024-03-06T16:43:59.510101Z"
    }
   },
   "outputs": [],
   "source": [
    "impcalc = ImpactCalc(exp_bem_ivm, impf_set_ivm_step, haz)\n",
    "impact_bem = impcalc.impact()"
   ]
  },
  {
   "cell_type": "code",
   "execution_count": 24,
   "id": "9307ac92-f0b3-48e4-949f-4688f6fd1c15",
   "metadata": {
    "execution": {
     "iopub.execute_input": "2024-03-06T16:44:18.822253Z",
     "iopub.status.busy": "2024-03-06T16:44:18.822052Z",
     "iopub.status.idle": "2024-03-06T16:44:18.825432Z",
     "shell.execute_reply": "2024-03-06T16:44:18.825183Z",
     "shell.execute_reply.started": "2024-03-06T16:44:18.822238Z"
    }
   },
   "outputs": [
    {
     "data": {
      "text/plain": [
       "107376.26532230548"
      ]
     },
     "execution_count": 24,
     "metadata": {},
     "output_type": "execute_result"
    }
   ],
   "source": [
    "# Compared to the ~40'000 reported by CIMA using the probabilistic hazard set\n",
    "impact_bem.aai_agg"
   ]
  },
  {
   "cell_type": "code",
   "execution_count": 25,
   "id": "be261831-dab5-4de9-8bbf-96da063f9c33",
   "metadata": {
    "execution": {
     "iopub.execute_input": "2024-03-06T16:44:18.826029Z",
     "iopub.status.busy": "2024-03-06T16:44:18.825921Z",
     "iopub.status.idle": "2024-03-06T16:44:18.828096Z",
     "shell.execute_reply": "2024-03-06T16:44:18.827824Z",
     "shell.execute_reply.started": "2024-03-06T16:44:18.826018Z"
    }
   },
   "outputs": [],
   "source": [
    "freqd_curve_bem = impact_bem.calc_freq_curve(return_per = np.arange(1, 250, 1))"
   ]
  },
  {
   "cell_type": "code",
   "execution_count": 26,
   "id": "8de3f7c5-6d46-42b2-a769-2f62c2aef868",
   "metadata": {
    "execution": {
     "iopub.execute_input": "2024-03-06T16:44:18.829094Z",
     "iopub.status.busy": "2024-03-06T16:44:18.828977Z",
     "iopub.status.idle": "2024-03-06T16:44:18.908743Z",
     "shell.execute_reply": "2024-03-06T16:44:18.908038Z",
     "shell.execute_reply.started": "2024-03-06T16:44:18.829082Z"
    }
   },
   "outputs": [
    {
     "data": {
      "text/plain": [
       "<Axes: title={'center': 'Exceedance frequency curve'}, xlabel='Return period (year)', ylabel='Impact (Pop. count)'>"
      ]
     },
     "execution_count": 26,
     "metadata": {},
     "output_type": "execute_result"
    },
    {
     "data": {
      "image/png": "[encoded data removed]",
      "text/plain": [
       "<Figure size 640x480 with 1 Axes>"
      ]
     },
     "metadata": {},
     "output_type": "display_data"
    }
   ],
   "source": [
    "freqd_curve_bem.plot()"
   ]
  },
  {
   "cell_type": "markdown",
   "id": "458d7ef4",
   "metadata": {},
   "source": [
    "## CIMA exposure & vulernability functions"
   ]
  },
  {
   "cell_type": "markdown",
   "id": "af84d666-d799-40d0-bbc2-374266356939",
   "metadata": {
    "jp-MarkdownHeadingCollapsed": true
   },
   "source": [
    "### Load exp and Impf"
   ]
  },
  {
   "cell_type": "markdown",
   "id": "f36559d6-bc42-4b29-b554-9ba8a0e4ca45",
   "metadata": {},
   "source": [
    "Once saved to file, the exposures and impact function can be loaded directly."
   ]
  },
  {
   "cell_type": "code",
   "execution_count": 27,
   "id": "18b8859e-798e-4ec4-abe8-e776ec9bf3ef",
   "metadata": {
    "execution": {
     "iopub.execute_input": "2024-03-08T16:28:03.618367Z",
     "iopub.status.busy": "2024-03-08T16:28:03.616855Z",
     "iopub.status.idle": "2024-03-08T16:28:03.623716Z",
     "shell.execute_reply": "2024-03-08T16:28:03.622371Z",
     "shell.execute_reply.started": "2024-03-08T16:28:03.618316Z"
    }
   },
   "outputs": [],
   "source": [
    "# Define certain default values\n",
    "\n",
    "# How many of the employed people are displaced due to their work building beeing damaged, fixed bei CIMA\n",
    "EMPLOYED_FRACTION = 0.35 \n",
    "\n",
    "# Worldbank data, how many additional people are displaced when a worker is displaced (e.g., kids) \n",
    "# Is equal to the ratio of the non-working population (people age 0-15 and 65-) over the working population (people age 15-65)\n",
    "# Can be retrieved from various sources, e.g., Worldbank.\n",
    "DEPENDENCY_RATIO = 0.94 "
   ]
  },
  {
   "cell_type": "code",
   "execution_count": 28,
   "id": "5b78cbaf-1ccb-4abb-89c5-eaa4439db608",
   "metadata": {
    "execution": {
     "iopub.execute_input": "2024-03-08T11:14:07.115791Z",
     "iopub.status.busy": "2024-03-08T11:14:07.115346Z",
     "iopub.status.idle": "2024-03-08T11:14:07.119744Z",
     "shell.execute_reply": "2024-03-08T11:14:07.118788Z",
     "shell.execute_reply.started": "2024-03-08T11:14:07.115755Z"
    }
   },
   "outputs": [],
   "source": [
    "IMPF_FOLDER = Path('/Users/simonameiler/Documents/WCR/Displacement/Somalia_CIMA_example/Curve/')\n",
    "\n",
    "# The threshold of building damage after which all people are displaced. Below, no-one is displaced.\n",
    "BUILD_THRES = 0.3 # from 30% for Somalia to 60% for other countries. Defined by CIMA."
   ]
  },
  {
   "cell_type": "code",
   "execution_count": 29,
   "id": "14ab5484-9640-4b50-8a9b-a7a6bec514ca",
   "metadata": {
    "execution": {
     "iopub.execute_input": "2024-03-06T10:51:59.269058Z",
     "iopub.status.busy": "2024-03-06T10:51:59.268230Z",
     "iopub.status.idle": "2024-03-06T10:53:42.472791Z",
     "shell.execute_reply": "2024-03-06T10:53:42.472218Z",
     "shell.execute_reply.started": "2024-03-06T10:51:59.268966Z"
    }
   },
   "outputs": [],
   "source": [
    "from climada.entity import Exposures\n",
    "exp_cima = Exposures.from_hdf5('/Users/simonameiler/Documents/WCR/Displacement/Somalia_CIMA_example/somalia_people_flood_displacement_exp_final.hdf5')"
   ]
  },
  {
   "cell_type": "code",
   "execution_count": 30,
   "id": "645d57b5",
   "metadata": {},
   "outputs": [],
   "source": [
    "exp_cima.gdf['impf_FL'] = exp_cima.gdf.apply(lambda row: vulnerability.DICT_CIMA_FLIMPF_CIMA[row.building_type], axis=1)"
   ]
  },
  {
   "cell_type": "code",
   "execution_count": 31,
   "id": "0a5f4639",
   "metadata": {},
   "outputs": [
    {
     "data": {
      "text/html": [
       "<div>\n",
       "<style scoped>\n",
       "    .dataframe tbody tr th:only-of-type {\n",
       "        vertical-align: middle;\n",
       "    }\n",
       "\n",
       "    .dataframe tbody tr th {\n",
       "        vertical-align: top;\n",
       "    }\n",
       "\n",
       "    .dataframe thead th {\n",
       "        text-align: right;\n",
       "    }\n",
       "</style>\n",
       "<table border=\"1\" class=\"dataframe\">\n",
       "  <thead>\n",
       "    <tr style=\"text-align: right;\">\n",
       "      <th></th>\n",
       "      <th>building_type</th>\n",
       "      <th>longitude</th>\n",
       "      <th>latitude</th>\n",
       "      <th>value</th>\n",
       "      <th>value_unit</th>\n",
       "      <th>impf_RF</th>\n",
       "      <th>impf_FL</th>\n",
       "    </tr>\n",
       "  </thead>\n",
       "  <tbody>\n",
       "    <tr>\n",
       "      <th>0</th>\n",
       "      <td>C1</td>\n",
       "      <td>41.000417</td>\n",
       "      <td>0.392083</td>\n",
       "      <td>1.700305e-09</td>\n",
       "      <td>pop</td>\n",
       "      <td>1</td>\n",
       "      <td>1</td>\n",
       "    </tr>\n",
       "    <tr>\n",
       "      <th>1</th>\n",
       "      <td>C1</td>\n",
       "      <td>41.000417</td>\n",
       "      <td>0.392917</td>\n",
       "      <td>1.700305e-09</td>\n",
       "      <td>pop</td>\n",
       "      <td>1</td>\n",
       "      <td>1</td>\n",
       "    </tr>\n",
       "    <tr>\n",
       "      <th>2</th>\n",
       "      <td>C1</td>\n",
       "      <td>41.000417</td>\n",
       "      <td>0.393750</td>\n",
       "      <td>2.140250e-03</td>\n",
       "      <td>pop</td>\n",
       "      <td>1</td>\n",
       "      <td>1</td>\n",
       "    </tr>\n",
       "    <tr>\n",
       "      <th>3</th>\n",
       "      <td>C1</td>\n",
       "      <td>41.000417</td>\n",
       "      <td>0.394583</td>\n",
       "      <td>8.755529e-02</td>\n",
       "      <td>pop</td>\n",
       "      <td>1</td>\n",
       "      <td>1</td>\n",
       "    </tr>\n",
       "    <tr>\n",
       "      <th>4</th>\n",
       "      <td>C1</td>\n",
       "      <td>41.000417</td>\n",
       "      <td>0.395417</td>\n",
       "      <td>1.389257e-01</td>\n",
       "      <td>pop</td>\n",
       "      <td>1</td>\n",
       "      <td>1</td>\n",
       "    </tr>\n",
       "  </tbody>\n",
       "</table>\n",
       "</div>"
      ],
      "text/plain": [
       "  building_type  longitude  latitude         value value_unit  impf_RF  \\\n",
       "0            C1  41.000417  0.392083  1.700305e-09        pop        1   \n",
       "1            C1  41.000417  0.392917  1.700305e-09        pop        1   \n",
       "2            C1  41.000417  0.393750  2.140250e-03        pop        1   \n",
       "3            C1  41.000417  0.394583  8.755529e-02        pop        1   \n",
       "4            C1  41.000417  0.395417  1.389257e-01        pop        1   \n",
       "\n",
       "   impf_FL  \n",
       "0        1  \n",
       "1        1  \n",
       "2        1  \n",
       "3        1  \n",
       "4        1  "
      ]
     },
     "execution_count": 31,
     "metadata": {},
     "output_type": "execute_result"
    }
   ],
   "source": [
    "exp_cima.gdf.head()"
   ]
  },
  {
   "cell_type": "code",
   "execution_count": 32,
   "id": "2c536ec3",
   "metadata": {},
   "outputs": [
    {
     "data": {
      "text/plain": [
       "15550228.0"
      ]
     },
     "execution_count": 32,
     "metadata": {},
     "output_type": "execute_result"
    }
   ],
   "source": [
    "exp_cima.gdf.value.sum()"
   ]
  },
  {
   "cell_type": "code",
   "execution_count": 33,
   "id": "d8238eb8",
   "metadata": {},
   "outputs": [],
   "source": [
    "impf_set_cima = vulnerability.IMPF_SET_FL_CIMA"
   ]
  },
  {
   "cell_type": "code",
   "execution_count": 34,
   "id": "f2a91655",
   "metadata": {},
   "outputs": [],
   "source": [
    "impf_set_cima_step = ImpactFuncSet()\n",
    "\n",
    "# The threshold of building damage after which all people are displaced. Below, no-one is displaced.\n",
    "building_thes = 0.3 # 55% iDMC v1; CIMA: 30% for Somalia to 60% for other countries. \n",
    "\n",
    "for imp_id in impf_set_cima.get_ids(haz_type='FL'):\n",
    "    impf_set_cima.get_func(fun_id=imp_id)\n",
    "    y = impf_set_cima.get_func(fun_id=imp_id)[0].intensity\n",
    "    x = impf_set_cima.get_func(fun_id=imp_id)[0].mdd\n",
    "    flood_thres = np.interp(BUILD_THRES, x, y)\n",
    "    impf_set_cima_step.append(\n",
    "                ImpactFunc.from_step_impf(\n",
    "                    intensity=(0,  flood_thres, flood_thres *10),\n",
    "                    haz_type='FL',\n",
    "                    impf_id=imp_id,\n",
    "                    intensity_unit = 'm'\n",
    "                )\n",
    "    )"
   ]
  },
  {
   "cell_type": "code",
   "execution_count": 35,
   "id": "3caf2177",
   "metadata": {},
   "outputs": [
    {
     "data": {
      "text/plain": [
       "array([[<Axes: title={'center': 'FL 1: '}, xlabel='Intensity (m)', ylabel='Impact (%)'>,\n",
       "        <Axes: title={'center': 'FL 2: '}, xlabel='Intensity (m)', ylabel='Impact (%)'>,\n",
       "        <Axes: title={'center': 'FL 3: '}, xlabel='Intensity (m)', ylabel='Impact (%)'>],\n",
       "       [<Axes: title={'center': 'FL 4: '}, xlabel='Intensity (m)', ylabel='Impact (%)'>,\n",
       "        <Axes: title={'center': 'FL 5: '}, xlabel='Intensity (m)', ylabel='Impact (%)'>,\n",
       "        <Axes: title={'center': 'FL 6: '}, xlabel='Intensity (m)', ylabel='Impact (%)'>],\n",
       "       [<Axes: title={'center': 'FL 7: '}, xlabel='Intensity (m)', ylabel='Impact (%)'>,\n",
       "        <Axes: title={'center': 'FL 8: '}, xlabel='Intensity (m)', ylabel='Impact (%)'>,\n",
       "        <Axes: title={'center': 'FL 9: '}, xlabel='Intensity (m)', ylabel='Impact (%)'>],\n",
       "       [<Axes: title={'center': 'FL 10: '}, xlabel='Intensity (m)', ylabel='Impact (%)'>,\n",
       "        <Axes: title={'center': 'FL 11: '}, xlabel='Intensity (m)', ylabel='Impact (%)'>,\n",
       "        <Axes: title={'center': 'FL 12: '}, xlabel='Intensity (m)', ylabel='Impact (%)'>],\n",
       "       [<Axes: title={'center': 'FL 13: '}, xlabel='Intensity (m)', ylabel='Impact (%)'>,\n",
       "        <Axes: title={'center': 'FL 14: '}, xlabel='Intensity (m)', ylabel='Impact (%)'>,\n",
       "        <Axes: title={'center': 'FL 15: '}, xlabel='Intensity (m)', ylabel='Impact (%)'>]],\n",
       "      dtype=object)"
      ]
     },
     "execution_count": 35,
     "metadata": {},
     "output_type": "execute_result"
    },
    {
     "data": {
      "image/png": "[encoded data removed]",
      "text/plain": [
       "<Figure size 640x480 with 15 Axes>"
      ]
     },
     "metadata": {},
     "output_type": "display_data"
    }
   ],
   "source": [
    "impf_set_cima_step.plot()"
   ]
  },
  {
   "cell_type": "code",
   "execution_count": 36,
   "id": "893b8b84",
   "metadata": {
    "execution": {
     "iopub.execute_input": "2024-03-06T16:43:59.510138Z",
     "iopub.status.busy": "2024-03-06T16:43:59.509593Z",
     "iopub.status.idle": "2024-03-06T16:44:18.820670Z",
     "shell.execute_reply": "2024-03-06T16:44:18.819790Z",
     "shell.execute_reply.started": "2024-03-06T16:43:59.510101Z"
    }
   },
   "outputs": [],
   "source": [
    "impcalc = ImpactCalc(exp_cima, impf_set_cima_step, haz)\n",
    "impact_cima = impcalc.impact()"
   ]
  },
  {
   "cell_type": "code",
   "execution_count": 37,
   "id": "681426db",
   "metadata": {
    "execution": {
     "iopub.execute_input": "2024-03-06T16:44:18.822253Z",
     "iopub.status.busy": "2024-03-06T16:44:18.822052Z",
     "iopub.status.idle": "2024-03-06T16:44:18.825432Z",
     "shell.execute_reply": "2024-03-06T16:44:18.825183Z",
     "shell.execute_reply.started": "2024-03-06T16:44:18.822238Z"
    }
   },
   "outputs": [
    {
     "data": {
      "text/plain": [
       "33598.28809576372"
      ]
     },
     "execution_count": 37,
     "metadata": {},
     "output_type": "execute_result"
    }
   ],
   "source": [
    "# Compared to the ~40'000 reported by CIMA using the probabilistic hazard set\n",
    "impact_cima.aai_agg"
   ]
  },
  {
   "cell_type": "code",
   "execution_count": 38,
   "id": "5b6cce36",
   "metadata": {
    "execution": {
     "iopub.execute_input": "2024-03-06T16:44:18.826029Z",
     "iopub.status.busy": "2024-03-06T16:44:18.825921Z",
     "iopub.status.idle": "2024-03-06T16:44:18.828096Z",
     "shell.execute_reply": "2024-03-06T16:44:18.827824Z",
     "shell.execute_reply.started": "2024-03-06T16:44:18.826018Z"
    }
   },
   "outputs": [],
   "source": [
    "freqd_curve_cima = impact_cima.calc_freq_curve(return_per = np.arange(1, 250, 1))"
   ]
  },
  {
   "cell_type": "code",
   "execution_count": 39,
   "id": "f8b27492",
   "metadata": {
    "execution": {
     "iopub.execute_input": "2024-03-06T16:44:18.829094Z",
     "iopub.status.busy": "2024-03-06T16:44:18.828977Z",
     "iopub.status.idle": "2024-03-06T16:44:18.908743Z",
     "shell.execute_reply": "2024-03-06T16:44:18.908038Z",
     "shell.execute_reply.started": "2024-03-06T16:44:18.829082Z"
    },
    "scrolled": true
   },
   "outputs": [
    {
     "data": {
      "text/plain": [
       "<Axes: title={'center': 'Exceedance frequency curve'}, xlabel='Return period (year)', ylabel='Impact (USD)'>"
      ]
     },
     "execution_count": 39,
     "metadata": {},
     "output_type": "execute_result"
    },
    {
     "data": {
      "image/png": "[encoded data removed]",
      "text/plain": [
       "<Figure size 640x480 with 1 Axes>"
      ]
     },
     "metadata": {},
     "output_type": "display_data"
    }
   ],
   "source": [
    "freqd_curve_cima.plot()"
   ]
  },
  {
   "cell_type": "markdown",
   "id": "0cd67a3a",
   "metadata": {},
   "source": [
    "## CIMA-BEM exposure-vulnerability cross comparison"
   ]
  },
  {
   "cell_type": "markdown",
   "id": "598f8273",
   "metadata": {},
   "source": [
    "### BEM exposure - CIMA vulnerability"
   ]
  },
  {
   "cell_type": "code",
   "execution_count": 40,
   "id": "204a45d5",
   "metadata": {},
   "outputs": [],
   "source": [
    "gdf_bem_subcomps = exposure.gdf_from_bem_subcomps(cntry_name, opt='full')\n",
    "gdf_bem_subcomps = gdf_bem_subcomps[gdf_bem_subcomps.valhum>0.001] # filter out rows with basically no population\n",
    "gdf_bem_subcomps['impf_FL'] = gdf_bem_subcomps.apply(lambda row: vulnerability.DICT_PAGER_FLIMPF_CIMA[row.se_seismo], axis=1)"
   ]
  },
  {
   "cell_type": "code",
   "execution_count": 41,
   "id": "baf554e1",
   "metadata": {},
   "outputs": [],
   "source": [
    "# remove for now unnecessary cols and prepare gdf for CLIMADA Exposure\n",
    "gdf_bem_subcomps.rename({'valhum' : 'value'}, axis=1)\n",
    "for col in ['iso3', 'sector', 'valfis', 'se_seismo', 'bd_1_floor','bd_2_floor','bd_3_floor']:\n",
    "    gdf_bem_subcomps.pop(col)"
   ]
  },
  {
   "cell_type": "code",
   "execution_count": 42,
   "id": "ffb216f8",
   "metadata": {},
   "outputs": [
    {
     "data": {
      "text/html": [
       "<div>\n",
       "<style scoped>\n",
       "    .dataframe tbody tr th:only-of-type {\n",
       "        vertical-align: middle;\n",
       "    }\n",
       "\n",
       "    .dataframe tbody tr th {\n",
       "        vertical-align: top;\n",
       "    }\n",
       "\n",
       "    .dataframe thead th {\n",
       "        text-align: right;\n",
       "    }\n",
       "</style>\n",
       "<table border=\"1\" class=\"dataframe\">\n",
       "  <thead>\n",
       "    <tr style=\"text-align: right;\">\n",
       "      <th></th>\n",
       "      <th>id_1x</th>\n",
       "      <th>cpx</th>\n",
       "      <th>value</th>\n",
       "      <th>geometry</th>\n",
       "      <th>impf_FL</th>\n",
       "      <th>longitude</th>\n",
       "      <th>latitude</th>\n",
       "    </tr>\n",
       "  </thead>\n",
       "  <tbody>\n",
       "    <tr>\n",
       "      <th>6</th>\n",
       "      <td>194457751</td>\n",
       "      <td>3</td>\n",
       "      <td>0.003283</td>\n",
       "      <td>POINT (43.40417 0.66250)</td>\n",
       "      <td>15</td>\n",
       "      <td>43.404167</td>\n",
       "      <td>0.6625</td>\n",
       "    </tr>\n",
       "    <tr>\n",
       "      <th>7</th>\n",
       "      <td>194457751</td>\n",
       "      <td>3</td>\n",
       "      <td>0.001404</td>\n",
       "      <td>POINT (43.40417 0.66250)</td>\n",
       "      <td>14</td>\n",
       "      <td>43.404167</td>\n",
       "      <td>0.6625</td>\n",
       "    </tr>\n",
       "    <tr>\n",
       "      <th>12</th>\n",
       "      <td>194457751</td>\n",
       "      <td>3</td>\n",
       "      <td>0.002711</td>\n",
       "      <td>POINT (43.40417 0.66250)</td>\n",
       "      <td>15</td>\n",
       "      <td>43.404167</td>\n",
       "      <td>0.6625</td>\n",
       "    </tr>\n",
       "    <tr>\n",
       "      <th>13</th>\n",
       "      <td>194457751</td>\n",
       "      <td>3</td>\n",
       "      <td>0.001159</td>\n",
       "      <td>POINT (43.40417 0.66250)</td>\n",
       "      <td>14</td>\n",
       "      <td>43.404167</td>\n",
       "      <td>0.6625</td>\n",
       "    </tr>\n",
       "    <tr>\n",
       "      <th>18</th>\n",
       "      <td>194457751</td>\n",
       "      <td>3</td>\n",
       "      <td>0.281569</td>\n",
       "      <td>POINT (43.40417 0.66250)</td>\n",
       "      <td>15</td>\n",
       "      <td>43.404167</td>\n",
       "      <td>0.6625</td>\n",
       "    </tr>\n",
       "  </tbody>\n",
       "</table>\n",
       "</div>"
      ],
      "text/plain": [
       "        id_1x  cpx     value                  geometry  impf_FL  longitude  \\\n",
       "6   194457751    3  0.003283  POINT (43.40417 0.66250)       15  43.404167   \n",
       "7   194457751    3  0.001404  POINT (43.40417 0.66250)       14  43.404167   \n",
       "12  194457751    3  0.002711  POINT (43.40417 0.66250)       15  43.404167   \n",
       "13  194457751    3  0.001159  POINT (43.40417 0.66250)       14  43.404167   \n",
       "18  194457751    3  0.281569  POINT (43.40417 0.66250)       15  43.404167   \n",
       "\n",
       "    latitude  \n",
       "6     0.6625  \n",
       "7     0.6625  \n",
       "12    0.6625  \n",
       "13    0.6625  \n",
       "18    0.6625  "
      ]
     },
     "execution_count": 42,
     "metadata": {},
     "output_type": "execute_result"
    }
   ],
   "source": [
    "# Make CLIMADA Exposure with mutliply defined centroids\n",
    "exp_bem_cima = Exposures(gdf_bem_subcomps)\n",
    "exp_bem_cima.gdf.rename({'valhum': 'value'}, axis=1, inplace=True)\n",
    "exp_bem_cima.value_unit = 'Pop. count'\n",
    "exp_bem_cima.gdf['longitude'] = exp_bem_cima.gdf.geometry.x\n",
    "exp_bem_cima.gdf['latitude'] = exp_bem_cima.gdf.geometry.y\n",
    "exp_bem_cima.gdf = exp_bem_cima.gdf[~np.isnan(\n",
    "    exp_bem_cima.gdf.latitude)]  # drop nan centroids\n",
    "exp_bem_cima.gdf.head()"
   ]
  },
  {
   "cell_type": "code",
   "execution_count": 43,
   "id": "5d462fe8",
   "metadata": {},
   "outputs": [],
   "source": [
    "impcalc = ImpactCalc(exp_bem_cima, impf_set_cima, haz)\n",
    "impact_bem_cima = impcalc.impact()"
   ]
  },
  {
   "cell_type": "code",
   "execution_count": 44,
   "id": "99c0a073",
   "metadata": {},
   "outputs": [
    {
     "data": {
      "text/plain": [
       "42430.42340001579"
      ]
     },
     "execution_count": 44,
     "metadata": {},
     "output_type": "execute_result"
    }
   ],
   "source": [
    "impact_bem_cima.aai_agg"
   ]
  },
  {
   "cell_type": "markdown",
   "id": "75e9c057",
   "metadata": {},
   "source": [
    "Turn CIMA impact functions into step functions:"
   ]
  },
  {
   "cell_type": "code",
   "execution_count": 45,
   "id": "d63687b5",
   "metadata": {},
   "outputs": [
    {
     "name": "stdout",
     "output_type": "stream",
     "text": [
      "ID: 1 - threshold stepfunction: 1.6501727272727271\n",
      "ID: 2 - threshold stepfunction: 3.0897\n",
      "ID: 3 - threshold stepfunction: 5.8621\n",
      "ID: 4 - threshold stepfunction: 7.25308813559322\n",
      "ID: 5 - threshold stepfunction: 10.0\n",
      "ID: 6 - threshold stepfunction: 1.6494416666666667\n",
      "ID: 7 - threshold stepfunction: 2.8966\n",
      "ID: 8 - threshold stepfunction: 4.4510233333333336\n",
      "ID: 9 - threshold stepfunction: 5.833358333333334\n",
      "ID: 10 - threshold stepfunction: 7.2498097560975605\n",
      "ID: 11 - threshold stepfunction: 1.0249714285714286\n",
      "ID: 12 - threshold stepfunction: 0.7434042553191489\n",
      "ID: 13 - threshold stepfunction: 0.7436553191489361\n",
      "ID: 14 - threshold stepfunction: 1.0249714285714286\n",
      "ID: 15 - threshold stepfunction: 1.4075205479452055\n"
     ]
    }
   ],
   "source": [
    "impf_set_cima_step = ImpactFuncSet()\n",
    "\n",
    "# The threshold of building damage after which all people are displaced. Below, no-one is displaced.\n",
    "building_thes = 0.3 # 55% iDMC v1; CIMA: 30% for Somalia to 60% for other countries. \n",
    "\n",
    "for imp_id in impf_set_cima.get_ids(haz_type='FL'):\n",
    "    impf_set_cima.get_func(fun_id=imp_id)\n",
    "    y = impf_set_cima.get_func(fun_id=imp_id)[0].intensity\n",
    "    x = impf_set_cima.get_func(fun_id=imp_id)[0].mdd\n",
    "    flood_thres = np.interp(building_thes, x, y)\n",
    "    print('ID: '+str(imp_id)+' - threshold stepfunction: '+str(flood_thres))\n",
    "    impf_set_cima_step.append(\n",
    "                ImpactFunc.from_step_impf(\n",
    "                    intensity=(0,  flood_thres, flood_thres *10),\n",
    "                    haz_type='FL',\n",
    "                    impf_id=imp_id,\n",
    "                    intensity_unit = 'm'\n",
    "                )\n",
    "    )"
   ]
  },
  {
   "cell_type": "code",
   "execution_count": 46,
   "id": "ec43a659",
   "metadata": {},
   "outputs": [],
   "source": [
    "impcalc = ImpactCalc(exp_bem_cima, impf_set_cima_step, haz)\n",
    "impact_bem_cima = impcalc.impact()"
   ]
  },
  {
   "cell_type": "code",
   "execution_count": 47,
   "id": "0fca844b",
   "metadata": {},
   "outputs": [
    {
     "data": {
      "text/plain": [
       "52485.36424177725"
      ]
     },
     "execution_count": 47,
     "metadata": {},
     "output_type": "execute_result"
    }
   ],
   "source": [
    "impact_bem_cima.aai_agg"
   ]
  },
  {
   "cell_type": "code",
   "execution_count": 48,
   "id": "d99674f2",
   "metadata": {},
   "outputs": [],
   "source": [
    "freqd_curve_bem_cima = impact_bem_cima.calc_freq_curve(return_per = np.arange(1, 250, 1))"
   ]
  },
  {
   "cell_type": "markdown",
   "id": "4137f030",
   "metadata": {},
   "source": [
    "Print the three estimates of annual average displacement"
   ]
  },
  {
   "cell_type": "code",
   "execution_count": 49,
   "id": "eb212970",
   "metadata": {},
   "outputs": [
    {
     "data": {
      "text/plain": [
       "(107376.26532230548, 33598.28809576372, 52485.36424177725)"
      ]
     },
     "execution_count": 49,
     "metadata": {},
     "output_type": "execute_result"
    }
   ],
   "source": [
    "impact_bem.aai_agg, impact_cima.aai_agg, impact_bem_cima.aai_agg"
   ]
  },
  {
   "cell_type": "markdown",
   "id": "339c1795",
   "metadata": {},
   "source": [
    "## A few plots"
   ]
  },
  {
   "cell_type": "code",
   "execution_count": 50,
   "id": "21610d5f",
   "metadata": {},
   "outputs": [],
   "source": [
    "#exp_bem_ivm.plot_scatter()"
   ]
  },
  {
   "cell_type": "code",
   "execution_count": 51,
   "id": "b21e9673",
   "metadata": {},
   "outputs": [],
   "source": [
    "#exp_cima.plot_scatter()"
   ]
  },
  {
   "cell_type": "code",
   "execution_count": 52,
   "id": "6ffc8e3c",
   "metadata": {},
   "outputs": [],
   "source": [
    "fq_dict = {'CIMA': freqd_curve_cima,\n",
    "          'BEM-IVM': freqd_curve_bem,\n",
    "          'BEM-CIMA': freqd_curve_bem_cima}"
   ]
  },
  {
   "cell_type": "code",
   "execution_count": 56,
   "id": "d519bec7",
   "metadata": {},
   "outputs": [
    {
     "data": {
      "text/plain": [
       "<matplotlib.legend.Legend at 0x18135a9a0>"
      ]
     },
     "execution_count": 56,
     "metadata": {},
     "output_type": "execute_result"
    },
    {
     "data": {
      "image/png": "[encoded data removed]",
      "text/plain": [
       "<Figure size 640x480 with 1 Axes>"
      ]
     },
     "metadata": {},
     "output_type": "display_data"
    }
   ],
   "source": [
    "import matplotlib.pyplot as plt\n",
    "\n",
    "labels = list(fq_dict.keys())\n",
    "\n",
    "fig, axis = plt.subplots()\n",
    "\n",
    "# Iterate over your fq_dict items and their corresponding labels\n",
    "for i, (plots, fq) in enumerate(fq_dict.items()):\n",
    "    # Assuming your fq.plot() method can accept an 'axis' argument and a 'label'\n",
    "    # If the 'plot' method signature is different, you'll need to adjust accordingly\n",
    "    fq.plot(axis=axis, label=labels[i])\n",
    "\n",
    "# Adjusting the legend\n",
    "# 'loc' specifies the location of the legend\n",
    "# 'bbox_to_anchor' specifies a box that the legend will be anchored to\n",
    "# You can adjust these parameters as needed for your plot layout\n",
    "axis.legend(loc='center right', bbox_to_anchor=(1.3, 0.5))"
   ]
  },
  {
   "cell_type": "markdown",
   "id": "e8b9aad0",
   "metadata": {},
   "source": [
    "## Delta climate"
   ]
  },
  {
   "cell_type": "code",
   "execution_count": null,
   "id": "f6a438f6",
   "metadata": {},
   "outputs": [],
   "source": [
    "HAZ_FOLDER = Path('/Users/simonameiler/Documents/WCR/Displacement/Somalia_CIMA_example/Hazard/SSP585/')"
   ]
  },
  {
   "cell_type": "code",
   "execution_count": null,
   "id": "6cc9bdf4",
   "metadata": {},
   "outputs": [],
   "source": [
    "haz_files = [str(file) for file in HAZ_FOLDER.glob('*.tif')]\n",
    "rp = np.array([int(Path(file).stem[-4:]) for file in haz_files])"
   ]
  },
  {
   "cell_type": "code",
   "execution_count": null,
   "id": "500dabe9",
   "metadata": {},
   "outputs": [],
   "source": [
    "haz_fut = Hazard.from_raster(\n",
    "    haz_type=HAZ_TYPE, files_intensity=haz_files, src_crs='WGS84',\n",
    "    attrs={'unit': 'cm', 'event_id': np.arange(len(haz_files)), 'frequency':1/rp}\n",
    ")"
   ]
  },
  {
   "cell_type": "code",
   "execution_count": null,
   "id": "52e18b0e",
   "metadata": {},
   "outputs": [],
   "source": [
    "impcalc = ImpactCalc(exp_bem_ivm, impf_set_ivm_step, haz_fut)\n",
    "impact_bem_fut = impcalc.impact()"
   ]
  },
  {
   "cell_type": "code",
   "execution_count": null,
   "id": "f2f28089",
   "metadata": {},
   "outputs": [],
   "source": [
    "delta_impact_bem = (impact_bem_fut.aai_agg-impact_bem.aai_agg)/impact_bem.aai_agg"
   ]
  },
  {
   "cell_type": "code",
   "execution_count": null,
   "id": "45ba2702",
   "metadata": {},
   "outputs": [],
   "source": [
    "impcalc = ImpactCalc(exp_cima, impf_set_cima_step, haz_fut)\n",
    "impact_cima_fut = impcalc.impact()"
   ]
  },
  {
   "cell_type": "code",
   "execution_count": null,
   "id": "519f7722",
   "metadata": {},
   "outputs": [],
   "source": [
    "delta_impact_cima = (impact_cima_fut.aai_agg-impact_cima.aai_agg)/impact_cima.aai_agg"
   ]
  },
  {
   "cell_type": "code",
   "execution_count": null,
   "id": "6ec7582d",
   "metadata": {},
   "outputs": [],
   "source": [
    "delta_impact_bem, delta_impact_cima"
   ]
  },
  {
   "cell_type": "code",
   "execution_count": null,
   "id": "c6b678c4",
   "metadata": {},
   "outputs": [],
   "source": [
    "impact_bem.aai_agg, impact_bem_fut.aai_agg"
   ]
  },
  {
   "cell_type": "code",
   "execution_count": null,
   "id": "a143a753",
   "metadata": {},
   "outputs": [],
   "source": [
    "impact_cima.aai_agg, impact_cima_fut.aai_agg"
   ]
  },
  {
   "cell_type": "code",
   "execution_count": null,
   "id": "f6f2879a",
   "metadata": {},
   "outputs": [],
   "source": []
  }
 ],
 "metadata": {
  "kernelspec": {
   "display_name": "Python 3 (ipykernel)",
   "language": "python",
   "name": "python3"
  },
  "language_info": {
   "codemirror_mode": {
    "name": "ipython",
    "version": 3
   },
   "file_extension": ".py",
   "mimetype": "text/x-python",
   "name": "python",
   "nbconvert_exporter": "python",
   "pygments_lexer": "ipython3",
   "version": "3.9.16"
  }
 },
 "nbformat": 4,
 "nbformat_minor": 5
}
