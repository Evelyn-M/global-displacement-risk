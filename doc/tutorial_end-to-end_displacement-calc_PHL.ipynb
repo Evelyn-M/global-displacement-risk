{
 "cells": [
  {
   "cell_type": "markdown",
   "id": "ded80017",
   "metadata": {},
   "source": [
    "# Tutorial for post-processing of building fraction impacts to estimate human displacement\n",
    "\n",
    "In this code, we apply the concept of displacement following a particular level of building damage post impact calculation. Meaning, we first calculate building fraction damages for each event and store the resulting impact matrices. On this basis, we can postprocess the results and convert thresholds of buildling-fraction damage to displaced population.\n",
    "\n",
    "This approach stands in contrast to applying the building threshold prior to the impact calculation on the level of the impact functions.\n",
    "\n",
    "Here, we explore this approach for tropical cyclones in the Philippines."
   ]
  },
  {
   "cell_type": "code",
   "execution_count": 1,
   "id": "9679346a",
   "metadata": {},
   "outputs": [],
   "source": [
    "# Load country BEM as prep\n",
    "from climada.util.constants import SYSTEM_DIR\n",
    "from climada.hazard import TropCyclone, Hazard\n",
    "from climada.entity.exposures import Exposures\n",
    "from climada.engine import ImpactCalc\n",
    "import numpy as np\n",
    "import os\n",
    "import copy\n",
    "from pathlib import Path\n",
    "\n",
    "# modify path!!! adapt path to where you save the \"global-displacement-risk\" repository\n",
    "os.chdir('/Users/simonameiler/Documents/work/03_code/repos/global-displacement-risk')\n",
    " \n",
    "import exposure\n",
    "import vulnerability\n",
    "import coastal_flood_hazard\n",
    "import impact_postproc\n",
    "\n",
    "# select country here\n",
    "cntry = 'PHL'"
   ]
  },
  {
   "cell_type": "markdown",
   "id": "952cfb25",
   "metadata": {},
   "source": [
    "### Load exposure\n",
    "for more details refer to the [exposure tutorial](tutorial_exposure.ipynb)"
   ]
  },
  {
   "cell_type": "code",
   "execution_count": 2,
   "id": "4802e976",
   "metadata": {},
   "outputs": [],
   "source": [
    "# load bem\n",
    "gdf_bem_subcomps = exposure.gdf_from_bem_subcomps(cntry, opt='full')\n",
    "gdf_bem_subcomps = gdf_bem_subcomps[gdf_bem_subcomps.valhum>1] # filter out rows with basically no population"
   ]
  },
  {
   "cell_type": "code",
   "execution_count": 3,
   "id": "4b132b9d",
   "metadata": {},
   "outputs": [],
   "source": [
    "# assign admin-1\n",
    "gdf_bem_subcomps = exposure.assign_admin1_attr(gdf_bem_subcomps, exposure.path_admin1_attrs, source='gadm')"
   ]
  },
  {
   "cell_type": "code",
   "execution_count": 4,
   "id": "db54092d",
   "metadata": {},
   "outputs": [],
   "source": [
    "# make exposure\n",
    "exp = Exposures(gdf_bem_subcomps.copy())\n",
    "exp.value_unit = 'Pop. count'\n",
    "exp.gdf['longitude'] = exp.gdf.geometry.x\n",
    "exp.gdf['latitude'] = exp.gdf.geometry.y\n",
    "exp.gdf['value'] = 1 # each building type gets value 1\n",
    "exp.gdf = exp.gdf[~np.isnan(exp.gdf.latitude)]  # drop nan centroids    \n",
    "exp.gdf = exp.gdf[~np.isnan(exp.gdf.admin1)]  # drop nan admin1"
   ]
  },
  {
   "cell_type": "markdown",
   "id": "b7bd7583",
   "metadata": {},
   "source": [
    "Add impact function ID to exposure gdf. Impact functions from PAGER are mapped to the structural building classes from the BEM."
   ]
  },
  {
   "cell_type": "code",
   "execution_count": 5,
   "id": "694389ef",
   "metadata": {},
   "outputs": [],
   "source": [
    "exp.gdf['impf_TC'] = exp.gdf['se_seismo'].map(vulnerability.DICT_PAGER_TCIMPF_CAPRA)"
   ]
  },
  {
   "cell_type": "code",
   "execution_count": 6,
   "id": "8045243c-8fb1-4708-92db-7a26dd7bbe5d",
   "metadata": {},
   "outputs": [
    {
     "data": {
      "text/html": [
       "<div>\n",
       "<style scoped>\n",
       "    .dataframe tbody tr th:only-of-type {\n",
       "        vertical-align: middle;\n",
       "    }\n",
       "\n",
       "    .dataframe tbody tr th {\n",
       "        vertical-align: top;\n",
       "    }\n",
       "\n",
       "    .dataframe thead th {\n",
       "        text-align: right;\n",
       "    }\n",
       "</style>\n",
       "<table border=\"1\" class=\"dataframe\">\n",
       "  <thead>\n",
       "    <tr style=\"text-align: right;\">\n",
       "      <th></th>\n",
       "      <th>id_1x</th>\n",
       "      <th>iso3</th>\n",
       "      <th>cpx</th>\n",
       "      <th>sector</th>\n",
       "      <th>se_seismo</th>\n",
       "      <th>valhum</th>\n",
       "      <th>valfis</th>\n",
       "      <th>bd_1_floor</th>\n",
       "      <th>bd_2_floor</th>\n",
       "      <th>bd_3_floor</th>\n",
       "      <th>geometry</th>\n",
       "      <th>admin1</th>\n",
       "      <th>longitude</th>\n",
       "      <th>latitude</th>\n",
       "      <th>value</th>\n",
       "      <th>impf_TC</th>\n",
       "    </tr>\n",
       "  </thead>\n",
       "  <tbody>\n",
       "    <tr>\n",
       "      <th>0</th>\n",
       "      <td>177569777</td>\n",
       "      <td>PHL</td>\n",
       "      <td>3</td>\n",
       "      <td>edu_priv</td>\n",
       "      <td>W</td>\n",
       "      <td>2.328791</td>\n",
       "      <td>0.008799</td>\n",
       "      <td>56.098</td>\n",
       "      <td>43.902</td>\n",
       "      <td>0.0</td>\n",
       "      <td>POINT (119.99583 16.32917)</td>\n",
       "      <td>2391.0</td>\n",
       "      <td>119.995833</td>\n",
       "      <td>16.329167</td>\n",
       "      <td>1</td>\n",
       "      <td>8</td>\n",
       "    </tr>\n",
       "    <tr>\n",
       "      <th>1</th>\n",
       "      <td>177569777</td>\n",
       "      <td>PHL</td>\n",
       "      <td>3</td>\n",
       "      <td>edu_priv</td>\n",
       "      <td>UFB</td>\n",
       "      <td>5.012018</td>\n",
       "      <td>0.018936</td>\n",
       "      <td>56.098</td>\n",
       "      <td>43.902</td>\n",
       "      <td>0.0</td>\n",
       "      <td>POINT (119.99583 16.32917)</td>\n",
       "      <td>2391.0</td>\n",
       "      <td>119.995833</td>\n",
       "      <td>16.329167</td>\n",
       "      <td>1</td>\n",
       "      <td>36</td>\n",
       "    </tr>\n",
       "    <tr>\n",
       "      <th>2</th>\n",
       "      <td>177569777</td>\n",
       "      <td>PHL</td>\n",
       "      <td>3</td>\n",
       "      <td>edu_priv</td>\n",
       "      <td>RS</td>\n",
       "      <td>1.817976</td>\n",
       "      <td>0.006869</td>\n",
       "      <td>56.098</td>\n",
       "      <td>43.902</td>\n",
       "      <td>0.0</td>\n",
       "      <td>POINT (119.99583 16.32917)</td>\n",
       "      <td>2391.0</td>\n",
       "      <td>119.995833</td>\n",
       "      <td>16.329167</td>\n",
       "      <td>1</td>\n",
       "      <td>50</td>\n",
       "    </tr>\n",
       "    <tr>\n",
       "      <th>3</th>\n",
       "      <td>177569777</td>\n",
       "      <td>PHL</td>\n",
       "      <td>3</td>\n",
       "      <td>edu_priv</td>\n",
       "      <td>INF</td>\n",
       "      <td>4.338522</td>\n",
       "      <td>0.016392</td>\n",
       "      <td>56.098</td>\n",
       "      <td>43.902</td>\n",
       "      <td>0.0</td>\n",
       "      <td>POINT (119.99583 16.32917)</td>\n",
       "      <td>2391.0</td>\n",
       "      <td>119.995833</td>\n",
       "      <td>16.329167</td>\n",
       "      <td>1</td>\n",
       "      <td>17</td>\n",
       "    </tr>\n",
       "    <tr>\n",
       "      <th>4</th>\n",
       "      <td>177569777</td>\n",
       "      <td>PHL</td>\n",
       "      <td>3</td>\n",
       "      <td>edu_priv</td>\n",
       "      <td>A</td>\n",
       "      <td>9.930804</td>\n",
       "      <td>0.037520</td>\n",
       "      <td>56.098</td>\n",
       "      <td>43.902</td>\n",
       "      <td>0.0</td>\n",
       "      <td>POINT (119.99583 16.32917)</td>\n",
       "      <td>2391.0</td>\n",
       "      <td>119.995833</td>\n",
       "      <td>16.329167</td>\n",
       "      <td>1</td>\n",
       "      <td>9</td>\n",
       "    </tr>\n",
       "  </tbody>\n",
       "</table>\n",
       "</div>"
      ],
      "text/plain": [
       "       id_1x iso3  cpx    sector se_seismo    valhum    valfis  bd_1_floor  \\\n",
       "0  177569777  PHL    3  edu_priv         W  2.328791  0.008799      56.098   \n",
       "1  177569777  PHL    3  edu_priv       UFB  5.012018  0.018936      56.098   \n",
       "2  177569777  PHL    3  edu_priv        RS  1.817976  0.006869      56.098   \n",
       "3  177569777  PHL    3  edu_priv       INF  4.338522  0.016392      56.098   \n",
       "4  177569777  PHL    3  edu_priv         A  9.930804  0.037520      56.098   \n",
       "\n",
       "   bd_2_floor  bd_3_floor                    geometry  admin1   longitude  \\\n",
       "0      43.902         0.0  POINT (119.99583 16.32917)  2391.0  119.995833   \n",
       "1      43.902         0.0  POINT (119.99583 16.32917)  2391.0  119.995833   \n",
       "2      43.902         0.0  POINT (119.99583 16.32917)  2391.0  119.995833   \n",
       "3      43.902         0.0  POINT (119.99583 16.32917)  2391.0  119.995833   \n",
       "4      43.902         0.0  POINT (119.99583 16.32917)  2391.0  119.995833   \n",
       "\n",
       "    latitude  value  impf_TC  \n",
       "0  16.329167      1        8  \n",
       "1  16.329167      1       36  \n",
       "2  16.329167      1       50  \n",
       "3  16.329167      1       17  \n",
       "4  16.329167      1        9  "
      ]
     },
     "execution_count": 6,
     "metadata": {},
     "output_type": "execute_result"
    }
   ],
   "source": [
    "exp.gdf.head()"
   ]
  },
  {
   "cell_type": "code",
   "execution_count": null,
   "id": "47397127",
   "metadata": {},
   "outputs": [
    {
     "name": "stderr",
     "output_type": "stream",
     "text": [
      "/Users/simonameiler/Documents/WCR/CLIMADA_develop/climada_python/climada/util/coordinates.py:2415: FutureWarning: You are adding a column named 'geometry' to a GeoDataFrame constructed without an active geometry column. Currently, this automatically sets the active geometry column to 'geometry' but in the future that will no longer happen. Instead, either provide geometry to the GeoDataFrame constructor (GeoDataFrame(... geometry=GeoSeries()) or use `set_geometry('geometry')` to explicitly set the active geometry column.\n",
      "  df_poly['geometry'] = apply_box(points_df)\n"
     ]
    }
   ],
   "source": [
    "exp.plot_raster()"
   ]
  },
  {
   "cell_type": "markdown",
   "id": "61c18adb",
   "metadata": {},
   "source": [
    "### Load tropical cyclone hazard"
   ]
  },
  {
   "cell_type": "code",
   "execution_count": null,
   "id": "c159a345",
   "metadata": {},
   "outputs": [],
   "source": [
    "hazard_dir = SYSTEM_DIR/\"hazard\"/\"present\"\n",
    "tc_haz = TropCyclone.from_hdf5(hazard_dir.joinpath(f'TC_WP_0150as_MIT_H08.hdf5'))"
   ]
  },
  {
   "cell_type": "markdown",
   "id": "3b9717f0",
   "metadata": {},
   "source": [
    "Get latitude, longitude limits from the exposure to limit the hazard set accordingly"
   ]
  },
  {
   "cell_type": "code",
   "execution_count": null,
   "id": "56e18c3c",
   "metadata": {},
   "outputs": [],
   "source": [
    "lat_min, lat_max, lon_min, lon_max = exp.gdf['latitude'].min(), exp.gdf['latitude'].max(), exp.gdf['longitude'].min(), exp.gdf['longitude'].max()"
   ]
  },
  {
   "cell_type": "code",
   "execution_count": null,
   "id": "5f836dba",
   "metadata": {},
   "outputs": [],
   "source": [
    "# crop hazard\n",
    "tc_haz_PHL = tc_haz.select(extent=(lon_min, lon_max, lat_min, lat_max))"
   ]
  },
  {
   "cell_type": "code",
   "execution_count": null,
   "id": "94200493",
   "metadata": {},
   "outputs": [],
   "source": [
    "tc_haz_PHL.plot_intensity(0)"
   ]
  },
  {
   "cell_type": "markdown",
   "id": "3e26058b",
   "metadata": {},
   "source": [
    "### Calculate displacement impact"
   ]
  },
  {
   "cell_type": "code",
   "execution_count": null,
   "id": "0cbcc93b",
   "metadata": {},
   "outputs": [],
   "source": [
    "# compute damage fractions on buildings; save impact matrix\n",
    "impact_bldg = ImpactCalc(exp, vulnerability.IMPF_SET_TC_CAPRA, tc_haz_PHL).impact(save_mat=True)"
   ]
  },
  {
   "cell_type": "code",
   "execution_count": null,
   "id": "1dcac10e",
   "metadata": {},
   "outputs": [],
   "source": [
    "# do a quick sanity check\n",
    "print('max dmg:', impact_bldg.imp_mat.data.max(), 'min dmg:', impact_bldg.imp_mat.data.min())"
   ]
  },
  {
   "cell_type": "markdown",
   "id": "2dea4ad9",
   "metadata": {},
   "source": [
    "# This is where the impact post-processing begins"
   ]
  },
  {
   "cell_type": "markdown",
   "id": "b7bf273c",
   "metadata": {},
   "source": [
    "**First simple approach:**\n",
    "\n",
    "Use different building damage thresholds uniformly over the entire country to simulate human displacement as a consequence from a given building damage threshold."
   ]
  },
  {
   "cell_type": "code",
   "execution_count": null,
   "id": "2279a2bc",
   "metadata": {},
   "outputs": [],
   "source": [
    "# set displacement-damage threshold(s) - this could be informed by RISK INFORM or other indices!!!\n",
    "dmg_thresh_low = 0.30\n",
    "dmg_thresh_med = 0.55 # the default threshold in the global displacement risk model\n",
    "dmg_thresh_high = 0.70"
   ]
  },
  {
   "cell_type": "code",
   "execution_count": null,
   "id": "0abc69ed",
   "metadata": {},
   "outputs": [],
   "source": [
    "# decide on whether threshold reached for all scenarios\n",
    "displ_low = impact_bldg.imp_mat > dmg_thresh_low\n",
    "displ_med = impact_bldg.imp_mat > dmg_thresh_med\n",
    "displ_high = impact_bldg.imp_mat > dmg_thresh_high"
   ]
  },
  {
   "cell_type": "code",
   "execution_count": null,
   "id": "5c4b876c",
   "metadata": {},
   "outputs": [],
   "source": [
    "displ_med"
   ]
  },
  {
   "cell_type": "markdown",
   "id": "952bef79-115e-4162-8673-d471549f250f",
   "metadata": {},
   "source": [
    "**Idea: calculate the aai_agg from the impact matrix using the CLIMADA logic of aai_agg = sum(impact.at_event x frequency)**\n",
    "\n",
    "i) create diagonal matrix from TC.frequency vector  \n",
    "ii) multiply boolean impact matrix with it  \n",
    "iii) sum remaining entries up  "
   ]
  },
  {
   "cell_type": "code",
   "execution_count": null,
   "id": "d02e2b1d-0a4c-432b-95c5-246e8bc62fc2",
   "metadata": {},
   "outputs": [],
   "source": [
    "from scipy.sparse import csr_matrix\n",
    "\n",
    "freq_diagonal_matrix = csr_matrix(np.diag(tc_haz_PHL.frequency))"
   ]
  },
  {
   "cell_type": "code",
   "execution_count": null,
   "id": "89da5d49-29e4-4ee9-8006-053ad7746125",
   "metadata": {},
   "outputs": [],
   "source": [
    "imp_bldg_frac = freq_diagonal_matrix @ displ_med"
   ]
  },
  {
   "cell_type": "code",
   "execution_count": null,
   "id": "11a9e87a-6acf-457a-868e-339e9d6f60f3",
   "metadata": {},
   "outputs": [],
   "source": [
    "imp_bldg_frac"
   ]
  },
  {
   "cell_type": "code",
   "execution_count": null,
   "id": "89f173ed-9225-48ce-a6ed-892aff28017b",
   "metadata": {},
   "outputs": [],
   "source": [
    "print('max dmg:', imp_bldg_frac.data.max(), 'min dmg:', imp_bldg_frac.data.min())"
   ]
  },
  {
   "cell_type": "code",
   "execution_count": null,
   "id": "1dfac459-c5e0-47f8-b9a8-04dd3a56c71f",
   "metadata": {},
   "outputs": [],
   "source": [
    "imp_bldg_frac.sum()\n",
    "print(f\"Total Building Fraction Damage: {imp_bldg_frac.sum():,.0f}\")"
   ]
  },
  {
   "cell_type": "markdown",
   "id": "15742bf5-775d-4e6b-98e4-f8e132115238",
   "metadata": {},
   "source": [
    "**Next: convert building fraction damage to displaced population**\n",
    "\n",
    "i) multiply building fraction impact matrix (imp_bldg_frac) with the exposure gdf \"valhum\" value   \n",
    "ii) sum up for population aai_agg "
   ]
  },
  {
   "cell_type": "code",
   "execution_count": null,
   "id": "146d1fbc-d097-4290-84fa-2d1208749617",
   "metadata": {},
   "outputs": [],
   "source": [
    "imp_pop_total = sum(imp_bldg_frac * exp.gdf.valhum)"
   ]
  },
  {
   "cell_type": "code",
   "execution_count": null,
   "id": "3f62c10c",
   "metadata": {},
   "outputs": [],
   "source": [
    "imp_pop_total\n",
    "print(f\"Annual Average Displacement PHL: {imp_pop_total:,.0f}\")"
   ]
  },
  {
   "cell_type": "markdown",
   "id": "db97ee07",
   "metadata": {},
   "source": [
    "or, iii) save the spatially explicit results of expected annual displacement at each location as sparse matrix"
   ]
  },
  {
   "cell_type": "code",
   "execution_count": null,
   "id": "bd3010b4",
   "metadata": {},
   "outputs": [],
   "source": [
    "imp_pop = csr_matrix(imp_bldg_frac * exp.gdf.valhum)"
   ]
  },
  {
   "cell_type": "markdown",
   "id": "f38f2b40-ea6d-4233-82b1-eb03f211a768",
   "metadata": {},
   "source": [
    "#### Plot results"
   ]
  },
  {
   "cell_type": "markdown",
   "id": "91a85ff8",
   "metadata": {},
   "source": [
    "Replace the imp_mat of the original impact object with the newly generated sparse matrix of displaced population and plot the result."
   ]
  },
  {
   "cell_type": "code",
   "execution_count": null,
   "id": "6a1aa9b5-26b6-4c81-ab90-0727bab9fbc7",
   "metadata": {},
   "outputs": [],
   "source": [
    "# replacing impact matrix\n",
    "import copy as cp\n",
    "imp_pop_PHL = cp.deepcopy(impact_bldg)\n",
    "imp_pop_PHL.imp_mat = imp_pop"
   ]
  },
  {
   "cell_type": "markdown",
   "id": "5ce2e2d3-f0b1-40c2-b61d-7ef0ef5e31a2",
   "metadata": {},
   "source": [
    "##### Annual Average Displacement"
   ]
  },
  {
   "cell_type": "code",
   "execution_count": null,
   "id": "34fd2392-f545-4469-bafd-4c7246226e06",
   "metadata": {},
   "outputs": [],
   "source": [
    "import matplotlib.pyplot as plt\n",
    "import cartopy.crs as ccrs\n",
    "\n",
    "fig, ax = plt.subplots(figsize=(9, 6), subplot_kw={'projection': ccrs.PlateCarree()})\n",
    "\n",
    "imp_pop_PHL.plot_scatter_eai_exposure(\n",
    "    ignore_zero=True,\n",
    "    pop_name=False,\n",
    "    axis=ax\n",
    ")\n",
    "\n",
    "plt.show()"
   ]
  },
  {
   "cell_type": "markdown",
   "id": "4c84ebcd",
   "metadata": {},
   "source": [
    "### Suggested next steps:\n",
    "\n",
    "* Find a threshold that best matches displacement estimates for the Philippines\n",
    "* Define spatially varying thresholds dependent on sub-national indices:\n",
    "    * Instead of comparing the sparse matrix impact_bldg.imp_mat to scalar thresholds as shown in the tutorial above, you can perform element-wise comparisons with another sparse matrix representing thresholds.\n",
    "    * For example, you could use the exposure admin1 level to define thresholds for each admin1 region\n",
    "    * Or if you find a spatially explicit vulnerability index, you could map this to your exposure/impact grid and create a sparse matrix from there."
   ]
  },
  {
   "cell_type": "code",
   "execution_count": null,
   "id": "3e693bfa",
   "metadata": {},
   "outputs": [],
   "source": []
  }
 ],
 "metadata": {
  "kernelspec": {
   "display_name": "Python 3 (ipykernel)",
   "language": "python",
   "name": "python3"
  },
  "language_info": {
   "codemirror_mode": {
    "name": "ipython",
    "version": 3
   },
   "file_extension": ".py",
   "mimetype": "text/x-python",
   "name": "python",
   "nbconvert_exporter": "python",
   "pygments_lexer": "ipython3",
   "version": "3.9.16"
  }
 },
 "nbformat": 4,
 "nbformat_minor": 5
}
