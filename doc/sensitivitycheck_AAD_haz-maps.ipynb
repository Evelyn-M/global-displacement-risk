{
 "cells": [
  {
   "cell_type": "markdown",
   "id": "ded80017",
   "metadata": {},
   "source": [
    "# Sensitivity check for calculation of AAD from hazard return period maps\n",
    "\n",
    "In this code, we (qualitatively) examine how sensitive the estimation of annual average displacement (AAD) values are (impact.aai_agg) depending on which hazard RP maps that were included. We perform the analysis for floods in 2 countries (PHL, SOM)"
   ]
  },
  {
   "cell_type": "code",
   "execution_count": 1,
   "id": "9679346a",
   "metadata": {},
   "outputs": [],
   "source": [
    "# Load country BEM as prep\n",
    "from climada.util.constants import SYSTEM_DIR\n",
    "from climada.hazard import TropCyclone, Hazard\n",
    "from climada.entity.exposures import Exposures\n",
    "from climada.engine import ImpactCalc\n",
    "import numpy as np\n",
    "import os\n",
    "import copy\n",
    "from pathlib import Path\n",
    "\n",
    "os.chdir('/cluster/project/climate/meilers/scripts/displacement/global-displacement-risk') \n",
    "import exposure\n",
    "import vulnerability\n",
    "import coastal_flood_hazard\n",
    "\n",
    "# select country here\n",
    "cntry = 'Somalia'"
   ]
  },
  {
   "cell_type": "code",
   "execution_count": 2,
   "id": "4802e976",
   "metadata": {},
   "outputs": [],
   "source": [
    "gdf_bem_subcomps = exposure.gdf_from_bem_subcomps(cntry, opt='full')# filter and apply impf id\n",
    "gdf_bem_subcomps = gdf_bem_subcomps[gdf_bem_subcomps.valhum>0.001] # filter out rows with basically no population\n",
    "gdf_bem_subcomps['impf_FL'] = gdf_bem_subcomps.apply(lambda row: vulnerability.DICT_PAGER_FLIMPF_CIMA[row.se_seismo], axis=1)\n",
    "\n",
    "for col in ['iso3', 'sector', 'valfis']:\n",
    "    gdf_bem_subcomps.pop(col)\n",
    "\n",
    "exp = Exposures(gdf_bem_subcomps)\n",
    "exp.gdf.rename({'valhum': 'value'}, axis=1, inplace=True)\n",
    "exp.value_unit = 'Pop. count'\n",
    "exp.gdf['longitude'] = exp.gdf.geometry.x\n",
    "exp.gdf['latitude'] = exp.gdf.geometry.y\n",
    "exp.gdf = exp.gdf[~np.isnan(\n",
    "    exp.gdf.latitude)]  # drop nan centroids"
   ]
  },
  {
   "cell_type": "markdown",
   "id": "4ea15d4a",
   "metadata": {},
   "source": [
    "### Load CIMA flood hazard (river)"
   ]
  },
  {
   "cell_type": "code",
   "execution_count": 3,
   "id": "5aa1fe08",
   "metadata": {},
   "outputs": [],
   "source": [
    "HAZ_FOLDER = Path(f'/cluster/work/climate/evelynm/IDMC_UNU/hazard/flood_HM_CIMA/{cntry}/HISTORICAL/')\n",
    "HAZ_TYPE = 'FL'\n",
    "\n",
    "haz_files = np.sort([str(file) for file in HAZ_FOLDER.glob('*.tif')])\n",
    "rp = np.sort(np.array([int(Path(file).stem[-4:]) for file in haz_files]))"
   ]
  },
  {
   "cell_type": "markdown",
   "id": "f6f29a7a",
   "metadata": {},
   "source": [
    "Create a dictionary (haz_dict) where each key is a number from 1 to 9 (representing the count of RPs and files) and each value is a Hazard object created using progressively more elements from haz_files and rp up to that number."
   ]
  },
  {
   "cell_type": "code",
   "execution_count": 4,
   "id": "9dd00353",
   "metadata": {},
   "outputs": [],
   "source": [
    "haz_dict = {}\n",
    "for i in range(1, 10):\n",
    "    files_slice = haz_files[:i]\n",
    "    rp_slice = rp[:i]\n",
    "\n",
    "    # Create the Hazard object\n",
    "    haz = Hazard.from_raster(\n",
    "        haz_type=HAZ_TYPE,\n",
    "        files_intensity=list(files_slice),\n",
    "        src_crs='WGS84',\n",
    "        attrs={\n",
    "            'unit': 'm',\n",
    "            'event_id': np.arange(len(files_slice)),\n",
    "            'frequency': 1 / rp_slice\n",
    "        }\n",
    "    )\n",
    "    haz.intensity = haz.intensity/100\n",
    "    haz_dict[i] = haz"
   ]
  },
  {
   "cell_type": "markdown",
   "id": "35b2716e",
   "metadata": {},
   "source": [
    "### Caluclate impacts"
   ]
  },
  {
   "cell_type": "markdown",
   "id": "474e2b09",
   "metadata": {},
   "source": [
    "#### CIMA/Capra impact functions"
   ]
  },
  {
   "cell_type": "code",
   "execution_count": 5,
   "id": "5ada19ac",
   "metadata": {},
   "outputs": [],
   "source": [
    "impf_set_cima = vulnerability.IMPF_SET_FL_CIMA"
   ]
  },
  {
   "cell_type": "code",
   "execution_count": 6,
   "id": "1a0611c4",
   "metadata": {},
   "outputs": [],
   "source": [
    "from climada.entity import ImpactFunc, ImpactFuncSet\n",
    "impf_set_cima_step = ImpactFuncSet()"
   ]
  },
  {
   "cell_type": "code",
   "execution_count": 7,
   "id": "b48cbc7c",
   "metadata": {},
   "outputs": [],
   "source": [
    "# The threshold of building damage after which all people are displaced. Below, no-one is displaced.\n",
    "building_thes = 0.3 # 55% iDMC v1; CIMA: 30% for Somalia to 60% for other countries. \n",
    "\n",
    "for imp_id in impf_set_cima.get_ids(haz_type='FL'):\n",
    "    impf_set_cima.get_func(fun_id=imp_id)\n",
    "    y = impf_set_cima.get_func(fun_id=imp_id)[0].intensity\n",
    "    x = impf_set_cima.get_func(fun_id=imp_id)[0].mdd\n",
    "    flood_thres = np.interp(building_thes, x, y)\n",
    "    impf_set_cima_step.append(\n",
    "                ImpactFunc.from_step_impf(\n",
    "                    intensity=(0,  flood_thres, flood_thres *10),\n",
    "                    haz_type='FL',\n",
    "                    impf_id=imp_id,\n",
    "                    intensity_unit = 'm'\n",
    "                )\n",
    "    )"
   ]
  },
  {
   "cell_type": "code",
   "execution_count": 8,
   "id": "9caf98d0",
   "metadata": {},
   "outputs": [],
   "source": [
    "aai_agg_dict = {}\n",
    "for n, haz in haz_dict.items():\n",
    "    impact = ImpactCalc(exp, impf_set_cima_step, haz).impact()\n",
    "    aai_agg_dict[n] = impact.aai_agg"
   ]
  },
  {
   "cell_type": "code",
   "execution_count": 9,
   "id": "39e93bf3",
   "metadata": {},
   "outputs": [
    {
     "data": {
      "image/png": "[encoded data removed]",
      "text/plain": [
       "<Figure size 720x360 with 1 Axes>"
      ]
     },
     "metadata": {
      "needs_background": "light"
     },
     "output_type": "display_data"
    }
   ],
   "source": [
    "import matplotlib.pyplot as plt\n",
    "\n",
    "RPs = list(aai_agg_dict.keys())\n",
    "impacts = list(aai_agg_dict.values())\n",
    "\n",
    "plt.figure(figsize=(10, 5))\n",
    "plt.plot(RPs, impacts, marker='o')\n",
    "plt.title('Impact vs # RP maps')\n",
    "plt.xlabel('# of RP maps')\n",
    "plt.ylabel('AAD')\n",
    "plt.show()"
   ]
  },
  {
   "cell_type": "code",
   "execution_count": 10,
   "id": "7a39a59a-9f7b-407a-b846-7069ed20f06b",
   "metadata": {},
   "outputs": [
    {
     "data": {
      "text/plain": [
       "{1: 0.0,\n",
       " 2: 14307.27784673741,\n",
       " 3: 27588.561086471127,\n",
       " 4: 36933.87399063758,\n",
       " 5: 42486.14860083056,\n",
       " 6: 47081.49006567723,\n",
       " 7: 49961.74650385818,\n",
       " 8: 51569.828748638,\n",
       " 9: 52485.36424177725}"
      ]
     },
     "execution_count": 10,
     "metadata": {},
     "output_type": "execute_result"
    }
   ],
   "source": [
    "aai_agg_dict"
   ]
  },
  {
   "cell_type": "code",
   "execution_count": 11,
   "id": "a7b5e2b1-0013-452b-a473-f18f1c39b962",
   "metadata": {},
   "outputs": [],
   "source": [
    "imp = []\n",
    "for n in range(0,9):\n",
    "    imp.append(impact.at_event[n]*impact.frequency[n])"
   ]
  },
  {
   "cell_type": "code",
   "execution_count": 12,
   "id": "4a248f12-c581-494b-8d04-cfe0d1781f40",
   "metadata": {},
   "outputs": [
    {
     "data": {
      "text/plain": [
       "[0.0,\n",
       " 14307.277846737408,\n",
       " 13281.283239733719,\n",
       " 9345.312904166463,\n",
       " 5552.274610192963,\n",
       " 4595.34146484671,\n",
       " 2880.2564381808693,\n",
       " 1608.0822447799073,\n",
       " 915.5354931392578]"
      ]
     },
     "execution_count": 12,
     "metadata": {},
     "output_type": "execute_result"
    }
   ],
   "source": [
    "imp"
   ]
  },
  {
   "cell_type": "code",
   "execution_count": 13,
   "id": "f7ea24e6-9657-4a8c-bab8-8bf87b85675a",
   "metadata": {},
   "outputs": [
    {
     "data": {
      "text/plain": [
       "52485.3642417773"
      ]
     },
     "execution_count": 13,
     "metadata": {},
     "output_type": "execute_result"
    }
   ],
   "source": [
    "sum(imp)"
   ]
  },
  {
   "cell_type": "code",
   "execution_count": 14,
   "id": "e5187562-0442-4cdc-adfa-cab3385cd891",
   "metadata": {},
   "outputs": [
    {
     "data": {
      "image/png": "[encoded data removed]",
      "text/plain": [
       "<Figure size 720x360 with 2 Axes>"
      ]
     },
     "metadata": {
      "needs_background": "light"
     },
     "output_type": "display_data"
    }
   ],
   "source": [
    "plt.figure(figsize=(10, 5))\n",
    "\n",
    "ax1 = plt.gca() \n",
    "ax1.plot(RPs, impacts, marker='o', color='b')\n",
    "ax1.set_xlabel('RP maps')\n",
    "ax1.set_ylabel('aai_agg', color='b')\n",
    "ax1.tick_params(axis='y', labelcolor='b')\n",
    "\n",
    "ax1.set_xticks(RPs)\n",
    "ax1.set_xticklabels(rp)\n",
    "\n",
    "ax2 = ax1.twinx()\n",
    "ax2.plot(RPs, imp, marker='s', color='r')\n",
    "ax2.set_ylabel('at event x frequency', color='r')\n",
    "ax2.tick_params(axis='y', labelcolor='r')\n",
    "\n",
    "plt.title('Impact vs # RP maps')\n",
    "fig = plt.gcf()\n",
    "\n",
    "plt.show()"
   ]
  },
  {
   "cell_type": "markdown",
   "id": "13c83b42-9b28-4faf-b63d-325e6f92f0c9",
   "metadata": {},
   "source": [
    "### TC RP maps"
   ]
  },
  {
   "cell_type": "code",
   "execution_count": 15,
   "id": "cc365cfb-3524-479f-8551-1207b6d90f29",
   "metadata": {},
   "outputs": [],
   "source": [
    "# Load country BEM as prep\n",
    "from climada.util.constants import SYSTEM_DIR\n",
    "from climada.hazard import TropCyclone, Hazard\n",
    "from climada.entity.exposures import Exposures\n",
    "from climada.engine import ImpactCalc\n",
    "import numpy as np\n",
    "import os\n",
    "import copy\n",
    "from pathlib import Path\n",
    "\n",
    "os.chdir('/cluster/project/climate/meilers/scripts/displacement/global-displacement-risk') \n",
    "import exposure\n",
    "import vulnerability\n",
    "import coastal_flood_hazard\n",
    "\n",
    "# select country here\n",
    "cntry = 'Philippines'"
   ]
  },
  {
   "cell_type": "code",
   "execution_count": 16,
   "id": "328528ab-f8a1-4976-ac66-396ed2bec0c0",
   "metadata": {},
   "outputs": [],
   "source": [
    "gdf_bem_subcomps = exposure.gdf_from_bem_subcomps(cntry, opt='full')# filter and apply impf id\n",
    "gdf_bem_subcomps = gdf_bem_subcomps[gdf_bem_subcomps.valhum>0.001] # filter out rows with basically no population\n",
    "gdf_bem_subcomps['impf_TC'] = gdf_bem_subcomps.apply(lambda row: vulnerability.DICT_PAGER_TCIMPF_HAZUS[row.se_seismo], axis=1)\n",
    "\n",
    "for col in ['iso3', 'sector', 'valfis']:\n",
    "    gdf_bem_subcomps.pop(col)\n",
    "\n",
    "exp = Exposures(gdf_bem_subcomps)\n",
    "exp.gdf.rename({'valhum': 'value'}, axis=1, inplace=True)\n",
    "exp.value_unit = 'Pop. count'\n",
    "exp.gdf['longitude'] = exp.gdf.geometry.x\n",
    "exp.gdf['latitude'] = exp.gdf.geometry.y\n",
    "exp.gdf = exp.gdf[~np.isnan(\n",
    "    exp.gdf.latitude)]  # drop nan centroids"
   ]
  },
  {
   "cell_type": "code",
   "execution_count": 17,
   "id": "13ff3da5-4bea-452b-ba77-d132bdf65aa7",
   "metadata": {},
   "outputs": [],
   "source": [
    "# load TC hazard phl\n",
    "if cntry == 'Somalia':\n",
    "    reg = 'IO'\n",
    "elif cntry == 'Philippines':\n",
    "    reg = 'WP'\n",
    "else:\n",
    "    reg = print('no country-basin assingment found')\n",
    "\n",
    "haz_TC_dir = Path('/cluster/work/climate/meilers/climada/data/hazard/RPmaps')\n",
    "haz_str= f'TC_{reg}_0150as_MIT_RP-maps.nc'"
   ]
  },
  {
   "cell_type": "code",
   "execution_count": 18,
   "id": "36272372-d847-43e3-bacd-17cc777ed1e6",
   "metadata": {},
   "outputs": [],
   "source": [
    "import xarray as xr\n",
    "from scipy import sparse\n",
    "from climada.hazard.centroids.centr import Centroids\n",
    "\n",
    "def read_netcdf_as_hazard(file_path):\n",
    "    \"\"\"\n",
    "    Read NetCDF file containing exceedance intensity data for various return periods\n",
    "    and convert it into a Hazard object.\n",
    "\n",
    "    Args:\n",
    "    - file_path (str): Path to the NetCDF file.\n",
    "\n",
    "    Returns:\n",
    "    - Hazard: Hazard object containing the data from the NetCDF file.\n",
    "    \"\"\"\n",
    "    with xr.open_dataset(file_path) as ds:\n",
    "        centroids = Centroids(lat=ds['latitude'].values, lon=ds['longitude'].values)\n",
    "        \n",
    "        # Create a list to hold intensity data arrays\n",
    "        intensity_arrays = []\n",
    "        return_periods = [1, 10, 25, 50, 100, 250]  # Specify your return periods\n",
    "        for rp in return_periods:\n",
    "            intensity_var = f'intensity_RP{rp}'\n",
    "            intensity_arrays.append(ds[intensity_var].values)\n",
    "\n",
    "        # Stack arrays vertically and convert to sparse matrix\n",
    "        intensity_matrix = np.vstack(intensity_arrays)\n",
    "        intensity_sparse = sparse.csr_matrix(intensity_matrix)\n",
    "\n",
    "        # Create the Hazard object\n",
    "        hazard = Hazard(\n",
    "            haz_type='TC',\n",
    "            units='m/s',\n",
    "            centroids=centroids,\n",
    "            event_id=np.arange(len(np.array(return_periods, dtype=int))),\n",
    "            event_name=np.arange(len(np.array(return_periods, dtype=int))),\n",
    "            date=np.arange(len(np.array(return_periods, dtype=int))),\n",
    "            intensity=intensity_sparse,\n",
    "            frequency=1 / np.array(return_periods)\n",
    "        )\n",
    "\n",
    "    return hazard"
   ]
  },
  {
   "cell_type": "code",
   "execution_count": 19,
   "id": "b442599e-a2b1-4c55-bb73-7160acab3593",
   "metadata": {},
   "outputs": [],
   "source": [
    "file_path = haz_TC_dir.joinpath(haz_str)\n",
    "RP_haz = read_netcdf_as_hazard(file_path)"
   ]
  },
  {
   "cell_type": "code",
   "execution_count": 20,
   "id": "a1cadd9d-bd9c-4c28-b0e9-bdaaa6906d3d",
   "metadata": {},
   "outputs": [],
   "source": [
    "impf_set_tc = vulnerability.IMPF_SET_TC_HAZUS\n",
    "\n",
    "impf_set_tc_step = ImpactFuncSet()"
   ]
  },
  {
   "cell_type": "code",
   "execution_count": 21,
   "id": "72e53cfa-1e3b-4134-a222-1f7adf9717f0",
   "metadata": {},
   "outputs": [],
   "source": [
    "building_thresh = 0.55 # 55% iDMC v1; CIMA: 30% for Somalia to 60% for other countries. \n",
    "\n",
    "for imp_id in impf_set_tc.get_ids(haz_type='TC'):\n",
    "    impf_set_tc.get_func(fun_id=imp_id)\n",
    "    y = impf_set_tc.get_func(fun_id=imp_id)[0].intensity\n",
    "    x = impf_set_tc.get_func(fun_id=imp_id)[0].mdd\n",
    "    thresh = np.interp(building_thresh, x, y)\n",
    "    impf_set_tc_step.append(\n",
    "                ImpactFunc.from_step_impf(\n",
    "                    intensity=(0,  thresh, thresh *10),\n",
    "                    haz_type='TC',\n",
    "                    impf_id=imp_id,\n",
    "                    intensity_unit = 'm/s'\n",
    "                )\n",
    "    )"
   ]
  },
  {
   "cell_type": "code",
   "execution_count": 22,
   "id": "12c51c29-4b24-4082-b6fe-f781e895748a",
   "metadata": {},
   "outputs": [],
   "source": [
    "impcalc = ImpactCalc(exp, impf_set_tc_step, RP_haz)\n",
    "impact = impcalc.impact()"
   ]
  },
  {
   "cell_type": "code",
   "execution_count": 23,
   "id": "37dd4624-9a73-4287-bd61-7a55452e15ba",
   "metadata": {},
   "outputs": [],
   "source": [
    "impTC = []\n",
    "impTCcumsum = []\n",
    "for n in range(0,6):\n",
    "    impTC.append(impact.at_event[n]*impact.frequency[n])\n",
    "    impTCcumsum = np.cumsum(impTC)"
   ]
  },
  {
   "cell_type": "code",
   "execution_count": 24,
   "id": "fde32e65-f061-443b-bed3-f41484202586",
   "metadata": {},
   "outputs": [
    {
     "data": {
      "text/plain": [
       "[0.0,\n",
       " 1371268.1481255915,\n",
       " 1187950.7528992584,\n",
       " 685582.9092129825,\n",
       " 430980.07548440056,\n",
       " 336134.28079056524]"
      ]
     },
     "execution_count": 24,
     "metadata": {},
     "output_type": "execute_result"
    }
   ],
   "source": [
    "impTC"
   ]
  },
  {
   "cell_type": "code",
   "execution_count": 25,
   "id": "f9cdac2a-fec1-4275-8c99-373fb8c9febe",
   "metadata": {},
   "outputs": [
    {
     "data": {
      "text/plain": [
       "array([      0.        , 1371268.14812559, 2559218.90102485,\n",
       "       3244801.81023783, 3675781.88572223, 4011916.1665128 ])"
      ]
     },
     "execution_count": 25,
     "metadata": {},
     "output_type": "execute_result"
    }
   ],
   "source": [
    "impTCcumsum"
   ]
  },
  {
   "cell_type": "markdown",
   "id": "3d40bae6-aea0-4e6b-b5ea-22a35bcc1efa",
   "metadata": {},
   "source": [
    "### comparison to event-based TC impact calculation"
   ]
  },
  {
   "cell_type": "code",
   "execution_count": 26,
   "id": "5357f94c-a84a-4a05-be24-33ce70b272a0",
   "metadata": {},
   "outputs": [],
   "source": [
    "hazard_dir = SYSTEM_DIR/\"hazard\"/\"present\""
   ]
  },
  {
   "cell_type": "code",
   "execution_count": 27,
   "id": "63559293-7035-4b47-9283-a728f84a2ff7",
   "metadata": {},
   "outputs": [],
   "source": [
    "if cntry == 'Somalia':\n",
    "    reg = 'IO'\n",
    "elif cntry == 'Philippines':\n",
    "    reg = 'WP'\n",
    "else:\n",
    "    reg = print('no country-basin assingment found')\n",
    "\n",
    "tc_haz = TropCyclone.from_hdf5(hazard_dir.joinpath(f'TC_{reg}_0150as_MIT_H08.hdf5'))"
   ]
  },
  {
   "cell_type": "code",
   "execution_count": 28,
   "id": "dec02914-0483-4fd4-91db-539d71b335cb",
   "metadata": {},
   "outputs": [],
   "source": [
    "impcalc = ImpactCalc(exp, impf_set_tc_step, tc_haz)\n",
    "impact = impcalc.impact()"
   ]
  },
  {
   "cell_type": "code",
   "execution_count": 29,
   "id": "86c4870b-c171-4771-940d-f40495f395ac",
   "metadata": {},
   "outputs": [
    {
     "name": "stdout",
     "output_type": "stream",
     "text": [
      "3297510.6990920543\n"
     ]
    }
   ],
   "source": [
    "print(impact.aai_agg)"
   ]
  },
  {
   "cell_type": "code",
   "execution_count": 30,
   "id": "061ab5a6-1aee-4fee-9d5a-b4f0d9fbff40",
   "metadata": {},
   "outputs": [
    {
     "data": {
      "image/png": "[encoded data removed]",
      "text/plain": [
       "<Figure size 720x360 with 2 Axes>"
      ]
     },
     "metadata": {
      "needs_background": "light"
     },
     "output_type": "display_data"
    }
   ],
   "source": [
    "return_periods = [1, 10, 25, 50, 100, 250]\n",
    "RPs = np.arange(0,6)\n",
    "\n",
    "plt.figure(figsize=(10, 5))\n",
    "\n",
    "ax1 = plt.gca()\n",
    "ax1.plot(RPs, impTCcumsum, marker='o', color='b')\n",
    "ax1.set_xlabel('RP maps')\n",
    "ax1.set_ylabel('aai_agg', color='b')\n",
    "ax1.tick_params(axis='y', labelcolor='b')\n",
    "ax1.plot(0, impact.aai_agg, marker='x', color='k')\n",
    "ax1.text(0, impact.aai_agg, 'aai_agg event-based', color='k', verticalalignment='bottom')\n",
    "\n",
    "ax1.set_xticks(RPs)\n",
    "ax1.set_xticklabels(return_periods)\n",
    "\n",
    "ax2 = ax1.twinx()\n",
    "ax2.plot(RPs, impTC, marker='s', color='r')\n",
    "ax2.set_ylabel('at event x frequency', color='r')\n",
    "ax2.tick_params(axis='y', labelcolor='r')\n",
    "\n",
    "plt.title('Impact vs # RP maps')\n",
    "fig = plt.gcf()\n",
    "\n",
    "plt.show()"
   ]
  },
  {
   "cell_type": "code",
   "execution_count": null,
   "id": "48e9a338-d5fa-4d08-a861-c5babd030025",
   "metadata": {},
   "outputs": [],
   "source": []
  }
 ],
 "metadata": {
  "kernelspec": {
   "display_name": "Python 3 (ipykernel)",
   "language": "python",
   "name": "python3"
  },
  "language_info": {
   "codemirror_mode": {
    "name": "ipython",
    "version": 3
   },
   "file_extension": ".py",
   "mimetype": "text/x-python",
   "name": "python",
   "nbconvert_exporter": "python",
   "pygments_lexer": "ipython3",
   "version": "3.10.4"
  }
 },
 "nbformat": 4,
 "nbformat_minor": 5
}
