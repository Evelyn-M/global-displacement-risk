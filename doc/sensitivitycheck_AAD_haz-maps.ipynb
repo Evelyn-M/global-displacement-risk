{
 "cells": [
  {
   "cell_type": "markdown",
   "id": "ded80017",
   "metadata": {},
   "source": [
    "# Sensitivity check for calculation of AAD from hazard return period maps\n",
    "\n",
    "In this code, we (qualitatively) examine how sensitive the estimation of annual average displacement (AAD) values are (impact.aai_agg) depending on which hazard RP maps that were included. We perform the analysis for floods in 2 countries (PHL, SOM)"
   ]
  },
  {
   "cell_type": "code",
   "execution_count": 1,
   "id": "9679346a",
   "metadata": {},
   "outputs": [],
   "source": [
    "# Load country BEM as prep\n",
    "from climada.util.constants import SYSTEM_DIR\n",
    "from climada.hazard import TropCyclone, Hazard\n",
    "from climada.entity.exposures import Exposures\n",
    "from climada.engine import ImpactCalc\n",
    "import numpy as np\n",
    "import os\n",
    "import copy\n",
    "from pathlib import Path\n",
    "\n",
    "os.chdir('/cluster/project/climate/meilers/scripts/displacement/global-displacement-risk') \n",
    "import exposure\n",
    "import vulnerability\n",
    "import coastal_flood_hazard\n",
    "\n",
    "# select country here\n",
    "cntry = 'Somalia'"
   ]
  },
  {
   "cell_type": "code",
   "execution_count": 2,
   "id": "4802e976",
   "metadata": {},
   "outputs": [],
   "source": [
    "gdf_bem_subcomps = exposure.gdf_from_bem_subcomps(cntry, opt='full')# filter and apply impf id\n",
    "gdf_bem_subcomps = gdf_bem_subcomps[gdf_bem_subcomps.valhum>0.001] # filter out rows with basically no population\n",
    "gdf_bem_subcomps['impf_FL'] = gdf_bem_subcomps.apply(lambda row: vulnerability.DICT_PAGER_FLIMPF_CIMA[row.se_seismo], axis=1)\n",
    "\n",
    "for col in ['iso3', 'sector', 'valfis']:\n",
    "    gdf_bem_subcomps.pop(col)\n",
    "\n",
    "exp = Exposures(gdf_bem_subcomps)\n",
    "exp.gdf.rename({'valhum': 'value'}, axis=1, inplace=True)\n",
    "exp.value_unit = 'Pop. count'\n",
    "exp.gdf['longitude'] = exp.gdf.geometry.x\n",
    "exp.gdf['latitude'] = exp.gdf.geometry.y\n",
    "exp.gdf = exp.gdf[~np.isnan(\n",
    "    exp.gdf.latitude)]  # drop nan centroids"
   ]
  },
  {
   "cell_type": "markdown",
   "id": "4ea15d4a",
   "metadata": {},
   "source": [
    "### Load CIMA flood hazard (river)"
   ]
  },
  {
   "cell_type": "code",
   "execution_count": null,
   "id": "5aa1fe08",
   "metadata": {},
   "outputs": [],
   "source": [
    "HAZ_FOLDER = Path(f'/cluster/work/climate/evelynm/IDMC_UNU/hazard/flood_HM_CIMA/{country}/HISTORICAL/')\n",
    "\n",
    "haz_files = np.sort([str(file) for file in HAZ_FOLDER.glob('*.tif')])\n",
    "rp = np.sort(np.array([int(Path(file).stem[-4:]) for file in haz_files]))"
   ]
  },
  {
   "cell_type": "markdown",
   "id": "f6f29a7a",
   "metadata": {},
   "source": [
    "Create a dictionary (haz_dict) where each key is a number from 1 to 9 (representing the count of RPs and files) and each value is a Hazard object created using progressively more elements from haz_files and rp up to that number."
   ]
  },
  {
   "cell_type": "code",
   "execution_count": 1,
   "id": "9dd00353",
   "metadata": {},
   "outputs": [
    {
     "ename": "NameError",
     "evalue": "name 'haz_files' is not defined",
     "output_type": "error",
     "traceback": [
      "\u001b[0;31m---------------------------------------------------------------------------\u001b[0m",
      "\u001b[0;31mNameError\u001b[0m                                 Traceback (most recent call last)",
      "Cell \u001b[0;32mIn[1], line 4\u001b[0m\n\u001b[1;32m      1\u001b[0m haz_dict \u001b[38;5;241m=\u001b[39m {}\n\u001b[1;32m      2\u001b[0m \u001b[38;5;28;01mfor\u001b[39;00m i \u001b[38;5;129;01min\u001b[39;00m \u001b[38;5;28mrange\u001b[39m(\u001b[38;5;241m1\u001b[39m, \u001b[38;5;241m10\u001b[39m):  \u001b[38;5;66;03m# Loop from 1 to 9\u001b[39;00m\n\u001b[1;32m      3\u001b[0m     \u001b[38;5;66;03m# Slice the arrays up to the current index i (i is exclusive, so we use it directly)\u001b[39;00m\n\u001b[0;32m----> 4\u001b[0m     files_slice \u001b[38;5;241m=\u001b[39m \u001b[43mhaz_files\u001b[49m[:i]\n\u001b[1;32m      5\u001b[0m     rp_slice \u001b[38;5;241m=\u001b[39m rp[:i]\n\u001b[1;32m      7\u001b[0m     \u001b[38;5;66;03m# Create the Hazard object\u001b[39;00m\n",
      "\u001b[0;31mNameError\u001b[0m: name 'haz_files' is not defined"
     ]
    }
   ],
   "source": [
    "haz_dict = {}\n",
    "for i in range(1, 10):\n",
    "    # Slice the arrays up to the current index i (i is exclusive, so we use it directly)\n",
    "    files_slice = haz_files[:i]\n",
    "    rp_slice = rp[:i]\n",
    "\n",
    "    # Create the Hazard object\n",
    "    haz = Hazard.from_raster(\n",
    "        haz_type=HAZ_TYPE,\n",
    "        files_intensity=list(files_slice),  # Convert numpy array slice to list\n",
    "        src_crs='WGS84',\n",
    "        attrs={\n",
    "            'unit': 'm',\n",
    "            'event_id': np.arange(len(files_slice)),\n",
    "            'frequency': 1 / rp_slice\n",
    "        }\n",
    "    )\n",
    "    haz.intensity = haz.intensity/100\n",
    "    # Store the Hazard object in the dictionary with i as the key\n",
    "    haz_dict[i] = haz"
   ]
  },
  {
   "cell_type": "markdown",
   "id": "35b2716e",
   "metadata": {},
   "source": [
    "### Caluclate impacts"
   ]
  },
  {
   "cell_type": "markdown",
   "id": "474e2b09",
   "metadata": {},
   "source": [
    "#### CIMA/Capra impact functions"
   ]
  },
  {
   "cell_type": "code",
   "execution_count": 17,
   "id": "5ada19ac",
   "metadata": {},
   "outputs": [],
   "source": [
    "impf_set_cima = vulnerability.IMPF_SET_FL_CIMA"
   ]
  },
  {
   "cell_type": "code",
   "execution_count": null,
   "id": "1a0611c4",
   "metadata": {},
   "outputs": [],
   "source": [
    "from climada.entity import ImpactFunc, ImpactFuncSet\n",
    "impf_set_cima_step = ImpactFuncSet()"
   ]
  },
  {
   "cell_type": "code",
   "execution_count": null,
   "id": "b48cbc7c",
   "metadata": {},
   "outputs": [],
   "source": [
    "# The threshold of building damage after which all people are displaced. Below, no-one is displaced.\n",
    "building_thes = 0.3 # 55% iDMC v1; CIMA: 30% for Somalia to 60% for other countries. \n",
    "\n",
    "for imp_id in impf_set_cima.get_ids(haz_type='FL'):\n",
    "    impf_set_cima.get_func(fun_id=imp_id)\n",
    "    y = impf_set_cima.get_func(fun_id=imp_id)[0].intensity\n",
    "    x = impf_set_cima.get_func(fun_id=imp_id)[0].mdd\n",
    "    flood_thres = np.interp(building_thes, x, y)\n",
    "    print('ID: '+str(imp_id)+' - threshold stepfunction: '+str(flood_thres))\n",
    "    impf_set_cima_step.append(\n",
    "                ImpactFunc.from_step_impf(\n",
    "                    intensity=(0,  flood_thres, flood_thres *10),\n",
    "                    haz_type='FL',\n",
    "                    impf_id=imp_id,\n",
    "                    intensity_unit = 'm'\n",
    "                )\n",
    "    )"
   ]
  },
  {
   "cell_type": "code",
   "execution_count": 18,
   "id": "9caf98d0",
   "metadata": {},
   "outputs": [
    {
     "name": "stdout",
     "output_type": "stream",
     "text": [
      "2024-05-06 15:45:23,755 - climada.util.coordinates - WARNING - Distance to closest centroid is greater than 100km for 2123 coordinates.\n",
      "2024-05-06 15:45:31,108 - climada.util.coordinates - WARNING - Distance to closest centroid is greater than 100km for 2123 coordinates.\n",
      "2024-05-06 15:45:38,468 - climada.util.coordinates - WARNING - Distance to closest centroid is greater than 100km for 2123 coordinates.\n",
      "2024-05-06 15:45:45,498 - climada.util.coordinates - WARNING - Distance to closest centroid is greater than 100km for 2123 coordinates.\n",
      "2024-05-06 15:45:52,519 - climada.util.coordinates - WARNING - Distance to closest centroid is greater than 100km for 2123 coordinates.\n",
      "2024-05-06 15:45:59,886 - climada.util.coordinates - WARNING - Distance to closest centroid is greater than 100km for 2123 coordinates.\n",
      "2024-05-06 15:46:07,109 - climada.util.coordinates - WARNING - Distance to closest centroid is greater than 100km for 2123 coordinates.\n",
      "2024-05-06 15:46:14,306 - climada.util.coordinates - WARNING - Distance to closest centroid is greater than 100km for 2123 coordinates.\n",
      "2024-05-06 15:46:21,513 - climada.util.coordinates - WARNING - Distance to closest centroid is greater than 100km for 2123 coordinates.\n",
      "2024-05-06 15:46:28,615 - climada.util.coordinates - WARNING - Distance to closest centroid is greater than 100km for 2123 coordinates.\n",
      "2024-05-06 15:46:35,838 - climada.util.coordinates - WARNING - Distance to closest centroid is greater than 100km for 2123 coordinates.\n",
      "2024-05-06 15:46:43,047 - climada.util.coordinates - WARNING - Distance to closest centroid is greater than 100km for 2123 coordinates.\n",
      "2024-05-06 15:46:50,222 - climada.util.coordinates - WARNING - Distance to closest centroid is greater than 100km for 2123 coordinates.\n",
      "2024-05-06 15:46:57,351 - climada.util.coordinates - WARNING - Distance to closest centroid is greater than 100km for 2123 coordinates.\n",
      "2024-05-06 15:47:04,409 - climada.util.coordinates - WARNING - Distance to closest centroid is greater than 100km for 2123 coordinates.\n",
      "2024-05-06 15:47:11,648 - climada.util.coordinates - WARNING - Distance to closest centroid is greater than 100km for 2123 coordinates.\n",
      "2024-05-06 15:47:18,790 - climada.util.coordinates - WARNING - Distance to closest centroid is greater than 100km for 2123 coordinates.\n",
      "2024-05-06 15:47:25,920 - climada.util.coordinates - WARNING - Distance to closest centroid is greater than 100km for 2123 coordinates.\n"
     ]
    }
   ],
   "source": [
    "aai_agg_dict = {}\n",
    "for n, haz in haz_dict.items():\n",
    "    impf_set = get_TC_step_func(impf_set=impf_set_cf_cima, threshold=thresh, haz_type='FL', unit='m')\n",
    "    impact = ImpactCalc(exp, impf_set_cima_step, haz).impact()\n",
    "    aai_agg_dict[n] = impact.aai_agg"
   ]
  },
  {
   "cell_type": "code",
   "execution_count": 19,
   "id": "39e93bf3",
   "metadata": {},
   "outputs": [
    {
     "data": {
      "image/png": "[encoded data removed]",
      "text/plain": [
       "<Figure size 720x360 with 1 Axes>"
      ]
     },
     "metadata": {
      "needs_background": "light"
     },
     "output_type": "display_data"
    }
   ],
   "source": [
    "RPs = list(aai_agg_dict_cima.keys())\n",
    "impacts = list(aai_agg_dict_cima.values())\n",
    "\n",
    "plt.figure(figsize=(10, 5))\n",
    "plt.plot(RPs, impacts, marker='o')\n",
    "plt.title('Impact vs # RP maps')\n",
    "plt.xlabel('# of RP maps')\n",
    "plt.ylabel('AAD')\n",
    "plt.show()"
   ]
  }
 ],
 "metadata": {
  "kernelspec": {
   "display_name": "Python 3 (ipykernel)",
   "language": "python",
   "name": "python3"
  },
  "language_info": {
   "codemirror_mode": {
    "name": "ipython",
    "version": 3
   },
   "file_extension": ".py",
   "mimetype": "text/x-python",
   "name": "python",
   "nbconvert_exporter": "python",
   "pygments_lexer": "ipython3",
   "version": "3.9.16"
  }
 },
 "nbformat": 4,
 "nbformat_minor": 5
}
