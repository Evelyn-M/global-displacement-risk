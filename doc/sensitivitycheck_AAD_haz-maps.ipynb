{
 "cells": [
  {
   "cell_type": "markdown",
   "id": "ded80017",
   "metadata": {},
   "source": [
    "# Sensitivity check for calculation of AAD from hazard return period maps\n",
    "\n",
    "In this code, we (qualitatively) examine how sensitive the estimation of annual average displacement (AAD) values are (impact.aai_agg) depending on which hazard RP maps that were included. We perform the analysis for floods in 2 countries (PHL, SOM)"
   ]
  },
  {
   "cell_type": "code",
   "execution_count": 1,
   "id": "9679346a",
   "metadata": {},
   "outputs": [],
   "source": [
    "# Load country BEM as prep\n",
    "from climada.util.constants import SYSTEM_DIR\n",
    "from climada.hazard import TropCyclone, Hazard\n",
    "from climada.entity.exposures import Exposures\n",
    "from climada.engine import ImpactCalc\n",
    "import numpy as np\n",
    "import os\n",
    "import copy\n",
    "from pathlib import Path\n",
    "\n",
    "os.chdir('/cluster/project/climate/meilers/scripts/displacement/global-displacement-risk') \n",
    "import exposure\n",
    "import vulnerability\n",
    "import coastal_flood_hazard\n",
    "\n",
    "# select country here\n",
    "cntry = 'Somalia'"
   ]
  },
  {
   "cell_type": "code",
   "execution_count": 2,
   "id": "4802e976",
   "metadata": {},
   "outputs": [],
   "source": [
    "gdf_bem_subcomps = exposure.gdf_from_bem_subcomps(cntry, opt='full')# filter and apply impf id\n",
    "gdf_bem_subcomps = gdf_bem_subcomps[gdf_bem_subcomps.valhum>0.001] # filter out rows with basically no population\n",
    "gdf_bem_subcomps['impf_FL'] = gdf_bem_subcomps.apply(lambda row: vulnerability.DICT_PAGER_FLIMPF_CIMA[row.se_seismo], axis=1)\n",
    "\n",
    "for col in ['iso3', 'sector', 'valfis']:\n",
    "    gdf_bem_subcomps.pop(col)\n",
    "\n",
    "exp = Exposures(gdf_bem_subcomps)\n",
    "exp.gdf.rename({'valhum': 'value'}, axis=1, inplace=True)\n",
    "exp.value_unit = 'Pop. count'\n",
    "exp.gdf['longitude'] = exp.gdf.geometry.x\n",
    "exp.gdf['latitude'] = exp.gdf.geometry.y\n",
    "exp.gdf = exp.gdf[~np.isnan(\n",
    "    exp.gdf.latitude)]  # drop nan centroids"
   ]
  },
  {
   "cell_type": "markdown",
   "id": "4ea15d4a",
   "metadata": {},
   "source": [
    "### Load CIMA flood hazard (river)"
   ]
  },
  {
   "cell_type": "code",
   "execution_count": 9,
   "id": "5aa1fe08",
   "metadata": {},
   "outputs": [],
   "source": [
    "HAZ_FOLDER = Path(f'/cluster/work/climate/evelynm/IDMC_UNU/hazard/flood_HM_CIMA/{cntry}/HISTORICAL/')\n",
    "HAZ_TYPE = 'FL'\n",
    "\n",
    "haz_files = np.sort([str(file) for file in HAZ_FOLDER.glob('*.tif')])\n",
    "rp = np.sort(np.array([int(Path(file).stem[-4:]) for file in haz_files]))"
   ]
  },
  {
   "cell_type": "markdown",
   "id": "f6f29a7a",
   "metadata": {},
   "source": [
    "Create a dictionary (haz_dict) where each key is a number from 1 to 9 (representing the count of RPs and files) and each value is a Hazard object created using progressively more elements from haz_files and rp up to that number."
   ]
  },
  {
   "cell_type": "code",
   "execution_count": 11,
   "id": "9dd00353",
   "metadata": {},
   "outputs": [],
   "source": [
    "haz_dict = {}\n",
    "for i in range(1, 10):\n",
    "    files_slice = haz_files[:i]\n",
    "    rp_slice = rp[:i]\n",
    "\n",
    "    # Create the Hazard object\n",
    "    haz = Hazard.from_raster(\n",
    "        haz_type=HAZ_TYPE,\n",
    "        files_intensity=list(files_slice),\n",
    "        src_crs='WGS84',\n",
    "        attrs={\n",
    "            'unit': 'm',\n",
    "            'event_id': np.arange(len(files_slice)),\n",
    "            'frequency': 1 / rp_slice\n",
    "        }\n",
    "    )\n",
    "    haz.intensity = haz.intensity/100\n",
    "    haz_dict[i] = haz"
   ]
  },
  {
   "cell_type": "markdown",
   "id": "35b2716e",
   "metadata": {},
   "source": [
    "### Caluclate impacts"
   ]
  },
  {
   "cell_type": "markdown",
   "id": "474e2b09",
   "metadata": {},
   "source": [
    "#### CIMA/Capra impact functions"
   ]
  },
  {
   "cell_type": "code",
   "execution_count": 12,
   "id": "5ada19ac",
   "metadata": {},
   "outputs": [],
   "source": [
    "impf_set_cima = vulnerability.IMPF_SET_FL_CIMA"
   ]
  },
  {
   "cell_type": "code",
   "execution_count": 13,
   "id": "1a0611c4",
   "metadata": {},
   "outputs": [],
   "source": [
    "from climada.entity import ImpactFunc, ImpactFuncSet\n",
    "impf_set_cima_step = ImpactFuncSet()"
   ]
  },
  {
   "cell_type": "code",
   "execution_count": 14,
   "id": "b48cbc7c",
   "metadata": {},
   "outputs": [
    {
     "name": "stdout",
     "output_type": "stream",
     "text": [
      "ID: 1 - threshold stepfunction: 1.6501727272727271\n",
      "ID: 2 - threshold stepfunction: 3.0897\n",
      "ID: 3 - threshold stepfunction: 5.8621\n",
      "ID: 4 - threshold stepfunction: 7.25308813559322\n",
      "ID: 5 - threshold stepfunction: 10.0\n",
      "ID: 6 - threshold stepfunction: 1.6494416666666667\n",
      "ID: 7 - threshold stepfunction: 2.8966\n",
      "ID: 8 - threshold stepfunction: 4.4510233333333336\n",
      "ID: 9 - threshold stepfunction: 5.833358333333334\n",
      "ID: 10 - threshold stepfunction: 7.2498097560975605\n",
      "ID: 11 - threshold stepfunction: 1.0249714285714286\n",
      "ID: 12 - threshold stepfunction: 0.7434042553191489\n",
      "ID: 13 - threshold stepfunction: 0.7436553191489361\n",
      "ID: 14 - threshold stepfunction: 1.0249714285714286\n",
      "ID: 15 - threshold stepfunction: 1.4075205479452055\n"
     ]
    }
   ],
   "source": [
    "# The threshold of building damage after which all people are displaced. Below, no-one is displaced.\n",
    "building_thes = 0.3 # 55% iDMC v1; CIMA: 30% for Somalia to 60% for other countries. \n",
    "\n",
    "for imp_id in impf_set_cima.get_ids(haz_type='FL'):\n",
    "    impf_set_cima.get_func(fun_id=imp_id)\n",
    "    y = impf_set_cima.get_func(fun_id=imp_id)[0].intensity\n",
    "    x = impf_set_cima.get_func(fun_id=imp_id)[0].mdd\n",
    "    flood_thres = np.interp(building_thes, x, y)\n",
    "    impf_set_cima_step.append(\n",
    "                ImpactFunc.from_step_impf(\n",
    "                    intensity=(0,  flood_thres, flood_thres *10),\n",
    "                    haz_type='FL',\n",
    "                    impf_id=imp_id,\n",
    "                    intensity_unit = 'm'\n",
    "                )\n",
    "    )"
   ]
  },
  {
   "cell_type": "code",
   "execution_count": 16,
   "id": "9caf98d0",
   "metadata": {},
   "outputs": [],
   "source": [
    "aai_agg_dict = {}\n",
    "for n, haz in haz_dict.items():\n",
    "    impact = ImpactCalc(exp, impf_set_cima_step, haz).impact()\n",
    "    aai_agg_dict[n] = impact.aai_agg"
   ]
  },
  {
   "cell_type": "code",
   "execution_count": 19,
   "id": "39e93bf3",
   "metadata": {},
   "outputs": [
    {
     "data": {
      "image/png": "[encoded data removed]",
      "text/plain": [
       "<Figure size 720x360 with 1 Axes>"
      ]
     },
     "metadata": {
      "needs_background": "light"
     },
     "output_type": "display_data"
    }
   ],
   "source": [
    "import matplotlib.pyplot as plt\n",
    "\n",
    "RPs = list(aai_agg_dict.keys())\n",
    "impacts = list(aai_agg_dict.values())\n",
    "\n",
    "plt.figure(figsize=(10, 5))\n",
    "plt.plot(RPs, impacts, marker='o')\n",
    "plt.title('Impact vs # RP maps')\n",
    "plt.xlabel('# of RP maps')\n",
    "plt.ylabel('AAD')\n",
    "plt.show()"
   ]
  },
  {
   "cell_type": "code",
   "execution_count": 20,
   "id": "7a39a59a-9f7b-407a-b846-7069ed20f06b",
   "metadata": {},
   "outputs": [
    {
     "data": {
      "text/plain": [
       "{1: 0.0,\n",
       " 2: 14307.27784673741,\n",
       " 3: 27588.561086471127,\n",
       " 4: 36933.87399063758,\n",
       " 5: 42486.14860083056,\n",
       " 6: 47081.49006567723,\n",
       " 7: 49961.74650385818,\n",
       " 8: 51569.828748638,\n",
       " 9: 52485.36424177725}"
      ]
     },
     "execution_count": 20,
     "metadata": {},
     "output_type": "execute_result"
    }
   ],
   "source": [
    "aai_agg_dict"
   ]
  },
  {
   "cell_type": "code",
   "execution_count": 41,
   "id": "a7b5e2b1-0013-452b-a473-f18f1c39b962",
   "metadata": {},
   "outputs": [],
   "source": [
    "imp = []\n",
    "for n in range(0,9):\n",
    "    imp.append(impact.at_event[n]*impact.frequency[n])"
   ]
  },
  {
   "cell_type": "code",
   "execution_count": 45,
   "id": "4a248f12-c581-494b-8d04-cfe0d1781f40",
   "metadata": {},
   "outputs": [
    {
     "data": {
      "text/plain": [
       "[0.0,\n",
       " 14307.277846737408,\n",
       " 13281.283239733719,\n",
       " 9345.312904166463,\n",
       " 5552.274610192963,\n",
       " 4595.34146484671,\n",
       " 2880.2564381808693,\n",
       " 1608.0822447799073,\n",
       " 915.5354931392578]"
      ]
     },
     "execution_count": 45,
     "metadata": {},
     "output_type": "execute_result"
    }
   ],
   "source": [
    "imp"
   ]
  },
  {
   "cell_type": "code",
   "execution_count": 44,
   "id": "f7ea24e6-9657-4a8c-bab8-8bf87b85675a",
   "metadata": {},
   "outputs": [
    {
     "data": {
      "text/plain": [
       "52485.3642417773"
      ]
     },
     "execution_count": 44,
     "metadata": {},
     "output_type": "execute_result"
    }
   ],
   "source": [
    "sum(imp)"
   ]
  },
  {
   "cell_type": "code",
   "execution_count": 55,
   "id": "e5187562-0442-4cdc-adfa-cab3385cd891",
   "metadata": {},
   "outputs": [
    {
     "data": {
      "image/png": "[encoded data removed]",
      "text/plain": [
       "<Figure size 720x360 with 2 Axes>"
      ]
     },
     "metadata": {
      "needs_background": "light"
     },
     "output_type": "display_data"
    }
   ],
   "source": [
    "plt.figure(figsize=(10, 5))\n",
    "\n",
    "# Creating the first plot\n",
    "ax1 = plt.gca()  # Gets the current axis\n",
    "ax1.plot(RPs, impacts, marker='o', color='b', label='Impacts')  # Plot the impacts on the primary y-axis\n",
    "ax1.set_xlabel('RP maps')\n",
    "ax1.set_ylabel('aai_agg', color='b')\n",
    "ax1.tick_params(axis='y', labelcolor='b')\n",
    "\n",
    "ax1.set_xticks(RPs)  # Set the ticks to be at the positions where the RPs are\n",
    "ax1.set_xticklabels(rp)  # Set the tick labels to be the RP values, with a rotation for better visibility\n",
    "\n",
    "# Creating the secondary y-axis\n",
    "ax2 = ax1.twinx()  # Creates a second y-axis sharing the same x-axis\n",
    "ax2.plot(RPs, imp, marker='s', color='r', label='Additional Metric')  # Plot 'imp' on the secondary y-axis\n",
    "ax2.set_ylabel('at event x frequency', color='r')\n",
    "ax2.tick_params(axis='y', labelcolor='r')\n",
    "\n",
    "# Title and legends\n",
    "plt.title('Impact vs # RP maps')\n",
    "fig = plt.gcf()\n",
    "\n",
    "plt.show()"
   ]
  },
  {
   "cell_type": "code",
   "execution_count": null,
   "id": "5bbc653a-cac4-43cf-b5d0-54fbc1d28840",
   "metadata": {},
   "outputs": [],
   "source": []
  }
 ],
 "metadata": {
  "kernelspec": {
   "display_name": "Python 3 (ipykernel)",
   "language": "python",
   "name": "python3"
  },
  "language_info": {
   "codemirror_mode": {
    "name": "ipython",
    "version": 3
   },
   "file_extension": ".py",
   "mimetype": "text/x-python",
   "name": "python",
   "nbconvert_exporter": "python",
   "pygments_lexer": "ipython3",
   "version": "3.10.4"
  }
 },
 "nbformat": 4,
 "nbformat_minor": 5
}
