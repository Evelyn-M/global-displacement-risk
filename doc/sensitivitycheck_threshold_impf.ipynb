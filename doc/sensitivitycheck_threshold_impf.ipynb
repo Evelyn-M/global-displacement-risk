{
 "cells": [
  {
   "cell_type": "markdown",
   "id": "ded80017",
   "metadata": {},
   "source": [
    "# Sensitivity check for choice of impact function threshold\n",
    "\n",
    "In this code, we (qualitatively) examine how sensitive modelling outcomes are to the choice of impact function thresholds. For this, we vary the threshold over a range (0.2 - 0.8) and test these resulting impacts (aai_agg) for both hazard types (CF, TC) on 2 countries (PHL, SOM)"
   ]
  },
  {
   "cell_type": "code",
   "execution_count": 1,
   "id": "9679346a",
   "metadata": {},
   "outputs": [],
   "source": [
    "# Load country BEM as prep\n",
    "from climada.util.constants import SYSTEM_DIR\n",
    "from climada.hazard import TropCyclone, Hazard\n",
    "from climada.entity.exposures import Exposures\n",
    "from climada.engine import ImpactCalc\n",
    "import numpy as np\n",
    "import os\n",
    "import copy\n",
    "from pathlib import Path\n",
    "\n",
    "os.chdir('/cluster/project/climate/meilers/scripts/displacement/global-displacement-risk') \n",
    "import exposure\n",
    "import vulnerability\n",
    "import coastal_flood_hazard\n",
    "\n",
    "# select country here\n",
    "cntry = 'Philippines'"
   ]
  },
  {
   "cell_type": "code",
   "execution_count": 2,
   "id": "4802e976",
   "metadata": {},
   "outputs": [],
   "source": [
    "gdf_bem_subcomps = exposure.gdf_from_bem_subcomps(cntry, opt='full')# filter and apply impf id\n",
    "gdf_bem_subcomps = gdf_bem_subcomps[gdf_bem_subcomps.valhum>0.001] # filter out rows with basically no population\n",
    "gdf_bem_subcomps['impf_TC'] = gdf_bem_subcomps.apply(lambda row: vulnerability.DICT_PAGER_TCIMPF_HAZUS[row.se_seismo], axis=1)\n",
    "\n",
    "for col in ['iso3', 'sector', 'valfis']:\n",
    "    gdf_bem_subcomps.pop(col)\n",
    "\n",
    "exp = Exposures(gdf_bem_subcomps)\n",
    "exp.gdf.rename({'valhum': 'value'}, axis=1, inplace=True)\n",
    "exp.value_unit = 'Pop. count'\n",
    "exp.gdf['longitude'] = exp.gdf.geometry.x\n",
    "exp.gdf['latitude'] = exp.gdf.geometry.y\n",
    "exp.gdf = exp.gdf[~np.isnan(\n",
    "    exp.gdf.latitude)]  # drop nan centroids"
   ]
  },
  {
   "cell_type": "markdown",
   "id": "417cbcc0",
   "metadata": {},
   "source": [
    "### Load TC hazard and cut to exposure extent"
   ]
  },
  {
   "cell_type": "code",
   "execution_count": 3,
   "id": "abf8ad81",
   "metadata": {},
   "outputs": [],
   "source": [
    "# load TC hazard phl\n",
    "if cntry == 'Somalia':\n",
    "    reg = 'IO'\n",
    "elif cntry == 'Philippines':\n",
    "    reg = 'WP'\n",
    "else:\n",
    "    reg = print('no country-basin assingment found')\n",
    "\n",
    "haz_TC_dir = Path('/cluster/work/climate/meilers/climada/data/hazard/present')\n",
    "haz_TC = TropCyclone.from_hdf5(haz_TC_dir.joinpath(f'TC_{reg}_0150as_MIT_H08.hdf5'))"
   ]
  },
  {
   "cell_type": "code",
   "execution_count": 4,
   "id": "f7e903bd",
   "metadata": {},
   "outputs": [],
   "source": [
    "TC = haz_TC.select(extent=(\n",
    "    exp.gdf['longitude'].min(), exp.gdf['longitude'].max(), exp.gdf['latitude'].min(), exp.gdf['latitude'].max()))"
   ]
  },
  {
   "cell_type": "markdown",
   "id": "6249cd35",
   "metadata": {},
   "source": [
    "### Prepare TC impact functions"
   ]
  },
  {
   "cell_type": "code",
   "execution_count": 5,
   "id": "4eb00056",
   "metadata": {},
   "outputs": [],
   "source": [
    "from climada.entity import ImpactFunc, ImpactFuncSet\n",
    "impf_set_tc_step = ImpactFuncSet()"
   ]
  },
  {
   "cell_type": "code",
   "execution_count": 6,
   "id": "7c417a6a",
   "metadata": {},
   "outputs": [],
   "source": [
    "def get_TC_step_func(impf_set, threshold, haz_type, unit):\n",
    "    for imp_id in impf_set.get_ids(haz_type=haz_type):\n",
    "        impf_set.get_func(fun_id=imp_id)\n",
    "        y = impf_set.get_func(fun_id=imp_id)[0].intensity\n",
    "        x = impf_set.get_func(fun_id=imp_id)[0].mdd\n",
    "        thresh = np.interp(threshold, x, y)\n",
    "        impf_set_tc_step.append(\n",
    "                    ImpactFunc.from_step_impf(\n",
    "                        intensity=(0,  thresh, thresh *10),\n",
    "                        haz_type=haz_type,\n",
    "                        impf_id=imp_id,\n",
    "                        intensity_unit=unit\n",
    "                    )\n",
    "        )\n",
    "    return impf_set_tc_step"
   ]
  },
  {
   "cell_type": "code",
   "execution_count": 7,
   "id": "14c59ab4",
   "metadata": {},
   "outputs": [],
   "source": [
    "impf_set_tc = vulnerability.IMPF_SET_TC_HAZUS"
   ]
  },
  {
   "cell_type": "code",
   "execution_count": 8,
   "id": "827cd739",
   "metadata": {},
   "outputs": [],
   "source": [
    "building_thresh = np.arange(0.05, 0.95, 0.05)"
   ]
  },
  {
   "cell_type": "markdown",
   "id": "03b413ca",
   "metadata": {},
   "source": [
    "### Caluclate impacts"
   ]
  },
  {
   "cell_type": "code",
   "execution_count": 9,
   "id": "12f14bbd",
   "metadata": {},
   "outputs": [],
   "source": [
    "aai_agg_dict = {}\n",
    "for thresh in building_thresh:\n",
    "    impf_set = get_TC_step_func(impf_set=impf_set_tc, threshold=thresh, haz_type='TC', unit='m/s')\n",
    "    impact = ImpactCalc(exp, impf_set, TC).impact()\n",
    "    aai_agg_dict[thresh] = impact.aai_agg"
   ]
  },
  {
   "cell_type": "code",
   "execution_count": 10,
   "id": "a2725420",
   "metadata": {},
   "outputs": [
    {
     "data": {
      "image/png": "[encoded data removed]",
      "text/plain": [
       "<Figure size 720x360 with 1 Axes>"
      ]
     },
     "metadata": {
      "needs_background": "light"
     },
     "output_type": "display_data"
    }
   ],
   "source": [
    "import matplotlib.pyplot as plt\n",
    "\n",
    "thresholds = list(aai_agg_dict.keys())\n",
    "impacts = list(aai_agg_dict.values())\n",
    "\n",
    "plt.figure(figsize=(10, 5))\n",
    "plt.plot(thresholds, impacts, marker='o')\n",
    "plt.title('Impact vs Threshold')\n",
    "plt.xlabel('Threshold')\n",
    "plt.ylabel('AAD')\n",
    "plt.show()"
   ]
  },
  {
   "cell_type": "markdown",
   "id": "56844457",
   "metadata": {},
   "source": [
    "### Flood impf information for exposure"
   ]
  },
  {
   "cell_type": "code",
   "execution_count": 11,
   "id": "694389ef",
   "metadata": {},
   "outputs": [],
   "source": [
    "exp.gdf['impf_FL_cima'] = exp.gdf['se_seismo'].map(vulnerability.DICT_PAGER_FLIMPF_CIMA)"
   ]
  },
  {
   "cell_type": "code",
   "execution_count": 12,
   "id": "5dfeb2ed-dc05-449c-9f3e-cdb6d0183052",
   "metadata": {},
   "outputs": [],
   "source": [
    "exp.gdf['impf_FL_ivm'] = exp.gdf['se_seismo'].map(vulnerability.DICT_PAGER_FLIMPF_IVM)"
   ]
  },
  {
   "cell_type": "markdown",
   "id": "aaea074f",
   "metadata": {},
   "source": [
    "### Load CF hazard"
   ]
  },
  {
   "cell_type": "code",
   "execution_count": 13,
   "id": "ebff468c",
   "metadata": {},
   "outputs": [],
   "source": [
    "haz_CF_dir = Path('/cluster/work/climate/evelynm/IDMC_UNU/hazard/coastal_flood/venDEM_scaled_1km')"
   ]
  },
  {
   "cell_type": "code",
   "execution_count": 14,
   "id": "db84d682",
   "metadata": {},
   "outputs": [],
   "source": [
    "# get tiles covering the exposure extent\n",
    "tiles = coastal_flood_hazard.find_tiles(\n",
    "    exp.gdf['latitude'].min(), exp.gdf['latitude'].max(), exp.gdf['longitude'].min(), exp.gdf['longitude'].max())"
   ]
  },
  {
   "cell_type": "code",
   "execution_count": 15,
   "id": "53f7024f",
   "metadata": {},
   "outputs": [
    {
     "name": "stdout",
     "output_type": "stream",
     "text": [
      "Tile directory /cluster/work/climate/evelynm/IDMC_UNU/hazard/coastal_flood/venDEM_scaled_1km/S02E043/RCP45_2020 not found, skipping...\n",
      "Tile directory /cluster/work/climate/evelynm/IDMC_UNU/hazard/coastal_flood/venDEM_scaled_1km/S02E044/RCP45_2020 not found, skipping...\n",
      "Tile directory /cluster/work/climate/evelynm/IDMC_UNU/hazard/coastal_flood/venDEM_scaled_1km/S02E045/RCP45_2020 not found, skipping...\n",
      "Tile directory /cluster/work/climate/evelynm/IDMC_UNU/hazard/coastal_flood/venDEM_scaled_1km/S02E046/RCP45_2020 not found, skipping...\n",
      "Tile directory /cluster/work/climate/evelynm/IDMC_UNU/hazard/coastal_flood/venDEM_scaled_1km/S02E047/RCP45_2020 not found, skipping...\n",
      "Tile directory /cluster/work/climate/evelynm/IDMC_UNU/hazard/coastal_flood/venDEM_scaled_1km/S02E048/RCP45_2020 not found, skipping...\n",
      "Tile directory /cluster/work/climate/evelynm/IDMC_UNU/hazard/coastal_flood/venDEM_scaled_1km/S02E049/RCP45_2020 not found, skipping...\n",
      "Tile directory /cluster/work/climate/evelynm/IDMC_UNU/hazard/coastal_flood/venDEM_scaled_1km/S02E050/RCP45_2020 not found, skipping...\n",
      "Tile directory /cluster/work/climate/evelynm/IDMC_UNU/hazard/coastal_flood/venDEM_scaled_1km/S02E051/RCP45_2020 not found, skipping...\n",
      "Tile directory /cluster/work/climate/evelynm/IDMC_UNU/hazard/coastal_flood/venDEM_scaled_1km/S01E044/RCP45_2020 not found, skipping...\n",
      "Tile directory /cluster/work/climate/evelynm/IDMC_UNU/hazard/coastal_flood/venDEM_scaled_1km/S01E045/RCP45_2020 not found, skipping...\n",
      "Tile directory /cluster/work/climate/evelynm/IDMC_UNU/hazard/coastal_flood/venDEM_scaled_1km/S01E046/RCP45_2020 not found, skipping...\n",
      "Tile directory /cluster/work/climate/evelynm/IDMC_UNU/hazard/coastal_flood/venDEM_scaled_1km/S01E047/RCP45_2020 not found, skipping...\n",
      "Tile directory /cluster/work/climate/evelynm/IDMC_UNU/hazard/coastal_flood/venDEM_scaled_1km/S01E048/RCP45_2020 not found, skipping...\n",
      "Tile directory /cluster/work/climate/evelynm/IDMC_UNU/hazard/coastal_flood/venDEM_scaled_1km/S01E049/RCP45_2020 not found, skipping...\n",
      "Tile directory /cluster/work/climate/evelynm/IDMC_UNU/hazard/coastal_flood/venDEM_scaled_1km/S01E050/RCP45_2020 not found, skipping...\n",
      "Tile directory /cluster/work/climate/evelynm/IDMC_UNU/hazard/coastal_flood/venDEM_scaled_1km/S01E051/RCP45_2020 not found, skipping...\n",
      "Tile directory /cluster/work/climate/evelynm/IDMC_UNU/hazard/coastal_flood/venDEM_scaled_1km/N00E045/RCP45_2020 not found, skipping...\n",
      "Tile directory /cluster/work/climate/evelynm/IDMC_UNU/hazard/coastal_flood/venDEM_scaled_1km/N00E046/RCP45_2020 not found, skipping...\n",
      "Tile directory /cluster/work/climate/evelynm/IDMC_UNU/hazard/coastal_flood/venDEM_scaled_1km/N00E047/RCP45_2020 not found, skipping...\n",
      "Tile directory /cluster/work/climate/evelynm/IDMC_UNU/hazard/coastal_flood/venDEM_scaled_1km/N00E048/RCP45_2020 not found, skipping...\n",
      "Tile directory /cluster/work/climate/evelynm/IDMC_UNU/hazard/coastal_flood/venDEM_scaled_1km/N00E049/RCP45_2020 not found, skipping...\n",
      "Tile directory /cluster/work/climate/evelynm/IDMC_UNU/hazard/coastal_flood/venDEM_scaled_1km/N00E050/RCP45_2020 not found, skipping...\n",
      "Tile directory /cluster/work/climate/evelynm/IDMC_UNU/hazard/coastal_flood/venDEM_scaled_1km/N00E051/RCP45_2020 not found, skipping...\n",
      "Tile directory /cluster/work/climate/evelynm/IDMC_UNU/hazard/coastal_flood/venDEM_scaled_1km/N01E040/RCP45_2020 not found, skipping...\n",
      "Tile directory /cluster/work/climate/evelynm/IDMC_UNU/hazard/coastal_flood/venDEM_scaled_1km/N01E047/RCP45_2020 not found, skipping...\n",
      "Tile directory /cluster/work/climate/evelynm/IDMC_UNU/hazard/coastal_flood/venDEM_scaled_1km/N01E048/RCP45_2020 not found, skipping...\n",
      "Tile directory /cluster/work/climate/evelynm/IDMC_UNU/hazard/coastal_flood/venDEM_scaled_1km/N01E049/RCP45_2020 not found, skipping...\n",
      "Tile directory /cluster/work/climate/evelynm/IDMC_UNU/hazard/coastal_flood/venDEM_scaled_1km/N01E050/RCP45_2020 not found, skipping...\n",
      "Tile directory /cluster/work/climate/evelynm/IDMC_UNU/hazard/coastal_flood/venDEM_scaled_1km/N01E051/RCP45_2020 not found, skipping...\n",
      "Tile directory /cluster/work/climate/evelynm/IDMC_UNU/hazard/coastal_flood/venDEM_scaled_1km/N02E040/RCP45_2020 not found, skipping...\n",
      "Tile directory /cluster/work/climate/evelynm/IDMC_UNU/hazard/coastal_flood/venDEM_scaled_1km/N02E041/RCP45_2020 not found, skipping...\n",
      "Tile directory /cluster/work/climate/evelynm/IDMC_UNU/hazard/coastal_flood/venDEM_scaled_1km/N02E048/RCP45_2020 not found, skipping...\n",
      "Tile directory /cluster/work/climate/evelynm/IDMC_UNU/hazard/coastal_flood/venDEM_scaled_1km/N02E049/RCP45_2020 not found, skipping...\n",
      "Tile directory /cluster/work/climate/evelynm/IDMC_UNU/hazard/coastal_flood/venDEM_scaled_1km/N02E050/RCP45_2020 not found, skipping...\n",
      "Tile directory /cluster/work/climate/evelynm/IDMC_UNU/hazard/coastal_flood/venDEM_scaled_1km/N02E051/RCP45_2020 not found, skipping...\n",
      "Tile directory /cluster/work/climate/evelynm/IDMC_UNU/hazard/coastal_flood/venDEM_scaled_1km/N03E040/RCP45_2020 not found, skipping...\n",
      "Tile directory /cluster/work/climate/evelynm/IDMC_UNU/hazard/coastal_flood/venDEM_scaled_1km/N03E041/RCP45_2020 not found, skipping...\n",
      "Tile directory /cluster/work/climate/evelynm/IDMC_UNU/hazard/coastal_flood/venDEM_scaled_1km/N03E042/RCP45_2020 not found, skipping...\n",
      "Tile directory /cluster/work/climate/evelynm/IDMC_UNU/hazard/coastal_flood/venDEM_scaled_1km/N03E043/RCP45_2020 not found, skipping...\n",
      "Tile directory /cluster/work/climate/evelynm/IDMC_UNU/hazard/coastal_flood/venDEM_scaled_1km/N03E049/RCP45_2020 not found, skipping...\n",
      "Tile directory /cluster/work/climate/evelynm/IDMC_UNU/hazard/coastal_flood/venDEM_scaled_1km/N03E050/RCP45_2020 not found, skipping...\n",
      "Tile directory /cluster/work/climate/evelynm/IDMC_UNU/hazard/coastal_flood/venDEM_scaled_1km/N03E051/RCP45_2020 not found, skipping...\n",
      "Tile directory /cluster/work/climate/evelynm/IDMC_UNU/hazard/coastal_flood/venDEM_scaled_1km/N04E040/RCP45_2020 not found, skipping...\n",
      "Tile directory /cluster/work/climate/evelynm/IDMC_UNU/hazard/coastal_flood/venDEM_scaled_1km/N04E041/RCP45_2020 not found, skipping...\n",
      "Tile directory /cluster/work/climate/evelynm/IDMC_UNU/hazard/coastal_flood/venDEM_scaled_1km/N04E042/RCP45_2020 not found, skipping...\n",
      "Tile directory /cluster/work/climate/evelynm/IDMC_UNU/hazard/coastal_flood/venDEM_scaled_1km/N04E043/RCP45_2020 not found, skipping...\n",
      "Tile directory /cluster/work/climate/evelynm/IDMC_UNU/hazard/coastal_flood/venDEM_scaled_1km/N04E044/RCP45_2020 not found, skipping...\n",
      "Tile directory /cluster/work/climate/evelynm/IDMC_UNU/hazard/coastal_flood/venDEM_scaled_1km/N04E049/RCP45_2020 not found, skipping...\n",
      "Tile directory /cluster/work/climate/evelynm/IDMC_UNU/hazard/coastal_flood/venDEM_scaled_1km/N04E050/RCP45_2020 not found, skipping...\n",
      "Tile directory /cluster/work/climate/evelynm/IDMC_UNU/hazard/coastal_flood/venDEM_scaled_1km/N04E051/RCP45_2020 not found, skipping...\n",
      "Tile directory /cluster/work/climate/evelynm/IDMC_UNU/hazard/coastal_flood/venDEM_scaled_1km/N05E040/RCP45_2020 not found, skipping...\n",
      "Tile directory /cluster/work/climate/evelynm/IDMC_UNU/hazard/coastal_flood/venDEM_scaled_1km/N05E041/RCP45_2020 not found, skipping...\n",
      "Tile directory /cluster/work/climate/evelynm/IDMC_UNU/hazard/coastal_flood/venDEM_scaled_1km/N05E042/RCP45_2020 not found, skipping...\n",
      "Tile directory /cluster/work/climate/evelynm/IDMC_UNU/hazard/coastal_flood/venDEM_scaled_1km/N05E043/RCP45_2020 not found, skipping...\n",
      "Tile directory /cluster/work/climate/evelynm/IDMC_UNU/hazard/coastal_flood/venDEM_scaled_1km/N05E044/RCP45_2020 not found, skipping...\n",
      "Tile directory /cluster/work/climate/evelynm/IDMC_UNU/hazard/coastal_flood/venDEM_scaled_1km/N05E045/RCP45_2020 not found, skipping...\n",
      "Tile directory /cluster/work/climate/evelynm/IDMC_UNU/hazard/coastal_flood/venDEM_scaled_1km/N05E050/RCP45_2020 not found, skipping...\n",
      "Tile directory /cluster/work/climate/evelynm/IDMC_UNU/hazard/coastal_flood/venDEM_scaled_1km/N05E051/RCP45_2020 not found, skipping...\n",
      "Tile directory /cluster/work/climate/evelynm/IDMC_UNU/hazard/coastal_flood/venDEM_scaled_1km/N06E040/RCP45_2020 not found, skipping...\n",
      "Tile directory /cluster/work/climate/evelynm/IDMC_UNU/hazard/coastal_flood/venDEM_scaled_1km/N06E041/RCP45_2020 not found, skipping...\n",
      "Tile directory /cluster/work/climate/evelynm/IDMC_UNU/hazard/coastal_flood/venDEM_scaled_1km/N06E042/RCP45_2020 not found, skipping...\n",
      "Tile directory /cluster/work/climate/evelynm/IDMC_UNU/hazard/coastal_flood/venDEM_scaled_1km/N06E043/RCP45_2020 not found, skipping...\n",
      "Tile directory /cluster/work/climate/evelynm/IDMC_UNU/hazard/coastal_flood/venDEM_scaled_1km/N06E044/RCP45_2020 not found, skipping...\n",
      "Tile directory /cluster/work/climate/evelynm/IDMC_UNU/hazard/coastal_flood/venDEM_scaled_1km/N06E045/RCP45_2020 not found, skipping...\n",
      "Tile directory /cluster/work/climate/evelynm/IDMC_UNU/hazard/coastal_flood/venDEM_scaled_1km/N06E046/RCP45_2020 not found, skipping...\n",
      "Tile directory /cluster/work/climate/evelynm/IDMC_UNU/hazard/coastal_flood/venDEM_scaled_1km/N06E050/RCP45_2020 not found, skipping...\n",
      "Tile directory /cluster/work/climate/evelynm/IDMC_UNU/hazard/coastal_flood/venDEM_scaled_1km/N06E051/RCP45_2020 not found, skipping...\n",
      "Tile directory /cluster/work/climate/evelynm/IDMC_UNU/hazard/coastal_flood/venDEM_scaled_1km/N07E040/RCP45_2020 not found, skipping...\n",
      "Tile directory /cluster/work/climate/evelynm/IDMC_UNU/hazard/coastal_flood/venDEM_scaled_1km/N07E041/RCP45_2020 not found, skipping...\n",
      "Tile directory /cluster/work/climate/evelynm/IDMC_UNU/hazard/coastal_flood/venDEM_scaled_1km/N07E042/RCP45_2020 not found, skipping...\n",
      "Tile directory /cluster/work/climate/evelynm/IDMC_UNU/hazard/coastal_flood/venDEM_scaled_1km/N07E043/RCP45_2020 not found, skipping...\n",
      "Tile directory /cluster/work/climate/evelynm/IDMC_UNU/hazard/coastal_flood/venDEM_scaled_1km/N07E044/RCP45_2020 not found, skipping...\n",
      "Tile directory /cluster/work/climate/evelynm/IDMC_UNU/hazard/coastal_flood/venDEM_scaled_1km/N07E045/RCP45_2020 not found, skipping...\n",
      "Tile directory /cluster/work/climate/evelynm/IDMC_UNU/hazard/coastal_flood/venDEM_scaled_1km/N07E046/RCP45_2020 not found, skipping...\n",
      "Tile directory /cluster/work/climate/evelynm/IDMC_UNU/hazard/coastal_flood/venDEM_scaled_1km/N07E051/RCP45_2020 not found, skipping...\n",
      "Tile directory /cluster/work/climate/evelynm/IDMC_UNU/hazard/coastal_flood/venDEM_scaled_1km/N08E040/RCP45_2020 not found, skipping...\n",
      "Tile directory /cluster/work/climate/evelynm/IDMC_UNU/hazard/coastal_flood/venDEM_scaled_1km/N08E041/RCP45_2020 not found, skipping...\n",
      "Tile directory /cluster/work/climate/evelynm/IDMC_UNU/hazard/coastal_flood/venDEM_scaled_1km/N08E042/RCP45_2020 not found, skipping...\n",
      "Tile directory /cluster/work/climate/evelynm/IDMC_UNU/hazard/coastal_flood/venDEM_scaled_1km/N08E043/RCP45_2020 not found, skipping...\n",
      "Tile directory /cluster/work/climate/evelynm/IDMC_UNU/hazard/coastal_flood/venDEM_scaled_1km/N08E044/RCP45_2020 not found, skipping...\n",
      "Tile directory /cluster/work/climate/evelynm/IDMC_UNU/hazard/coastal_flood/venDEM_scaled_1km/N08E045/RCP45_2020 not found, skipping...\n",
      "Tile directory /cluster/work/climate/evelynm/IDMC_UNU/hazard/coastal_flood/venDEM_scaled_1km/N08E046/RCP45_2020 not found, skipping...\n",
      "Tile directory /cluster/work/climate/evelynm/IDMC_UNU/hazard/coastal_flood/venDEM_scaled_1km/N08E047/RCP45_2020 not found, skipping...\n",
      "Tile directory /cluster/work/climate/evelynm/IDMC_UNU/hazard/coastal_flood/venDEM_scaled_1km/N08E051/RCP45_2020 not found, skipping...\n",
      "Tile directory /cluster/work/climate/evelynm/IDMC_UNU/hazard/coastal_flood/venDEM_scaled_1km/N09E040/RCP45_2020 not found, skipping...\n",
      "Tile directory /cluster/work/climate/evelynm/IDMC_UNU/hazard/coastal_flood/venDEM_scaled_1km/N09E041/RCP45_2020 not found, skipping...\n",
      "Tile directory /cluster/work/climate/evelynm/IDMC_UNU/hazard/coastal_flood/venDEM_scaled_1km/N10E040/RCP45_2020 not found, skipping...\n",
      "Tile directory /cluster/work/climate/evelynm/IDMC_UNU/hazard/coastal_flood/venDEM_scaled_1km/N11E040/RCP45_2020 not found, skipping...\n"
     ]
    }
   ],
   "source": [
    "# load CF hazard phl\n",
    "CF = coastal_flood_hazard.generate_hazard_object(tiles, haz_CF_dir, 'RCP45', '2020', 'FL')"
   ]
  },
  {
   "cell_type": "markdown",
   "id": "35b2716e",
   "metadata": {},
   "source": [
    "### Caluclate impacts"
   ]
  },
  {
   "cell_type": "markdown",
   "id": "474e2b09",
   "metadata": {},
   "source": [
    "#### CIMA/Capra impact functions"
   ]
  },
  {
   "cell_type": "code",
   "execution_count": 16,
   "id": "f3fc4733",
   "metadata": {},
   "outputs": [],
   "source": [
    "exp.gdf.rename({'impf_FL_cima' : 'impf_FL'}, axis=1, inplace=True)"
   ]
  },
  {
   "cell_type": "code",
   "execution_count": 17,
   "id": "5ada19ac",
   "metadata": {},
   "outputs": [],
   "source": [
    "impf_set_cf_cima = vulnerability.IMPF_SET_FL_CIMA"
   ]
  },
  {
   "cell_type": "code",
   "execution_count": 18,
   "id": "9caf98d0",
   "metadata": {},
   "outputs": [
    {
     "name": "stdout",
     "output_type": "stream",
     "text": [
      "2024-05-06 15:45:23,755 - climada.util.coordinates - WARNING - Distance to closest centroid is greater than 100km for 2123 coordinates.\n",
      "2024-05-06 15:45:31,108 - climada.util.coordinates - WARNING - Distance to closest centroid is greater than 100km for 2123 coordinates.\n",
      "2024-05-06 15:45:38,468 - climada.util.coordinates - WARNING - Distance to closest centroid is greater than 100km for 2123 coordinates.\n",
      "2024-05-06 15:45:45,498 - climada.util.coordinates - WARNING - Distance to closest centroid is greater than 100km for 2123 coordinates.\n",
      "2024-05-06 15:45:52,519 - climada.util.coordinates - WARNING - Distance to closest centroid is greater than 100km for 2123 coordinates.\n",
      "2024-05-06 15:45:59,886 - climada.util.coordinates - WARNING - Distance to closest centroid is greater than 100km for 2123 coordinates.\n",
      "2024-05-06 15:46:07,109 - climada.util.coordinates - WARNING - Distance to closest centroid is greater than 100km for 2123 coordinates.\n",
      "2024-05-06 15:46:14,306 - climada.util.coordinates - WARNING - Distance to closest centroid is greater than 100km for 2123 coordinates.\n",
      "2024-05-06 15:46:21,513 - climada.util.coordinates - WARNING - Distance to closest centroid is greater than 100km for 2123 coordinates.\n",
      "2024-05-06 15:46:28,615 - climada.util.coordinates - WARNING - Distance to closest centroid is greater than 100km for 2123 coordinates.\n",
      "2024-05-06 15:46:35,838 - climada.util.coordinates - WARNING - Distance to closest centroid is greater than 100km for 2123 coordinates.\n",
      "2024-05-06 15:46:43,047 - climada.util.coordinates - WARNING - Distance to closest centroid is greater than 100km for 2123 coordinates.\n",
      "2024-05-06 15:46:50,222 - climada.util.coordinates - WARNING - Distance to closest centroid is greater than 100km for 2123 coordinates.\n",
      "2024-05-06 15:46:57,351 - climada.util.coordinates - WARNING - Distance to closest centroid is greater than 100km for 2123 coordinates.\n",
      "2024-05-06 15:47:04,409 - climada.util.coordinates - WARNING - Distance to closest centroid is greater than 100km for 2123 coordinates.\n",
      "2024-05-06 15:47:11,648 - climada.util.coordinates - WARNING - Distance to closest centroid is greater than 100km for 2123 coordinates.\n",
      "2024-05-06 15:47:18,790 - climada.util.coordinates - WARNING - Distance to closest centroid is greater than 100km for 2123 coordinates.\n",
      "2024-05-06 15:47:25,920 - climada.util.coordinates - WARNING - Distance to closest centroid is greater than 100km for 2123 coordinates.\n"
     ]
    }
   ],
   "source": [
    "aai_agg_dict_cima = {}\n",
    "for thresh in building_thresh:\n",
    "    impf_set = get_TC_step_func(impf_set=impf_set_cf_cima, threshold=thresh, haz_type='FL', unit='m')\n",
    "    impact = ImpactCalc(exp, impf_set, CF).impact()\n",
    "    aai_agg_dict_cima[thresh] = impact.aai_agg"
   ]
  },
  {
   "cell_type": "code",
   "execution_count": 19,
   "id": "39e93bf3",
   "metadata": {},
   "outputs": [
    {
     "data": {
      "image/png": "[encoded data removed]",
      "text/plain": [
       "<Figure size 720x360 with 1 Axes>"
      ]
     },
     "metadata": {
      "needs_background": "light"
     },
     "output_type": "display_data"
    }
   ],
   "source": [
    "thresholds = list(aai_agg_dict_cima.keys())\n",
    "impacts = list(aai_agg_dict_cima.values())\n",
    "\n",
    "plt.figure(figsize=(10, 5))\n",
    "plt.plot(thresholds, impacts, marker='o')\n",
    "plt.title('Impact vs Threshold')\n",
    "plt.xlabel('Threshold')\n",
    "plt.ylabel('AAD')\n",
    "plt.show()"
   ]
  },
  {
   "cell_type": "markdown",
   "id": "d0caaec2",
   "metadata": {},
   "source": [
    "#### IVM impact functions"
   ]
  },
  {
   "cell_type": "code",
   "execution_count": 20,
   "id": "f0eb2e62",
   "metadata": {},
   "outputs": [],
   "source": [
    "exp.gdf.rename({'impf_FL' : 'impf_FL_cima'}, axis=1, inplace=True) # change column name back\n",
    "exp.gdf.rename({'impf_FL_ivm' : 'impf_FL'}, axis=1, inplace=True)"
   ]
  },
  {
   "cell_type": "code",
   "execution_count": 21,
   "id": "dc6b2e18",
   "metadata": {},
   "outputs": [],
   "source": [
    "impf_set_cf_ivm = vulnerability.IMPF_SET_FL_IVM"
   ]
  },
  {
   "cell_type": "code",
   "execution_count": 22,
   "id": "d7e7d10d",
   "metadata": {},
   "outputs": [
    {
     "name": "stdout",
     "output_type": "stream",
     "text": [
      "2024-05-06 15:47:33,212 - climada.util.coordinates - WARNING - Distance to closest centroid is greater than 100km for 2123 coordinates.\n",
      "2024-05-06 15:47:40,329 - climada.util.coordinates - WARNING - Distance to closest centroid is greater than 100km for 2123 coordinates.\n",
      "2024-05-06 15:47:47,614 - climada.util.coordinates - WARNING - Distance to closest centroid is greater than 100km for 2123 coordinates.\n",
      "2024-05-06 15:47:54,823 - climada.util.coordinates - WARNING - Distance to closest centroid is greater than 100km for 2123 coordinates.\n",
      "2024-05-06 15:48:01,898 - climada.util.coordinates - WARNING - Distance to closest centroid is greater than 100km for 2123 coordinates.\n",
      "2024-05-06 15:48:09,189 - climada.util.coordinates - WARNING - Distance to closest centroid is greater than 100km for 2123 coordinates.\n",
      "2024-05-06 15:48:16,304 - climada.util.coordinates - WARNING - Distance to closest centroid is greater than 100km for 2123 coordinates.\n",
      "2024-05-06 15:48:23,612 - climada.util.coordinates - WARNING - Distance to closest centroid is greater than 100km for 2123 coordinates.\n",
      "2024-05-06 15:48:30,870 - climada.util.coordinates - WARNING - Distance to closest centroid is greater than 100km for 2123 coordinates.\n",
      "2024-05-06 15:48:37,858 - climada.util.coordinates - WARNING - Distance to closest centroid is greater than 100km for 2123 coordinates.\n",
      "2024-05-06 15:48:44,972 - climada.util.coordinates - WARNING - Distance to closest centroid is greater than 100km for 2123 coordinates.\n",
      "2024-05-06 15:48:52,002 - climada.util.coordinates - WARNING - Distance to closest centroid is greater than 100km for 2123 coordinates.\n",
      "2024-05-06 15:48:59,254 - climada.util.coordinates - WARNING - Distance to closest centroid is greater than 100km for 2123 coordinates.\n",
      "2024-05-06 15:49:06,518 - climada.util.coordinates - WARNING - Distance to closest centroid is greater than 100km for 2123 coordinates.\n",
      "2024-05-06 15:49:13,713 - climada.util.coordinates - WARNING - Distance to closest centroid is greater than 100km for 2123 coordinates.\n",
      "2024-05-06 15:49:20,832 - climada.util.coordinates - WARNING - Distance to closest centroid is greater than 100km for 2123 coordinates.\n",
      "2024-05-06 15:49:28,089 - climada.util.coordinates - WARNING - Distance to closest centroid is greater than 100km for 2123 coordinates.\n",
      "2024-05-06 15:49:35,306 - climada.util.coordinates - WARNING - Distance to closest centroid is greater than 100km for 2123 coordinates.\n"
     ]
    }
   ],
   "source": [
    "aai_agg_dict_ivm = {}\n",
    "for thresh in building_thresh:\n",
    "    impf_set = get_TC_step_func(impf_set=impf_set_cf_ivm, threshold=thresh, haz_type='FL', unit='m')\n",
    "    impact = ImpactCalc(exp, impf_set, CF).impact()\n",
    "    aai_agg_dict_ivm[thresh] = impact.aai_agg"
   ]
  },
  {
   "cell_type": "code",
   "execution_count": 23,
   "id": "2a0292a9",
   "metadata": {},
   "outputs": [
    {
     "data": {
      "image/png": "[encoded data removed]",
      "text/plain": [
       "<Figure size 720x360 with 1 Axes>"
      ]
     },
     "metadata": {
      "needs_background": "light"
     },
     "output_type": "display_data"
    }
   ],
   "source": [
    "thresholds = list(aai_agg_dict_cima.keys())\n",
    "impacts = list(aai_agg_dict_cima.values())\n",
    "\n",
    "plt.figure(figsize=(10, 5))\n",
    "plt.plot(thresholds, impacts, marker='o')\n",
    "plt.title('Impact vs Threshold')\n",
    "plt.xlabel('Threshold')\n",
    "plt.ylabel('AAD')\n",
    "plt.show()"
   ]
  },
  {
   "cell_type": "code",
   "execution_count": null,
   "id": "ad568705-7a03-4c58-b55b-1d900d891b30",
   "metadata": {},
   "outputs": [],
   "source": []
  }
 ],
 "metadata": {
  "kernelspec": {
   "display_name": "Python 3 (ipykernel)",
   "language": "python",
   "name": "python3"
  },
  "language_info": {
   "codemirror_mode": {
    "name": "ipython",
    "version": 3
   },
   "file_extension": ".py",
   "mimetype": "text/x-python",
   "name": "python",
   "nbconvert_exporter": "python",
   "pygments_lexer": "ipython3",
   "version": "3.10.4"
  }
 },
 "nbformat": 4,
 "nbformat_minor": 5
}
