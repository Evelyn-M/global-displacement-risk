{
 "cells": [
  {
   "cell_type": "markdown",
   "id": "ded80017",
   "metadata": {},
   "source": [
    "# Sensitivity check for choice of impact function threshold\n",
    "\n",
    "In this code, we (qualitatively) examine how sensitive modelling outcomes are to the choice of impact function thresholds. For this, we vary the threshold over a range (0.2 - 0.8) and test these resulting impacts (aai_agg) for both hazard types (CF, TC) on 2 countries (PHL, SOM)"
   ]
  },
  {
   "cell_type": "code",
   "execution_count": 33,
   "id": "9679346a",
   "metadata": {},
   "outputs": [],
   "source": [
    "# Load country BEM as prep\n",
    "from climada.util.constants import SYSTEM_DIR\n",
    "from climada.hazard import TropCyclone, Hazard\n",
    "from climada.entity.exposures import Exposures\n",
    "from climada.engine import ImpactCalc\n",
    "import numpy as np\n",
    "import os\n",
    "import copy\n",
    "from pathlib import Path\n",
    "\n",
    "os.chdir('/cluster/project/climate/meilers/scripts/displacement/global-displacement-risk') \n",
    "import exposure\n",
    "import vulnerability\n",
    "import coastal_flood_hazard\n",
    "\n",
    "# select country here\n",
    "cntry = 'Somalia'"
   ]
  },
  {
   "cell_type": "code",
   "execution_count": 34,
   "id": "4802e976",
   "metadata": {},
   "outputs": [],
   "source": [
    "gdf_bem_subcomps = exposure.gdf_from_bem_subcomps(cntry_name, opt='full')# filter and apply impf id\n",
    "gdf_bem_subcomps = gdf_bem_subcomps[gdf_bem_subcomps.valhum>0.001] # filter out rows with basically no population\n",
    "gdf_bem_subcomps['impf_TC'] = gdf_bem_subcomps.apply(lambda row: vulnerability.DICT_PAGER_TCIMPF_HAZUS[row.se_seismo], axis=1)\n",
    "\n",
    "for col in ['iso3', 'sector', 'valfis', 'se_seismo']:\n",
    "    gdf_bem_subcomps.pop(col)\n",
    "\n",
    "exp = Exposures(gdf_bem_subcomps)\n",
    "exp.gdf.rename({'valhum': 'value'}, axis=1, inplace=True)\n",
    "exp.value_unit = 'Pop. count'\n",
    "exp.gdf['longitude'] = exp.gdf.geometry.x\n",
    "exp.gdf['latitude'] = exp.gdf.geometry.y\n",
    "exp.gdf = exp.gdf[~np.isnan(\n",
    "    exp.gdf.latitude)]  # drop nan centroids"
   ]
  },
  {
   "cell_type": "markdown",
   "id": "417cbcc0",
   "metadata": {},
   "source": [
    "### Load TC hazard and cut to exposure extent"
   ]
  },
  {
   "cell_type": "code",
   "execution_count": 8,
   "id": "abf8ad81",
   "metadata": {},
   "outputs": [],
   "source": [
    "# load TC hazard phl\n",
    "if cntry == 'Somalia':\n",
    "    reg = 'IO'\n",
    "elif cntry == 'Philippines':\n",
    "    reg = 'WP'\n",
    "else:\n",
    "    reg = print('no country-basin assingment found')\n",
    "\n",
    "haz_TC_dir = Path('/cluster/work/climate/meilers/climada/data/hazard/present')\n",
    "haz_TC = TropCyclone.from_hdf5(haz_TC_dir.joinpath(f'TC_{reg}_0150as_MIT_H08.hdf5'))"
   ]
  },
  {
   "cell_type": "code",
   "execution_count": 9,
   "id": "f7e903bd",
   "metadata": {},
   "outputs": [],
   "source": [
    "TC = haz_TC.select(extent=(\n",
    "    exp.gdf['longitude'].min(), exp.gdf['longitude'].max(), exp.gdf['latitude'].min(), exp.gdf['latitude'].max()))"
   ]
  },
  {
   "cell_type": "markdown",
   "id": "6249cd35",
   "metadata": {},
   "source": [
    "### Prepare TC impact functions"
   ]
  },
  {
   "cell_type": "code",
   "execution_count": 4,
   "id": "4eb00056",
   "metadata": {},
   "outputs": [],
   "source": [
    "from climada.entity import ImpactFunc, ImpactFuncSet\n",
    "impf_set_tc_step = ImpactFuncSet()"
   ]
  },
  {
   "cell_type": "code",
   "execution_count": 5,
   "id": "7c417a6a",
   "metadata": {},
   "outputs": [],
   "source": [
    "def get_TC_step_func(impf_set, threshold):\n",
    "    for imp_id in impf_set.get_ids(haz_type='TC'):\n",
    "        impf_set.get_func(fun_id=imp_id)\n",
    "        y = impf_set.get_func(fun_id=imp_id)[0].intensity\n",
    "        x = impf_set.get_func(fun_id=imp_id)[0].mdd\n",
    "        thresh = np.interp(threshold, x, y)\n",
    "        print('ID: '+str(imp_id)+' - threshold stepfunction: '+str(thresh))\n",
    "        impf_set_tc_step.append(\n",
    "                    ImpactFunc.from_step_impf(\n",
    "                        intensity=(0,  thresh, thresh *10),\n",
    "                        haz_type='TC',\n",
    "                        impf_id=imp_id,\n",
    "                        intensity_unit = 'm/s'\n",
    "                    )\n",
    "        )\n",
    "    return impf_set_tc_step"
   ]
  },
  {
   "cell_type": "code",
   "execution_count": 6,
   "id": "14c59ab4",
   "metadata": {},
   "outputs": [
    {
     "ename": "NameError",
     "evalue": "name 'vulnerability' is not defined",
     "output_type": "error",
     "traceback": [
      "\u001b[0;31m---------------------------------------------------------------------------\u001b[0m",
      "\u001b[0;31mNameError\u001b[0m                                 Traceback (most recent call last)",
      "Cell \u001b[0;32mIn[6], line 1\u001b[0m\n\u001b[0;32m----> 1\u001b[0m impf_set_tc \u001b[38;5;241m=\u001b[39m \u001b[43mvulnerability\u001b[49m\u001b[38;5;241m.\u001b[39mIMPF_SET_TC_HAZUS\n",
      "\u001b[0;31mNameError\u001b[0m: name 'vulnerability' is not defined"
     ]
    }
   ],
   "source": [
    "impf_set_tc = vulnerability.IMPF_SET_TC_HAZUS"
   ]
  },
  {
   "cell_type": "code",
   "execution_count": 2,
   "id": "827cd739",
   "metadata": {},
   "outputs": [],
   "source": [
    "building_thresh = np.arange(0.2, 0.8, 0.05)"
   ]
  },
  {
   "cell_type": "markdown",
   "id": "03b413ca",
   "metadata": {},
   "source": [
    "### Caluclate impacts"
   ]
  },
  {
   "cell_type": "code",
   "execution_count": 3,
   "id": "12f14bbd",
   "metadata": {},
   "outputs": [
    {
     "data": {
      "text/plain": [
       "array([0.2, 0.3, 0.4, 0.5, 0.6, 0.7, 0.8])"
      ]
     },
     "execution_count": 3,
     "metadata": {},
     "output_type": "execute_result"
    }
   ],
   "source": [
    "aai_agg_dict = {}\n",
    "for thresh in building_thresh:\n",
    "    impf_set = get_TC_step_func(impf_set=impf_set_tc, threshold=thresh)\n",
    "    impact = ImpactCalc(exp, impf_set, TC).impact()\n",
    "    aai_agg_dict[thresh] = impact.aai_agg"
   ]
  },
  {
   "cell_type": "code",
   "execution_count": 14,
   "id": "a2725420",
   "metadata": {},
   "outputs": [
    {
     "name": "stdout",
     "output_type": "stream",
     "text": [
      "164.37850605480506 214.77324813035347 17.934575204291917 1.4728661866011676\n"
     ]
    }
   ],
   "source": [
    "thresholds = list(aai_agg_dict.keys())\n",
    "impacts = list(aai_agg_dict.values())\n",
    "\n",
    "plt.figure(figsize=(10, 5))\n",
    "plt.plot(thresholds, impacts, marker='o')\n",
    "plt.title('Impact vs Threshold')\n",
    "plt.xlabel('Threshold')\n",
    "plt.ylabel('AAD')\n",
    "plt.show()"
   ]
  },
  {
   "cell_type": "code",
   "execution_count": 2,
   "id": "1e9ca1b0",
   "metadata": {},
   "outputs": [],
   "source": [
    "building_thresh = np.arange(0.2, 0.8, 0.05)"
   ]
  },
  {
   "cell_type": "markdown",
   "id": "56844457",
   "metadata": {},
   "source": [
    "### Flood impf information for exposure"
   ]
  },
  {
   "cell_type": "code",
   "execution_count": 35,
   "id": "694389ef",
   "metadata": {},
   "outputs": [],
   "source": [
    "exp.gdf['impf_FL_cima'] = exp.gdf['se_seismo'].map(vulnerability.DICT_PAGER_FLIMPF_CIMA)"
   ]
  },
  {
   "cell_type": "code",
   "execution_count": 36,
   "id": "5dfeb2ed-dc05-449c-9f3e-cdb6d0183052",
   "metadata": {},
   "outputs": [],
   "source": [
    "exp.gdf['impf_FL_ivm'] = exp.gdf['se_seismo'].map(vulnerability.DICT_PAGER_FLIMPF_IVM)"
   ]
  },
  {
   "cell_type": "markdown",
   "id": "aaea074f",
   "metadata": {},
   "source": [
    "### Load CF hazard"
   ]
  },
  {
   "cell_type": "code",
   "execution_count": 41,
   "id": "ebff468c",
   "metadata": {},
   "outputs": [],
   "source": [
    "haz_CF_dir = Path('/cluster/work/climate/evelynm/IDMC_UNU/hazard/coastal_flood/venDEM_scaled_1km')"
   ]
  },
  {
   "cell_type": "code",
   "execution_count": 42,
   "id": "db84d682",
   "metadata": {},
   "outputs": [],
   "source": [
    "# get tiles covering the exposure extent\n",
    "tiles = coastal_flood_hazard.find_tiles(\n",
    "    exp.gdf['latitude'].min(), exp.gdf['latitude'].max(), exp.gdf['longitude'].min(), exp.gdf['longitude'].max())"
   ]
  },
  {
   "cell_type": "code",
   "execution_count": 43,
   "id": "53f7024f",
   "metadata": {},
   "outputs": [
    {
     "name": "stdout",
     "output_type": "stream",
     "text": [
      "Tile directory /cluster/work/climate/evelynm/IDMC_UNU/hazard/coastal_flood/venDEM_scaled_1km/N04E122/RCP45_2020 not found, skipping...\n",
      "Tile directory /cluster/work/climate/evelynm/IDMC_UNU/hazard/coastal_flood/venDEM_scaled_1km/N04E123/RCP45_2020 not found, skipping...\n",
      "Tile directory /cluster/work/climate/evelynm/IDMC_UNU/hazard/coastal_flood/venDEM_scaled_1km/N11E116/RCP45_2020 not found, skipping...\n",
      "Tile directory /cluster/work/climate/evelynm/IDMC_UNU/hazard/coastal_flood/venDEM_scaled_1km/N11E117/RCP45_2020 not found, skipping...\n",
      "Tile directory /cluster/work/climate/evelynm/IDMC_UNU/hazard/coastal_flood/venDEM_scaled_1km/N12E116/RCP45_2020 not found, skipping...\n",
      "Tile directory /cluster/work/climate/evelynm/IDMC_UNU/hazard/coastal_flood/venDEM_scaled_1km/N12E117/RCP45_2020 not found, skipping...\n",
      "Tile directory /cluster/work/climate/evelynm/IDMC_UNU/hazard/coastal_flood/venDEM_scaled_1km/N12E118/RCP45_2020 not found, skipping...\n",
      "Tile directory /cluster/work/climate/evelynm/IDMC_UNU/hazard/coastal_flood/venDEM_scaled_1km/N12E126/RCP45_2020 not found, skipping...\n",
      "Tile directory /cluster/work/climate/evelynm/IDMC_UNU/hazard/coastal_flood/venDEM_scaled_1km/N13E116/RCP45_2020 not found, skipping...\n",
      "Tile directory /cluster/work/climate/evelynm/IDMC_UNU/hazard/coastal_flood/venDEM_scaled_1km/N13E117/RCP45_2020 not found, skipping...\n",
      "Tile directory /cluster/work/climate/evelynm/IDMC_UNU/hazard/coastal_flood/venDEM_scaled_1km/N13E118/RCP45_2020 not found, skipping...\n",
      "Tile directory /cluster/work/climate/evelynm/IDMC_UNU/hazard/coastal_flood/venDEM_scaled_1km/N13E126/RCP45_2020 not found, skipping...\n",
      "Tile directory /cluster/work/climate/evelynm/IDMC_UNU/hazard/coastal_flood/venDEM_scaled_1km/N14E116/RCP45_2020 not found, skipping...\n",
      "Tile directory /cluster/work/climate/evelynm/IDMC_UNU/hazard/coastal_flood/venDEM_scaled_1km/N14E117/RCP45_2020 not found, skipping...\n",
      "Tile directory /cluster/work/climate/evelynm/IDMC_UNU/hazard/coastal_flood/venDEM_scaled_1km/N14E118/RCP45_2020 not found, skipping...\n",
      "Tile directory /cluster/work/climate/evelynm/IDMC_UNU/hazard/coastal_flood/venDEM_scaled_1km/N14E125/RCP45_2020 not found, skipping...\n",
      "Tile directory /cluster/work/climate/evelynm/IDMC_UNU/hazard/coastal_flood/venDEM_scaled_1km/N14E126/RCP45_2020 not found, skipping...\n",
      "Tile directory /cluster/work/climate/evelynm/IDMC_UNU/hazard/coastal_flood/venDEM_scaled_1km/N15E116/RCP45_2020 not found, skipping...\n",
      "Tile directory /cluster/work/climate/evelynm/IDMC_UNU/hazard/coastal_flood/venDEM_scaled_1km/N15E117/RCP45_2020 not found, skipping...\n",
      "Tile directory /cluster/work/climate/evelynm/IDMC_UNU/hazard/coastal_flood/venDEM_scaled_1km/N15E118/RCP45_2020 not found, skipping...\n",
      "Tile directory /cluster/work/climate/evelynm/IDMC_UNU/hazard/coastal_flood/venDEM_scaled_1km/N15E124/RCP45_2020 not found, skipping...\n",
      "Tile directory /cluster/work/climate/evelynm/IDMC_UNU/hazard/coastal_flood/venDEM_scaled_1km/N15E125/RCP45_2020 not found, skipping...\n",
      "Tile directory /cluster/work/climate/evelynm/IDMC_UNU/hazard/coastal_flood/venDEM_scaled_1km/N15E126/RCP45_2020 not found, skipping...\n",
      "Tile directory /cluster/work/climate/evelynm/IDMC_UNU/hazard/coastal_flood/venDEM_scaled_1km/N16E116/RCP45_2020 not found, skipping...\n",
      "Tile directory /cluster/work/climate/evelynm/IDMC_UNU/hazard/coastal_flood/venDEM_scaled_1km/N16E117/RCP45_2020 not found, skipping...\n",
      "Tile directory /cluster/work/climate/evelynm/IDMC_UNU/hazard/coastal_flood/venDEM_scaled_1km/N16E118/RCP45_2020 not found, skipping...\n",
      "Tile directory /cluster/work/climate/evelynm/IDMC_UNU/hazard/coastal_flood/venDEM_scaled_1km/N16E123/RCP45_2020 not found, skipping...\n",
      "Tile directory /cluster/work/climate/evelynm/IDMC_UNU/hazard/coastal_flood/venDEM_scaled_1km/N16E124/RCP45_2020 not found, skipping...\n",
      "Tile directory /cluster/work/climate/evelynm/IDMC_UNU/hazard/coastal_flood/venDEM_scaled_1km/N16E125/RCP45_2020 not found, skipping...\n",
      "Tile directory /cluster/work/climate/evelynm/IDMC_UNU/hazard/coastal_flood/venDEM_scaled_1km/N16E126/RCP45_2020 not found, skipping...\n",
      "Tile directory /cluster/work/climate/evelynm/IDMC_UNU/hazard/coastal_flood/venDEM_scaled_1km/N17E116/RCP45_2020 not found, skipping...\n",
      "Tile directory /cluster/work/climate/evelynm/IDMC_UNU/hazard/coastal_flood/venDEM_scaled_1km/N17E117/RCP45_2020 not found, skipping...\n",
      "Tile directory /cluster/work/climate/evelynm/IDMC_UNU/hazard/coastal_flood/venDEM_scaled_1km/N17E118/RCP45_2020 not found, skipping...\n",
      "Tile directory /cluster/work/climate/evelynm/IDMC_UNU/hazard/coastal_flood/venDEM_scaled_1km/N17E123/RCP45_2020 not found, skipping...\n",
      "Tile directory /cluster/work/climate/evelynm/IDMC_UNU/hazard/coastal_flood/venDEM_scaled_1km/N17E124/RCP45_2020 not found, skipping...\n",
      "Tile directory /cluster/work/climate/evelynm/IDMC_UNU/hazard/coastal_flood/venDEM_scaled_1km/N17E125/RCP45_2020 not found, skipping...\n",
      "Tile directory /cluster/work/climate/evelynm/IDMC_UNU/hazard/coastal_flood/venDEM_scaled_1km/N17E126/RCP45_2020 not found, skipping...\n",
      "Tile directory /cluster/work/climate/evelynm/IDMC_UNU/hazard/coastal_flood/venDEM_scaled_1km/N18E116/RCP45_2020 not found, skipping...\n",
      "Tile directory /cluster/work/climate/evelynm/IDMC_UNU/hazard/coastal_flood/venDEM_scaled_1km/N18E117/RCP45_2020 not found, skipping...\n",
      "Tile directory /cluster/work/climate/evelynm/IDMC_UNU/hazard/coastal_flood/venDEM_scaled_1km/N18E118/RCP45_2020 not found, skipping...\n",
      "Tile directory /cluster/work/climate/evelynm/IDMC_UNU/hazard/coastal_flood/venDEM_scaled_1km/N18E119/RCP45_2020 not found, skipping...\n",
      "Tile directory /cluster/work/climate/evelynm/IDMC_UNU/hazard/coastal_flood/venDEM_scaled_1km/N18E123/RCP45_2020 not found, skipping...\n",
      "Tile directory /cluster/work/climate/evelynm/IDMC_UNU/hazard/coastal_flood/venDEM_scaled_1km/N18E124/RCP45_2020 not found, skipping...\n",
      "Tile directory /cluster/work/climate/evelynm/IDMC_UNU/hazard/coastal_flood/venDEM_scaled_1km/N18E125/RCP45_2020 not found, skipping...\n",
      "Tile directory /cluster/work/climate/evelynm/IDMC_UNU/hazard/coastal_flood/venDEM_scaled_1km/N18E126/RCP45_2020 not found, skipping...\n",
      "Tile directory /cluster/work/climate/evelynm/IDMC_UNU/hazard/coastal_flood/venDEM_scaled_1km/N19E116/RCP45_2020 not found, skipping...\n",
      "Tile directory /cluster/work/climate/evelynm/IDMC_UNU/hazard/coastal_flood/venDEM_scaled_1km/N19E117/RCP45_2020 not found, skipping...\n",
      "Tile directory /cluster/work/climate/evelynm/IDMC_UNU/hazard/coastal_flood/venDEM_scaled_1km/N19E118/RCP45_2020 not found, skipping...\n",
      "Tile directory /cluster/work/climate/evelynm/IDMC_UNU/hazard/coastal_flood/venDEM_scaled_1km/N19E119/RCP45_2020 not found, skipping...\n",
      "Tile directory /cluster/work/climate/evelynm/IDMC_UNU/hazard/coastal_flood/venDEM_scaled_1km/N19E123/RCP45_2020 not found, skipping...\n",
      "Tile directory /cluster/work/climate/evelynm/IDMC_UNU/hazard/coastal_flood/venDEM_scaled_1km/N19E124/RCP45_2020 not found, skipping...\n",
      "Tile directory /cluster/work/climate/evelynm/IDMC_UNU/hazard/coastal_flood/venDEM_scaled_1km/N19E125/RCP45_2020 not found, skipping...\n",
      "Tile directory /cluster/work/climate/evelynm/IDMC_UNU/hazard/coastal_flood/venDEM_scaled_1km/N19E126/RCP45_2020 not found, skipping...\n",
      "Tile directory /cluster/work/climate/evelynm/IDMC_UNU/hazard/coastal_flood/venDEM_scaled_1km/N20E117/RCP45_2020 not found, skipping...\n",
      "Tile directory /cluster/work/climate/evelynm/IDMC_UNU/hazard/coastal_flood/venDEM_scaled_1km/N20E118/RCP45_2020 not found, skipping...\n",
      "Tile directory /cluster/work/climate/evelynm/IDMC_UNU/hazard/coastal_flood/venDEM_scaled_1km/N20E119/RCP45_2020 not found, skipping...\n",
      "Tile directory /cluster/work/climate/evelynm/IDMC_UNU/hazard/coastal_flood/venDEM_scaled_1km/N20E123/RCP45_2020 not found, skipping...\n",
      "Tile directory /cluster/work/climate/evelynm/IDMC_UNU/hazard/coastal_flood/venDEM_scaled_1km/N20E124/RCP45_2020 not found, skipping...\n",
      "Tile directory /cluster/work/climate/evelynm/IDMC_UNU/hazard/coastal_flood/venDEM_scaled_1km/N20E125/RCP45_2020 not found, skipping...\n",
      "Tile directory /cluster/work/climate/evelynm/IDMC_UNU/hazard/coastal_flood/venDEM_scaled_1km/N20E126/RCP45_2020 not found, skipping...\n"
     ]
    }
   ],
   "source": [
    "# load CF hazard phl\n",
    "CF = coastal_flood_hazard.generate_hazard_object(tiles, haz_CF_dir, 'RCP45', '2020', 'FL')"
   ]
  },
  {
   "cell_type": "markdown",
   "id": "35b2716e",
   "metadata": {},
   "source": [
    "### Caluclate impacts"
   ]
  },
  {
   "cell_type": "markdown",
   "id": "474e2b09",
   "metadata": {},
   "source": [
    "#### CIMA/Capra impact functions"
   ]
  },
  {
   "cell_type": "code",
   "execution_count": null,
   "id": "f3fc4733",
   "metadata": {},
   "outputs": [],
   "source": [
    "exp.gdf.rename({'impf_FL_cima' : 'impf_FL'}, axis=1, inplace=True)"
   ]
  },
  {
   "cell_type": "code",
   "execution_count": null,
   "id": "5ada19ac",
   "metadata": {},
   "outputs": [],
   "source": [
    "impf_set_cf_cima = vulnerability.IMPF_SET_FL_CIMA"
   ]
  },
  {
   "cell_type": "code",
   "execution_count": 3,
   "id": "9caf98d0",
   "metadata": {},
   "outputs": [
    {
     "data": {
      "text/plain": [
       "array([0.2, 0.3, 0.4, 0.5, 0.6, 0.7, 0.8])"
      ]
     },
     "execution_count": 3,
     "metadata": {},
     "output_type": "execute_result"
    }
   ],
   "source": [
    "aai_agg_dict_cima = {}\n",
    "for thresh in building_thresh:\n",
    "    impf_set = get_TC_step_func(impf_set=impf_set_cf_cima, threshold=thresh)\n",
    "    impact = ImpactCalc(exp, impf_set, CF).impact()\n",
    "    aai_agg_dict_cima[thresh] = impact.aai_agg"
   ]
  },
  {
   "cell_type": "code",
   "execution_count": 14,
   "id": "39e93bf3",
   "metadata": {},
   "outputs": [
    {
     "name": "stdout",
     "output_type": "stream",
     "text": [
      "164.37850605480506 214.77324813035347 17.934575204291917 1.4728661866011676\n"
     ]
    }
   ],
   "source": [
    "thresholds = list(aai_agg_dict_cima.keys())\n",
    "impacts = list(aai_agg_dict_cima.values())\n",
    "\n",
    "plt.figure(figsize=(10, 5))\n",
    "plt.plot(thresholds, impacts, marker='o')\n",
    "plt.title('Impact vs Threshold')\n",
    "plt.xlabel('Threshold')\n",
    "plt.ylabel('AAD')\n",
    "plt.show()"
   ]
  },
  {
   "cell_type": "markdown",
   "id": "d0caaec2",
   "metadata": {},
   "source": [
    "#### IVM impact functions"
   ]
  },
  {
   "cell_type": "code",
   "execution_count": null,
   "id": "f0eb2e62",
   "metadata": {},
   "outputs": [],
   "source": [
    "exp.gdf.rename({'impf_FL' : 'impf_FL_cima'}, axis=1, inplace=True) # change column name back\n",
    "exp.gdf.rename({'impf_FL_ivm' : 'impf_FL'}, axis=1, inplace=True)"
   ]
  },
  {
   "cell_type": "code",
   "execution_count": null,
   "id": "dc6b2e18",
   "metadata": {},
   "outputs": [],
   "source": [
    "impf_set_cf_ivm = vulnerability.IMPF_SET_FL_IVM"
   ]
  },
  {
   "cell_type": "code",
   "execution_count": 3,
   "id": "d7e7d10d",
   "metadata": {},
   "outputs": [
    {
     "data": {
      "text/plain": [
       "array([0.2, 0.3, 0.4, 0.5, 0.6, 0.7, 0.8])"
      ]
     },
     "execution_count": 3,
     "metadata": {},
     "output_type": "execute_result"
    }
   ],
   "source": [
    "aai_agg_dict_ivm = {}\n",
    "for thresh in building_thresh:\n",
    "    impf_set = get_TC_step_func(impf_set=impf_set_cf_ivm, threshold=thresh)\n",
    "    impact = ImpactCalc(exp, impf_set, CF).impact()\n",
    "    aai_agg_dict_ivm[thresh] = impact.aai_agg"
   ]
  },
  {
   "cell_type": "code",
   "execution_count": 14,
   "id": "2a0292a9",
   "metadata": {},
   "outputs": [
    {
     "name": "stdout",
     "output_type": "stream",
     "text": [
      "164.37850605480506 214.77324813035347 17.934575204291917 1.4728661866011676\n"
     ]
    }
   ],
   "source": [
    "thresholds = list(aai_agg_dict_cima.keys())\n",
    "impacts = list(aai_agg_dict_cima.values())\n",
    "\n",
    "plt.figure(figsize=(10, 5))\n",
    "plt.plot(thresholds, impacts, marker='o')\n",
    "plt.title('Impact vs Threshold')\n",
    "plt.xlabel('Threshold')\n",
    "plt.ylabel('AAD')\n",
    "plt.show()"
   ]
  }
 ],
 "metadata": {
  "kernelspec": {
   "display_name": "Python 3 (ipykernel)",
   "language": "python",
   "name": "python3"
  },
  "language_info": {
   "codemirror_mode": {
    "name": "ipython",
    "version": 3
   },
   "file_extension": ".py",
   "mimetype": "text/x-python",
   "name": "python",
   "nbconvert_exporter": "python",
   "pygments_lexer": "ipython3",
   "version": "3.9.16"
  }
 },
 "nbformat": 4,
 "nbformat_minor": 5
}
