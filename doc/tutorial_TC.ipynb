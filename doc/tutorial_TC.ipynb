{
 "cells": [
  {
   "cell_type": "markdown",
   "id": "0c35b94f",
   "metadata": {},
   "source": [
    "# Tropical cyclone hazard for displacement risk modelling"
   ]
  },
  {
   "cell_type": "markdown",
   "id": "0eea6e8a",
   "metadata": {},
   "source": [
    "This tutorial shows how to use the TC hazard event sets (a) and return periods (RP) maps (b).\n",
    "\n",
    "Technical specifications.\n",
    "\n",
    "Resolution: 150 arcsec \n",
    "\n",
    "**Emission scenarios considered:** SSP245, SSP370, SSP585.  \n",
    "**GCMs considered:** .  \n",
    "**(Future) years considered:** 1980-2018 (ERA-5) & 1995-2014 (20thcal GCM output) - 2041-2060, 2081-2100.  \n",
    "**Return periods considered for flood maps:** 1, 10, 25, 50, 100, 250.   \n",
    "\n",
    "\n",
    "In each folder, there is then a combination of RCP and year, and within each RCP_year folder, there is one tif file per return period for the latitude-longitude tile."
   ]
  },
  {
   "cell_type": "code",
   "execution_count": 1,
   "id": "044df897",
   "metadata": {},
   "outputs": [],
   "source": [
    "import os\n",
    "import pandas as pd\n",
    "import numpy as np\n",
    "\n",
    "os.chdir('/Users/simonameiler/Documents/WCR/Displacement/global-displacement-risk') # change back to root folder, not \"~/doc\"\n",
    "import coastal_flood_hazard, exposure, vulnerability"
   ]
  },
  {
   "cell_type": "markdown",
   "id": "b5457d15",
   "metadata": {},
   "source": [
    "Select latitude-longitude tiles for country of interest only.\n",
    "\n",
    "First, load exposure and get lat/lon max/mins from it.  \n",
    "Then load the respective flood tiles."
   ]
  },
  {
   "cell_type": "markdown",
   "id": "c79be7a1",
   "metadata": {},
   "source": [
    "## Load exposure from BEM"
   ]
  },
  {
   "cell_type": "code",
   "execution_count": 2,
   "id": "7a7b76a3",
   "metadata": {},
   "outputs": [],
   "source": [
    "from climada.entity.exposures import Exposures"
   ]
  },
  {
   "cell_type": "code",
   "execution_count": 3,
   "id": "fd7aed3f",
   "metadata": {},
   "outputs": [],
   "source": [
    "cntry_name = 'Sri Lanka'\n",
    "reg = 'IO'"
   ]
  },
  {
   "cell_type": "code",
   "execution_count": 4,
   "id": "1196c720",
   "metadata": {},
   "outputs": [
    {
     "ename": "FileNotFoundError",
     "evalue": "[Errno 2] No such file or directory: '/cluster/work/climate/evelynm/IDMC_UNU/exposure/bem_cntry_files/lka_bem_1x1_valfis.csv'",
     "output_type": "error",
     "traceback": [
      "\u001b[0;31m---------------------------------------------------------------------------\u001b[0m",
      "\u001b[0;31mFileNotFoundError\u001b[0m                         Traceback (most recent call last)",
      "Cell \u001b[0;32mIn[4], line 2\u001b[0m\n\u001b[1;32m      1\u001b[0m \u001b[38;5;66;03m# Load the full dataframe, without further re-aggregation / processing other than adding centroids\u001b[39;00m\n\u001b[0;32m----> 2\u001b[0m gdf_bem_subcomps \u001b[38;5;241m=\u001b[39m \u001b[43mexposure\u001b[49m\u001b[38;5;241;43m.\u001b[39;49m\u001b[43mgdf_from_bem_subcomps\u001b[49m\u001b[43m(\u001b[49m\u001b[43mcntry_name\u001b[49m\u001b[43m,\u001b[49m\u001b[43m \u001b[49m\u001b[43mopt\u001b[49m\u001b[38;5;241;43m=\u001b[39;49m\u001b[38;5;124;43m'\u001b[39;49m\u001b[38;5;124;43mfull\u001b[39;49m\u001b[38;5;124;43m'\u001b[39;49m\u001b[43m)\u001b[49m\n\u001b[1;32m      3\u001b[0m gdf_bem_subcomps\u001b[38;5;241m.\u001b[39mhead()\n",
      "File \u001b[0;32m~/Documents/WCR/Displacement/global-displacement-risk/exposure.py:176\u001b[0m, in \u001b[0;36mgdf_from_bem_subcomps\u001b[0;34m(cntry_name, opt)\u001b[0m\n\u001b[1;32m    171\u001b[0m geom_cntry \u001b[38;5;241m=\u001b[39m shapely\u001b[38;5;241m.\u001b[39mops\u001b[38;5;241m.\u001b[39munary_union(\n\u001b[1;32m    172\u001b[0m     [geom \u001b[38;5;28;01mfor\u001b[39;00m geom \u001b[38;5;129;01min\u001b[39;00m\n\u001b[1;32m    173\u001b[0m      u_coords\u001b[38;5;241m.\u001b[39mget_country_geometries([cntry_iso])\u001b[38;5;241m.\u001b[39mgeometry])\n\u001b[1;32m    175\u001b[0m \u001b[38;5;66;03m# load country csv as df\u001b[39;00m\n\u001b[0;32m--> 176\u001b[0m df_bem_subcomps \u001b[38;5;241m=\u001b[39m \u001b[43mpd\u001b[49m\u001b[38;5;241;43m.\u001b[39;49m\u001b[43mread_csv\u001b[49m\u001b[43m(\u001b[49m\u001b[43mpath_cntry_bem_csv\u001b[49m\u001b[43m)\u001b[49m\n\u001b[1;32m    178\u001b[0m \u001b[38;5;66;03m# delete unnecessary columns (based on UNEP-GRID feedback)\u001b[39;00m\n\u001b[1;32m    179\u001b[0m df_bem_subcomps\u001b[38;5;241m.\u001b[39mpop(\u001b[38;5;124m'\u001b[39m\u001b[38;5;124mbs_value_nr\u001b[39m\u001b[38;5;124m'\u001b[39m)\n",
      "File \u001b[0;32m~/opt/anaconda3/envs/climada_env/lib/python3.9/site-packages/pandas/util/_decorators.py:211\u001b[0m, in \u001b[0;36mdeprecate_kwarg.<locals>._deprecate_kwarg.<locals>.wrapper\u001b[0;34m(*args, **kwargs)\u001b[0m\n\u001b[1;32m    209\u001b[0m     \u001b[38;5;28;01melse\u001b[39;00m:\n\u001b[1;32m    210\u001b[0m         kwargs[new_arg_name] \u001b[38;5;241m=\u001b[39m new_arg_value\n\u001b[0;32m--> 211\u001b[0m \u001b[38;5;28;01mreturn\u001b[39;00m \u001b[43mfunc\u001b[49m\u001b[43m(\u001b[49m\u001b[38;5;241;43m*\u001b[39;49m\u001b[43margs\u001b[49m\u001b[43m,\u001b[49m\u001b[43m \u001b[49m\u001b[38;5;241;43m*\u001b[39;49m\u001b[38;5;241;43m*\u001b[39;49m\u001b[43mkwargs\u001b[49m\u001b[43m)\u001b[49m\n",
      "File \u001b[0;32m~/opt/anaconda3/envs/climada_env/lib/python3.9/site-packages/pandas/util/_decorators.py:331\u001b[0m, in \u001b[0;36mdeprecate_nonkeyword_arguments.<locals>.decorate.<locals>.wrapper\u001b[0;34m(*args, **kwargs)\u001b[0m\n\u001b[1;32m    325\u001b[0m \u001b[38;5;28;01mif\u001b[39;00m \u001b[38;5;28mlen\u001b[39m(args) \u001b[38;5;241m>\u001b[39m num_allow_args:\n\u001b[1;32m    326\u001b[0m     warnings\u001b[38;5;241m.\u001b[39mwarn(\n\u001b[1;32m    327\u001b[0m         msg\u001b[38;5;241m.\u001b[39mformat(arguments\u001b[38;5;241m=\u001b[39m_format_argument_list(allow_args)),\n\u001b[1;32m    328\u001b[0m         \u001b[38;5;167;01mFutureWarning\u001b[39;00m,\n\u001b[1;32m    329\u001b[0m         stacklevel\u001b[38;5;241m=\u001b[39mfind_stack_level(),\n\u001b[1;32m    330\u001b[0m     )\n\u001b[0;32m--> 331\u001b[0m \u001b[38;5;28;01mreturn\u001b[39;00m \u001b[43mfunc\u001b[49m\u001b[43m(\u001b[49m\u001b[38;5;241;43m*\u001b[39;49m\u001b[43margs\u001b[49m\u001b[43m,\u001b[49m\u001b[43m \u001b[49m\u001b[38;5;241;43m*\u001b[39;49m\u001b[38;5;241;43m*\u001b[39;49m\u001b[43mkwargs\u001b[49m\u001b[43m)\u001b[49m\n",
      "File \u001b[0;32m~/opt/anaconda3/envs/climada_env/lib/python3.9/site-packages/pandas/io/parsers/readers.py:950\u001b[0m, in \u001b[0;36mread_csv\u001b[0;34m(filepath_or_buffer, sep, delimiter, header, names, index_col, usecols, squeeze, prefix, mangle_dupe_cols, dtype, engine, converters, true_values, false_values, skipinitialspace, skiprows, skipfooter, nrows, na_values, keep_default_na, na_filter, verbose, skip_blank_lines, parse_dates, infer_datetime_format, keep_date_col, date_parser, dayfirst, cache_dates, iterator, chunksize, compression, thousands, decimal, lineterminator, quotechar, quoting, doublequote, escapechar, comment, encoding, encoding_errors, dialect, error_bad_lines, warn_bad_lines, on_bad_lines, delim_whitespace, low_memory, memory_map, float_precision, storage_options)\u001b[0m\n\u001b[1;32m    935\u001b[0m kwds_defaults \u001b[38;5;241m=\u001b[39m _refine_defaults_read(\n\u001b[1;32m    936\u001b[0m     dialect,\n\u001b[1;32m    937\u001b[0m     delimiter,\n\u001b[0;32m   (...)\u001b[0m\n\u001b[1;32m    946\u001b[0m     defaults\u001b[38;5;241m=\u001b[39m{\u001b[38;5;124m\"\u001b[39m\u001b[38;5;124mdelimiter\u001b[39m\u001b[38;5;124m\"\u001b[39m: \u001b[38;5;124m\"\u001b[39m\u001b[38;5;124m,\u001b[39m\u001b[38;5;124m\"\u001b[39m},\n\u001b[1;32m    947\u001b[0m )\n\u001b[1;32m    948\u001b[0m kwds\u001b[38;5;241m.\u001b[39mupdate(kwds_defaults)\n\u001b[0;32m--> 950\u001b[0m \u001b[38;5;28;01mreturn\u001b[39;00m \u001b[43m_read\u001b[49m\u001b[43m(\u001b[49m\u001b[43mfilepath_or_buffer\u001b[49m\u001b[43m,\u001b[49m\u001b[43m \u001b[49m\u001b[43mkwds\u001b[49m\u001b[43m)\u001b[49m\n",
      "File \u001b[0;32m~/opt/anaconda3/envs/climada_env/lib/python3.9/site-packages/pandas/io/parsers/readers.py:605\u001b[0m, in \u001b[0;36m_read\u001b[0;34m(filepath_or_buffer, kwds)\u001b[0m\n\u001b[1;32m    602\u001b[0m _validate_names(kwds\u001b[38;5;241m.\u001b[39mget(\u001b[38;5;124m\"\u001b[39m\u001b[38;5;124mnames\u001b[39m\u001b[38;5;124m\"\u001b[39m, \u001b[38;5;28;01mNone\u001b[39;00m))\n\u001b[1;32m    604\u001b[0m \u001b[38;5;66;03m# Create the parser.\u001b[39;00m\n\u001b[0;32m--> 605\u001b[0m parser \u001b[38;5;241m=\u001b[39m \u001b[43mTextFileReader\u001b[49m\u001b[43m(\u001b[49m\u001b[43mfilepath_or_buffer\u001b[49m\u001b[43m,\u001b[49m\u001b[43m \u001b[49m\u001b[38;5;241;43m*\u001b[39;49m\u001b[38;5;241;43m*\u001b[39;49m\u001b[43mkwds\u001b[49m\u001b[43m)\u001b[49m\n\u001b[1;32m    607\u001b[0m \u001b[38;5;28;01mif\u001b[39;00m chunksize \u001b[38;5;129;01mor\u001b[39;00m iterator:\n\u001b[1;32m    608\u001b[0m     \u001b[38;5;28;01mreturn\u001b[39;00m parser\n",
      "File \u001b[0;32m~/opt/anaconda3/envs/climada_env/lib/python3.9/site-packages/pandas/io/parsers/readers.py:1442\u001b[0m, in \u001b[0;36mTextFileReader.__init__\u001b[0;34m(self, f, engine, **kwds)\u001b[0m\n\u001b[1;32m   1439\u001b[0m     \u001b[38;5;28mself\u001b[39m\u001b[38;5;241m.\u001b[39moptions[\u001b[38;5;124m\"\u001b[39m\u001b[38;5;124mhas_index_names\u001b[39m\u001b[38;5;124m\"\u001b[39m] \u001b[38;5;241m=\u001b[39m kwds[\u001b[38;5;124m\"\u001b[39m\u001b[38;5;124mhas_index_names\u001b[39m\u001b[38;5;124m\"\u001b[39m]\n\u001b[1;32m   1441\u001b[0m \u001b[38;5;28mself\u001b[39m\u001b[38;5;241m.\u001b[39mhandles: IOHandles \u001b[38;5;241m|\u001b[39m \u001b[38;5;28;01mNone\u001b[39;00m \u001b[38;5;241m=\u001b[39m \u001b[38;5;28;01mNone\u001b[39;00m\n\u001b[0;32m-> 1442\u001b[0m \u001b[38;5;28mself\u001b[39m\u001b[38;5;241m.\u001b[39m_engine \u001b[38;5;241m=\u001b[39m \u001b[38;5;28;43mself\u001b[39;49m\u001b[38;5;241;43m.\u001b[39;49m\u001b[43m_make_engine\u001b[49m\u001b[43m(\u001b[49m\u001b[43mf\u001b[49m\u001b[43m,\u001b[49m\u001b[43m \u001b[49m\u001b[38;5;28;43mself\u001b[39;49m\u001b[38;5;241;43m.\u001b[39;49m\u001b[43mengine\u001b[49m\u001b[43m)\u001b[49m\n",
      "File \u001b[0;32m~/opt/anaconda3/envs/climada_env/lib/python3.9/site-packages/pandas/io/parsers/readers.py:1735\u001b[0m, in \u001b[0;36mTextFileReader._make_engine\u001b[0;34m(self, f, engine)\u001b[0m\n\u001b[1;32m   1733\u001b[0m     \u001b[38;5;28;01mif\u001b[39;00m \u001b[38;5;124m\"\u001b[39m\u001b[38;5;124mb\u001b[39m\u001b[38;5;124m\"\u001b[39m \u001b[38;5;129;01mnot\u001b[39;00m \u001b[38;5;129;01min\u001b[39;00m mode:\n\u001b[1;32m   1734\u001b[0m         mode \u001b[38;5;241m+\u001b[39m\u001b[38;5;241m=\u001b[39m \u001b[38;5;124m\"\u001b[39m\u001b[38;5;124mb\u001b[39m\u001b[38;5;124m\"\u001b[39m\n\u001b[0;32m-> 1735\u001b[0m \u001b[38;5;28mself\u001b[39m\u001b[38;5;241m.\u001b[39mhandles \u001b[38;5;241m=\u001b[39m \u001b[43mget_handle\u001b[49m\u001b[43m(\u001b[49m\n\u001b[1;32m   1736\u001b[0m \u001b[43m    \u001b[49m\u001b[43mf\u001b[49m\u001b[43m,\u001b[49m\n\u001b[1;32m   1737\u001b[0m \u001b[43m    \u001b[49m\u001b[43mmode\u001b[49m\u001b[43m,\u001b[49m\n\u001b[1;32m   1738\u001b[0m \u001b[43m    \u001b[49m\u001b[43mencoding\u001b[49m\u001b[38;5;241;43m=\u001b[39;49m\u001b[38;5;28;43mself\u001b[39;49m\u001b[38;5;241;43m.\u001b[39;49m\u001b[43moptions\u001b[49m\u001b[38;5;241;43m.\u001b[39;49m\u001b[43mget\u001b[49m\u001b[43m(\u001b[49m\u001b[38;5;124;43m\"\u001b[39;49m\u001b[38;5;124;43mencoding\u001b[39;49m\u001b[38;5;124;43m\"\u001b[39;49m\u001b[43m,\u001b[49m\u001b[43m \u001b[49m\u001b[38;5;28;43;01mNone\u001b[39;49;00m\u001b[43m)\u001b[49m\u001b[43m,\u001b[49m\n\u001b[1;32m   1739\u001b[0m \u001b[43m    \u001b[49m\u001b[43mcompression\u001b[49m\u001b[38;5;241;43m=\u001b[39;49m\u001b[38;5;28;43mself\u001b[39;49m\u001b[38;5;241;43m.\u001b[39;49m\u001b[43moptions\u001b[49m\u001b[38;5;241;43m.\u001b[39;49m\u001b[43mget\u001b[49m\u001b[43m(\u001b[49m\u001b[38;5;124;43m\"\u001b[39;49m\u001b[38;5;124;43mcompression\u001b[39;49m\u001b[38;5;124;43m\"\u001b[39;49m\u001b[43m,\u001b[49m\u001b[43m \u001b[49m\u001b[38;5;28;43;01mNone\u001b[39;49;00m\u001b[43m)\u001b[49m\u001b[43m,\u001b[49m\n\u001b[1;32m   1740\u001b[0m \u001b[43m    \u001b[49m\u001b[43mmemory_map\u001b[49m\u001b[38;5;241;43m=\u001b[39;49m\u001b[38;5;28;43mself\u001b[39;49m\u001b[38;5;241;43m.\u001b[39;49m\u001b[43moptions\u001b[49m\u001b[38;5;241;43m.\u001b[39;49m\u001b[43mget\u001b[49m\u001b[43m(\u001b[49m\u001b[38;5;124;43m\"\u001b[39;49m\u001b[38;5;124;43mmemory_map\u001b[39;49m\u001b[38;5;124;43m\"\u001b[39;49m\u001b[43m,\u001b[49m\u001b[43m \u001b[49m\u001b[38;5;28;43;01mFalse\u001b[39;49;00m\u001b[43m)\u001b[49m\u001b[43m,\u001b[49m\n\u001b[1;32m   1741\u001b[0m \u001b[43m    \u001b[49m\u001b[43mis_text\u001b[49m\u001b[38;5;241;43m=\u001b[39;49m\u001b[43mis_text\u001b[49m\u001b[43m,\u001b[49m\n\u001b[1;32m   1742\u001b[0m \u001b[43m    \u001b[49m\u001b[43merrors\u001b[49m\u001b[38;5;241;43m=\u001b[39;49m\u001b[38;5;28;43mself\u001b[39;49m\u001b[38;5;241;43m.\u001b[39;49m\u001b[43moptions\u001b[49m\u001b[38;5;241;43m.\u001b[39;49m\u001b[43mget\u001b[49m\u001b[43m(\u001b[49m\u001b[38;5;124;43m\"\u001b[39;49m\u001b[38;5;124;43mencoding_errors\u001b[39;49m\u001b[38;5;124;43m\"\u001b[39;49m\u001b[43m,\u001b[49m\u001b[43m \u001b[49m\u001b[38;5;124;43m\"\u001b[39;49m\u001b[38;5;124;43mstrict\u001b[39;49m\u001b[38;5;124;43m\"\u001b[39;49m\u001b[43m)\u001b[49m\u001b[43m,\u001b[49m\n\u001b[1;32m   1743\u001b[0m \u001b[43m    \u001b[49m\u001b[43mstorage_options\u001b[49m\u001b[38;5;241;43m=\u001b[39;49m\u001b[38;5;28;43mself\u001b[39;49m\u001b[38;5;241;43m.\u001b[39;49m\u001b[43moptions\u001b[49m\u001b[38;5;241;43m.\u001b[39;49m\u001b[43mget\u001b[49m\u001b[43m(\u001b[49m\u001b[38;5;124;43m\"\u001b[39;49m\u001b[38;5;124;43mstorage_options\u001b[39;49m\u001b[38;5;124;43m\"\u001b[39;49m\u001b[43m,\u001b[49m\u001b[43m \u001b[49m\u001b[38;5;28;43;01mNone\u001b[39;49;00m\u001b[43m)\u001b[49m\u001b[43m,\u001b[49m\n\u001b[1;32m   1744\u001b[0m \u001b[43m\u001b[49m\u001b[43m)\u001b[49m\n\u001b[1;32m   1745\u001b[0m \u001b[38;5;28;01massert\u001b[39;00m \u001b[38;5;28mself\u001b[39m\u001b[38;5;241m.\u001b[39mhandles \u001b[38;5;129;01mis\u001b[39;00m \u001b[38;5;129;01mnot\u001b[39;00m \u001b[38;5;28;01mNone\u001b[39;00m\n\u001b[1;32m   1746\u001b[0m f \u001b[38;5;241m=\u001b[39m \u001b[38;5;28mself\u001b[39m\u001b[38;5;241m.\u001b[39mhandles\u001b[38;5;241m.\u001b[39mhandle\n",
      "File \u001b[0;32m~/opt/anaconda3/envs/climada_env/lib/python3.9/site-packages/pandas/io/common.py:856\u001b[0m, in \u001b[0;36mget_handle\u001b[0;34m(path_or_buf, mode, encoding, compression, memory_map, is_text, errors, storage_options)\u001b[0m\n\u001b[1;32m    851\u001b[0m \u001b[38;5;28;01melif\u001b[39;00m \u001b[38;5;28misinstance\u001b[39m(handle, \u001b[38;5;28mstr\u001b[39m):\n\u001b[1;32m    852\u001b[0m     \u001b[38;5;66;03m# Check whether the filename is to be opened in binary mode.\u001b[39;00m\n\u001b[1;32m    853\u001b[0m     \u001b[38;5;66;03m# Binary mode does not support 'encoding' and 'newline'.\u001b[39;00m\n\u001b[1;32m    854\u001b[0m     \u001b[38;5;28;01mif\u001b[39;00m ioargs\u001b[38;5;241m.\u001b[39mencoding \u001b[38;5;129;01mand\u001b[39;00m \u001b[38;5;124m\"\u001b[39m\u001b[38;5;124mb\u001b[39m\u001b[38;5;124m\"\u001b[39m \u001b[38;5;129;01mnot\u001b[39;00m \u001b[38;5;129;01min\u001b[39;00m ioargs\u001b[38;5;241m.\u001b[39mmode:\n\u001b[1;32m    855\u001b[0m         \u001b[38;5;66;03m# Encoding\u001b[39;00m\n\u001b[0;32m--> 856\u001b[0m         handle \u001b[38;5;241m=\u001b[39m \u001b[38;5;28;43mopen\u001b[39;49m\u001b[43m(\u001b[49m\n\u001b[1;32m    857\u001b[0m \u001b[43m            \u001b[49m\u001b[43mhandle\u001b[49m\u001b[43m,\u001b[49m\n\u001b[1;32m    858\u001b[0m \u001b[43m            \u001b[49m\u001b[43mioargs\u001b[49m\u001b[38;5;241;43m.\u001b[39;49m\u001b[43mmode\u001b[49m\u001b[43m,\u001b[49m\n\u001b[1;32m    859\u001b[0m \u001b[43m            \u001b[49m\u001b[43mencoding\u001b[49m\u001b[38;5;241;43m=\u001b[39;49m\u001b[43mioargs\u001b[49m\u001b[38;5;241;43m.\u001b[39;49m\u001b[43mencoding\u001b[49m\u001b[43m,\u001b[49m\n\u001b[1;32m    860\u001b[0m \u001b[43m            \u001b[49m\u001b[43merrors\u001b[49m\u001b[38;5;241;43m=\u001b[39;49m\u001b[43merrors\u001b[49m\u001b[43m,\u001b[49m\n\u001b[1;32m    861\u001b[0m \u001b[43m            \u001b[49m\u001b[43mnewline\u001b[49m\u001b[38;5;241;43m=\u001b[39;49m\u001b[38;5;124;43m\"\u001b[39;49m\u001b[38;5;124;43m\"\u001b[39;49m\u001b[43m,\u001b[49m\n\u001b[1;32m    862\u001b[0m \u001b[43m        \u001b[49m\u001b[43m)\u001b[49m\n\u001b[1;32m    863\u001b[0m     \u001b[38;5;28;01melse\u001b[39;00m:\n\u001b[1;32m    864\u001b[0m         \u001b[38;5;66;03m# Binary mode\u001b[39;00m\n\u001b[1;32m    865\u001b[0m         handle \u001b[38;5;241m=\u001b[39m \u001b[38;5;28mopen\u001b[39m(handle, ioargs\u001b[38;5;241m.\u001b[39mmode)\n",
      "\u001b[0;31mFileNotFoundError\u001b[0m: [Errno 2] No such file or directory: '/cluster/work/climate/evelynm/IDMC_UNU/exposure/bem_cntry_files/lka_bem_1x1_valfis.csv'"
     ]
    }
   ],
   "source": [
    "# Load the full dataframe, without further re-aggregation / processing other than adding centroids\n",
    "gdf_bem_subcomps = exposure.gdf_from_bem_subcomps(cntry_name, opt='full')\n",
    "gdf_bem_subcomps.head()"
   ]
  },
  {
   "cell_type": "code",
   "execution_count": null,
   "id": "f2361b82",
   "metadata": {},
   "outputs": [],
   "source": [
    "# filter and apply impf id\n",
    "gdf_bem_subcomps = gdf_bem_subcomps[gdf_bem_subcomps.valhum>0.001] # filter out rows with basically no population\n",
    "gdf_bem_subcomps[\"impf_TC\"] = gdf_bem_subcomps.apply(lambda row: vulnerability.DICT_PAGER_TCIMPF_HAZUS[row.se_seismo], axis=1)"
   ]
  },
  {
   "cell_type": "code",
   "execution_count": null,
   "id": "aaf636e5",
   "metadata": {},
   "outputs": [],
   "source": [
    "# remove for now unnecessary cols and prepare gdf for CLIMADA Exposure\n",
    "gdf_bem_subcomps.rename({'valhum' : 'value'}, axis=1)\n",
    "for col in ['iso3', 'sector', 'valfis', 'se_seismo']:\n",
    "    gdf_bem_subcomps.pop(col)"
   ]
  },
  {
   "cell_type": "code",
   "execution_count": null,
   "id": "f298514f",
   "metadata": {},
   "outputs": [],
   "source": [
    "gdf_bem_subcomps"
   ]
  },
  {
   "cell_type": "code",
   "execution_count": null,
   "id": "11ce8158",
   "metadata": {},
   "outputs": [],
   "source": [
    "exp = Exposures(gdf_bem_subcomps)\n",
    "exp.gdf.rename({'valhum': 'value'}, axis=1, inplace=True)\n",
    "exp.value_unit = 'Pop. count'\n",
    "exp.gdf['longitude'] = exp.gdf.geometry.x\n",
    "exp.gdf['latitude'] = exp.gdf.geometry.y\n",
    "exp.gdf = exp.gdf[~np.isnan(\n",
    "    exp.gdf.latitude)]  # drop nan centroids\n",
    "exp.gdf.head()"
   ]
  },
  {
   "cell_type": "code",
   "execution_count": null,
   "id": "2b576f64",
   "metadata": {},
   "outputs": [],
   "source": [
    "print('Total population '+str(cntry_name)+': ' + \"{:,.0f}\".format(exp.gdf.value.sum()))"
   ]
  },
  {
   "cell_type": "markdown",
   "id": "085028a8",
   "metadata": {},
   "source": [
    "#### Get lat/lon min/max from exposure"
   ]
  },
  {
   "cell_type": "code",
   "execution_count": null,
   "id": "fd3b9a93",
   "metadata": {},
   "outputs": [],
   "source": [
    "lat_min, lat_max, lon_min, lon_max = exp.gdf['latitude'].min(), exp.gdf['latitude'].max(), exp.gdf['longitude'].min(), exp.gdf['longitude'].max()"
   ]
  },
  {
   "cell_type": "code",
   "execution_count": null,
   "id": "81e94d0f",
   "metadata": {},
   "outputs": [],
   "source": [
    "lat_min, lat_max, lon_min, lon_max"
   ]
  },
  {
   "cell_type": "markdown",
   "id": "3563c3de",
   "metadata": {},
   "source": [
    "## Load hazard"
   ]
  },
  {
   "cell_type": "markdown",
   "id": "2a82e499",
   "metadata": {},
   "source": [
    "### a) Event set"
   ]
  },
  {
   "cell_type": "code",
   "execution_count": null,
   "id": "55d5125f",
   "metadata": {},
   "outputs": [],
   "source": [
    "from climada.util.constants import SYSTEM_DIR\n",
    "from climada.hazard import TropCyclone, Hazard\n",
    "hazard_dir = SYSTEM_DIR/\"hazard\"/\"present\""
   ]
  },
  {
   "cell_type": "code",
   "execution_count": null,
   "id": "d953fec7",
   "metadata": {},
   "outputs": [],
   "source": [
    "tc_haz = TropCyclone.from_hdf5(hazard_dir.joinpath('TC_IO_0150as_MIT_H08.hdf5'))"
   ]
  },
  {
   "cell_type": "code",
   "execution_count": null,
   "id": "9ee829a7",
   "metadata": {},
   "outputs": [],
   "source": [
    "tc_haz.plot_intensity(event=0)"
   ]
  },
  {
   "cell_type": "code",
   "execution_count": null,
   "id": "1e6c7f23",
   "metadata": {},
   "outputs": [],
   "source": [
    "tc_haz_sel = tc_haz.select(extent=(lon_min, lon_max, lat_min, lat_max))"
   ]
  },
  {
   "cell_type": "markdown",
   "id": "b0cdaf1c",
   "metadata": {},
   "source": [
    "### b) Hazard maps"
   ]
  },
  {
   "cell_type": "code",
   "execution_count": null,
   "id": "3fbb40f3",
   "metadata": {},
   "outputs": [],
   "source": [
    "hazard_dir = SYSTEM_DIR/\"hazard\"/\"RPmaps\""
   ]
  },
  {
   "cell_type": "code",
   "execution_count": null,
   "id": "53de6175",
   "metadata": {},
   "outputs": [],
   "source": [
    "haz_str= f\"TC_{reg}_0150as_MIT_RP-maps.nc\""
   ]
  },
  {
   "cell_type": "code",
   "execution_count": null,
   "id": "8d1be58f",
   "metadata": {},
   "outputs": [],
   "source": [
    "file_path = hazard_dir.joinpath(haz_str)\n",
    "print(file_path)"
   ]
  },
  {
   "cell_type": "code",
   "execution_count": null,
   "id": "c03a0e93",
   "metadata": {},
   "outputs": [],
   "source": [
    "import xarray as xr\n",
    "from scipy import sparse\n",
    "from climada.hazard.centroids.centr import Centroids\n",
    "\n",
    "def read_netcdf_as_hazard(file_path):\n",
    "    \"\"\"\n",
    "    Read NetCDF file containing exceedance intensity data for various return periods\n",
    "    and convert it into a Hazard object.\n",
    "\n",
    "    Args:\n",
    "    - file_path (str): Path to the NetCDF file.\n",
    "\n",
    "    Returns:\n",
    "    - Hazard: Hazard object containing the data from the NetCDF file.\n",
    "    \"\"\"\n",
    "    with xr.open_dataset(file_path) as ds:\n",
    "        centroids = Centroids(lat=ds['latitude'].values, lon=ds['longitude'].values)\n",
    "        \n",
    "        # Create a list to hold intensity data arrays\n",
    "        intensity_arrays = []\n",
    "        return_periods = [1, 10, 25, 50, 100, 250]  # Specify your return periods\n",
    "        for rp in return_periods:\n",
    "            intensity_var = f'intensity_RP{rp}'\n",
    "            intensity_arrays.append(ds[intensity_var].values)\n",
    "\n",
    "        # Stack arrays vertically and convert to sparse matrix\n",
    "        intensity_matrix = np.vstack(intensity_arrays)\n",
    "        intensity_sparse = sparse.csr_matrix(intensity_matrix)\n",
    "\n",
    "        # Create the Hazard object\n",
    "        hazard = Hazard(\n",
    "            haz_type='TC',\n",
    "            units='m/s',\n",
    "            centroids=centroids,\n",
    "            event_id=np.arange(len(np.array(return_periods, dtype=int))),\n",
    "            event_name=np.arange(len(np.array(return_periods, dtype=int))),\n",
    "            date=np.arange(len(np.array(return_periods, dtype=int))),\n",
    "            intensity=intensity_sparse,\n",
    "            frequency=1 / np.array(return_periods)\n",
    "        )\n",
    "\n",
    "    return hazard"
   ]
  },
  {
   "cell_type": "code",
   "execution_count": null,
   "id": "43027617",
   "metadata": {},
   "outputs": [],
   "source": [
    "RP_haz = read_netcdf_as_hazard(file_path)"
   ]
  },
  {
   "cell_type": "code",
   "execution_count": null,
   "id": "dc001efb",
   "metadata": {},
   "outputs": [],
   "source": [
    "RP_haz.plot_intensity(event=0)"
   ]
  },
  {
   "cell_type": "code",
   "execution_count": null,
   "id": "76c34fe4",
   "metadata": {},
   "outputs": [],
   "source": [
    "RP_haz_sel = RP_haz.select(extent=(lon_min, lon_max, lat_min, lat_max))"
   ]
  },
  {
   "cell_type": "code",
   "execution_count": null,
   "id": "f117bf3f",
   "metadata": {},
   "outputs": [],
   "source": [
    "RP_haz_sel.plot_intensity(event=0)"
   ]
  },
  {
   "cell_type": "markdown",
   "id": "f006ab31",
   "metadata": {},
   "source": [
    "## Impact functions"
   ]
  },
  {
   "cell_type": "code",
   "execution_count": null,
   "id": "700654f7",
   "metadata": {},
   "outputs": [],
   "source": [
    "impf_set_tc = vulnerability.IMPF_SET_TC_HAZUS"
   ]
  },
  {
   "cell_type": "code",
   "execution_count": null,
   "id": "b7681be9",
   "metadata": {},
   "outputs": [],
   "source": [
    "from climada.entity import ImpactFunc, ImpactFuncSet\n",
    "impf_set_tc_step = ImpactFuncSet()"
   ]
  },
  {
   "cell_type": "code",
   "execution_count": null,
   "id": "1845f771",
   "metadata": {},
   "outputs": [],
   "source": [
    "# The threshold of building damage after which all people are displaced. Below, no-one is displaced.\n",
    "building_thresh = 0.55 # 55% iDMC v1; CIMA: 30% for Somalia to 60% for other countries. \n",
    "\n",
    "for imp_id in impf_set_tc.get_ids(haz_type='TC'):\n",
    "    impf_set_tc.get_func(fun_id=imp_id)\n",
    "    y = impf_set_tc.get_func(fun_id=imp_id)[0].intensity\n",
    "    x = impf_set_tc.get_func(fun_id=imp_id)[0].mdd\n",
    "    thresh = np.interp(building_thresh, x, y)\n",
    "    print('ID: '+str(imp_id)+' - threshold stepfunction: '+str(thresh))\n",
    "    impf_set_tc_step.append(\n",
    "                ImpactFunc.from_step_impf(\n",
    "                    intensity=(0,  thresh, thresh *10),\n",
    "                    haz_type='TC',\n",
    "                    impf_id=imp_id,\n",
    "                    intensity_unit = 'm/s'\n",
    "                )\n",
    "    )"
   ]
  },
  {
   "cell_type": "markdown",
   "id": "86c56493",
   "metadata": {},
   "source": [
    "## Impacts"
   ]
  },
  {
   "cell_type": "markdown",
   "id": "4a0136a4",
   "metadata": {},
   "source": [
    "### Historical"
   ]
  },
  {
   "cell_type": "markdown",
   "id": "14a9e895",
   "metadata": {},
   "source": [
    "##### a) event-based impact calculation"
   ]
  },
  {
   "cell_type": "code",
   "execution_count": null,
   "id": "b54b57ce",
   "metadata": {},
   "outputs": [],
   "source": [
    "from climada.engine import ImpactCalc\n",
    "\n",
    "impcalc = ImpactCalc(exp, impf_set_tc_step, tc_haz_sel)\n",
    "impact = impcalc.impact()"
   ]
  },
  {
   "cell_type": "code",
   "execution_count": null,
   "id": "98a2fa4c",
   "metadata": {},
   "outputs": [],
   "source": [
    "print('Annual average displacement: ' + \"{:,.0f}\".format(impact.aai_agg))"
   ]
  },
  {
   "cell_type": "code",
   "execution_count": null,
   "id": "24a61a20",
   "metadata": {},
   "outputs": [],
   "source": [
    "freq_curve = impact.calc_freq_curve()\n",
    "freq_curve.plot()"
   ]
  },
  {
   "cell_type": "code",
   "execution_count": null,
   "id": "def1cba0",
   "metadata": {},
   "outputs": [],
   "source": [
    "freq_curve = impact.calc_freq_curve(return_per=np.arange(1, 251, 1))\n",
    "rp_indices = [0, 9, 24, 49, 99, 249]\n",
    "pm_data = [freq_curve.impact[idx] for idx in rp_indices]\n",
    "freq_curve.plot()"
   ]
  },
  {
   "cell_type": "code",
   "execution_count": null,
   "id": "fccfb223",
   "metadata": {},
   "outputs": [],
   "source": [
    "import matplotlib.pyplot as plt\n",
    "import cartopy.crs as ccrs\n",
    "\n",
    "fig, ax = plt.subplots(figsize=(8, 6), subplot_kw={'projection': ccrs.PlateCarree()})\n",
    "\n",
    "# Use the plot method and pass the GeoAxes\n",
    "impact.plot_hexbin_eai_exposure(\n",
    "    ignore_zero=True,\n",
    "    pop_name=False,\n",
    "    axis=ax\n",
    ")\n",
    "\n",
    "plt.show()"
   ]
  },
  {
   "cell_type": "markdown",
   "id": "894d8617",
   "metadata": {},
   "source": [
    "##### b) RP maps-based impact calculation"
   ]
  },
  {
   "cell_type": "code",
   "execution_count": null,
   "id": "6f5493ad",
   "metadata": {},
   "outputs": [],
   "source": [
    "impcalc_RP = ImpactCalc(exp, impf_set_tc_step, RP_haz_sel)\n",
    "impact_RP = impcalc_RP.impact()"
   ]
  },
  {
   "cell_type": "code",
   "execution_count": null,
   "id": "39b96e3f",
   "metadata": {},
   "outputs": [],
   "source": [
    "print('Annual average displacement: ' + \"{:,.0f}\".format(impact_RP.aai_agg))"
   ]
  },
  {
   "cell_type": "code",
   "execution_count": null,
   "id": "61c1a6ad",
   "metadata": {},
   "outputs": [],
   "source": [
    "freq_RP_curve = impact_RP.calc_freq_curve(return_per=1/RP_haz.frequency)\n",
    "freq_RP_curve.plot()\n",
    "pm_RP_data = [imp for imp in freq_RP_curve.impact]"
   ]
  },
  {
   "cell_type": "code",
   "execution_count": null,
   "id": "176123cb",
   "metadata": {},
   "outputs": [],
   "source": [
    "fig, ax = plt.subplots(figsize=(8, 6), subplot_kw={'projection': ccrs.PlateCarree()})\n",
    "\n",
    "impact_RP.plot_hexbin_eai_exposure(\n",
    "    ignore_zero=True,\n",
    "    pop_name=False,\n",
    "    axis=ax\n",
    ")\n",
    "\n",
    "plt.show()"
   ]
  },
  {
   "cell_type": "markdown",
   "id": "92ae6f43",
   "metadata": {},
   "source": [
    "#### Compare results a) event-base vs. b) RP maps"
   ]
  },
  {
   "cell_type": "code",
   "execution_count": null,
   "id": "8197ab8c",
   "metadata": {},
   "outputs": [],
   "source": [
    "fq_dict = {'event-based': freq_curve,\n",
    "           'RP maps': freq_RP_curve}"
   ]
  },
  {
   "cell_type": "code",
   "execution_count": null,
   "id": "6717cddb",
   "metadata": {},
   "outputs": [],
   "source": [
    "import matplotlib.pyplot as plt\n",
    "\n",
    "labels = list(fq_dict.keys())\n",
    "\n",
    "fig, axis = plt.subplots()\n",
    "\n",
    "for i, (plots, fq) in enumerate(fq_dict.items()):\n",
    "    fq.plot(axis=axis, label=str(cntry_name)+' '+labels[i])\n",
    "\n",
    "axis.legend(loc='center right', bbox_to_anchor=(1.45, 0.5))"
   ]
  },
  {
   "cell_type": "code",
   "execution_count": null,
   "id": "d89689e0",
   "metadata": {},
   "outputs": [],
   "source": [
    "RPs = freq_RP_curve.return_per.tolist()"
   ]
  },
  {
   "cell_type": "code",
   "execution_count": null,
   "id": "84581769",
   "metadata": {},
   "outputs": [],
   "source": [
    "# Create the AAD DataFrame\n",
    "df_AAD = pd.DataFrame({\n",
    "    \"event-based\": [impact.aai_agg],\n",
    "    \"RP maps\": [impact_RP.aai_agg]\n",
    "}, index=[\"AAD\"])\n",
    "\n",
    "# Create the PMD DataFrame with 'RP' as its index\n",
    "df_PMD = pd.DataFrame({\n",
    "    \"event-based\": pm_data,\n",
    "    \"RP maps\": pm_RP_data\n",
    "}, index=[\"RP_\" + str(int(rp)) for rp in RPs])\n",
    "\n",
    "# Concatenate df_AAD and df_PMD vertically\n",
    "df_hist = pd.concat([df_AAD, df_PMD])\n",
    "\n",
    "# Formatting the DataFrame\n",
    "df_hist_display = df_hist.style.format({\n",
    "    \"event-based\": \"{:,.0f}\",\n",
    "    \"RP maps\": \"{:,.0f}\"\n",
    "})\n",
    "\n",
    "df_hist_display"
   ]
  },
  {
   "cell_type": "code",
   "execution_count": null,
   "id": "e03da1a7",
   "metadata": {},
   "outputs": [],
   "source": [
    "# Save the DataFrame to a CSV file\n",
    "results_dir = SYSTEM_DIR/'results'\n",
    "file_name = f'TC_disp_{cntry_name}_hist.csv'\n",
    "df_hist.to_csv(results_dir.joinpath(file_name), index=False)"
   ]
  },
  {
   "cell_type": "markdown",
   "id": "1fecd756",
   "metadata": {},
   "source": [
    "### Future"
   ]
  },
  {
   "cell_type": "code",
   "execution_count": null,
   "id": "02c984cb",
   "metadata": {},
   "outputs": [],
   "source": [
    "reg = 'IO'\n",
    "models = ['cesm2', 'cnrm6', 'ecearth6', 'fgoals', 'ipsl6', 'miroc6', 'mpi6', 'mri6', 'ukmo6']\n",
    "scenario = ['20thcal', 'ssp245_2cal', 'ssp585_2cal']"
   ]
  },
  {
   "cell_type": "code",
   "execution_count": null,
   "id": "4fa23462",
   "metadata": {},
   "outputs": [],
   "source": [
    "fut_haz_dict = {}\n",
    "for gcm in models:\n",
    "    for scen in scenario:\n",
    "        haz_str_fut = f\"TC_{reg}_0150as_MIT_{gcm}_{scen}_RP-maps.nc\"\n",
    "        file_path = hazard_dir.joinpath(haz_str_fut)\n",
    "        print(file_path)\n",
    "        haz = read_netcdf_as_hazard(file_path)\n",
    "        haz_sel = haz.select(extent=(lon_min, lon_max, lat_min, lat_max))\n",
    "        fut_haz_dict[gcm+'_'+scen] = haz_sel"
   ]
  },
  {
   "cell_type": "code",
   "execution_count": null,
   "id": "c103f897",
   "metadata": {},
   "outputs": [],
   "source": [
    "impact_dict = {}\n",
    "for fut, haz in fut_haz_dict.items():\n",
    "    impcalc_fut = ImpactCalc(exp, impf_set_tc_step, haz)\n",
    "    impact_fut = impcalc_fut.impact()\n",
    "    impact_dict[fut] = impact_fut"
   ]
  },
  {
   "cell_type": "code",
   "execution_count": null,
   "id": "b35761ec",
   "metadata": {},
   "outputs": [],
   "source": [
    "aai_agg_dict = {}\n",
    "pmd_dict = {}\n",
    "for fut, imp in impact_dict.items():\n",
    "    aai_agg_dict[fut] = imp.aai_agg\n",
    "    freq_curve = imp.calc_freq_curve(return_per=1/RP_haz.frequency)\n",
    "    pm_data = [fq_imp for fq_imp in freq_curve.impact]\n",
    "    pmd_dict[fut] = pm_data"
   ]
  },
  {
   "cell_type": "code",
   "execution_count": null,
   "id": "1a1680cf",
   "metadata": {},
   "outputs": [],
   "source": [
    "from collections import defaultdict\n",
    "\n",
    "# Initialize a dictionary to store aggregated values by scenario\n",
    "scenario_data = defaultdict(list)\n",
    "\n",
    "# Process each item in the dictionary\n",
    "for key, value in aai_agg_dict.items():\n",
    "    parts = key.rsplit('_', 2)\n",
    "    model = parts[0]\n",
    "    scenario = parts[1]\n",
    "    scenario_data[scenario].append(value)\n",
    "\n",
    "# Calculate the mean for each scenario\n",
    "scenario_means = {scenario: np.mean(values) for scenario, values in scenario_data.items()}\n",
    "\n",
    "scenario_means"
   ]
  },
  {
   "cell_type": "code",
   "execution_count": null,
   "id": "0b241cce",
   "metadata": {},
   "outputs": [],
   "source": [
    "# Create DataFrame\n",
    "data = {\n",
    "    'Model': [],\n",
    "    'Scenario': [],\n",
    "    'Period': [],\n",
    "    'AAD': []\n",
    "}\n",
    "\n",
    "for key, value in aai_agg_dict.items():\n",
    "    parts = key.split('_')\n",
    "    if len(parts) == 3: \n",
    "        model, scenario, period = parts\n",
    "    elif len(parts) == 2: \n",
    "        model, scenario = parts\n",
    "        period = \"hist\"\n",
    "    else:\n",
    "        continue\n",
    "\n",
    "    data['Model'].append(model)\n",
    "    data['Scenario'].append(scenario)\n",
    "    data['Period'].append(period)\n",
    "    data['AAD'].append(value)\n",
    "\n",
    "df = pd.DataFrame(data)\n",
    "\n",
    "# Iterate and add new columns for each RP value\n",
    "for rp, rp_value in zip([1, 10, 25, 50, 100, 250], zip(*pmd_dict.values())):\n",
    "    df[f'RP_{rp}'] = rp_value\n",
    "\n",
    "df"
   ]
  },
  {
   "cell_type": "code",
   "execution_count": null,
   "id": "ff7d9e07",
   "metadata": {},
   "outputs": [],
   "source": [
    "# Save the DataFrame to a CSV file\n",
    "results_dir = SYSTEM_DIR/'results'\n",
    "file_name = f'TC_disp_{cntry_name}_RP-maps.csv'\n",
    "df.to_csv(results_dir.joinpath(file_name), index=False)"
   ]
  },
  {
   "cell_type": "code",
   "execution_count": null,
   "id": "256dc9e2",
   "metadata": {},
   "outputs": [],
   "source": []
  },
  {
   "cell_type": "code",
   "execution_count": null,
   "id": "efb36206",
   "metadata": {},
   "outputs": [],
   "source": []
  }
 ],
 "metadata": {
  "kernelspec": {
   "display_name": "Python 3 (ipykernel)",
   "language": "python",
   "name": "python3"
  },
  "language_info": {
   "codemirror_mode": {
    "name": "ipython",
    "version": 3
   },
   "file_extension": ".py",
   "mimetype": "text/x-python",
   "name": "python",
   "nbconvert_exporter": "python",
   "pygments_lexer": "ipython3",
   "version": "3.9.16"
  }
 },
 "nbformat": 4,
 "nbformat_minor": 5
}
