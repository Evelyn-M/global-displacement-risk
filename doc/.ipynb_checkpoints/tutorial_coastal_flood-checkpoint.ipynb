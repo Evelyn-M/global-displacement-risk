{
 "cells": [
  {
   "cell_type": "markdown",
   "id": "0c35b94f",
   "metadata": {},
   "source": [
    "# Coastal flood hazard for displacement risk modelling"
   ]
  },
  {
   "cell_type": "markdown",
   "id": "0eea6e8a",
   "metadata": {},
   "source": [
    "This tutorial shows how to use the coastal flood hazard return periods maps.\n",
    "\n",
    "Technical specifications for the flood maps.\n",
    "\n",
    "**Flood map:**  \n",
    "Resolution: 1000m x 1000m (approximately)  \n",
    "Horizontal coordinate System: EPSG:4326 - WGS84.  \n",
    "Nodata value: None.  \n",
    "\n",
    "The data is single-banded, where each pixel value denotes the depth of the water in meters.  \n",
    "*** NOTE: Best way to visualize is to clip the raster values from 0.01m to 100m. This will remove 0 values.\n",
    "\n",
    "**Representative concentration pathways (RCP) considered for sea level rise:** RCP2.6, RCP4.5, RCP8.5  \n",
    "**Future years considered for sea level rise:** 2020, 2050, 2100.  \n",
    "**Return periods considered for flood maps:** 1,10,25,50,100,250,1000.   \n",
    "\n",
    "The superfolder specifies the name of our DEM, namely venDEM. venDEM_scaled_1km implies that flood computation was done on finer (30m resolution), after which maps were rescaled to 1km (approximately).  \n",
    "The set of flood maps are partitioned into unit latitude-longitude square tiles inside the superfolder.  \n",
    "For example, S02E040 represents the latitude-longitude tile with bottom left corner at latitude -2 (2S) and longitude 40 (40E).\n",
    "\n",
    "In each folder, there is then a combination of RCP and year, and within each RCP_year folder, there is one tif file per return period for the latitude-longitude tile."
   ]
  },
  {
   "cell_type": "code",
   "execution_count": 1,
   "id": "044df897",
   "metadata": {},
   "outputs": [],
   "source": [
    "import os\n",
    "import pandas as pd\n",
    "import numpy as np\n",
    "\n",
    "#os.chdir('/Users/simonameiler/Documents/WCR/Displacement/global-displacement-risk')\n",
    "os.chdir('/cluster/project/climate/evelynm/global-displacement-risk') # change back to root folder, not \"~/doc\"\n",
    "import coastal_flood_hazard, exposure, vulnerability"
   ]
  },
  {
   "cell_type": "markdown",
   "id": "b5457d15",
   "metadata": {},
   "source": [
    "Select latitude-longitude tiles for country of interest only.\n",
    "\n",
    "First, load exposure and get lat/lon max/mins from it.  \n",
    "Then load the respective flood tiles."
   ]
  },
  {
   "cell_type": "markdown",
   "id": "c79be7a1",
   "metadata": {},
   "source": [
    "## Load exposure from BEM"
   ]
  },
  {
   "cell_type": "code",
   "execution_count": 2,
   "id": "7a7b76a3",
   "metadata": {},
   "outputs": [],
   "source": [
    "from climada.entity.exposures import Exposures"
   ]
  },
  {
   "cell_type": "code",
   "execution_count": 3,
   "id": "fd7aed3f",
   "metadata": {},
   "outputs": [],
   "source": [
    "cntry_name = 'Taiwan'"
   ]
  },
  {
   "cell_type": "code",
   "execution_count": 4,
   "id": "1196c720",
   "metadata": {},
   "outputs": [
    {
     "data": {
      "text/html": [
       "<div>\n",
       "<style scoped>\n",
       "    .dataframe tbody tr th:only-of-type {\n",
       "        vertical-align: middle;\n",
       "    }\n",
       "\n",
       "    .dataframe tbody tr th {\n",
       "        vertical-align: top;\n",
       "    }\n",
       "\n",
       "    .dataframe thead th {\n",
       "        text-align: right;\n",
       "    }\n",
       "</style>\n",
       "<table border=\"1\" class=\"dataframe\">\n",
       "  <thead>\n",
       "    <tr style=\"text-align: right;\">\n",
       "      <th></th>\n",
       "      <th>id_1x</th>\n",
       "      <th>iso3</th>\n",
       "      <th>cpx</th>\n",
       "      <th>sector</th>\n",
       "      <th>se_seismo</th>\n",
       "      <th>valhum</th>\n",
       "      <th>valfis</th>\n",
       "      <th>bd_1_floor</th>\n",
       "      <th>bd_2_floor</th>\n",
       "      <th>bd_3_floor</th>\n",
       "      <th>geometry</th>\n",
       "    </tr>\n",
       "  </thead>\n",
       "  <tbody>\n",
       "    <tr>\n",
       "      <th>0</th>\n",
       "      <td>157348471</td>\n",
       "      <td>TWN</td>\n",
       "      <td>3</td>\n",
       "      <td>beds_priv</td>\n",
       "      <td>W</td>\n",
       "      <td>0.003311</td>\n",
       "      <td>0.000035</td>\n",
       "      <td>51.785</td>\n",
       "      <td>48.215</td>\n",
       "      <td>0.0</td>\n",
       "      <td>POINT (118.42083 24.47917)</td>\n",
       "    </tr>\n",
       "    <tr>\n",
       "      <th>1</th>\n",
       "      <td>157348471</td>\n",
       "      <td>TWN</td>\n",
       "      <td>3</td>\n",
       "      <td>beds_priv</td>\n",
       "      <td>UFB</td>\n",
       "      <td>0.006622</td>\n",
       "      <td>0.000070</td>\n",
       "      <td>51.785</td>\n",
       "      <td>48.215</td>\n",
       "      <td>0.0</td>\n",
       "      <td>POINT (118.42083 24.47917)</td>\n",
       "    </tr>\n",
       "    <tr>\n",
       "      <th>2</th>\n",
       "      <td>157348471</td>\n",
       "      <td>TWN</td>\n",
       "      <td>3</td>\n",
       "      <td>beds_priv</td>\n",
       "      <td>S4M</td>\n",
       "      <td>0.005519</td>\n",
       "      <td>0.000059</td>\n",
       "      <td>51.785</td>\n",
       "      <td>48.215</td>\n",
       "      <td>0.0</td>\n",
       "      <td>POINT (118.42083 24.47917)</td>\n",
       "    </tr>\n",
       "    <tr>\n",
       "      <th>3</th>\n",
       "      <td>157348471</td>\n",
       "      <td>TWN</td>\n",
       "      <td>3</td>\n",
       "      <td>beds_priv</td>\n",
       "      <td>S4L</td>\n",
       "      <td>0.001656</td>\n",
       "      <td>0.000018</td>\n",
       "      <td>51.785</td>\n",
       "      <td>48.215</td>\n",
       "      <td>0.0</td>\n",
       "      <td>POINT (118.42083 24.47917)</td>\n",
       "    </tr>\n",
       "    <tr>\n",
       "      <th>4</th>\n",
       "      <td>157348471</td>\n",
       "      <td>TWN</td>\n",
       "      <td>3</td>\n",
       "      <td>beds_priv</td>\n",
       "      <td>S4H</td>\n",
       "      <td>0.014900</td>\n",
       "      <td>0.000158</td>\n",
       "      <td>51.785</td>\n",
       "      <td>48.215</td>\n",
       "      <td>0.0</td>\n",
       "      <td>POINT (118.42083 24.47917)</td>\n",
       "    </tr>\n",
       "  </tbody>\n",
       "</table>\n",
       "</div>"
      ],
      "text/plain": [
       "       id_1x iso3  cpx     sector se_seismo    valhum    valfis  bd_1_floor  \\\n",
       "0  157348471  TWN    3  beds_priv         W  0.003311  0.000035      51.785   \n",
       "1  157348471  TWN    3  beds_priv       UFB  0.006622  0.000070      51.785   \n",
       "2  157348471  TWN    3  beds_priv       S4M  0.005519  0.000059      51.785   \n",
       "3  157348471  TWN    3  beds_priv       S4L  0.001656  0.000018      51.785   \n",
       "4  157348471  TWN    3  beds_priv       S4H  0.014900  0.000158      51.785   \n",
       "\n",
       "   bd_2_floor  bd_3_floor                    geometry  \n",
       "0      48.215         0.0  POINT (118.42083 24.47917)  \n",
       "1      48.215         0.0  POINT (118.42083 24.47917)  \n",
       "2      48.215         0.0  POINT (118.42083 24.47917)  \n",
       "3      48.215         0.0  POINT (118.42083 24.47917)  \n",
       "4      48.215         0.0  POINT (118.42083 24.47917)  "
      ]
     },
     "execution_count": 4,
     "metadata": {},
     "output_type": "execute_result"
    }
   ],
   "source": [
    "# Load the full dataframe, without further re-aggregation / processing other than adding centroids\n",
    "gdf_bem_subcomps = exposure.gdf_from_bem_subcomps(cntry_name, opt='full')\n",
    "gdf_bem_subcomps.head()\n"
   ]
  },
  {
   "cell_type": "code",
   "execution_count": 5,
   "id": "f2361b82",
   "metadata": {},
   "outputs": [],
   "source": [
    "# filter and apply impf id\n",
    "gdf_bem_subcomps = gdf_bem_subcomps[gdf_bem_subcomps['valhum']>1] # filter out rows with basically no population\n",
    "gdf_bem_subcomps['impf_FL'] = gdf_bem_subcomps.apply(lambda row: vulnerability.DICT_PAGER_FLIMPF_IVM[row.se_seismo], axis=1)"
   ]
  },
  {
   "cell_type": "code",
   "execution_count": 6,
   "id": "063f2c0b",
   "metadata": {},
   "outputs": [],
   "source": [
    "# replace impf 3 --> 5 for 2-storeys and more\n",
    "gdf_bem_subcomps.loc[((gdf_bem_subcomps.bd_3_floor+gdf_bem_subcomps.bd_2_floor)>0.5)\n",
    "                     &(gdf_bem_subcomps.impf_FL==3), \"impf_FL\"] = 5"
   ]
  },
  {
   "cell_type": "code",
   "execution_count": 7,
   "id": "35eed1ae",
   "metadata": {},
   "outputs": [],
   "source": [
    "# replace impf 4 --> 6 for 2-storeys and more\n",
    "gdf_bem_subcomps.loc[((gdf_bem_subcomps.bd_3_floor+gdf_bem_subcomps.bd_2_floor)>0.5)\n",
    "                     &(gdf_bem_subcomps.impf_FL==4), \"impf_FL\"] = 6"
   ]
  },
  {
   "cell_type": "code",
   "execution_count": 8,
   "id": "aaf636e5",
   "metadata": {},
   "outputs": [],
   "source": [
    "# remove for now unnecessary cols and prepare gdf for CLIMADA Exposure\n",
    "gdf_bem_subcomps.rename({'valhum' : 'value'}, axis=1)\n",
    "for col in ['iso3', 'sector', 'valfis', 'se_seismo']:\n",
    "    gdf_bem_subcomps.pop(col)"
   ]
  },
  {
   "cell_type": "code",
   "execution_count": 9,
   "id": "495caefc",
   "metadata": {},
   "outputs": [
    {
     "data": {
      "text/plain": [
       "39170907.24501941"
      ]
     },
     "execution_count": 9,
     "metadata": {},
     "output_type": "execute_result"
    }
   ],
   "source": [
    "gdf_bem_subcomps.valhum.sum()"
   ]
  },
  {
   "cell_type": "code",
   "execution_count": 10,
   "id": "11ce8158",
   "metadata": {},
   "outputs": [
    {
     "data": {
      "text/html": [
       "<div>\n",
       "<style scoped>\n",
       "    .dataframe tbody tr th:only-of-type {\n",
       "        vertical-align: middle;\n",
       "    }\n",
       "\n",
       "    .dataframe tbody tr th {\n",
       "        vertical-align: top;\n",
       "    }\n",
       "\n",
       "    .dataframe thead th {\n",
       "        text-align: right;\n",
       "    }\n",
       "</style>\n",
       "<table border=\"1\" class=\"dataframe\">\n",
       "  <thead>\n",
       "    <tr style=\"text-align: right;\">\n",
       "      <th></th>\n",
       "      <th>id_1x</th>\n",
       "      <th>cpx</th>\n",
       "      <th>value</th>\n",
       "      <th>bd_1_floor</th>\n",
       "      <th>bd_2_floor</th>\n",
       "      <th>bd_3_floor</th>\n",
       "      <th>geometry</th>\n",
       "      <th>impf_FL</th>\n",
       "      <th>longitude</th>\n",
       "      <th>latitude</th>\n",
       "    </tr>\n",
       "  </thead>\n",
       "  <tbody>\n",
       "    <tr>\n",
       "      <th>56</th>\n",
       "      <td>157350270</td>\n",
       "      <td>3</td>\n",
       "      <td>3.203340</td>\n",
       "      <td>66.665</td>\n",
       "      <td>33.335</td>\n",
       "      <td>0.0</td>\n",
       "      <td>POINT (118.45417 24.47083)</td>\n",
       "      <td>6</td>\n",
       "      <td>118.454167</td>\n",
       "      <td>24.470833</td>\n",
       "    </tr>\n",
       "    <tr>\n",
       "      <th>57</th>\n",
       "      <td>157350270</td>\n",
       "      <td>3</td>\n",
       "      <td>4.835457</td>\n",
       "      <td>66.665</td>\n",
       "      <td>33.335</td>\n",
       "      <td>0.0</td>\n",
       "      <td>POINT (118.45417 24.47083)</td>\n",
       "      <td>6</td>\n",
       "      <td>118.454167</td>\n",
       "      <td>24.470833</td>\n",
       "    </tr>\n",
       "    <tr>\n",
       "      <th>58</th>\n",
       "      <td>157350270</td>\n",
       "      <td>3</td>\n",
       "      <td>5.618275</td>\n",
       "      <td>66.665</td>\n",
       "      <td>33.335</td>\n",
       "      <td>0.0</td>\n",
       "      <td>POINT (118.45417 24.47083)</td>\n",
       "      <td>6</td>\n",
       "      <td>118.454167</td>\n",
       "      <td>24.470833</td>\n",
       "    </tr>\n",
       "    <tr>\n",
       "      <th>80</th>\n",
       "      <td>157350270</td>\n",
       "      <td>3</td>\n",
       "      <td>4.031061</td>\n",
       "      <td>66.665</td>\n",
       "      <td>33.335</td>\n",
       "      <td>0.0</td>\n",
       "      <td>POINT (118.45417 24.47083)</td>\n",
       "      <td>6</td>\n",
       "      <td>118.454167</td>\n",
       "      <td>24.470833</td>\n",
       "    </tr>\n",
       "    <tr>\n",
       "      <th>81</th>\n",
       "      <td>157350270</td>\n",
       "      <td>3</td>\n",
       "      <td>6.084906</td>\n",
       "      <td>66.665</td>\n",
       "      <td>33.335</td>\n",
       "      <td>0.0</td>\n",
       "      <td>POINT (118.45417 24.47083)</td>\n",
       "      <td>6</td>\n",
       "      <td>118.454167</td>\n",
       "      <td>24.470833</td>\n",
       "    </tr>\n",
       "  </tbody>\n",
       "</table>\n",
       "</div>"
      ],
      "text/plain": [
       "        id_1x  cpx     value  bd_1_floor  bd_2_floor  bd_3_floor  \\\n",
       "56  157350270    3  3.203340      66.665      33.335         0.0   \n",
       "57  157350270    3  4.835457      66.665      33.335         0.0   \n",
       "58  157350270    3  5.618275      66.665      33.335         0.0   \n",
       "80  157350270    3  4.031061      66.665      33.335         0.0   \n",
       "81  157350270    3  6.084906      66.665      33.335         0.0   \n",
       "\n",
       "                      geometry  impf_FL   longitude   latitude  \n",
       "56  POINT (118.45417 24.47083)        6  118.454167  24.470833  \n",
       "57  POINT (118.45417 24.47083)        6  118.454167  24.470833  \n",
       "58  POINT (118.45417 24.47083)        6  118.454167  24.470833  \n",
       "80  POINT (118.45417 24.47083)        6  118.454167  24.470833  \n",
       "81  POINT (118.45417 24.47083)        6  118.454167  24.470833  "
      ]
     },
     "execution_count": 10,
     "metadata": {},
     "output_type": "execute_result"
    }
   ],
   "source": [
    "exp = Exposures(gdf_bem_subcomps)\n",
    "exp.gdf.rename({'valhum': 'value'}, axis=1, inplace=True)\n",
    "exp.value_unit = 'Pop. count'\n",
    "exp.gdf['longitude'] = exp.gdf.geometry.x\n",
    "exp.gdf['latitude'] = exp.gdf.geometry.y\n",
    "exp.gdf = exp.gdf[~np.isnan(\n",
    "    exp.gdf.latitude)]  # drop nan centroids\n",
    "exp.gdf.head()"
   ]
  },
  {
   "cell_type": "markdown",
   "id": "085028a8",
   "metadata": {},
   "source": [
    "#### Get lat/lon min/max from exposure"
   ]
  },
  {
   "cell_type": "code",
   "execution_count": 11,
   "id": "fd3b9a93",
   "metadata": {},
   "outputs": [],
   "source": [
    "lat_min, lat_max, lon_min, lon_max = exp.gdf['latitude'].min(), exp.gdf['latitude'].max(), exp.gdf['longitude'].min(), exp.gdf['longitude'].max()"
   ]
  },
  {
   "cell_type": "code",
   "execution_count": 12,
   "id": "81e94d0f",
   "metadata": {},
   "outputs": [
    {
     "data": {
      "text/plain": [
       "(21.912500005759863, 25.27916667242634, 118.28749999999884, 122.00416666666847)"
      ]
     },
     "execution_count": 12,
     "metadata": {},
     "output_type": "execute_result"
    }
   ],
   "source": [
    "lat_min, lat_max, lon_min, lon_max"
   ]
  },
  {
   "cell_type": "markdown",
   "id": "3563c3de",
   "metadata": {},
   "source": [
    "## Load hazard maps for all tiles covering the lat/lon extent of exposure"
   ]
  },
  {
   "cell_type": "code",
   "execution_count": 13,
   "id": "55d5125f",
   "metadata": {},
   "outputs": [],
   "source": [
    "#from climada.util.constants import SYSTEM_DIR\n",
    "#hazard_dir = SYSTEM_DIR/\"hazard\"/\"coastal_flood\"/\"venDEM_scaled_1km\"\n",
    "\n",
    "hazard_dir = /cluster/work/climate/evelynm/IDMC_UNU/hazard/coastal_flood/venDEM_scaled_1km"
   ]
  },
  {
   "cell_type": "code",
   "execution_count": 14,
   "id": "2131afd0",
   "metadata": {},
   "outputs": [],
   "source": [
    "# get tiles covering the exposure extent\n",
    "tiles = coastal_flood_hazard.find_tiles(lat_min, lat_max, lon_min, lon_max)"
   ]
  },
  {
   "cell_type": "code",
   "execution_count": 15,
   "id": "f3972a28",
   "metadata": {},
   "outputs": [
    {
     "data": {
      "text/plain": [
       "['N21E118',\n",
       " 'N21E119',\n",
       " 'N21E120',\n",
       " 'N21E121',\n",
       " 'N21E122',\n",
       " 'N22E118',\n",
       " 'N22E119',\n",
       " 'N22E120',\n",
       " 'N22E121',\n",
       " 'N22E122',\n",
       " 'N23E118',\n",
       " 'N23E119',\n",
       " 'N23E120',\n",
       " 'N23E121',\n",
       " 'N23E122',\n",
       " 'N24E118',\n",
       " 'N24E119',\n",
       " 'N24E120',\n",
       " 'N24E121',\n",
       " 'N24E122',\n",
       " 'N25E118',\n",
       " 'N25E119',\n",
       " 'N25E120',\n",
       " 'N25E121',\n",
       " 'N25E122']"
      ]
     },
     "execution_count": 15,
     "metadata": {},
     "output_type": "execute_result"
    }
   ],
   "source": [
    "tiles"
   ]
  },
  {
   "cell_type": "code",
   "execution_count": 16,
   "id": "aa08a406",
   "metadata": {},
   "outputs": [
    {
     "name": "stderr",
     "output_type": "stream",
     "text": [
      "/Users/simonameiler/opt/anaconda3/envs/climada_env/lib/python3.9/site-packages/rasterio/merge.py:314: UserWarning: The nodata value, inf, is beyond the valid range of the chosen data type, float32. Consider overriding it using the --nodata option for better results.\n",
      "  warnings.warn(\n"
     ]
    }
   ],
   "source": [
    "CF_haz_2020 = coastal_flood_hazard.generate_hazard_object(tiles, hazard_dir, 'RCP45', '2020', 'FL')"
   ]
  },
  {
   "cell_type": "code",
   "execution_count": 17,
   "id": "cf7b37c2",
   "metadata": {},
   "outputs": [
    {
     "data": {
      "text/plain": [
       "<3822x546 sparse matrix of type '<class 'numpy.float32'>'\n",
       "\twith 37819 stored elements in Compressed Sparse Row format>"
      ]
     },
     "execution_count": 17,
     "metadata": {},
     "output_type": "execute_result"
    }
   ],
   "source": [
    "CF_haz_2020.intensity"
   ]
  },
  {
   "cell_type": "code",
   "execution_count": 26,
   "id": "c4cb386b",
   "metadata": {},
   "outputs": [
    {
     "name": "stderr",
     "output_type": "stream",
     "text": [
      "/Users/simonameiler/opt/anaconda3/envs/climada_env/lib/python3.9/site-packages/cartopy/mpl/geoaxes.py:874: UserWarning: Attempting to set identical low and high ylims makes transformation singular; automatically expanding.\n",
      "  self.set_ylim([y1, y2])\n"
     ]
    },
    {
     "data": {
      "text/plain": [
       "<GeoAxes: >"
      ]
     },
     "execution_count": 26,
     "metadata": {},
     "output_type": "execute_result"
    },
    {
     "data": {
      "image/png": "[encoded data removed]",
      "text/plain": [
       "<Figure size 900x1300 with 1 Axes>"
      ]
     },
     "metadata": {},
     "output_type": "display_data"
    }
   ],
   "source": [
    "CF_haz_2020.centroids.plot()"
   ]
  },
  {
   "cell_type": "code",
   "execution_count": 19,
   "id": "5002740d",
   "metadata": {},
   "outputs": [
    {
     "ename": "QhullError",
     "evalue": "QH6154 Qhull precision error: Initial simplex is flat (facet 1 is coplanar with the interior point)\n\nWhile executing:  | qhull d Q12 Qc Qbb Qz Qt\nOptions selected for Qhull 2019.1.r 2019/06/21:\n  run-id 1977985279  delaunay  Q12-allow-wide  Qcoplanar-keep  Qbbound-last\n  Qz-infinity-point  Qtriangulate  _pre-merge  _zero-centrum  Qinterior-keep\n  Pgood  _max-width  5  Error-roundoff 1.7e-13  _one-merge 1.2e-12\n  Visible-distance 3.4e-13  U-max-coplanar 3.4e-13  Width-outside 6.8e-13\n  _wide-facet 2e-12  _maxoutside 1.4e-12\n\nThe input to qhull appears to be less than 3 dimensional, or a\ncomputation has overflowed.\n\nQhull could not construct a clearly convex simplex from points:\n- p287(v4):    24 1.2e+02    30\n- p546(v3):    23 1.2e+02 1.2e+02\n- p545(v2):    26 1.2e+02    59\n- p0(v1):    21 1.2e+02     0\n\nThe center point is coplanar with a facet, or a vertex is coplanar\nwith a neighboring facet.  The maximum round off error for\ncomputing distances is 1.7e-13.  The center point, facets and distances\nto the center point are as follows:\n\ncenter point    23.53    120.5    52.99\n\nfacet p546 p545 p0 distance= -3.5e-15\nfacet p287 p545 p0 distance= -3.1e-13\nfacet p287 p546 p0 distance= 6.8e-15\nfacet p287 p546 p545 distance= 7.1e-15\n\nThese points either have a maximum or minimum x-coordinate, or\nthey maximize the determinant for k coordinates.  Trial points\nare first selected from points that maximize a coordinate.\n\nThe min and max coordinates for each dimension are:\n  0:        21        26  difference= 4.996\n  1:       118       123  difference= 4.996\n  2:         0       123  difference=  123\n\nIf the input should be full dimensional, you have several options that\nmay determine an initial simplex:\n  - use 'QJ'  to joggle the input and make it full dimensional\n  - use 'QbB' to scale the points to the unit cube\n  - use 'QR0' to randomly rotate the input for different maximum points\n  - use 'Qs'  to search all points for the initial simplex\n  - use 'En'  to specify a maximum roundoff error less than 1.7e-13.\n  - trace execution with 'T3' to see the determinant for each point.\n\nIf the input is lower dimensional:\n  - use 'QJ' to joggle the input and make it full dimensional\n  - use 'Qbk:0Bk:0' to delete coordinate k from the input.  You should\n    pick the coordinate with the least range.  The hull will have the\n    correct topology.\n  - determine the flat containing the points, rotate the points\n    into a coordinate plane, and delete the other coordinates.\n  - add one or more points to make the input full dimensional.\n",
     "output_type": "error",
     "traceback": [
      "\u001b[0;31m---------------------------------------------------------------------------\u001b[0m",
      "\u001b[0;31mQhullError\u001b[0m                                Traceback (most recent call last)",
      "Cell \u001b[0;32mIn[19], line 1\u001b[0m\n\u001b[0;32m----> 1\u001b[0m \u001b[43mCF_haz_2020\u001b[49m\u001b[38;5;241;43m.\u001b[39;49m\u001b[43mplot_intensity\u001b[49m\u001b[43m(\u001b[49m\u001b[43mevent\u001b[49m\u001b[38;5;241;43m=\u001b[39;49m\u001b[38;5;241;43m0\u001b[39;49m\u001b[43m)\u001b[49m\n",
      "File \u001b[0;32m~/Documents/WCR/CLIMADA_develop/climada_python/climada/hazard/base.py:1405\u001b[0m, in \u001b[0;36mHazard.plot_intensity\u001b[0;34m(self, event, centr, smooth, axis, adapt_fontsize, **kwargs)\u001b[0m\n\u001b[1;32m   1403\u001b[0m     \u001b[38;5;28;01mif\u001b[39;00m \u001b[38;5;28misinstance\u001b[39m(event, \u001b[38;5;28mstr\u001b[39m):\n\u001b[1;32m   1404\u001b[0m         event \u001b[38;5;241m=\u001b[39m \u001b[38;5;28mself\u001b[39m\u001b[38;5;241m.\u001b[39mget_event_id(event)\n\u001b[0;32m-> 1405\u001b[0m     \u001b[38;5;28;01mreturn\u001b[39;00m \u001b[38;5;28;43mself\u001b[39;49m\u001b[38;5;241;43m.\u001b[39;49m\u001b[43m_event_plot\u001b[49m\u001b[43m(\u001b[49m\u001b[43mevent\u001b[49m\u001b[43m,\u001b[49m\u001b[43m \u001b[49m\u001b[38;5;28;43mself\u001b[39;49m\u001b[38;5;241;43m.\u001b[39;49m\u001b[43mintensity\u001b[49m\u001b[43m,\u001b[49m\u001b[43m \u001b[49m\u001b[43mcol_label\u001b[49m\u001b[43m,\u001b[49m\n\u001b[1;32m   1406\u001b[0m \u001b[43m                            \u001b[49m\u001b[43msmooth\u001b[49m\u001b[43m,\u001b[49m\u001b[43m \u001b[49m\u001b[43mcrs_epsg\u001b[49m\u001b[43m,\u001b[49m\u001b[43m \u001b[49m\u001b[43maxis\u001b[49m\u001b[43m,\u001b[49m\u001b[43m \u001b[49m\u001b[43madapt_fontsize\u001b[49m\u001b[38;5;241;43m=\u001b[39;49m\u001b[43madapt_fontsize\u001b[49m\u001b[43m,\u001b[49m\u001b[43m \u001b[49m\u001b[38;5;241;43m*\u001b[39;49m\u001b[38;5;241;43m*\u001b[39;49m\u001b[43mkwargs\u001b[49m\u001b[43m)\u001b[49m\n\u001b[1;32m   1407\u001b[0m \u001b[38;5;28;01mif\u001b[39;00m centr \u001b[38;5;129;01mis\u001b[39;00m \u001b[38;5;129;01mnot\u001b[39;00m \u001b[38;5;28;01mNone\u001b[39;00m:\n\u001b[1;32m   1408\u001b[0m     \u001b[38;5;28;01mif\u001b[39;00m \u001b[38;5;28misinstance\u001b[39m(centr, \u001b[38;5;28mtuple\u001b[39m):\n",
      "File \u001b[0;32m~/Documents/WCR/CLIMADA_develop/climada_python/climada/hazard/base.py:1822\u001b[0m, in \u001b[0;36mHazard._event_plot\u001b[0;34m(self, event_id, mat_var, col_name, smooth, crs_espg, axis, figsize, adapt_fontsize, **kwargs)\u001b[0m\n\u001b[1;32m   1819\u001b[0m     array_val\u001b[38;5;241m.\u001b[39mappend(im_val)\n\u001b[1;32m   1820\u001b[0m     l_title\u001b[38;5;241m.\u001b[39mappend(title)\n\u001b[0;32m-> 1822\u001b[0m \u001b[38;5;28;01mreturn\u001b[39;00m \u001b[43mu_plot\u001b[49m\u001b[38;5;241;43m.\u001b[39;49m\u001b[43mgeo_im_from_array\u001b[49m\u001b[43m(\u001b[49m\u001b[43marray_val\u001b[49m\u001b[43m,\u001b[49m\u001b[43m \u001b[49m\u001b[38;5;28;43mself\u001b[39;49m\u001b[38;5;241;43m.\u001b[39;49m\u001b[43mcentroids\u001b[49m\u001b[38;5;241;43m.\u001b[39;49m\u001b[43mcoord\u001b[49m\u001b[43m,\u001b[49m\u001b[43m \u001b[49m\u001b[43mcol_name\u001b[49m\u001b[43m,\u001b[49m\n\u001b[1;32m   1823\u001b[0m \u001b[43m                                \u001b[49m\u001b[43ml_title\u001b[49m\u001b[43m,\u001b[49m\u001b[43m \u001b[49m\u001b[43msmooth\u001b[49m\u001b[38;5;241;43m=\u001b[39;49m\u001b[43msmooth\u001b[49m\u001b[43m,\u001b[49m\u001b[43m \u001b[49m\u001b[43maxes\u001b[49m\u001b[38;5;241;43m=\u001b[39;49m\u001b[43maxis\u001b[49m\u001b[43m,\u001b[49m\u001b[43m \u001b[49m\u001b[43mfigsize\u001b[49m\u001b[38;5;241;43m=\u001b[39;49m\u001b[43mfigsize\u001b[49m\u001b[43m,\u001b[49m\n\u001b[1;32m   1824\u001b[0m \u001b[43m                                \u001b[49m\u001b[43mproj\u001b[49m\u001b[38;5;241;43m=\u001b[39;49m\u001b[43mcrs_espg\u001b[49m\u001b[43m,\u001b[49m\u001b[43m \u001b[49m\u001b[43madapt_fontsize\u001b[49m\u001b[38;5;241;43m=\u001b[39;49m\u001b[43madapt_fontsize\u001b[49m\u001b[43m,\u001b[49m\u001b[43m \u001b[49m\u001b[38;5;241;43m*\u001b[39;49m\u001b[38;5;241;43m*\u001b[39;49m\u001b[43mkwargs\u001b[49m\u001b[43m)\u001b[49m\n",
      "File \u001b[0;32m~/Documents/WCR/CLIMADA_develop/climada_python/climada/util/plot.py:342\u001b[0m, in \u001b[0;36mgeo_im_from_array\u001b[0;34m(array_sub, coord, var_name, title, proj, smooth, shapes, axes, figsize, adapt_fontsize, **kwargs)\u001b[0m\n\u001b[1;32m    337\u001b[0m \u001b[38;5;28;01mif\u001b[39;00m smooth \u001b[38;5;129;01mor\u001b[39;00m \u001b[38;5;129;01mnot\u001b[39;00m is_reg:\n\u001b[1;32m    338\u001b[0m     \u001b[38;5;66;03m# Create regular grid where to interpolate the array\u001b[39;00m\n\u001b[1;32m    339\u001b[0m     grid_x, grid_y \u001b[38;5;241m=\u001b[39m np\u001b[38;5;241m.\u001b[39mmgrid[\n\u001b[1;32m    340\u001b[0m         extent[\u001b[38;5;241m0\u001b[39m]: extent[\u001b[38;5;241m1\u001b[39m]: \u001b[38;5;28mcomplex\u001b[39m(\u001b[38;5;241m0\u001b[39m, RESOLUTION),\n\u001b[1;32m    341\u001b[0m         extent[\u001b[38;5;241m2\u001b[39m]: extent[\u001b[38;5;241m3\u001b[39m]: \u001b[38;5;28mcomplex\u001b[39m(\u001b[38;5;241m0\u001b[39m, RESOLUTION)]\n\u001b[0;32m--> 342\u001b[0m     grid_im \u001b[38;5;241m=\u001b[39m \u001b[43mgriddata\u001b[49m\u001b[43m(\u001b[49m\u001b[43m(\u001b[49m\u001b[43mcoord\u001b[49m\u001b[43m[\u001b[49m\u001b[43m:\u001b[49m\u001b[43m,\u001b[49m\u001b[43m \u001b[49m\u001b[38;5;241;43m1\u001b[39;49m\u001b[43m]\u001b[49m\u001b[43m,\u001b[49m\u001b[43m \u001b[49m\u001b[43mcoord\u001b[49m\u001b[43m[\u001b[49m\u001b[43m:\u001b[49m\u001b[43m,\u001b[49m\u001b[43m \u001b[49m\u001b[38;5;241;43m0\u001b[39;49m\u001b[43m]\u001b[49m\u001b[43m)\u001b[49m\u001b[43m,\u001b[49m\u001b[43m \u001b[49m\u001b[43marray_im\u001b[49m\u001b[43m,\u001b[49m\n\u001b[1;32m    343\u001b[0m \u001b[43m                       \u001b[49m\u001b[43m(\u001b[49m\u001b[43mgrid_x\u001b[49m\u001b[43m,\u001b[49m\u001b[43m \u001b[49m\u001b[43mgrid_y\u001b[49m\u001b[43m)\u001b[49m\u001b[43m)\u001b[49m\n\u001b[1;32m    344\u001b[0m \u001b[38;5;28;01melse\u001b[39;00m:\n\u001b[1;32m    345\u001b[0m     grid_x \u001b[38;5;241m=\u001b[39m coord[:, \u001b[38;5;241m1\u001b[39m]\u001b[38;5;241m.\u001b[39mreshape((width, height))\u001b[38;5;241m.\u001b[39mtranspose()\n",
      "File \u001b[0;32m~/opt/anaconda3/envs/climada_env/lib/python3.9/site-packages/scipy/interpolate/_ndgriddata.py:273\u001b[0m, in \u001b[0;36mgriddata\u001b[0;34m(points, values, xi, method, fill_value, rescale)\u001b[0m\n\u001b[1;32m    271\u001b[0m     \u001b[38;5;28;01mreturn\u001b[39;00m ip(xi)\n\u001b[1;32m    272\u001b[0m \u001b[38;5;28;01melif\u001b[39;00m method \u001b[38;5;241m==\u001b[39m \u001b[38;5;124m'\u001b[39m\u001b[38;5;124mlinear\u001b[39m\u001b[38;5;124m'\u001b[39m:\n\u001b[0;32m--> 273\u001b[0m     ip \u001b[38;5;241m=\u001b[39m \u001b[43mLinearNDInterpolator\u001b[49m\u001b[43m(\u001b[49m\u001b[43mpoints\u001b[49m\u001b[43m,\u001b[49m\u001b[43m \u001b[49m\u001b[43mvalues\u001b[49m\u001b[43m,\u001b[49m\u001b[43m \u001b[49m\u001b[43mfill_value\u001b[49m\u001b[38;5;241;43m=\u001b[39;49m\u001b[43mfill_value\u001b[49m\u001b[43m,\u001b[49m\n\u001b[1;32m    274\u001b[0m \u001b[43m                              \u001b[49m\u001b[43mrescale\u001b[49m\u001b[38;5;241;43m=\u001b[39;49m\u001b[43mrescale\u001b[49m\u001b[43m)\u001b[49m\n\u001b[1;32m    275\u001b[0m     \u001b[38;5;28;01mreturn\u001b[39;00m ip(xi)\n\u001b[1;32m    276\u001b[0m \u001b[38;5;28;01melif\u001b[39;00m method \u001b[38;5;241m==\u001b[39m \u001b[38;5;124m'\u001b[39m\u001b[38;5;124mcubic\u001b[39m\u001b[38;5;124m'\u001b[39m \u001b[38;5;129;01mand\u001b[39;00m ndim \u001b[38;5;241m==\u001b[39m \u001b[38;5;241m2\u001b[39m:\n",
      "File \u001b[0;32minterpnd.pyx:290\u001b[0m, in \u001b[0;36mscipy.interpolate.interpnd.LinearNDInterpolator.__init__\u001b[0;34m()\u001b[0m\n",
      "File \u001b[0;32m_qhull.pyx:1827\u001b[0m, in \u001b[0;36mscipy.spatial._qhull.Delaunay.__init__\u001b[0;34m()\u001b[0m\n",
      "File \u001b[0;32m_qhull.pyx:353\u001b[0m, in \u001b[0;36mscipy.spatial._qhull._Qhull.__init__\u001b[0;34m()\u001b[0m\n",
      "\u001b[0;31mQhullError\u001b[0m: QH6154 Qhull precision error: Initial simplex is flat (facet 1 is coplanar with the interior point)\n\nWhile executing:  | qhull d Q12 Qc Qbb Qz Qt\nOptions selected for Qhull 2019.1.r 2019/06/21:\n  run-id 1977985279  delaunay  Q12-allow-wide  Qcoplanar-keep  Qbbound-last\n  Qz-infinity-point  Qtriangulate  _pre-merge  _zero-centrum  Qinterior-keep\n  Pgood  _max-width  5  Error-roundoff 1.7e-13  _one-merge 1.2e-12\n  Visible-distance 3.4e-13  U-max-coplanar 3.4e-13  Width-outside 6.8e-13\n  _wide-facet 2e-12  _maxoutside 1.4e-12\n\nThe input to qhull appears to be less than 3 dimensional, or a\ncomputation has overflowed.\n\nQhull could not construct a clearly convex simplex from points:\n- p287(v4):    24 1.2e+02    30\n- p546(v3):    23 1.2e+02 1.2e+02\n- p545(v2):    26 1.2e+02    59\n- p0(v1):    21 1.2e+02     0\n\nThe center point is coplanar with a facet, or a vertex is coplanar\nwith a neighboring facet.  The maximum round off error for\ncomputing distances is 1.7e-13.  The center point, facets and distances\nto the center point are as follows:\n\ncenter point    23.53    120.5    52.99\n\nfacet p546 p545 p0 distance= -3.5e-15\nfacet p287 p545 p0 distance= -3.1e-13\nfacet p287 p546 p0 distance= 6.8e-15\nfacet p287 p546 p545 distance= 7.1e-15\n\nThese points either have a maximum or minimum x-coordinate, or\nthey maximize the determinant for k coordinates.  Trial points\nare first selected from points that maximize a coordinate.\n\nThe min and max coordinates for each dimension are:\n  0:        21        26  difference= 4.996\n  1:       118       123  difference= 4.996\n  2:         0       123  difference=  123\n\nIf the input should be full dimensional, you have several options that\nmay determine an initial simplex:\n  - use 'QJ'  to joggle the input and make it full dimensional\n  - use 'QbB' to scale the points to the unit cube\n  - use 'QR0' to randomly rotate the input for different maximum points\n  - use 'Qs'  to search all points for the initial simplex\n  - use 'En'  to specify a maximum roundoff error less than 1.7e-13.\n  - trace execution with 'T3' to see the determinant for each point.\n\nIf the input is lower dimensional:\n  - use 'QJ' to joggle the input and make it full dimensional\n  - use 'Qbk:0Bk:0' to delete coordinate k from the input.  You should\n    pick the coordinate with the least range.  The hull will have the\n    correct topology.\n  - determine the flat containing the points, rotate the points\n    into a coordinate plane, and delete the other coordinates.\n  - add one or more points to make the input full dimensional.\n"
     ]
    },
    {
     "data": {
      "image/png": "[encoded data removed]",
      "text/plain": [
       "<Figure size 900x1300 with 1 Axes>"
      ]
     },
     "metadata": {},
     "output_type": "display_data"
    }
   ],
   "source": [
    "CF_haz_2020.plot_intensity(event=0)"
   ]
  },
  {
   "cell_type": "code",
   "execution_count": 20,
   "id": "8e6dacb0",
   "metadata": {},
   "outputs": [
    {
     "ename": "QhullError",
     "evalue": "QH6154 Qhull precision error: Initial simplex is flat (facet 1 is coplanar with the interior point)\n\nWhile executing:  | qhull d Q12 Qc Qbb Qz Qt\nOptions selected for Qhull 2019.1.r 2019/06/21:\n  run-id 1978405454  delaunay  Q12-allow-wide  Qcoplanar-keep  Qbbound-last\n  Qz-infinity-point  Qtriangulate  _pre-merge  _zero-centrum  Qinterior-keep\n  Pgood  _max-width  5  Error-roundoff 1.7e-13  _one-merge 1.2e-12\n  Visible-distance 3.4e-13  U-max-coplanar 3.4e-13  Width-outside 6.8e-13\n  _wide-facet 2e-12  _maxoutside 1.4e-12\n\nThe input to qhull appears to be less than 3 dimensional, or a\ncomputation has overflowed.\n\nQhull could not construct a clearly convex simplex from points:\n- p287(v4):    24 1.2e+02    30\n- p546(v3):    23 1.2e+02 1.2e+02\n- p545(v2):    26 1.2e+02    59\n- p0(v1):    21 1.2e+02     0\n\nThe center point is coplanar with a facet, or a vertex is coplanar\nwith a neighboring facet.  The maximum round off error for\ncomputing distances is 1.7e-13.  The center point, facets and distances\nto the center point are as follows:\n\ncenter point    23.53    120.5    52.99\n\nfacet p546 p545 p0 distance= -3.5e-15\nfacet p287 p545 p0 distance= -3.1e-13\nfacet p287 p546 p0 distance= 6.8e-15\nfacet p287 p546 p545 distance= 7.1e-15\n\nThese points either have a maximum or minimum x-coordinate, or\nthey maximize the determinant for k coordinates.  Trial points\nare first selected from points that maximize a coordinate.\n\nThe min and max coordinates for each dimension are:\n  0:        21        26  difference= 4.996\n  1:       118       123  difference= 4.996\n  2:         0       123  difference=  123\n\nIf the input should be full dimensional, you have several options that\nmay determine an initial simplex:\n  - use 'QJ'  to joggle the input and make it full dimensional\n  - use 'QbB' to scale the points to the unit cube\n  - use 'QR0' to randomly rotate the input for different maximum points\n  - use 'Qs'  to search all points for the initial simplex\n  - use 'En'  to specify a maximum roundoff error less than 1.7e-13.\n  - trace execution with 'T3' to see the determinant for each point.\n\nIf the input is lower dimensional:\n  - use 'QJ' to joggle the input and make it full dimensional\n  - use 'Qbk:0Bk:0' to delete coordinate k from the input.  You should\n    pick the coordinate with the least range.  The hull will have the\n    correct topology.\n  - determine the flat containing the points, rotate the points\n    into a coordinate plane, and delete the other coordinates.\n  - add one or more points to make the input full dimensional.\n",
     "output_type": "error",
     "traceback": [
      "\u001b[0;31m---------------------------------------------------------------------------\u001b[0m",
      "\u001b[0;31mQhullError\u001b[0m                                Traceback (most recent call last)",
      "Cell \u001b[0;32mIn[20], line 5\u001b[0m\n\u001b[1;32m      2\u001b[0m \u001b[38;5;28;01mimport\u001b[39;00m \u001b[38;5;21;01mcartopy\u001b[39;00m\u001b[38;5;21;01m.\u001b[39;00m\u001b[38;5;21;01mcrs\u001b[39;00m \u001b[38;5;28;01mas\u001b[39;00m \u001b[38;5;21;01mccrs\u001b[39;00m\n\u001b[1;32m      4\u001b[0m fig, ax \u001b[38;5;241m=\u001b[39m plt\u001b[38;5;241m.\u001b[39msubplots(figsize\u001b[38;5;241m=\u001b[39m(\u001b[38;5;241m8\u001b[39m, \u001b[38;5;241m6\u001b[39m), subplot_kw\u001b[38;5;241m=\u001b[39m{\u001b[38;5;124m'\u001b[39m\u001b[38;5;124mprojection\u001b[39m\u001b[38;5;124m'\u001b[39m: ccrs\u001b[38;5;241m.\u001b[39mPlateCarree()})\n\u001b[0;32m----> 5\u001b[0m \u001b[43mCF_haz_2020\u001b[49m\u001b[38;5;241;43m.\u001b[39;49m\u001b[43mplot_intensity\u001b[49m\u001b[43m(\u001b[49m\u001b[43mevent\u001b[49m\u001b[38;5;241;43m=\u001b[39;49m\u001b[38;5;241;43m0\u001b[39;49m\u001b[43m,\u001b[49m\u001b[43m \u001b[49m\u001b[43maxis\u001b[49m\u001b[38;5;241;43m=\u001b[39;49m\u001b[43max\u001b[49m\u001b[43m)\u001b[49m\n\u001b[1;32m      7\u001b[0m plt\u001b[38;5;241m.\u001b[39mshow()\n",
      "File \u001b[0;32m~/Documents/WCR/CLIMADA_develop/climada_python/climada/hazard/base.py:1405\u001b[0m, in \u001b[0;36mHazard.plot_intensity\u001b[0;34m(self, event, centr, smooth, axis, adapt_fontsize, **kwargs)\u001b[0m\n\u001b[1;32m   1403\u001b[0m     \u001b[38;5;28;01mif\u001b[39;00m \u001b[38;5;28misinstance\u001b[39m(event, \u001b[38;5;28mstr\u001b[39m):\n\u001b[1;32m   1404\u001b[0m         event \u001b[38;5;241m=\u001b[39m \u001b[38;5;28mself\u001b[39m\u001b[38;5;241m.\u001b[39mget_event_id(event)\n\u001b[0;32m-> 1405\u001b[0m     \u001b[38;5;28;01mreturn\u001b[39;00m \u001b[38;5;28;43mself\u001b[39;49m\u001b[38;5;241;43m.\u001b[39;49m\u001b[43m_event_plot\u001b[49m\u001b[43m(\u001b[49m\u001b[43mevent\u001b[49m\u001b[43m,\u001b[49m\u001b[43m \u001b[49m\u001b[38;5;28;43mself\u001b[39;49m\u001b[38;5;241;43m.\u001b[39;49m\u001b[43mintensity\u001b[49m\u001b[43m,\u001b[49m\u001b[43m \u001b[49m\u001b[43mcol_label\u001b[49m\u001b[43m,\u001b[49m\n\u001b[1;32m   1406\u001b[0m \u001b[43m                            \u001b[49m\u001b[43msmooth\u001b[49m\u001b[43m,\u001b[49m\u001b[43m \u001b[49m\u001b[43mcrs_epsg\u001b[49m\u001b[43m,\u001b[49m\u001b[43m \u001b[49m\u001b[43maxis\u001b[49m\u001b[43m,\u001b[49m\u001b[43m \u001b[49m\u001b[43madapt_fontsize\u001b[49m\u001b[38;5;241;43m=\u001b[39;49m\u001b[43madapt_fontsize\u001b[49m\u001b[43m,\u001b[49m\u001b[43m \u001b[49m\u001b[38;5;241;43m*\u001b[39;49m\u001b[38;5;241;43m*\u001b[39;49m\u001b[43mkwargs\u001b[49m\u001b[43m)\u001b[49m\n\u001b[1;32m   1407\u001b[0m \u001b[38;5;28;01mif\u001b[39;00m centr \u001b[38;5;129;01mis\u001b[39;00m \u001b[38;5;129;01mnot\u001b[39;00m \u001b[38;5;28;01mNone\u001b[39;00m:\n\u001b[1;32m   1408\u001b[0m     \u001b[38;5;28;01mif\u001b[39;00m \u001b[38;5;28misinstance\u001b[39m(centr, \u001b[38;5;28mtuple\u001b[39m):\n",
      "File \u001b[0;32m~/Documents/WCR/CLIMADA_develop/climada_python/climada/hazard/base.py:1822\u001b[0m, in \u001b[0;36mHazard._event_plot\u001b[0;34m(self, event_id, mat_var, col_name, smooth, crs_espg, axis, figsize, adapt_fontsize, **kwargs)\u001b[0m\n\u001b[1;32m   1819\u001b[0m     array_val\u001b[38;5;241m.\u001b[39mappend(im_val)\n\u001b[1;32m   1820\u001b[0m     l_title\u001b[38;5;241m.\u001b[39mappend(title)\n\u001b[0;32m-> 1822\u001b[0m \u001b[38;5;28;01mreturn\u001b[39;00m \u001b[43mu_plot\u001b[49m\u001b[38;5;241;43m.\u001b[39;49m\u001b[43mgeo_im_from_array\u001b[49m\u001b[43m(\u001b[49m\u001b[43marray_val\u001b[49m\u001b[43m,\u001b[49m\u001b[43m \u001b[49m\u001b[38;5;28;43mself\u001b[39;49m\u001b[38;5;241;43m.\u001b[39;49m\u001b[43mcentroids\u001b[49m\u001b[38;5;241;43m.\u001b[39;49m\u001b[43mcoord\u001b[49m\u001b[43m,\u001b[49m\u001b[43m \u001b[49m\u001b[43mcol_name\u001b[49m\u001b[43m,\u001b[49m\n\u001b[1;32m   1823\u001b[0m \u001b[43m                                \u001b[49m\u001b[43ml_title\u001b[49m\u001b[43m,\u001b[49m\u001b[43m \u001b[49m\u001b[43msmooth\u001b[49m\u001b[38;5;241;43m=\u001b[39;49m\u001b[43msmooth\u001b[49m\u001b[43m,\u001b[49m\u001b[43m \u001b[49m\u001b[43maxes\u001b[49m\u001b[38;5;241;43m=\u001b[39;49m\u001b[43maxis\u001b[49m\u001b[43m,\u001b[49m\u001b[43m \u001b[49m\u001b[43mfigsize\u001b[49m\u001b[38;5;241;43m=\u001b[39;49m\u001b[43mfigsize\u001b[49m\u001b[43m,\u001b[49m\n\u001b[1;32m   1824\u001b[0m \u001b[43m                                \u001b[49m\u001b[43mproj\u001b[49m\u001b[38;5;241;43m=\u001b[39;49m\u001b[43mcrs_espg\u001b[49m\u001b[43m,\u001b[49m\u001b[43m \u001b[49m\u001b[43madapt_fontsize\u001b[49m\u001b[38;5;241;43m=\u001b[39;49m\u001b[43madapt_fontsize\u001b[49m\u001b[43m,\u001b[49m\u001b[43m \u001b[49m\u001b[38;5;241;43m*\u001b[39;49m\u001b[38;5;241;43m*\u001b[39;49m\u001b[43mkwargs\u001b[49m\u001b[43m)\u001b[49m\n",
      "File \u001b[0;32m~/Documents/WCR/CLIMADA_develop/climada_python/climada/util/plot.py:342\u001b[0m, in \u001b[0;36mgeo_im_from_array\u001b[0;34m(array_sub, coord, var_name, title, proj, smooth, shapes, axes, figsize, adapt_fontsize, **kwargs)\u001b[0m\n\u001b[1;32m    337\u001b[0m \u001b[38;5;28;01mif\u001b[39;00m smooth \u001b[38;5;129;01mor\u001b[39;00m \u001b[38;5;129;01mnot\u001b[39;00m is_reg:\n\u001b[1;32m    338\u001b[0m     \u001b[38;5;66;03m# Create regular grid where to interpolate the array\u001b[39;00m\n\u001b[1;32m    339\u001b[0m     grid_x, grid_y \u001b[38;5;241m=\u001b[39m np\u001b[38;5;241m.\u001b[39mmgrid[\n\u001b[1;32m    340\u001b[0m         extent[\u001b[38;5;241m0\u001b[39m]: extent[\u001b[38;5;241m1\u001b[39m]: \u001b[38;5;28mcomplex\u001b[39m(\u001b[38;5;241m0\u001b[39m, RESOLUTION),\n\u001b[1;32m    341\u001b[0m         extent[\u001b[38;5;241m2\u001b[39m]: extent[\u001b[38;5;241m3\u001b[39m]: \u001b[38;5;28mcomplex\u001b[39m(\u001b[38;5;241m0\u001b[39m, RESOLUTION)]\n\u001b[0;32m--> 342\u001b[0m     grid_im \u001b[38;5;241m=\u001b[39m \u001b[43mgriddata\u001b[49m\u001b[43m(\u001b[49m\u001b[43m(\u001b[49m\u001b[43mcoord\u001b[49m\u001b[43m[\u001b[49m\u001b[43m:\u001b[49m\u001b[43m,\u001b[49m\u001b[43m \u001b[49m\u001b[38;5;241;43m1\u001b[39;49m\u001b[43m]\u001b[49m\u001b[43m,\u001b[49m\u001b[43m \u001b[49m\u001b[43mcoord\u001b[49m\u001b[43m[\u001b[49m\u001b[43m:\u001b[49m\u001b[43m,\u001b[49m\u001b[43m \u001b[49m\u001b[38;5;241;43m0\u001b[39;49m\u001b[43m]\u001b[49m\u001b[43m)\u001b[49m\u001b[43m,\u001b[49m\u001b[43m \u001b[49m\u001b[43marray_im\u001b[49m\u001b[43m,\u001b[49m\n\u001b[1;32m    343\u001b[0m \u001b[43m                       \u001b[49m\u001b[43m(\u001b[49m\u001b[43mgrid_x\u001b[49m\u001b[43m,\u001b[49m\u001b[43m \u001b[49m\u001b[43mgrid_y\u001b[49m\u001b[43m)\u001b[49m\u001b[43m)\u001b[49m\n\u001b[1;32m    344\u001b[0m \u001b[38;5;28;01melse\u001b[39;00m:\n\u001b[1;32m    345\u001b[0m     grid_x \u001b[38;5;241m=\u001b[39m coord[:, \u001b[38;5;241m1\u001b[39m]\u001b[38;5;241m.\u001b[39mreshape((width, height))\u001b[38;5;241m.\u001b[39mtranspose()\n",
      "File \u001b[0;32m~/opt/anaconda3/envs/climada_env/lib/python3.9/site-packages/scipy/interpolate/_ndgriddata.py:273\u001b[0m, in \u001b[0;36mgriddata\u001b[0;34m(points, values, xi, method, fill_value, rescale)\u001b[0m\n\u001b[1;32m    271\u001b[0m     \u001b[38;5;28;01mreturn\u001b[39;00m ip(xi)\n\u001b[1;32m    272\u001b[0m \u001b[38;5;28;01melif\u001b[39;00m method \u001b[38;5;241m==\u001b[39m \u001b[38;5;124m'\u001b[39m\u001b[38;5;124mlinear\u001b[39m\u001b[38;5;124m'\u001b[39m:\n\u001b[0;32m--> 273\u001b[0m     ip \u001b[38;5;241m=\u001b[39m \u001b[43mLinearNDInterpolator\u001b[49m\u001b[43m(\u001b[49m\u001b[43mpoints\u001b[49m\u001b[43m,\u001b[49m\u001b[43m \u001b[49m\u001b[43mvalues\u001b[49m\u001b[43m,\u001b[49m\u001b[43m \u001b[49m\u001b[43mfill_value\u001b[49m\u001b[38;5;241;43m=\u001b[39;49m\u001b[43mfill_value\u001b[49m\u001b[43m,\u001b[49m\n\u001b[1;32m    274\u001b[0m \u001b[43m                              \u001b[49m\u001b[43mrescale\u001b[49m\u001b[38;5;241;43m=\u001b[39;49m\u001b[43mrescale\u001b[49m\u001b[43m)\u001b[49m\n\u001b[1;32m    275\u001b[0m     \u001b[38;5;28;01mreturn\u001b[39;00m ip(xi)\n\u001b[1;32m    276\u001b[0m \u001b[38;5;28;01melif\u001b[39;00m method \u001b[38;5;241m==\u001b[39m \u001b[38;5;124m'\u001b[39m\u001b[38;5;124mcubic\u001b[39m\u001b[38;5;124m'\u001b[39m \u001b[38;5;129;01mand\u001b[39;00m ndim \u001b[38;5;241m==\u001b[39m \u001b[38;5;241m2\u001b[39m:\n",
      "File \u001b[0;32minterpnd.pyx:290\u001b[0m, in \u001b[0;36mscipy.interpolate.interpnd.LinearNDInterpolator.__init__\u001b[0;34m()\u001b[0m\n",
      "File \u001b[0;32m_qhull.pyx:1827\u001b[0m, in \u001b[0;36mscipy.spatial._qhull.Delaunay.__init__\u001b[0;34m()\u001b[0m\n",
      "File \u001b[0;32m_qhull.pyx:353\u001b[0m, in \u001b[0;36mscipy.spatial._qhull._Qhull.__init__\u001b[0;34m()\u001b[0m\n",
      "\u001b[0;31mQhullError\u001b[0m: QH6154 Qhull precision error: Initial simplex is flat (facet 1 is coplanar with the interior point)\n\nWhile executing:  | qhull d Q12 Qc Qbb Qz Qt\nOptions selected for Qhull 2019.1.r 2019/06/21:\n  run-id 1978405454  delaunay  Q12-allow-wide  Qcoplanar-keep  Qbbound-last\n  Qz-infinity-point  Qtriangulate  _pre-merge  _zero-centrum  Qinterior-keep\n  Pgood  _max-width  5  Error-roundoff 1.7e-13  _one-merge 1.2e-12\n  Visible-distance 3.4e-13  U-max-coplanar 3.4e-13  Width-outside 6.8e-13\n  _wide-facet 2e-12  _maxoutside 1.4e-12\n\nThe input to qhull appears to be less than 3 dimensional, or a\ncomputation has overflowed.\n\nQhull could not construct a clearly convex simplex from points:\n- p287(v4):    24 1.2e+02    30\n- p546(v3):    23 1.2e+02 1.2e+02\n- p545(v2):    26 1.2e+02    59\n- p0(v1):    21 1.2e+02     0\n\nThe center point is coplanar with a facet, or a vertex is coplanar\nwith a neighboring facet.  The maximum round off error for\ncomputing distances is 1.7e-13.  The center point, facets and distances\nto the center point are as follows:\n\ncenter point    23.53    120.5    52.99\n\nfacet p546 p545 p0 distance= -3.5e-15\nfacet p287 p545 p0 distance= -3.1e-13\nfacet p287 p546 p0 distance= 6.8e-15\nfacet p287 p546 p545 distance= 7.1e-15\n\nThese points either have a maximum or minimum x-coordinate, or\nthey maximize the determinant for k coordinates.  Trial points\nare first selected from points that maximize a coordinate.\n\nThe min and max coordinates for each dimension are:\n  0:        21        26  difference= 4.996\n  1:       118       123  difference= 4.996\n  2:         0       123  difference=  123\n\nIf the input should be full dimensional, you have several options that\nmay determine an initial simplex:\n  - use 'QJ'  to joggle the input and make it full dimensional\n  - use 'QbB' to scale the points to the unit cube\n  - use 'QR0' to randomly rotate the input for different maximum points\n  - use 'Qs'  to search all points for the initial simplex\n  - use 'En'  to specify a maximum roundoff error less than 1.7e-13.\n  - trace execution with 'T3' to see the determinant for each point.\n\nIf the input is lower dimensional:\n  - use 'QJ' to joggle the input and make it full dimensional\n  - use 'Qbk:0Bk:0' to delete coordinate k from the input.  You should\n    pick the coordinate with the least range.  The hull will have the\n    correct topology.\n  - determine the flat containing the points, rotate the points\n    into a coordinate plane, and delete the other coordinates.\n  - add one or more points to make the input full dimensional.\n"
     ]
    },
    {
     "data": {
      "image/png": "[encoded data removed]",
      "text/plain": [
       "<Figure size 800x600 with 1 Axes>"
      ]
     },
     "metadata": {},
     "output_type": "display_data"
    }
   ],
   "source": [
    "import matplotlib.pyplot as plt\n",
    "import cartopy.crs as ccrs\n",
    "\n",
    "fig, ax = plt.subplots(figsize=(8, 6), subplot_kw={'projection': ccrs.PlateCarree()})\n",
    "CF_haz_2020.plot_intensity(event=0, axis=ax)\n",
    "\n",
    "plt.show()\n"
   ]
  },
  {
   "cell_type": "code",
   "execution_count": null,
   "id": "64f5d433",
   "metadata": {},
   "outputs": [],
   "source": [
    "CF_haz_2020.intensity.max(axis=1).data"
   ]
  },
  {
   "cell_type": "code",
   "execution_count": null,
   "id": "ce977741",
   "metadata": {},
   "outputs": [],
   "source": [
    "CF_haz_2050 = coastal_flood_hazard.generate_hazard_object(tiles, hazard_dir, 'RCP45', '2050', 'FL')"
   ]
  },
  {
   "cell_type": "code",
   "execution_count": null,
   "id": "c8fb1356",
   "metadata": {
    "scrolled": false
   },
   "outputs": [],
   "source": [
    "CF_haz_2050.plot_intensity(event=0)"
   ]
  },
  {
   "cell_type": "code",
   "execution_count": null,
   "id": "b30d3cc6",
   "metadata": {},
   "outputs": [],
   "source": [
    "CF_haz_2100 = coastal_flood_hazard.generate_hazard_object(tiles, hazard_dir, 'RCP45', '2100', 'FL')"
   ]
  },
  {
   "cell_type": "code",
   "execution_count": null,
   "id": "b225bf87",
   "metadata": {},
   "outputs": [],
   "source": [
    "CF_haz_2100.plot_intensity(event=0)"
   ]
  },
  {
   "cell_type": "code",
   "execution_count": null,
   "id": "856bb8bc",
   "metadata": {},
   "outputs": [],
   "source": [
    "CF_haz_2050.intensity"
   ]
  },
  {
   "cell_type": "code",
   "execution_count": null,
   "id": "05ecfc18",
   "metadata": {},
   "outputs": [],
   "source": [
    "CF_haz_2020.frequency.size"
   ]
  },
  {
   "cell_type": "code",
   "execution_count": null,
   "id": "ce66e545",
   "metadata": {},
   "outputs": [],
   "source": [
    "CF_haz_2020.event_id"
   ]
  },
  {
   "cell_type": "markdown",
   "id": "5fea35c7",
   "metadata": {},
   "source": [
    "### Question:\n",
    "Is it a problem that event_id and event_name are \"sanitized\" and that intensity crs matrices are stacked vertically during the concat/append routine when calling `generate_hazard_object`?"
   ]
  },
  {
   "cell_type": "markdown",
   "id": "f006ab31",
   "metadata": {},
   "source": [
    "## Impact functions"
   ]
  },
  {
   "cell_type": "markdown",
   "id": "4b6c0021",
   "metadata": {},
   "source": [
    "### Option 1 - merging damage threshold into impact function"
   ]
  },
  {
   "cell_type": "code",
   "execution_count": 21,
   "id": "700654f7",
   "metadata": {},
   "outputs": [],
   "source": [
    "impf_set_fl = vulnerability.IMPF_SET_FL_IVM"
   ]
  },
  {
   "cell_type": "code",
   "execution_count": 22,
   "id": "b7681be9",
   "metadata": {},
   "outputs": [],
   "source": [
    "from climada.entity import ImpactFunc, ImpactFuncSet\n",
    "impf_set_ivm_step = ImpactFuncSet()"
   ]
  },
  {
   "cell_type": "code",
   "execution_count": 23,
   "id": "1845f771",
   "metadata": {},
   "outputs": [
    {
     "name": "stdout",
     "output_type": "stream",
     "text": [
      "ID: 1 - threshold stepfunction: 0.5625\n",
      "ID: 2 - threshold stepfunction: 0.7000000000000002\n",
      "ID: 3 - threshold stepfunction: 1.0\n",
      "ID: 5 - threshold stepfunction: 1.8125000000000004\n",
      "ID: 4 - threshold stepfunction: 1.5\n",
      "ID: 6 - threshold stepfunction: 3.0\n"
     ]
    }
   ],
   "source": [
    "# The threshold of building damage after which all people are displaced. Below, no-one is displaced.\n",
    "building_thes = 0.55 # 55% iDMC v1; CIMA: 30% for Somalia to 60% for other countries. \n",
    "\n",
    "for imp_id in impf_set_fl.get_ids(haz_type='FL'):\n",
    "    impf_set_fl.get_func(fun_id=imp_id)\n",
    "    y = impf_set_fl.get_func(fun_id=imp_id)[0].intensity\n",
    "    x = impf_set_fl.get_func(fun_id=imp_id)[0].mdd\n",
    "    flood_thres = np.interp(building_thes, x, y)\n",
    "    print('ID: '+str(imp_id)+' - threshold stepfunction: '+str(flood_thres))\n",
    "    impf_set_ivm_step.append(\n",
    "                ImpactFunc.from_step_impf(\n",
    "                    intensity=(0,  flood_thres, flood_thres *10),\n",
    "                    haz_type='FL',\n",
    "                    impf_id=imp_id,\n",
    "                    intensity_unit = 'm'\n",
    "                )\n",
    "    )"
   ]
  },
  {
   "cell_type": "markdown",
   "id": "86c56493",
   "metadata": {},
   "source": [
    "### Impacts"
   ]
  },
  {
   "cell_type": "code",
   "execution_count": 24,
   "id": "b54b57ce",
   "metadata": {},
   "outputs": [
    {
     "name": "stdout",
     "output_type": "stream",
     "text": [
      "2024-05-07 15:40:01,897 - climada.util.coordinates - WARNING - Distance to closest centroid is greater than 100km for 24144 coordinates.\n",
      "2024-05-07 15:40:01,918 - climada.engine.impact_calc - WARNING - No exposures with value >0 in the vicinity of the hazard.\n"
     ]
    }
   ],
   "source": [
    "from climada.engine import ImpactCalc\n",
    "\n",
    "impcalc = ImpactCalc(exp, impf_set_ivm_step, CF_haz_2020)\n",
    "impact = impcalc.impact()"
   ]
  },
  {
   "cell_type": "code",
   "execution_count": 25,
   "id": "98a2fa4c",
   "metadata": {},
   "outputs": [
    {
     "name": "stdout",
     "output_type": "stream",
     "text": [
      "Annual average displacement: 0\n"
     ]
    }
   ],
   "source": [
    "print('Annual average displacement: ' + \"{:,.0f}\".format(impact.aai_agg))"
   ]
  },
  {
   "cell_type": "code",
   "execution_count": null,
   "id": "e68881d8",
   "metadata": {},
   "outputs": [],
   "source": [
    "freqd_curve = impact.calc_freq_curve()"
   ]
  },
  {
   "cell_type": "code",
   "execution_count": null,
   "id": "def1cba0",
   "metadata": {},
   "outputs": [],
   "source": [
    "freqd_curve.plot()"
   ]
  },
  {
   "cell_type": "code",
   "execution_count": null,
   "id": "fccfb223",
   "metadata": {},
   "outputs": [],
   "source": [
    "impact.plot_hexbin_eai_exposure(pop_name=False, ignore_zero=True)"
   ]
  },
  {
   "cell_type": "markdown",
   "id": "0525cd5b",
   "metadata": {},
   "source": [
    "### Option 2 - postprocessing results by damage threshold"
   ]
  },
  {
   "cell_type": "code",
   "execution_count": null,
   "id": "7cce51ab",
   "metadata": {},
   "outputs": [],
   "source": [
    "from climada.engine import ImpactCalc\n",
    "\n",
    "exp.gdf.rename({'value' : 'valhum'}, axis=1, inplace=True)\n",
    "exp.gdf['value'] = 1\n",
    "exp.gdf['impf_FL'] = exp.gdf['se_seismo'].map(vulnerability.DICT_PAGER_FLIMPF_CIMA) "
   ]
  },
  {
   "cell_type": "code",
   "execution_count": null,
   "id": "e25269a9",
   "metadata": {},
   "outputs": [],
   "source": [
    "# compute damage fractions on buildings; keep \"events\", i.e. in case of flood RPs individually\n",
    "impact_bldg = ImpactCalc(exp, vulnerability.IMPF_SET_FL_CIMA, CF_haz_2100).impact(save_mat=True)"
   ]
  },
  {
   "cell_type": "code",
   "execution_count": null,
   "id": "7b348418",
   "metadata": {},
   "outputs": [],
   "source": [
    "# set displacement-damage threshold(s)\n",
    "dmg_thresh_low = 0.3\n",
    "dmg_thresh_med = 0.45\n",
    "dmg_thresh_high = 0.6"
   ]
  },
  {
   "cell_type": "code",
   "execution_count": null,
   "id": "fb17b907",
   "metadata": {},
   "outputs": [],
   "source": [
    "# decide on whether threshold reached\n",
    "displ_low = int(impact_bldg.imp_mat > dmg_thresh_low)\n",
    "displ_med = int(impact_bldg.imp_mat > dmg_thresh_med)\n",
    "displ_high = int(impact_bldg.imp_mat > dmg_thresh_high)"
   ]
  },
  {
   "cell_type": "code",
   "execution_count": null,
   "id": "7e17e77f",
   "metadata": {},
   "outputs": [],
   "source": [
    "# compute displacement impacts (exemplified only for median threshold now); store with gdf. \n",
    "# Problem: this likely blows up memory as 0s are now explicit\n",
    "exp.gdf[['imp_rp1','imp_rp10','imp_rp25','imp_rp100','imp_rp250','imp_rp1000']] = exp.gdf.valhum*displ_med.data"
   ]
  },
  {
   "cell_type": "code",
   "execution_count": null,
   "id": "bb234b1b",
   "metadata": {},
   "outputs": [],
   "source": [
    "# explicitly compute AED agg. for median threshold scenario (others analogous)\n",
    "exp.gdf['aed_med'] = exp.gdf['imp_rp1'] *1 + exp.gdf['imp_rp10'] *1/10 + exp.gdf['imp_rp25']*1/25 + exp.gdf['imp_rp100']*1/100 + exp.gdf['imp_rp250'] *1/250 + exp.gdf['imp_rp1000'] *1/1000"
   ]
  },
  {
   "cell_type": "code",
   "execution_count": null,
   "id": "5663ab31",
   "metadata": {},
   "outputs": [],
   "source": [
    "# aggregate impacts by admin-1\n",
    "exp.gdf['admin1'] = exposure.assign_admin1_attr(exp.gdf.copy(), exposure.path_admin1_attrs, source='gadm')\n",
    "gdf_admin1_imps = exp.gdf.groupby('admin1')[['imp_rp1','imp_rp10','imp_rp25','imp_rp100','imp_rp250','imp_rp1000', 'aed_med']].sum()"
   ]
  },
  {
   "cell_type": "code",
   "execution_count": null,
   "id": "bd946fe6",
   "metadata": {},
   "outputs": [],
   "source": [
    "# aggregate over whole exposure"
   ]
  }
 ],
 "metadata": {
  "kernelspec": {
   "display_name": "Python3.9 (climada_venv)",
   "language": "python",
   "name": "climada_venv"
  },
  "language_info": {
   "codemirror_mode": {
    "name": "ipython",
    "version": 3
   },
   "file_extension": ".py",
   "mimetype": "text/x-python",
   "name": "python",
   "nbconvert_exporter": "python",
   "pygments_lexer": "ipython3",
   "version": "3.9.9"
  }
 },
 "nbformat": 4,
 "nbformat_minor": 5
}
