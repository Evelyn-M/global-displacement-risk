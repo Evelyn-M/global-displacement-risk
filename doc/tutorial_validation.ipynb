{
 "cells": [
  {
   "cell_type": "markdown",
   "id": "f3988660",
   "metadata": {},
   "source": [
    "## Validation for displacement risk modelling"
   ]
  },
  {
   "cell_type": "markdown",
   "id": "252d1c7d",
   "metadata": {},
   "source": [
    "The iDMC monitors internal displacement across the world and provides a database which can be queried and downloaded in Excel files.\n",
    "\n",
    "This tutorial shows how to use the downloaded global dataset for \"Flood\", \"Storm\", and \"Drought\" data by country and hazard type."
   ]
  },
  {
   "cell_type": "code",
   "execution_count": 2,
   "id": "429a1094",
   "metadata": {},
   "outputs": [],
   "source": [
    "import os\n",
    "import pandas as pd\n",
    "\n",
    "os.chdir('/Users/simonameiler/Documents/WCR/Displacement/global-displacement-risk') # change back to root folder, not \"~/doc\"\n",
    "import validation"
   ]
  },
  {
   "cell_type": "code",
   "execution_count": 3,
   "id": "57b2c0f6",
   "metadata": {},
   "outputs": [],
   "source": [
    "file_path = 'data/IDMC_GIDD_Disasters_Internal_Displacement_Data.xlsx'\n",
    "idmc_df = df = pd.read_excel(file_path, sheet_name='1_Disaster_Displacement_data')"
   ]
  },
  {
   "cell_type": "code",
   "execution_count": 4,
   "id": "19518103",
   "metadata": {},
   "outputs": [
    {
     "data": {
      "text/html": [
       "<div>\n",
       "<style scoped>\n",
       "    .dataframe tbody tr th:only-of-type {\n",
       "        vertical-align: middle;\n",
       "    }\n",
       "\n",
       "    .dataframe tbody tr th {\n",
       "        vertical-align: top;\n",
       "    }\n",
       "\n",
       "    .dataframe thead th {\n",
       "        text-align: right;\n",
       "    }\n",
       "</style>\n",
       "<table border=\"1\" class=\"dataframe\">\n",
       "  <thead>\n",
       "    <tr style=\"text-align: right;\">\n",
       "      <th></th>\n",
       "      <th>ISO3</th>\n",
       "      <th>Country / Territory</th>\n",
       "      <th>Year</th>\n",
       "      <th>Event Name</th>\n",
       "      <th>Date of Event (start)</th>\n",
       "      <th>Disaster Internal Displacements</th>\n",
       "      <th>Disaster Internal Displacements (Raw)</th>\n",
       "      <th>Hazard Category</th>\n",
       "      <th>Hazard Type</th>\n",
       "      <th>Hazard Sub Type</th>\n",
       "      <th>Event Codes (Code:Type)</th>\n",
       "    </tr>\n",
       "  </thead>\n",
       "  <tbody>\n",
       "    <tr>\n",
       "      <th>0</th>\n",
       "      <td>SSD</td>\n",
       "      <td>South Sudan</td>\n",
       "      <td>2018</td>\n",
       "      <td>South Sudan: Flood - Northern Bahr el Ghazal -...</td>\n",
       "      <td>2018-09-01</td>\n",
       "      <td>2000</td>\n",
       "      <td>2000</td>\n",
       "      <td>Weather related</td>\n",
       "      <td>Flood</td>\n",
       "      <td>Flood</td>\n",
       "      <td>NaN</td>\n",
       "    </tr>\n",
       "    <tr>\n",
       "      <th>1</th>\n",
       "      <td>KEN</td>\n",
       "      <td>Kenya</td>\n",
       "      <td>2018</td>\n",
       "      <td>Kenya: Flood - Baringo - 31/08/2018</td>\n",
       "      <td>2018-08-31</td>\n",
       "      <td>390</td>\n",
       "      <td>390</td>\n",
       "      <td>Weather related</td>\n",
       "      <td>Flood</td>\n",
       "      <td>Flood</td>\n",
       "      <td>NaN</td>\n",
       "    </tr>\n",
       "    <tr>\n",
       "      <th>2</th>\n",
       "      <td>USA</td>\n",
       "      <td>United States</td>\n",
       "      <td>2018</td>\n",
       "      <td>USA: Flooding - Seneca (New York) - 12/8/2018</td>\n",
       "      <td>2018-08-12</td>\n",
       "      <td>55</td>\n",
       "      <td>55</td>\n",
       "      <td>Weather related</td>\n",
       "      <td>Flood</td>\n",
       "      <td>Flood</td>\n",
       "      <td>NaN</td>\n",
       "    </tr>\n",
       "    <tr>\n",
       "      <th>3</th>\n",
       "      <td>USA</td>\n",
       "      <td>United States</td>\n",
       "      <td>2018</td>\n",
       "      <td>USA: Tornado - Worcester County (Massachusetts...</td>\n",
       "      <td>2018-08-04</td>\n",
       "      <td>43</td>\n",
       "      <td>43</td>\n",
       "      <td>Weather related</td>\n",
       "      <td>Storm</td>\n",
       "      <td>Tornado</td>\n",
       "      <td>NaN</td>\n",
       "    </tr>\n",
       "    <tr>\n",
       "      <th>4</th>\n",
       "      <td>USA</td>\n",
       "      <td>United States</td>\n",
       "      <td>2018</td>\n",
       "      <td>USA: Flooding - Cambria County (Pennsylvania) ...</td>\n",
       "      <td>2018-07-30</td>\n",
       "      <td>55</td>\n",
       "      <td>55</td>\n",
       "      <td>Weather related</td>\n",
       "      <td>Flood</td>\n",
       "      <td>Flood</td>\n",
       "      <td>NaN</td>\n",
       "    </tr>\n",
       "  </tbody>\n",
       "</table>\n",
       "</div>"
      ],
      "text/plain": [
       "  ISO3 Country / Territory  Year  \\\n",
       "0  SSD         South Sudan  2018   \n",
       "1  KEN               Kenya  2018   \n",
       "2  USA       United States  2018   \n",
       "3  USA       United States  2018   \n",
       "4  USA       United States  2018   \n",
       "\n",
       "                                          Event Name Date of Event (start)  \\\n",
       "0  South Sudan: Flood - Northern Bahr el Ghazal -...            2018-09-01   \n",
       "1                Kenya: Flood - Baringo - 31/08/2018            2018-08-31   \n",
       "2      USA: Flooding - Seneca (New York) - 12/8/2018            2018-08-12   \n",
       "3  USA: Tornado - Worcester County (Massachusetts...            2018-08-04   \n",
       "4  USA: Flooding - Cambria County (Pennsylvania) ...            2018-07-30   \n",
       "\n",
       "   Disaster Internal Displacements  Disaster Internal Displacements (Raw)  \\\n",
       "0                             2000                                   2000   \n",
       "1                              390                                    390   \n",
       "2                               55                                     55   \n",
       "3                               43                                     43   \n",
       "4                               55                                     55   \n",
       "\n",
       "   Hazard Category Hazard Type Hazard Sub Type Event Codes (Code:Type)  \n",
       "0  Weather related       Flood           Flood                     NaN  \n",
       "1  Weather related       Flood           Flood                     NaN  \n",
       "2  Weather related       Flood           Flood                     NaN  \n",
       "3  Weather related       Storm         Tornado                     NaN  \n",
       "4  Weather related       Flood           Flood                     NaN  "
      ]
     },
     "execution_count": 4,
     "metadata": {},
     "output_type": "execute_result"
    }
   ],
   "source": [
    "idmc_df.head()"
   ]
  },
  {
   "cell_type": "markdown",
   "id": "eb0562f2",
   "metadata": {},
   "source": [
    "Using the `extract_idmc_data` function allows us to specify the 'ISO3' country code and 'Hazard Sub Type' to filter the iDMC DataFrame accordingly. The `calculation` parameter lets you choose between getting the full filtered DataFrame ('full'), the average annual sums ('mean'), the median of annual sums ('median'), or the total sum of 'Disaster Internal Displacements' ('sum'). For the 'mean' and 'median' calculations, it handles years with no data by including them with a displacement value of 0."
   ]
  },
  {
   "cell_type": "markdown",
   "id": "927bf1db",
   "metadata": {},
   "source": [
    "For example, we can retieve the mean Flood displacement for Somalia."
   ]
  },
  {
   "cell_type": "code",
   "execution_count": 7,
   "id": "80f0539c",
   "metadata": {},
   "outputs": [],
   "source": [
    "mean_SOM = validation.extract_idmc_data(df, iso3='SOM', hazard_sub_type='Flood', calculation='mean')"
   ]
  },
  {
   "cell_type": "code",
   "execution_count": 15,
   "id": "c6a6df8b",
   "metadata": {},
   "outputs": [
    {
     "name": "stdout",
     "output_type": "stream",
     "text": [
      "Average Annual Displacement: 135,609\n"
     ]
    }
   ],
   "source": [
    "print(f\"Average Annual Displacement: {mean_SOM:,.0f}\")"
   ]
  },
  {
   "cell_type": "markdown",
   "id": "fbff9e6b",
   "metadata": {},
   "source": [
    "Here are examples for the other three cases."
   ]
  },
  {
   "cell_type": "code",
   "execution_count": 10,
   "id": "6ca3ad9c",
   "metadata": {},
   "outputs": [],
   "source": [
    "median_SOM = validation.extract_idmc_data(df, iso3='SOM', hazard_sub_type='Flood', calculation='median')\n",
    "total_SOM = validation.extract_idmc_data(df, iso3='SOM', hazard_sub_type='Flood', calculation='sum')\n",
    "full_SOM = validation.extract_idmc_data(df, iso3='SOM', hazard_sub_type='Flood', calculation='full')"
   ]
  },
  {
   "cell_type": "code",
   "execution_count": 18,
   "id": "1e2218e9",
   "metadata": {},
   "outputs": [
    {
     "name": "stdout",
     "output_type": "stream",
     "text": [
      "Median (=2-yr RP) Displacement: 36,040\n",
      "Total Displacement: 2,034,136\n"
     ]
    }
   ],
   "source": [
    "print(f\"Median (=2-yr RP) Displacement: {median_SOM:,.0f}\")\n",
    "print(f\"Total Displacement: {total_SOM:,.0f}\")"
   ]
  },
  {
   "cell_type": "code",
   "execution_count": 19,
   "id": "873acacd",
   "metadata": {},
   "outputs": [
    {
     "data": {
      "text/html": [
       "<div>\n",
       "<style scoped>\n",
       "    .dataframe tbody tr th:only-of-type {\n",
       "        vertical-align: middle;\n",
       "    }\n",
       "\n",
       "    .dataframe tbody tr th {\n",
       "        vertical-align: top;\n",
       "    }\n",
       "\n",
       "    .dataframe thead th {\n",
       "        text-align: right;\n",
       "    }\n",
       "</style>\n",
       "<table border=\"1\" class=\"dataframe\">\n",
       "  <thead>\n",
       "    <tr style=\"text-align: right;\">\n",
       "      <th></th>\n",
       "      <th>ISO3</th>\n",
       "      <th>Country / Territory</th>\n",
       "      <th>Year</th>\n",
       "      <th>Event Name</th>\n",
       "      <th>Date of Event (start)</th>\n",
       "      <th>Disaster Internal Displacements</th>\n",
       "      <th>Disaster Internal Displacements (Raw)</th>\n",
       "      <th>Hazard Category</th>\n",
       "      <th>Hazard Type</th>\n",
       "      <th>Hazard Sub Type</th>\n",
       "      <th>Event Codes (Code:Type)</th>\n",
       "    </tr>\n",
       "  </thead>\n",
       "  <tbody>\n",
       "    <tr>\n",
       "      <th>1481</th>\n",
       "      <td>SOM</td>\n",
       "      <td>Somalia</td>\n",
       "      <td>2019</td>\n",
       "      <td>Somalia: Flood (Deyr rains)  - 12 states - 01/...</td>\n",
       "      <td>2019-04-01</td>\n",
       "      <td>9000</td>\n",
       "      <td>8995</td>\n",
       "      <td>Weather related</td>\n",
       "      <td>Flood</td>\n",
       "      <td>Flood</td>\n",
       "      <td>NaN</td>\n",
       "    </tr>\n",
       "    <tr>\n",
       "      <th>1714</th>\n",
       "      <td>SOM</td>\n",
       "      <td>Somalia</td>\n",
       "      <td>2019</td>\n",
       "      <td>Somalia: Flood - Bari - 18/08/2019</td>\n",
       "      <td>2019-08-18</td>\n",
       "      <td>9</td>\n",
       "      <td>9</td>\n",
       "      <td>Weather related</td>\n",
       "      <td>Flood</td>\n",
       "      <td>Flood</td>\n",
       "      <td>NaN</td>\n",
       "    </tr>\n",
       "    <tr>\n",
       "      <th>1715</th>\n",
       "      <td>SOM</td>\n",
       "      <td>Somalia</td>\n",
       "      <td>2019</td>\n",
       "      <td>Somalia: Flood - Lower Juba; Woqooyi Galbeed -...</td>\n",
       "      <td>2019-09-02</td>\n",
       "      <td>73</td>\n",
       "      <td>73</td>\n",
       "      <td>Weather related</td>\n",
       "      <td>Flood</td>\n",
       "      <td>Flood</td>\n",
       "      <td>NaN</td>\n",
       "    </tr>\n",
       "    <tr>\n",
       "      <th>1874</th>\n",
       "      <td>SOM</td>\n",
       "      <td>Somalia</td>\n",
       "      <td>2019</td>\n",
       "      <td>Somalia: Flood (Gu rains) - 15 regions - 01/10...</td>\n",
       "      <td>2019-10-01</td>\n",
       "      <td>407000</td>\n",
       "      <td>406586</td>\n",
       "      <td>Weather related</td>\n",
       "      <td>Flood</td>\n",
       "      <td>Flood</td>\n",
       "      <td>FL-2019-000133-SOM:Glide Number</td>\n",
       "    </tr>\n",
       "    <tr>\n",
       "      <th>2806</th>\n",
       "      <td>SOM</td>\n",
       "      <td>Somalia</td>\n",
       "      <td>2020</td>\n",
       "      <td>Somalia: Flood (Hagaa dry season) - 8 states -...</td>\n",
       "      <td>2020-07-01</td>\n",
       "      <td>363000</td>\n",
       "      <td>362896</td>\n",
       "      <td>Weather related</td>\n",
       "      <td>Flood</td>\n",
       "      <td>Flood</td>\n",
       "      <td>NaN</td>\n",
       "    </tr>\n",
       "  </tbody>\n",
       "</table>\n",
       "</div>"
      ],
      "text/plain": [
       "     ISO3 Country / Territory  Year  \\\n",
       "1481  SOM             Somalia  2019   \n",
       "1714  SOM             Somalia  2019   \n",
       "1715  SOM             Somalia  2019   \n",
       "1874  SOM             Somalia  2019   \n",
       "2806  SOM             Somalia  2020   \n",
       "\n",
       "                                             Event Name Date of Event (start)  \\\n",
       "1481  Somalia: Flood (Deyr rains)  - 12 states - 01/...            2019-04-01   \n",
       "1714                 Somalia: Flood - Bari - 18/08/2019            2019-08-18   \n",
       "1715  Somalia: Flood - Lower Juba; Woqooyi Galbeed -...            2019-09-02   \n",
       "1874  Somalia: Flood (Gu rains) - 15 regions - 01/10...            2019-10-01   \n",
       "2806  Somalia: Flood (Hagaa dry season) - 8 states -...            2020-07-01   \n",
       "\n",
       "      Disaster Internal Displacements  Disaster Internal Displacements (Raw)  \\\n",
       "1481                             9000                                   8995   \n",
       "1714                                9                                      9   \n",
       "1715                               73                                     73   \n",
       "1874                           407000                                 406586   \n",
       "2806                           363000                                 362896   \n",
       "\n",
       "      Hazard Category Hazard Type Hazard Sub Type  \\\n",
       "1481  Weather related       Flood           Flood   \n",
       "1714  Weather related       Flood           Flood   \n",
       "1715  Weather related       Flood           Flood   \n",
       "1874  Weather related       Flood           Flood   \n",
       "2806  Weather related       Flood           Flood   \n",
       "\n",
       "              Event Codes (Code:Type)  \n",
       "1481                              NaN  \n",
       "1714                              NaN  \n",
       "1715                              NaN  \n",
       "1874  FL-2019-000133-SOM:Glide Number  \n",
       "2806                              NaN  "
      ]
     },
     "execution_count": 19,
     "metadata": {},
     "output_type": "execute_result"
    }
   ],
   "source": [
    "full_SOM.head()"
   ]
  },
  {
   "cell_type": "markdown",
   "id": "b952b380",
   "metadata": {},
   "source": [
    "Use this as a starting point to compare computed displacement values to."
   ]
  },
  {
   "cell_type": "code",
   "execution_count": null,
   "id": "8e2cf31d",
   "metadata": {},
   "outputs": [],
   "source": []
  }
 ],
 "metadata": {
  "kernelspec": {
   "display_name": "Python 3 (ipykernel)",
   "language": "python",
   "name": "python3"
  },
  "language_info": {
   "codemirror_mode": {
    "name": "ipython",
    "version": 3
   },
   "file_extension": ".py",
   "mimetype": "text/x-python",
   "name": "python",
   "nbconvert_exporter": "python",
   "pygments_lexer": "ipython3",
   "version": "3.9.16"
  }
 },
 "nbformat": 4,
 "nbformat_minor": 5
}
