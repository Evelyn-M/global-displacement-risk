{
 "cells": [
  {
   "cell_type": "markdown",
   "id": "f3988660",
   "metadata": {},
   "source": [
    "## Validation for displacement risk modelling"
   ]
  },
  {
   "cell_type": "markdown",
   "id": "252d1c7d",
   "metadata": {},
   "source": [
    "The iDMC monitors internal displacement across the world and provides a database which can be queried and downloaded in Excel files.\n",
    "\n",
    "This tutorial shows how to use the downloaded global dataset for \"Flood\", \"Storm\", and \"Drought\" data by country and hazard type."
   ]
  },
  {
   "cell_type": "code",
   "execution_count": 1,
   "id": "429a1094",
   "metadata": {},
   "outputs": [],
   "source": [
    "import os\n",
    "import pandas as pd\n",
    "\n",
    "os.chdir('/Users/simonameiler/Documents/WCR/Displacement/global-displacement-risk') # change back to root folder, not \"~/doc\"\n",
    "import validation"
   ]
  },
  {
   "cell_type": "code",
   "execution_count": 2,
   "id": "57b2c0f6",
   "metadata": {},
   "outputs": [],
   "source": [
    "file_path = 'data/IDMC_GIDD_Disasters_Internal_Displacement_Data.xlsx'\n",
    "idmc_df = df = pd.read_excel(file_path, sheet_name='1_Disaster_Displacement_data')"
   ]
  },
  {
   "cell_type": "code",
   "execution_count": 3,
   "id": "19518103",
   "metadata": {},
   "outputs": [
    {
     "data": {
      "text/html": [
       "<div>\n",
       "<style scoped>\n",
       "    .dataframe tbody tr th:only-of-type {\n",
       "        vertical-align: middle;\n",
       "    }\n",
       "\n",
       "    .dataframe tbody tr th {\n",
       "        vertical-align: top;\n",
       "    }\n",
       "\n",
       "    .dataframe thead th {\n",
       "        text-align: right;\n",
       "    }\n",
       "</style>\n",
       "<table border=\"1\" class=\"dataframe\">\n",
       "  <thead>\n",
       "    <tr style=\"text-align: right;\">\n",
       "      <th></th>\n",
       "      <th>ISO3</th>\n",
       "      <th>Country / Territory</th>\n",
       "      <th>Year</th>\n",
       "      <th>Event Name</th>\n",
       "      <th>Date of Event (start)</th>\n",
       "      <th>Disaster Internal Displacements</th>\n",
       "      <th>Disaster Internal Displacements (Raw)</th>\n",
       "      <th>Hazard Category</th>\n",
       "      <th>Hazard Type</th>\n",
       "      <th>Hazard Sub Type</th>\n",
       "      <th>Event Codes (Code:Type)</th>\n",
       "    </tr>\n",
       "  </thead>\n",
       "  <tbody>\n",
       "    <tr>\n",
       "      <th>0</th>\n",
       "      <td>SSD</td>\n",
       "      <td>South Sudan</td>\n",
       "      <td>2018</td>\n",
       "      <td>South Sudan: Flood - Northern Bahr el Ghazal -...</td>\n",
       "      <td>2018-09-01</td>\n",
       "      <td>2000</td>\n",
       "      <td>2000</td>\n",
       "      <td>Weather related</td>\n",
       "      <td>Flood</td>\n",
       "      <td>Flood</td>\n",
       "      <td>NaN</td>\n",
       "    </tr>\n",
       "    <tr>\n",
       "      <th>1</th>\n",
       "      <td>KEN</td>\n",
       "      <td>Kenya</td>\n",
       "      <td>2018</td>\n",
       "      <td>Kenya: Flood - Baringo - 31/08/2018</td>\n",
       "      <td>2018-08-31</td>\n",
       "      <td>390</td>\n",
       "      <td>390</td>\n",
       "      <td>Weather related</td>\n",
       "      <td>Flood</td>\n",
       "      <td>Flood</td>\n",
       "      <td>NaN</td>\n",
       "    </tr>\n",
       "    <tr>\n",
       "      <th>2</th>\n",
       "      <td>USA</td>\n",
       "      <td>United States</td>\n",
       "      <td>2018</td>\n",
       "      <td>USA: Flooding - Seneca (New York) - 12/8/2018</td>\n",
       "      <td>2018-08-12</td>\n",
       "      <td>55</td>\n",
       "      <td>55</td>\n",
       "      <td>Weather related</td>\n",
       "      <td>Flood</td>\n",
       "      <td>Flood</td>\n",
       "      <td>NaN</td>\n",
       "    </tr>\n",
       "    <tr>\n",
       "      <th>3</th>\n",
       "      <td>USA</td>\n",
       "      <td>United States</td>\n",
       "      <td>2018</td>\n",
       "      <td>USA: Tornado - Worcester County (Massachusetts...</td>\n",
       "      <td>2018-08-04</td>\n",
       "      <td>43</td>\n",
       "      <td>43</td>\n",
       "      <td>Weather related</td>\n",
       "      <td>Storm</td>\n",
       "      <td>Tornado</td>\n",
       "      <td>NaN</td>\n",
       "    </tr>\n",
       "    <tr>\n",
       "      <th>4</th>\n",
       "      <td>USA</td>\n",
       "      <td>United States</td>\n",
       "      <td>2018</td>\n",
       "      <td>USA: Flooding - Cambria County (Pennsylvania) ...</td>\n",
       "      <td>2018-07-30</td>\n",
       "      <td>55</td>\n",
       "      <td>55</td>\n",
       "      <td>Weather related</td>\n",
       "      <td>Flood</td>\n",
       "      <td>Flood</td>\n",
       "      <td>NaN</td>\n",
       "    </tr>\n",
       "  </tbody>\n",
       "</table>\n",
       "</div>"
      ],
      "text/plain": [
       "  ISO3 Country / Territory  Year  \\\n",
       "0  SSD         South Sudan  2018   \n",
       "1  KEN               Kenya  2018   \n",
       "2  USA       United States  2018   \n",
       "3  USA       United States  2018   \n",
       "4  USA       United States  2018   \n",
       "\n",
       "                                          Event Name Date of Event (start)  \\\n",
       "0  South Sudan: Flood - Northern Bahr el Ghazal -...            2018-09-01   \n",
       "1                Kenya: Flood - Baringo - 31/08/2018            2018-08-31   \n",
       "2      USA: Flooding - Seneca (New York) - 12/8/2018            2018-08-12   \n",
       "3  USA: Tornado - Worcester County (Massachusetts...            2018-08-04   \n",
       "4  USA: Flooding - Cambria County (Pennsylvania) ...            2018-07-30   \n",
       "\n",
       "   Disaster Internal Displacements  Disaster Internal Displacements (Raw)  \\\n",
       "0                             2000                                   2000   \n",
       "1                              390                                    390   \n",
       "2                               55                                     55   \n",
       "3                               43                                     43   \n",
       "4                               55                                     55   \n",
       "\n",
       "   Hazard Category Hazard Type Hazard Sub Type Event Codes (Code:Type)  \n",
       "0  Weather related       Flood           Flood                     NaN  \n",
       "1  Weather related       Flood           Flood                     NaN  \n",
       "2  Weather related       Flood           Flood                     NaN  \n",
       "3  Weather related       Storm         Tornado                     NaN  \n",
       "4  Weather related       Flood           Flood                     NaN  "
      ]
     },
     "execution_count": 3,
     "metadata": {},
     "output_type": "execute_result"
    }
   ],
   "source": [
    "idmc_df.head()"
   ]
  },
  {
   "cell_type": "markdown",
   "id": "eb0562f2",
   "metadata": {},
   "source": [
    "Using the `extract_idmc_data` function allows us to specify the 'ISO3' country code and 'Hazard Sub Type' to filter the iDMC DataFrame accordingly. The `calculation` parameter lets you choose between getting the full filtered DataFrame ('full'), the average annual sums ('mean'), the median of annual sums ('median'), or the total sum of 'Disaster Internal Displacements' ('sum'). For the 'mean' and 'median' calculations, it handles years with no data by including them with a displacement value of 0. Moreover, we can set the `start_year` and `end_year` to filter our specific periods of the entire dataset."
   ]
  },
  {
   "cell_type": "markdown",
   "id": "927bf1db",
   "metadata": {},
   "source": [
    "For example, we can retieve the mean Flood displacement for Somalia."
   ]
  },
  {
   "cell_type": "code",
   "execution_count": 4,
   "id": "80f0539c",
   "metadata": {},
   "outputs": [],
   "source": [
    "mean_SOM = validation.extract_idmc_data(df, iso3='SOM', hazard_sub_type='Flood', calculation='mean')"
   ]
  },
  {
   "cell_type": "code",
   "execution_count": 5,
   "id": "c6a6df8b",
   "metadata": {},
   "outputs": [
    {
     "name": "stdout",
     "output_type": "stream",
     "text": [
      "Average Annual Displacement: 184,921\n"
     ]
    }
   ],
   "source": [
    "print(f\"Average Annual Displacement: {mean_SOM:,.0f}\")"
   ]
  },
  {
   "cell_type": "markdown",
   "id": "fbff9e6b",
   "metadata": {},
   "source": [
    "Here are examples for the other three cases."
   ]
  },
  {
   "cell_type": "code",
   "execution_count": 6,
   "id": "6ca3ad9c",
   "metadata": {},
   "outputs": [
    {
     "ename": "SyntaxError",
     "evalue": "unmatched ')' (3671796051.py, line 1)",
     "output_type": "error",
     "traceback": [
      "\u001b[0;36m  Cell \u001b[0;32mIn[6], line 1\u001b[0;36m\u001b[0m\n\u001b[0;31m    median_SOM = validation.extract_idmc_data(df, iso3='SOM', hazard_sub_type='Flood', calculation='median', start_year=2017, end_year=None))\u001b[0m\n\u001b[0m                                                                                                                                            ^\u001b[0m\n\u001b[0;31mSyntaxError\u001b[0m\u001b[0;31m:\u001b[0m unmatched ')'\n"
     ]
    }
   ],
   "source": [
    "median_SOM = validation.extract_idmc_data(df, iso3='SOM', hazard_sub_type='Flood', calculation='median', start_year=2017, end_year=None))\n",
    "total_SOM = validation.extract_idmc_data(df, iso3='SOM', hazard_sub_type='Flood', calculation='sum')\n",
    "full_SOM = validation.extract_idmc_data(df, iso3='SOM', hazard_sub_type='Flood', calculation='full')"
   ]
  },
  {
   "cell_type": "code",
   "execution_count": null,
   "id": "1e2218e9",
   "metadata": {},
   "outputs": [],
   "source": [
    "print(f\"Median (=2-yr RP) Displacement - 2017 and more recent: {median_SOM:,.0f}\")\n",
    "print(f\"Total Displacement: {total_SOM:,.0f}\")"
   ]
  },
  {
   "cell_type": "code",
   "execution_count": null,
   "id": "873acacd",
   "metadata": {},
   "outputs": [],
   "source": [
    "full_SOM.head()"
   ]
  },
  {
   "cell_type": "markdown",
   "id": "b952b380",
   "metadata": {},
   "source": [
    "Use this as a starting point to compare computed displacement values to."
   ]
  },
  {
   "cell_type": "code",
   "execution_count": null,
   "id": "8e2cf31d",
   "metadata": {},
   "outputs": [],
   "source": []
  }
 ],
 "metadata": {
  "kernelspec": {
   "display_name": "Python 3 (ipykernel)",
   "language": "python",
   "name": "python3"
  },
  "language_info": {
   "codemirror_mode": {
    "name": "ipython",
    "version": 3
   },
   "file_extension": ".py",
   "mimetype": "text/x-python",
   "name": "python",
   "nbconvert_exporter": "python",
   "pygments_lexer": "ipython3",
   "version": "3.9.16"
  }
 },
 "nbformat": 4,
 "nbformat_minor": 5
}
